{
  "cells": [
    {
      "cell_type": "markdown",
      "metadata": {
        "id": "view-in-github",
        "colab_type": "text"
      },
      "source": [
        "<a href=\"https://colab.research.google.com/github/jennyt14/mcdonald-menu/blob/main/mcdonald_menu_analysis.ipynb\" target=\"_parent\"><img src=\"https://colab.research.google.com/assets/colab-badge.svg\" alt=\"Open In Colab\"/></a>"
      ]
    },
    {
      "cell_type": "markdown",
      "source": [
        "# McDonald's Menu Analysis\n",
        "\n",
        "Author: Jenny Tran\n",
        "\n",
        "Course Project, UC Irvine, Math 10, W22"
      ],
      "metadata": {
        "tags": [],
        "cell_id": "098969f5-ac0d-4245-bbc2-f824edd4e15f",
        "deepnote_cell_type": "markdown",
        "deepnote_cell_height": 156,
        "id": "YXYYiQVumZRU"
      }
    },
    {
      "cell_type": "markdown",
      "source": [
        "## Introduction"
      ],
      "metadata": {
        "cell_id": "1232c27a-f5e2-426a-91e0-f6cfebd8a611",
        "tags": [],
        "deepnote_cell_type": "markdown",
        "deepnote_cell_height": 70,
        "id": "WzUZy-TZmZRV"
      }
    },
    {
      "cell_type": "markdown",
      "source": [
        "McDonald's is one of the most popular fast food chains across the United States known for their affordable and unhealthy foods and beverages. We will use the McDonald's Nutrition Facts dataset to find which food item and category appears to be most healthy and unhealthy.\n",
        "\n",
        "We will define healthy foods as something with the most proteins, least calories, and etc. We will define unhealthy foods as items with the most sugar, calories, least proteins, and etc."
      ],
      "metadata": {
        "cell_id": "966fbb28-23a1-401a-851e-269a13d662f6",
        "tags": [],
        "deepnote_cell_type": "markdown",
        "deepnote_cell_height": 154,
        "id": "15ZvfnoymZRW"
      }
    },
    {
      "cell_type": "markdown",
      "source": [
        "## Main portion of the project\n"
      ],
      "metadata": {
        "cell_id": "5100f2c6-6407-41f2-9bb2-1a62540d8662",
        "tags": [],
        "deepnote_cell_type": "markdown",
        "deepnote_cell_height": 70,
        "id": "_B52ic2WmZRW"
      }
    },
    {
      "cell_type": "code",
      "metadata": {
        "cell_id": "1d3dc934-028f-4359-9341-c11f9579ae21",
        "tags": [],
        "deepnote_to_be_reexecuted": false,
        "source_hash": "58455855",
        "execution_start": 1647407171635,
        "execution_millis": 5243,
        "is_code_hidden": true,
        "deepnote_cell_type": "code",
        "deepnote_cell_height": 74,
        "id": "3K2InmxumZRW"
      },
      "source": [
        "import numpy as np\n",
        "import pandas as pd\n",
        "import seaborn as sns\n",
        "import altair as alt\n",
        "import plotly.express as px\n",
        "from sklearn.linear_model import LinearRegression, LogisticRegression\n",
        "from sklearn.neighbors import KNeighborsClassifier\n",
        "from sklearn.model_selection import train_test_split\n",
        "from sklearn.metrics import mean_squared_error, mean_absolute_error, log_loss"
      ],
      "outputs": [],
      "execution_count": null
    },
    {
      "cell_type": "markdown",
      "source": [
        "### Import the Data"
      ],
      "metadata": {
        "cell_id": "7522acb8-1aad-4196-a389-9fc9d571a6fe",
        "tags": [],
        "is_collapsed": false,
        "deepnote_cell_type": "text-cell-h3",
        "deepnote_cell_height": 62,
        "id": "t6xOX_gMmZRX"
      }
    },
    {
      "cell_type": "code",
      "metadata": {
        "cell_id": "745b9f98-7009-43be-8335-4e0b090c983d",
        "tags": [],
        "deepnote_to_be_reexecuted": false,
        "source_hash": "b8832398",
        "execution_start": 1647407176909,
        "execution_millis": 147,
        "deepnote_cell_type": "code",
        "deepnote_cell_height": 616,
        "id": "vXXQZNZwmZRX",
        "outputId": "2f77f0da-ab13-4922-a8b1-bf0205d33b9e"
      },
      "source": [
        "df = pd.read_csv(\"menu.csv\")\n",
        "df"
      ],
      "outputs": [
        {
          "output_type": "execute_result",
          "execution_count": 2,
          "data": {
            "application/vnd.deepnote.dataframe.v3+json": {
              "column_count": 24,
              "row_count": 260,
              "columns": [
                {
                  "name": "Category",
                  "dtype": "object",
                  "stats": {
                    "unique_count": 9,
                    "nan_count": 0,
                    "categories": [
                      {
                        "name": "Coffee & Tea",
                        "count": 95
                      },
                      {
                        "name": "Breakfast",
                        "count": 42
                      },
                      {
                        "name": "7 others",
                        "count": 123
                      }
                    ]
                  }
                },
                {
                  "name": "Item",
                  "dtype": "object",
                  "stats": {
                    "unique_count": 260,
                    "nan_count": 0,
                    "categories": [
                      {
                        "name": "Egg McMuffin",
                        "count": 1
                      },
                      {
                        "name": "Egg White Delight",
                        "count": 1
                      },
                      {
                        "name": "258 others",
                        "count": 258
                      }
                    ]
                  }
                },
                {
                  "name": "Serving Size",
                  "dtype": "object",
                  "stats": {
                    "unique_count": 107,
                    "nan_count": 0,
                    "categories": [
                      {
                        "name": "16 fl oz cup",
                        "count": 45
                      },
                      {
                        "name": "12 fl oz cup",
                        "count": 38
                      },
                      {
                        "name": "105 others",
                        "count": 177
                      }
                    ]
                  }
                },
                {
                  "name": "Calories",
                  "dtype": "int64",
                  "stats": {
                    "unique_count": 78,
                    "nan_count": 0,
                    "min": "0",
                    "max": "1880",
                    "histogram": [
                      {
                        "bin_start": 0,
                        "bin_end": 188,
                        "count": 55
                      },
                      {
                        "bin_start": 188,
                        "bin_end": 376,
                        "count": 92
                      },
                      {
                        "bin_start": 376,
                        "bin_end": 564,
                        "count": 72
                      },
                      {
                        "bin_start": 564,
                        "bin_end": 752,
                        "count": 27
                      },
                      {
                        "bin_start": 752,
                        "bin_end": 940,
                        "count": 8
                      },
                      {
                        "bin_start": 940,
                        "bin_end": 1128,
                        "count": 4
                      },
                      {
                        "bin_start": 1128,
                        "bin_end": 1316,
                        "count": 1
                      },
                      {
                        "bin_start": 1316,
                        "bin_end": 1504,
                        "count": 0
                      },
                      {
                        "bin_start": 1504,
                        "bin_end": 1692,
                        "count": 0
                      },
                      {
                        "bin_start": 1692,
                        "bin_end": 1880,
                        "count": 1
                      }
                    ]
                  }
                },
                {
                  "name": "Calories from Fat",
                  "dtype": "int64",
                  "stats": {
                    "unique_count": 48,
                    "nan_count": 0,
                    "min": "0",
                    "max": "1060",
                    "histogram": [
                      {
                        "bin_start": 0,
                        "bin_end": 106,
                        "count": 133
                      },
                      {
                        "bin_start": 106,
                        "bin_end": 212,
                        "count": 76
                      },
                      {
                        "bin_start": 212,
                        "bin_end": 318,
                        "count": 37
                      },
                      {
                        "bin_start": 318,
                        "bin_end": 424,
                        "count": 7
                      },
                      {
                        "bin_start": 424,
                        "bin_end": 530,
                        "count": 4
                      },
                      {
                        "bin_start": 530,
                        "bin_end": 636,
                        "count": 2
                      },
                      {
                        "bin_start": 636,
                        "bin_end": 742,
                        "count": 0
                      },
                      {
                        "bin_start": 742,
                        "bin_end": 848,
                        "count": 0
                      },
                      {
                        "bin_start": 848,
                        "bin_end": 954,
                        "count": 0
                      },
                      {
                        "bin_start": 954,
                        "bin_end": 1060,
                        "count": 1
                      }
                    ]
                  }
                },
                {
                  "name": "Total Fat",
                  "dtype": "float64",
                  "stats": {
                    "unique_count": 52,
                    "nan_count": 0,
                    "min": "0.0",
                    "max": "118.0",
                    "histogram": [
                      {
                        "bin_start": 0,
                        "bin_end": 11.8,
                        "count": 133
                      },
                      {
                        "bin_start": 11.8,
                        "bin_end": 23.6,
                        "count": 74
                      },
                      {
                        "bin_start": 23.6,
                        "bin_end": 35.400000000000006,
                        "count": 39
                      },
                      {
                        "bin_start": 35.400000000000006,
                        "bin_end": 47.2,
                        "count": 7
                      },
                      {
                        "bin_start": 47.2,
                        "bin_end": 59,
                        "count": 4
                      },
                      {
                        "bin_start": 59,
                        "bin_end": 70.80000000000001,
                        "count": 2
                      },
                      {
                        "bin_start": 70.80000000000001,
                        "bin_end": 82.60000000000001,
                        "count": 0
                      },
                      {
                        "bin_start": 82.60000000000001,
                        "bin_end": 94.4,
                        "count": 0
                      },
                      {
                        "bin_start": 94.4,
                        "bin_end": 106.2,
                        "count": 0
                      },
                      {
                        "bin_start": 106.2,
                        "bin_end": 118,
                        "count": 1
                      }
                    ]
                  }
                },
                {
                  "name": "Total Fat (% Daily Value)",
                  "dtype": "int64",
                  "stats": {
                    "unique_count": 63,
                    "nan_count": 0,
                    "min": "0",
                    "max": "182",
                    "histogram": [
                      {
                        "bin_start": 0,
                        "bin_end": 18.2,
                        "count": 134
                      },
                      {
                        "bin_start": 18.2,
                        "bin_end": 36.4,
                        "count": 74
                      },
                      {
                        "bin_start": 36.4,
                        "bin_end": 54.599999999999994,
                        "count": 38
                      },
                      {
                        "bin_start": 54.599999999999994,
                        "bin_end": 72.8,
                        "count": 7
                      },
                      {
                        "bin_start": 72.8,
                        "bin_end": 91,
                        "count": 4
                      },
                      {
                        "bin_start": 91,
                        "bin_end": 109.19999999999999,
                        "count": 2
                      },
                      {
                        "bin_start": 109.19999999999999,
                        "bin_end": 127.39999999999999,
                        "count": 0
                      },
                      {
                        "bin_start": 127.39999999999999,
                        "bin_end": 145.6,
                        "count": 0
                      },
                      {
                        "bin_start": 145.6,
                        "bin_end": 163.79999999999998,
                        "count": 0
                      },
                      {
                        "bin_start": 163.79999999999998,
                        "bin_end": 182,
                        "count": 1
                      }
                    ]
                  }
                },
                {
                  "name": "Saturated Fat",
                  "dtype": "float64",
                  "stats": {
                    "unique_count": 26,
                    "nan_count": 0,
                    "min": "0.0",
                    "max": "20.0",
                    "histogram": [
                      {
                        "bin_start": 0,
                        "bin_end": 2,
                        "count": 71
                      },
                      {
                        "bin_start": 2,
                        "bin_end": 4,
                        "count": 40
                      },
                      {
                        "bin_start": 4,
                        "bin_end": 6,
                        "count": 25
                      },
                      {
                        "bin_start": 6,
                        "bin_end": 8,
                        "count": 28
                      },
                      {
                        "bin_start": 8,
                        "bin_end": 10,
                        "count": 29
                      },
                      {
                        "bin_start": 10,
                        "bin_end": 12,
                        "count": 19
                      },
                      {
                        "bin_start": 12,
                        "bin_end": 14,
                        "count": 19
                      },
                      {
                        "bin_start": 14,
                        "bin_end": 16,
                        "count": 15
                      },
                      {
                        "bin_start": 16,
                        "bin_end": 18,
                        "count": 7
                      },
                      {
                        "bin_start": 18,
                        "bin_end": 20,
                        "count": 7
                      }
                    ]
                  }
                },
                {
                  "name": "Saturated Fat (% Daily Value)",
                  "dtype": "int64",
                  "stats": {
                    "unique_count": 74,
                    "nan_count": 0,
                    "min": "0",
                    "max": "102",
                    "histogram": [
                      {
                        "bin_start": 0,
                        "bin_end": 10.2,
                        "count": 76
                      },
                      {
                        "bin_start": 10.2,
                        "bin_end": 20.4,
                        "count": 38
                      },
                      {
                        "bin_start": 20.4,
                        "bin_end": 30.599999999999998,
                        "count": 34
                      },
                      {
                        "bin_start": 30.599999999999998,
                        "bin_end": 40.8,
                        "count": 30
                      },
                      {
                        "bin_start": 40.8,
                        "bin_end": 51,
                        "count": 25
                      },
                      {
                        "bin_start": 51,
                        "bin_end": 61.199999999999996,
                        "count": 18
                      },
                      {
                        "bin_start": 61.199999999999996,
                        "bin_end": 71.39999999999999,
                        "count": 14
                      },
                      {
                        "bin_start": 71.39999999999999,
                        "bin_end": 81.6,
                        "count": 14
                      },
                      {
                        "bin_start": 81.6,
                        "bin_end": 91.8,
                        "count": 5
                      },
                      {
                        "bin_start": 91.8,
                        "bin_end": 102,
                        "count": 6
                      }
                    ]
                  }
                },
                {
                  "name": "Trans Fat",
                  "dtype": "float64",
                  "stats": {
                    "unique_count": 5,
                    "nan_count": 0,
                    "min": "0.0",
                    "max": "2.5",
                    "histogram": [
                      {
                        "bin_start": 0,
                        "bin_end": 0.25,
                        "count": 204
                      },
                      {
                        "bin_start": 0.25,
                        "bin_end": 0.5,
                        "count": 0
                      },
                      {
                        "bin_start": 0.5,
                        "bin_end": 0.75,
                        "count": 17
                      },
                      {
                        "bin_start": 0.75,
                        "bin_end": 1,
                        "count": 0
                      },
                      {
                        "bin_start": 1,
                        "bin_end": 1.25,
                        "count": 30
                      },
                      {
                        "bin_start": 1.25,
                        "bin_end": 1.5,
                        "count": 0
                      },
                      {
                        "bin_start": 1.5,
                        "bin_end": 1.75,
                        "count": 8
                      },
                      {
                        "bin_start": 1.75,
                        "bin_end": 2,
                        "count": 0
                      },
                      {
                        "bin_start": 2,
                        "bin_end": 2.25,
                        "count": 0
                      },
                      {
                        "bin_start": 2.25,
                        "bin_end": 2.5,
                        "count": 1
                      }
                    ]
                  }
                },
                {
                  "name": "Cholesterol",
                  "dtype": "int64",
                  "stats": {
                    "unique_count": 35,
                    "nan_count": 0,
                    "min": "0",
                    "max": "575",
                    "histogram": [
                      {
                        "bin_start": 0,
                        "bin_end": 57.5,
                        "count": 185
                      },
                      {
                        "bin_start": 57.5,
                        "bin_end": 115,
                        "count": 54
                      },
                      {
                        "bin_start": 115,
                        "bin_end": 172.5,
                        "count": 4
                      },
                      {
                        "bin_start": 172.5,
                        "bin_end": 230,
                        "count": 0
                      },
                      {
                        "bin_start": 230,
                        "bin_end": 287.5,
                        "count": 11
                      },
                      {
                        "bin_start": 287.5,
                        "bin_end": 345,
                        "count": 2
                      },
                      {
                        "bin_start": 345,
                        "bin_end": 402.5,
                        "count": 0
                      },
                      {
                        "bin_start": 402.5,
                        "bin_end": 460,
                        "count": 0
                      },
                      {
                        "bin_start": 460,
                        "bin_end": 517.5,
                        "count": 0
                      },
                      {
                        "bin_start": 517.5,
                        "bin_end": 575,
                        "count": 4
                      }
                    ]
                  }
                },
                {
                  "name": "Cholesterol (% Daily Value)",
                  "dtype": "int64",
                  "stats": {
                    "unique_count": 48,
                    "nan_count": 0,
                    "min": "0",
                    "max": "192",
                    "histogram": [
                      {
                        "bin_start": 0,
                        "bin_end": 19.2,
                        "count": 185
                      },
                      {
                        "bin_start": 19.2,
                        "bin_end": 38.4,
                        "count": 56
                      },
                      {
                        "bin_start": 38.4,
                        "bin_end": 57.599999999999994,
                        "count": 2
                      },
                      {
                        "bin_start": 57.599999999999994,
                        "bin_end": 76.8,
                        "count": 0
                      },
                      {
                        "bin_start": 76.8,
                        "bin_end": 96,
                        "count": 11
                      },
                      {
                        "bin_start": 96,
                        "bin_end": 115.19999999999999,
                        "count": 2
                      },
                      {
                        "bin_start": 115.19999999999999,
                        "bin_end": 134.4,
                        "count": 0
                      },
                      {
                        "bin_start": 134.4,
                        "bin_end": 153.6,
                        "count": 0
                      },
                      {
                        "bin_start": 153.6,
                        "bin_end": 172.79999999999998,
                        "count": 0
                      },
                      {
                        "bin_start": 172.79999999999998,
                        "bin_end": 192,
                        "count": 4
                      }
                    ]
                  }
                },
                {
                  "name": "Sodium",
                  "dtype": "int64",
                  "stats": {
                    "unique_count": 111,
                    "nan_count": 0,
                    "min": "0",
                    "max": "3600",
                    "histogram": [
                      {
                        "bin_start": 0,
                        "bin_end": 360,
                        "count": 166
                      },
                      {
                        "bin_start": 360,
                        "bin_end": 720,
                        "count": 14
                      },
                      {
                        "bin_start": 720,
                        "bin_end": 1080,
                        "count": 28
                      },
                      {
                        "bin_start": 1080,
                        "bin_end": 1440,
                        "count": 32
                      },
                      {
                        "bin_start": 1440,
                        "bin_end": 1800,
                        "count": 14
                      },
                      {
                        "bin_start": 1800,
                        "bin_end": 2160,
                        "count": 2
                      },
                      {
                        "bin_start": 2160,
                        "bin_end": 2520,
                        "count": 3
                      },
                      {
                        "bin_start": 2520,
                        "bin_end": 2880,
                        "count": 0
                      },
                      {
                        "bin_start": 2880,
                        "bin_end": 3240,
                        "count": 0
                      },
                      {
                        "bin_start": 3240,
                        "bin_end": 3600,
                        "count": 1
                      }
                    ]
                  }
                },
                {
                  "name": "Sodium (% Daily Value)",
                  "dtype": "int64",
                  "stats": {
                    "unique_count": 65,
                    "nan_count": 0,
                    "min": "0",
                    "max": "150",
                    "histogram": [
                      {
                        "bin_start": 0,
                        "bin_end": 15,
                        "count": 166
                      },
                      {
                        "bin_start": 15,
                        "bin_end": 30,
                        "count": 14
                      },
                      {
                        "bin_start": 30,
                        "bin_end": 45,
                        "count": 28
                      },
                      {
                        "bin_start": 45,
                        "bin_end": 60,
                        "count": 32
                      },
                      {
                        "bin_start": 60,
                        "bin_end": 75,
                        "count": 14
                      },
                      {
                        "bin_start": 75,
                        "bin_end": 90,
                        "count": 1
                      },
                      {
                        "bin_start": 90,
                        "bin_end": 105,
                        "count": 4
                      },
                      {
                        "bin_start": 105,
                        "bin_end": 120,
                        "count": 0
                      },
                      {
                        "bin_start": 120,
                        "bin_end": 135,
                        "count": 0
                      },
                      {
                        "bin_start": 135,
                        "bin_end": 150,
                        "count": 1
                      }
                    ]
                  }
                },
                {
                  "name": "Carbohydrates",
                  "dtype": "int64",
                  "stats": {
                    "unique_count": 84,
                    "nan_count": 0,
                    "min": "0",
                    "max": "141",
                    "histogram": [
                      {
                        "bin_start": 0,
                        "bin_end": 14.1,
                        "count": 25
                      },
                      {
                        "bin_start": 14.1,
                        "bin_end": 28.2,
                        "count": 31
                      },
                      {
                        "bin_start": 28.2,
                        "bin_end": 42.3,
                        "count": 65
                      },
                      {
                        "bin_start": 42.3,
                        "bin_end": 56.4,
                        "count": 64
                      },
                      {
                        "bin_start": 56.4,
                        "bin_end": 70.5,
                        "count": 36
                      },
                      {
                        "bin_start": 70.5,
                        "bin_end": 84.6,
                        "count": 15
                      },
                      {
                        "bin_start": 84.6,
                        "bin_end": 98.7,
                        "count": 7
                      },
                      {
                        "bin_start": 98.7,
                        "bin_end": 112.8,
                        "count": 6
                      },
                      {
                        "bin_start": 112.8,
                        "bin_end": 126.89999999999999,
                        "count": 6
                      },
                      {
                        "bin_start": 126.89999999999999,
                        "bin_end": 141,
                        "count": 5
                      }
                    ]
                  }
                },
                {
                  "name": "Carbohydrates (% Daily Value)",
                  "dtype": "int64",
                  "stats": {
                    "unique_count": 40,
                    "nan_count": 0,
                    "min": "0",
                    "max": "47",
                    "histogram": [
                      {
                        "bin_start": 0,
                        "bin_end": 4.7,
                        "count": 25
                      },
                      {
                        "bin_start": 4.7,
                        "bin_end": 9.4,
                        "count": 31
                      },
                      {
                        "bin_start": 9.4,
                        "bin_end": 14.100000000000001,
                        "count": 71
                      },
                      {
                        "bin_start": 14.100000000000001,
                        "bin_end": 18.8,
                        "count": 53
                      },
                      {
                        "bin_start": 18.8,
                        "bin_end": 23.5,
                        "count": 41
                      },
                      {
                        "bin_start": 23.5,
                        "bin_end": 28.200000000000003,
                        "count": 15
                      },
                      {
                        "bin_start": 28.200000000000003,
                        "bin_end": 32.9,
                        "count": 6
                      },
                      {
                        "bin_start": 32.9,
                        "bin_end": 37.6,
                        "count": 7
                      },
                      {
                        "bin_start": 37.6,
                        "bin_end": 42.300000000000004,
                        "count": 6
                      },
                      {
                        "bin_start": 42.300000000000004,
                        "bin_end": 47,
                        "count": 5
                      }
                    ]
                  }
                },
                {
                  "name": "Dietary Fiber",
                  "dtype": "int64",
                  "stats": {
                    "unique_count": 8,
                    "nan_count": 0,
                    "min": "0",
                    "max": "7",
                    "histogram": [
                      {
                        "bin_start": 0,
                        "bin_end": 0.7,
                        "count": 69
                      },
                      {
                        "bin_start": 0.7,
                        "bin_end": 1.4,
                        "count": 80
                      },
                      {
                        "bin_start": 1.4,
                        "bin_end": 2.0999999999999996,
                        "count": 44
                      },
                      {
                        "bin_start": 2.0999999999999996,
                        "bin_end": 2.8,
                        "count": 0
                      },
                      {
                        "bin_start": 2.8,
                        "bin_end": 3.5,
                        "count": 38
                      },
                      {
                        "bin_start": 3.5,
                        "bin_end": 4.199999999999999,
                        "count": 15
                      },
                      {
                        "bin_start": 4.199999999999999,
                        "bin_end": 4.8999999999999995,
                        "count": 0
                      },
                      {
                        "bin_start": 4.8999999999999995,
                        "bin_end": 5.6,
                        "count": 6
                      },
                      {
                        "bin_start": 5.6,
                        "bin_end": 6.3,
                        "count": 4
                      },
                      {
                        "bin_start": 6.3,
                        "bin_end": 7,
                        "count": 4
                      }
                    ]
                  }
                },
                {
                  "name": "Dietary Fiber (% Daily Value)",
                  "dtype": "int64",
                  "stats": {
                    "unique_count": 24,
                    "nan_count": 0,
                    "min": "0",
                    "max": "28",
                    "histogram": [
                      {
                        "bin_start": 0,
                        "bin_end": 2.8,
                        "count": 74
                      },
                      {
                        "bin_start": 2.8,
                        "bin_end": 5.6,
                        "count": 62
                      },
                      {
                        "bin_start": 5.6,
                        "bin_end": 8.399999999999999,
                        "count": 47
                      },
                      {
                        "bin_start": 8.399999999999999,
                        "bin_end": 11.2,
                        "count": 22
                      },
                      {
                        "bin_start": 11.2,
                        "bin_end": 14,
                        "count": 22
                      },
                      {
                        "bin_start": 14,
                        "bin_end": 16.799999999999997,
                        "count": 11
                      },
                      {
                        "bin_start": 16.799999999999997,
                        "bin_end": 19.599999999999998,
                        "count": 11
                      },
                      {
                        "bin_start": 19.599999999999998,
                        "bin_end": 22.4,
                        "count": 3
                      },
                      {
                        "bin_start": 22.4,
                        "bin_end": 25.2,
                        "count": 4
                      },
                      {
                        "bin_start": 25.2,
                        "bin_end": 28,
                        "count": 4
                      }
                    ]
                  }
                },
                {
                  "name": "Sugars",
                  "dtype": "int64",
                  "stats": {
                    "unique_count": 83,
                    "nan_count": 0,
                    "min": "0",
                    "max": "128",
                    "histogram": [
                      {
                        "bin_start": 0,
                        "bin_end": 12.8,
                        "count": 107
                      },
                      {
                        "bin_start": 12.8,
                        "bin_end": 25.6,
                        "count": 36
                      },
                      {
                        "bin_start": 25.6,
                        "bin_end": 38.400000000000006,
                        "count": 23
                      },
                      {
                        "bin_start": 38.400000000000006,
                        "bin_end": 51.2,
                        "count": 35
                      },
                      {
                        "bin_start": 51.2,
                        "bin_end": 64,
                        "count": 28
                      },
                      {
                        "bin_start": 64,
                        "bin_end": 76.80000000000001,
                        "count": 13
                      },
                      {
                        "bin_start": 76.80000000000001,
                        "bin_end": 89.60000000000001,
                        "count": 8
                      },
                      {
                        "bin_start": 89.60000000000001,
                        "bin_end": 102.4,
                        "count": 5
                      },
                      {
                        "bin_start": 102.4,
                        "bin_end": 115.2,
                        "count": 2
                      },
                      {
                        "bin_start": 115.2,
                        "bin_end": 128,
                        "count": 3
                      }
                    ]
                  }
                },
                {
                  "name": "Protein",
                  "dtype": "int64",
                  "stats": {
                    "unique_count": 42,
                    "nan_count": 0,
                    "min": "0",
                    "max": "87",
                    "histogram": [
                      {
                        "bin_start": 0,
                        "bin_end": 8.7,
                        "count": 89
                      },
                      {
                        "bin_start": 8.7,
                        "bin_end": 17.4,
                        "count": 97
                      },
                      {
                        "bin_start": 17.4,
                        "bin_end": 26.099999999999998,
                        "count": 40
                      },
                      {
                        "bin_start": 26.099999999999998,
                        "bin_end": 34.8,
                        "count": 18
                      },
                      {
                        "bin_start": 34.8,
                        "bin_end": 43.5,
                        "count": 13
                      },
                      {
                        "bin_start": 43.5,
                        "bin_end": 52.199999999999996,
                        "count": 2
                      },
                      {
                        "bin_start": 52.199999999999996,
                        "bin_end": 60.89999999999999,
                        "count": 0
                      },
                      {
                        "bin_start": 60.89999999999999,
                        "bin_end": 69.6,
                        "count": 0
                      },
                      {
                        "bin_start": 69.6,
                        "bin_end": 78.3,
                        "count": 0
                      },
                      {
                        "bin_start": 78.3,
                        "bin_end": 87,
                        "count": 1
                      }
                    ]
                  }
                },
                {
                  "name": "Vitamin A (% Daily Value)",
                  "dtype": "int64",
                  "stats": {
                    "unique_count": 19,
                    "nan_count": 0,
                    "min": "0",
                    "max": "170",
                    "histogram": [
                      {
                        "bin_start": 0,
                        "bin_end": 17,
                        "count": 215
                      },
                      {
                        "bin_start": 17,
                        "bin_end": 34,
                        "count": 28
                      },
                      {
                        "bin_start": 34,
                        "bin_end": 51,
                        "count": 3
                      },
                      {
                        "bin_start": 51,
                        "bin_end": 68,
                        "count": 7
                      },
                      {
                        "bin_start": 68,
                        "bin_end": 85,
                        "count": 1
                      },
                      {
                        "bin_start": 85,
                        "bin_end": 102,
                        "count": 1
                      },
                      {
                        "bin_start": 102,
                        "bin_end": 119,
                        "count": 1
                      },
                      {
                        "bin_start": 119,
                        "bin_end": 136,
                        "count": 0
                      },
                      {
                        "bin_start": 136,
                        "bin_end": 153,
                        "count": 0
                      },
                      {
                        "bin_start": 153,
                        "bin_end": 170,
                        "count": 4
                      }
                    ]
                  }
                },
                {
                  "name": "Vitamin C (% Daily Value)",
                  "dtype": "int64",
                  "stats": {
                    "unique_count": 17,
                    "nan_count": 0,
                    "min": "0",
                    "max": "240",
                    "histogram": [
                      {
                        "bin_start": 0,
                        "bin_end": 24,
                        "count": 233
                      },
                      {
                        "bin_start": 24,
                        "bin_end": 48,
                        "count": 19
                      },
                      {
                        "bin_start": 48,
                        "bin_end": 72,
                        "count": 1
                      },
                      {
                        "bin_start": 72,
                        "bin_end": 96,
                        "count": 0
                      },
                      {
                        "bin_start": 96,
                        "bin_end": 120,
                        "count": 1
                      },
                      {
                        "bin_start": 120,
                        "bin_end": 144,
                        "count": 3
                      },
                      {
                        "bin_start": 144,
                        "bin_end": 168,
                        "count": 2
                      },
                      {
                        "bin_start": 168,
                        "bin_end": 192,
                        "count": 0
                      },
                      {
                        "bin_start": 192,
                        "bin_end": 216,
                        "count": 0
                      },
                      {
                        "bin_start": 216,
                        "bin_end": 240,
                        "count": 1
                      }
                    ]
                  }
                },
                {
                  "name": "Calcium (% Daily Value)",
                  "dtype": "int64",
                  "stats": {
                    "unique_count": 16,
                    "nan_count": 0,
                    "min": "0",
                    "max": "70",
                    "histogram": [
                      {
                        "bin_start": 0,
                        "bin_end": 7,
                        "count": 66
                      },
                      {
                        "bin_start": 7,
                        "bin_end": 14,
                        "count": 35
                      },
                      {
                        "bin_start": 14,
                        "bin_end": 21,
                        "count": 45
                      },
                      {
                        "bin_start": 21,
                        "bin_end": 28,
                        "count": 22
                      },
                      {
                        "bin_start": 28,
                        "bin_end": 35,
                        "count": 33
                      },
                      {
                        "bin_start": 35,
                        "bin_end": 42,
                        "count": 27
                      },
                      {
                        "bin_start": 42,
                        "bin_end": 49,
                        "count": 4
                      },
                      {
                        "bin_start": 49,
                        "bin_end": 56,
                        "count": 20
                      },
                      {
                        "bin_start": 56,
                        "bin_end": 63,
                        "count": 6
                      },
                      {
                        "bin_start": 63,
                        "bin_end": 70,
                        "count": 2
                      }
                    ]
                  }
                },
                {
                  "name": "Iron (% Daily Value)",
                  "dtype": "int64",
                  "stats": {
                    "unique_count": 12,
                    "nan_count": 0,
                    "min": "0",
                    "max": "40",
                    "histogram": [
                      {
                        "bin_start": 0,
                        "bin_end": 4,
                        "count": 115
                      },
                      {
                        "bin_start": 4,
                        "bin_end": 8,
                        "count": 37
                      },
                      {
                        "bin_start": 8,
                        "bin_end": 12,
                        "count": 36
                      },
                      {
                        "bin_start": 12,
                        "bin_end": 16,
                        "count": 31
                      },
                      {
                        "bin_start": 16,
                        "bin_end": 20,
                        "count": 0
                      },
                      {
                        "bin_start": 20,
                        "bin_end": 24,
                        "count": 25
                      },
                      {
                        "bin_start": 24,
                        "bin_end": 28,
                        "count": 7
                      },
                      {
                        "bin_start": 28,
                        "bin_end": 32,
                        "count": 6
                      },
                      {
                        "bin_start": 32,
                        "bin_end": 36,
                        "count": 1
                      },
                      {
                        "bin_start": 36,
                        "bin_end": 40,
                        "count": 2
                      }
                    ]
                  }
                },
                {
                  "name": "_deepnote_index_column",
                  "dtype": "int64"
                }
              ],
              "rows": [
                {
                  "Category": "Breakfast",
                  "Item": "Egg McMuffin",
                  "Serving Size": "4.8 oz (136 g)",
                  "Calories": 300,
                  "Calories from Fat": 120,
                  "Total Fat": 13,
                  "Total Fat (% Daily Value)": 20,
                  "Saturated Fat": 5,
                  "Saturated Fat (% Daily Value)": 25,
                  "Trans Fat": 0,
                  "Cholesterol": 260,
                  "Cholesterol (% Daily Value)": 87,
                  "Sodium": 750,
                  "Sodium (% Daily Value)": 31,
                  "Carbohydrates": 31,
                  "Carbohydrates (% Daily Value)": 10,
                  "Dietary Fiber": 4,
                  "Dietary Fiber (% Daily Value)": 17,
                  "Sugars": 3,
                  "Protein": 17,
                  "Vitamin A (% Daily Value)": 10,
                  "Vitamin C (% Daily Value)": 0,
                  "Calcium (% Daily Value)": 25,
                  "Iron (% Daily Value)": 15,
                  "_deepnote_index_column": 0
                },
                {
                  "Category": "Breakfast",
                  "Item": "Egg White Delight",
                  "Serving Size": "4.8 oz (135 g)",
                  "Calories": 250,
                  "Calories from Fat": 70,
                  "Total Fat": 8,
                  "Total Fat (% Daily Value)": 12,
                  "Saturated Fat": 3,
                  "Saturated Fat (% Daily Value)": 15,
                  "Trans Fat": 0,
                  "Cholesterol": 25,
                  "Cholesterol (% Daily Value)": 8,
                  "Sodium": 770,
                  "Sodium (% Daily Value)": 32,
                  "Carbohydrates": 30,
                  "Carbohydrates (% Daily Value)": 10,
                  "Dietary Fiber": 4,
                  "Dietary Fiber (% Daily Value)": 17,
                  "Sugars": 3,
                  "Protein": 18,
                  "Vitamin A (% Daily Value)": 6,
                  "Vitamin C (% Daily Value)": 0,
                  "Calcium (% Daily Value)": 25,
                  "Iron (% Daily Value)": 8,
                  "_deepnote_index_column": 1
                },
                {
                  "Category": "Breakfast",
                  "Item": "Sausage McMuffin",
                  "Serving Size": "3.9 oz (111 g)",
                  "Calories": 370,
                  "Calories from Fat": 200,
                  "Total Fat": 23,
                  "Total Fat (% Daily Value)": 35,
                  "Saturated Fat": 8,
                  "Saturated Fat (% Daily Value)": 42,
                  "Trans Fat": 0,
                  "Cholesterol": 45,
                  "Cholesterol (% Daily Value)": 15,
                  "Sodium": 780,
                  "Sodium (% Daily Value)": 33,
                  "Carbohydrates": 29,
                  "Carbohydrates (% Daily Value)": 10,
                  "Dietary Fiber": 4,
                  "Dietary Fiber (% Daily Value)": 17,
                  "Sugars": 2,
                  "Protein": 14,
                  "Vitamin A (% Daily Value)": 8,
                  "Vitamin C (% Daily Value)": 0,
                  "Calcium (% Daily Value)": 25,
                  "Iron (% Daily Value)": 10,
                  "_deepnote_index_column": 2
                },
                {
                  "Category": "Breakfast",
                  "Item": "Sausage McMuffin with Egg",
                  "Serving Size": "5.7 oz (161 g)",
                  "Calories": 450,
                  "Calories from Fat": 250,
                  "Total Fat": 28,
                  "Total Fat (% Daily Value)": 43,
                  "Saturated Fat": 10,
                  "Saturated Fat (% Daily Value)": 52,
                  "Trans Fat": 0,
                  "Cholesterol": 285,
                  "Cholesterol (% Daily Value)": 95,
                  "Sodium": 860,
                  "Sodium (% Daily Value)": 36,
                  "Carbohydrates": 30,
                  "Carbohydrates (% Daily Value)": 10,
                  "Dietary Fiber": 4,
                  "Dietary Fiber (% Daily Value)": 17,
                  "Sugars": 2,
                  "Protein": 21,
                  "Vitamin A (% Daily Value)": 15,
                  "Vitamin C (% Daily Value)": 0,
                  "Calcium (% Daily Value)": 30,
                  "Iron (% Daily Value)": 15,
                  "_deepnote_index_column": 3
                },
                {
                  "Category": "Breakfast",
                  "Item": "Sausage McMuffin with Egg Whites",
                  "Serving Size": "5.7 oz (161 g)",
                  "Calories": 400,
                  "Calories from Fat": 210,
                  "Total Fat": 23,
                  "Total Fat (% Daily Value)": 35,
                  "Saturated Fat": 8,
                  "Saturated Fat (% Daily Value)": 42,
                  "Trans Fat": 0,
                  "Cholesterol": 50,
                  "Cholesterol (% Daily Value)": 16,
                  "Sodium": 880,
                  "Sodium (% Daily Value)": 37,
                  "Carbohydrates": 30,
                  "Carbohydrates (% Daily Value)": 10,
                  "Dietary Fiber": 4,
                  "Dietary Fiber (% Daily Value)": 17,
                  "Sugars": 2,
                  "Protein": 21,
                  "Vitamin A (% Daily Value)": 6,
                  "Vitamin C (% Daily Value)": 0,
                  "Calcium (% Daily Value)": 25,
                  "Iron (% Daily Value)": 10,
                  "_deepnote_index_column": 4
                },
                {
                  "Category": "Breakfast",
                  "Item": "Steak & Egg McMuffin",
                  "Serving Size": "6.5 oz (185 g)",
                  "Calories": 430,
                  "Calories from Fat": 210,
                  "Total Fat": 23,
                  "Total Fat (% Daily Value)": 36,
                  "Saturated Fat": 9,
                  "Saturated Fat (% Daily Value)": 46,
                  "Trans Fat": 1,
                  "Cholesterol": 300,
                  "Cholesterol (% Daily Value)": 100,
                  "Sodium": 960,
                  "Sodium (% Daily Value)": 40,
                  "Carbohydrates": 31,
                  "Carbohydrates (% Daily Value)": 10,
                  "Dietary Fiber": 4,
                  "Dietary Fiber (% Daily Value)": 18,
                  "Sugars": 3,
                  "Protein": 26,
                  "Vitamin A (% Daily Value)": 15,
                  "Vitamin C (% Daily Value)": 2,
                  "Calcium (% Daily Value)": 30,
                  "Iron (% Daily Value)": 20,
                  "_deepnote_index_column": 5
                },
                {
                  "Category": "Breakfast",
                  "Item": "Bacon, Egg & Cheese Biscuit (Regular Biscuit)",
                  "Serving Size": "5.3 oz (150 g)",
                  "Calories": 460,
                  "Calories from Fat": 230,
                  "Total Fat": 26,
                  "Total Fat (% Daily Value)": 40,
                  "Saturated Fat": 13,
                  "Saturated Fat (% Daily Value)": 65,
                  "Trans Fat": 0,
                  "Cholesterol": 250,
                  "Cholesterol (% Daily Value)": 83,
                  "Sodium": 1300,
                  "Sodium (% Daily Value)": 54,
                  "Carbohydrates": 38,
                  "Carbohydrates (% Daily Value)": 13,
                  "Dietary Fiber": 2,
                  "Dietary Fiber (% Daily Value)": 7,
                  "Sugars": 3,
                  "Protein": 19,
                  "Vitamin A (% Daily Value)": 10,
                  "Vitamin C (% Daily Value)": 8,
                  "Calcium (% Daily Value)": 15,
                  "Iron (% Daily Value)": 15,
                  "_deepnote_index_column": 6
                },
                {
                  "Category": "Breakfast",
                  "Item": "Bacon, Egg & Cheese Biscuit (Large Biscuit)",
                  "Serving Size": "5.8 oz (164 g)",
                  "Calories": 520,
                  "Calories from Fat": 270,
                  "Total Fat": 30,
                  "Total Fat (% Daily Value)": 47,
                  "Saturated Fat": 14,
                  "Saturated Fat (% Daily Value)": 68,
                  "Trans Fat": 0,
                  "Cholesterol": 250,
                  "Cholesterol (% Daily Value)": 83,
                  "Sodium": 1410,
                  "Sodium (% Daily Value)": 59,
                  "Carbohydrates": 43,
                  "Carbohydrates (% Daily Value)": 14,
                  "Dietary Fiber": 3,
                  "Dietary Fiber (% Daily Value)": 12,
                  "Sugars": 4,
                  "Protein": 19,
                  "Vitamin A (% Daily Value)": 15,
                  "Vitamin C (% Daily Value)": 8,
                  "Calcium (% Daily Value)": 20,
                  "Iron (% Daily Value)": 20,
                  "_deepnote_index_column": 7
                },
                {
                  "Category": "Breakfast",
                  "Item": "Bacon, Egg & Cheese Biscuit with Egg Whites (Regular Biscuit)",
                  "Serving Size": "5.4 oz (153 g)",
                  "Calories": 410,
                  "Calories from Fat": 180,
                  "Total Fat": 20,
                  "Total Fat (% Daily Value)": 32,
                  "Saturated Fat": 11,
                  "Saturated Fat (% Daily Value)": 56,
                  "Trans Fat": 0,
                  "Cholesterol": 35,
                  "Cholesterol (% Daily Value)": 11,
                  "Sodium": 1300,
                  "Sodium (% Daily Value)": 54,
                  "Carbohydrates": 36,
                  "Carbohydrates (% Daily Value)": 12,
                  "Dietary Fiber": 2,
                  "Dietary Fiber (% Daily Value)": 7,
                  "Sugars": 3,
                  "Protein": 20,
                  "Vitamin A (% Daily Value)": 2,
                  "Vitamin C (% Daily Value)": 8,
                  "Calcium (% Daily Value)": 15,
                  "Iron (% Daily Value)": 10,
                  "_deepnote_index_column": 8
                },
                {
                  "Category": "Breakfast",
                  "Item": "Bacon, Egg & Cheese Biscuit with Egg Whites (Large Biscuit)",
                  "Serving Size": "5.9 oz (167 g)",
                  "Calories": 470,
                  "Calories from Fat": 220,
                  "Total Fat": 25,
                  "Total Fat (% Daily Value)": 38,
                  "Saturated Fat": 12,
                  "Saturated Fat (% Daily Value)": 59,
                  "Trans Fat": 0,
                  "Cholesterol": 35,
                  "Cholesterol (% Daily Value)": 11,
                  "Sodium": 1420,
                  "Sodium (% Daily Value)": 59,
                  "Carbohydrates": 42,
                  "Carbohydrates (% Daily Value)": 14,
                  "Dietary Fiber": 3,
                  "Dietary Fiber (% Daily Value)": 12,
                  "Sugars": 4,
                  "Protein": 20,
                  "Vitamin A (% Daily Value)": 6,
                  "Vitamin C (% Daily Value)": 8,
                  "Calcium (% Daily Value)": 15,
                  "Iron (% Daily Value)": 15,
                  "_deepnote_index_column": 9
                }
              ]
            },
            "text/plain": "               Category                                               Item  \\\n0             Breakfast                                       Egg McMuffin   \n1             Breakfast                                  Egg White Delight   \n2             Breakfast                                   Sausage McMuffin   \n3             Breakfast                          Sausage McMuffin with Egg   \n4             Breakfast                   Sausage McMuffin with Egg Whites   \n..                  ...                                                ...   \n255  Smoothies & Shakes                 McFlurry with Oreo Cookies (Small)   \n256  Smoothies & Shakes                McFlurry with Oreo Cookies (Medium)   \n257  Smoothies & Shakes                 McFlurry with Oreo Cookies (Snack)   \n258  Smoothies & Shakes  McFlurry with Reese's Peanut Butter Cups (Medium)   \n259  Smoothies & Shakes   McFlurry with Reese's Peanut Butter Cups (Snack)   \n\n        Serving Size  Calories  Calories from Fat  Total Fat  \\\n0     4.8 oz (136 g)       300                120       13.0   \n1     4.8 oz (135 g)       250                 70        8.0   \n2     3.9 oz (111 g)       370                200       23.0   \n3     5.7 oz (161 g)       450                250       28.0   \n4     5.7 oz (161 g)       400                210       23.0   \n..               ...       ...                ...        ...   \n255  10.1 oz (285 g)       510                150       17.0   \n256  13.4 oz (381 g)       690                200       23.0   \n257   6.7 oz (190 g)       340                100       11.0   \n258  14.2 oz (403 g)       810                290       32.0   \n259   7.1 oz (202 g)       410                150       16.0   \n\n     Total Fat (% Daily Value)  Saturated Fat  Saturated Fat (% Daily Value)  \\\n0                           20            5.0                             25   \n1                           12            3.0                             15   \n2                           35            8.0                             42   \n3                           43           10.0                             52   \n4                           35            8.0                             42   \n..                         ...            ...                            ...   \n255                         26            9.0                             44   \n256                         35           12.0                             58   \n257                         17            6.0                             29   \n258                         50           15.0                             76   \n259                         25            8.0                             38   \n\n     Trans Fat  ...  Carbohydrates  Carbohydrates (% Daily Value)  \\\n0          0.0  ...             31                             10   \n1          0.0  ...             30                             10   \n2          0.0  ...             29                             10   \n3          0.0  ...             30                             10   \n4          0.0  ...             30                             10   \n..         ...  ...            ...                            ...   \n255        0.5  ...             80                             27   \n256        1.0  ...            106                             35   \n257        0.0  ...             53                             18   \n258        1.0  ...            114                             38   \n259        0.0  ...             57                             19   \n\n     Dietary Fiber  Dietary Fiber (% Daily Value)  Sugars  Protein  \\\n0                4                             17       3       17   \n1                4                             17       3       18   \n2                4                             17       2       14   \n3                4                             17       2       21   \n4                4                             17       2       21   \n..             ...                            ...     ...      ...   \n255              1                              4      64       12   \n256              1                              5      85       15   \n257              1                              2      43        8   \n258              2                              9     103       21   \n259              1                              5      51       10   \n\n     Vitamin A (% Daily Value)  Vitamin C (% Daily Value)  \\\n0                           10                          0   \n1                            6                          0   \n2                            8                          0   \n3                           15                          0   \n4                            6                          0   \n..                         ...                        ...   \n255                         15                          0   \n256                         20                          0   \n257                         10                          0   \n258                         20                          0   \n259                         10                          0   \n\n     Calcium (% Daily Value)  Iron (% Daily Value)  \n0                         25                    15  \n1                         25                     8  \n2                         25                    10  \n3                         30                    15  \n4                         25                    10  \n..                       ...                   ...  \n255                       40                     8  \n256                       50                    10  \n257                       25                     6  \n258                       60                     6  \n259                       30                     4  \n\n[260 rows x 24 columns]",
            "text/html": "<div>\n<style scoped>\n    .dataframe tbody tr th:only-of-type {\n        vertical-align: middle;\n    }\n\n    .dataframe tbody tr th {\n        vertical-align: top;\n    }\n\n    .dataframe thead th {\n        text-align: right;\n    }\n</style>\n<table border=\"1\" class=\"dataframe\">\n  <thead>\n    <tr style=\"text-align: right;\">\n      <th></th>\n      <th>Category</th>\n      <th>Item</th>\n      <th>Serving Size</th>\n      <th>Calories</th>\n      <th>Calories from Fat</th>\n      <th>Total Fat</th>\n      <th>Total Fat (% Daily Value)</th>\n      <th>Saturated Fat</th>\n      <th>Saturated Fat (% Daily Value)</th>\n      <th>Trans Fat</th>\n      <th>...</th>\n      <th>Carbohydrates</th>\n      <th>Carbohydrates (% Daily Value)</th>\n      <th>Dietary Fiber</th>\n      <th>Dietary Fiber (% Daily Value)</th>\n      <th>Sugars</th>\n      <th>Protein</th>\n      <th>Vitamin A (% Daily Value)</th>\n      <th>Vitamin C (% Daily Value)</th>\n      <th>Calcium (% Daily Value)</th>\n      <th>Iron (% Daily Value)</th>\n    </tr>\n  </thead>\n  <tbody>\n    <tr>\n      <th>0</th>\n      <td>Breakfast</td>\n      <td>Egg McMuffin</td>\n      <td>4.8 oz (136 g)</td>\n      <td>300</td>\n      <td>120</td>\n      <td>13.0</td>\n      <td>20</td>\n      <td>5.0</td>\n      <td>25</td>\n      <td>0.0</td>\n      <td>...</td>\n      <td>31</td>\n      <td>10</td>\n      <td>4</td>\n      <td>17</td>\n      <td>3</td>\n      <td>17</td>\n      <td>10</td>\n      <td>0</td>\n      <td>25</td>\n      <td>15</td>\n    </tr>\n    <tr>\n      <th>1</th>\n      <td>Breakfast</td>\n      <td>Egg White Delight</td>\n      <td>4.8 oz (135 g)</td>\n      <td>250</td>\n      <td>70</td>\n      <td>8.0</td>\n      <td>12</td>\n      <td>3.0</td>\n      <td>15</td>\n      <td>0.0</td>\n      <td>...</td>\n      <td>30</td>\n      <td>10</td>\n      <td>4</td>\n      <td>17</td>\n      <td>3</td>\n      <td>18</td>\n      <td>6</td>\n      <td>0</td>\n      <td>25</td>\n      <td>8</td>\n    </tr>\n    <tr>\n      <th>2</th>\n      <td>Breakfast</td>\n      <td>Sausage McMuffin</td>\n      <td>3.9 oz (111 g)</td>\n      <td>370</td>\n      <td>200</td>\n      <td>23.0</td>\n      <td>35</td>\n      <td>8.0</td>\n      <td>42</td>\n      <td>0.0</td>\n      <td>...</td>\n      <td>29</td>\n      <td>10</td>\n      <td>4</td>\n      <td>17</td>\n      <td>2</td>\n      <td>14</td>\n      <td>8</td>\n      <td>0</td>\n      <td>25</td>\n      <td>10</td>\n    </tr>\n    <tr>\n      <th>3</th>\n      <td>Breakfast</td>\n      <td>Sausage McMuffin with Egg</td>\n      <td>5.7 oz (161 g)</td>\n      <td>450</td>\n      <td>250</td>\n      <td>28.0</td>\n      <td>43</td>\n      <td>10.0</td>\n      <td>52</td>\n      <td>0.0</td>\n      <td>...</td>\n      <td>30</td>\n      <td>10</td>\n      <td>4</td>\n      <td>17</td>\n      <td>2</td>\n      <td>21</td>\n      <td>15</td>\n      <td>0</td>\n      <td>30</td>\n      <td>15</td>\n    </tr>\n    <tr>\n      <th>4</th>\n      <td>Breakfast</td>\n      <td>Sausage McMuffin with Egg Whites</td>\n      <td>5.7 oz (161 g)</td>\n      <td>400</td>\n      <td>210</td>\n      <td>23.0</td>\n      <td>35</td>\n      <td>8.0</td>\n      <td>42</td>\n      <td>0.0</td>\n      <td>...</td>\n      <td>30</td>\n      <td>10</td>\n      <td>4</td>\n      <td>17</td>\n      <td>2</td>\n      <td>21</td>\n      <td>6</td>\n      <td>0</td>\n      <td>25</td>\n      <td>10</td>\n    </tr>\n    <tr>\n      <th>...</th>\n      <td>...</td>\n      <td>...</td>\n      <td>...</td>\n      <td>...</td>\n      <td>...</td>\n      <td>...</td>\n      <td>...</td>\n      <td>...</td>\n      <td>...</td>\n      <td>...</td>\n      <td>...</td>\n      <td>...</td>\n      <td>...</td>\n      <td>...</td>\n      <td>...</td>\n      <td>...</td>\n      <td>...</td>\n      <td>...</td>\n      <td>...</td>\n      <td>...</td>\n      <td>...</td>\n    </tr>\n    <tr>\n      <th>255</th>\n      <td>Smoothies &amp; Shakes</td>\n      <td>McFlurry with Oreo Cookies (Small)</td>\n      <td>10.1 oz (285 g)</td>\n      <td>510</td>\n      <td>150</td>\n      <td>17.0</td>\n      <td>26</td>\n      <td>9.0</td>\n      <td>44</td>\n      <td>0.5</td>\n      <td>...</td>\n      <td>80</td>\n      <td>27</td>\n      <td>1</td>\n      <td>4</td>\n      <td>64</td>\n      <td>12</td>\n      <td>15</td>\n      <td>0</td>\n      <td>40</td>\n      <td>8</td>\n    </tr>\n    <tr>\n      <th>256</th>\n      <td>Smoothies &amp; Shakes</td>\n      <td>McFlurry with Oreo Cookies (Medium)</td>\n      <td>13.4 oz (381 g)</td>\n      <td>690</td>\n      <td>200</td>\n      <td>23.0</td>\n      <td>35</td>\n      <td>12.0</td>\n      <td>58</td>\n      <td>1.0</td>\n      <td>...</td>\n      <td>106</td>\n      <td>35</td>\n      <td>1</td>\n      <td>5</td>\n      <td>85</td>\n      <td>15</td>\n      <td>20</td>\n      <td>0</td>\n      <td>50</td>\n      <td>10</td>\n    </tr>\n    <tr>\n      <th>257</th>\n      <td>Smoothies &amp; Shakes</td>\n      <td>McFlurry with Oreo Cookies (Snack)</td>\n      <td>6.7 oz (190 g)</td>\n      <td>340</td>\n      <td>100</td>\n      <td>11.0</td>\n      <td>17</td>\n      <td>6.0</td>\n      <td>29</td>\n      <td>0.0</td>\n      <td>...</td>\n      <td>53</td>\n      <td>18</td>\n      <td>1</td>\n      <td>2</td>\n      <td>43</td>\n      <td>8</td>\n      <td>10</td>\n      <td>0</td>\n      <td>25</td>\n      <td>6</td>\n    </tr>\n    <tr>\n      <th>258</th>\n      <td>Smoothies &amp; Shakes</td>\n      <td>McFlurry with Reese's Peanut Butter Cups (Medium)</td>\n      <td>14.2 oz (403 g)</td>\n      <td>810</td>\n      <td>290</td>\n      <td>32.0</td>\n      <td>50</td>\n      <td>15.0</td>\n      <td>76</td>\n      <td>1.0</td>\n      <td>...</td>\n      <td>114</td>\n      <td>38</td>\n      <td>2</td>\n      <td>9</td>\n      <td>103</td>\n      <td>21</td>\n      <td>20</td>\n      <td>0</td>\n      <td>60</td>\n      <td>6</td>\n    </tr>\n    <tr>\n      <th>259</th>\n      <td>Smoothies &amp; Shakes</td>\n      <td>McFlurry with Reese's Peanut Butter Cups (Snack)</td>\n      <td>7.1 oz (202 g)</td>\n      <td>410</td>\n      <td>150</td>\n      <td>16.0</td>\n      <td>25</td>\n      <td>8.0</td>\n      <td>38</td>\n      <td>0.0</td>\n      <td>...</td>\n      <td>57</td>\n      <td>19</td>\n      <td>1</td>\n      <td>5</td>\n      <td>51</td>\n      <td>10</td>\n      <td>10</td>\n      <td>0</td>\n      <td>30</td>\n      <td>4</td>\n    </tr>\n  </tbody>\n</table>\n<p>260 rows × 24 columns</p>\n</div>"
          },
          "metadata": {}
        }
      ],
      "execution_count": null
    },
    {
      "cell_type": "code",
      "metadata": {
        "cell_id": "6d096e42-5326-48ea-a55c-62052cc6fd06",
        "tags": [],
        "deepnote_to_be_reexecuted": false,
        "source_hash": "7e7ba913",
        "execution_start": 1647407177105,
        "execution_millis": 2,
        "deepnote_cell_type": "code",
        "deepnote_cell_height": 289,
        "deepnote_output_heights": [
          192
        ],
        "id": "W5BncCzMmZRX",
        "outputId": "c2aab0d5-586e-4f36-e52e-ddd55e709273"
      },
      "source": [
        "df['Category'].value_counts()"
      ],
      "outputs": [
        {
          "output_type": "execute_result",
          "execution_count": 3,
          "data": {
            "text/plain": "Coffee & Tea          95\nBreakfast             42\nSmoothies & Shakes    28\nChicken & Fish        27\nBeverages             27\nBeef & Pork           15\nSnacks & Sides        13\nDesserts               7\nSalads                 6\nName: Category, dtype: int64"
          },
          "metadata": {}
        }
      ],
      "execution_count": null
    },
    {
      "cell_type": "code",
      "metadata": {
        "cell_id": "6b4cf06a-6948-4d40-a4d3-26e7c0fb4f6c",
        "tags": [],
        "deepnote_to_be_reexecuted": false,
        "source_hash": "3e161899",
        "execution_start": 1647407177106,
        "execution_millis": 99927922,
        "deepnote_cell_type": "code",
        "deepnote_cell_height": 112,
        "id": "ThT5_Tl5mZRY",
        "outputId": "a72fb8f9-511a-4aea-b98a-6cbbd708f419"
      },
      "source": [
        "print(f\"Coffee & Tea has the most items with a total of {(df['Category'] == 'Coffee & Tea').sum()}\")"
      ],
      "outputs": [
        {
          "name": "stdout",
          "text": "Coffee & Tea has the most items with a total of 95\n",
          "output_type": "stream"
        }
      ],
      "execution_count": null
    },
    {
      "cell_type": "markdown",
      "source": [
        "### KNeighborsClassifier\n",
        "\n",
        "Use KNeighborClassifier to predict the Category using Calories and Sodium.\n",
        "\n"
      ],
      "metadata": {
        "cell_id": "2baf765e-79f6-43bd-8c44-8f4698313d75",
        "tags": [],
        "deepnote_cell_type": "markdown",
        "deepnote_cell_height": 100,
        "id": "V08BO6rwmZRY"
      }
    },
    {
      "cell_type": "code",
      "metadata": {
        "cell_id": "cb7b1fec-e0a6-461e-a696-4517426711d7",
        "tags": [],
        "deepnote_to_be_reexecuted": false,
        "source_hash": "c7ed14d7",
        "execution_start": 1647407177152,
        "execution_millis": 99927912,
        "deepnote_cell_type": "code",
        "deepnote_cell_height": 81,
        "id": "IENPZkJTmZRY"
      },
      "source": [
        "clf = KNeighborsClassifier(n_neighbors=4)"
      ],
      "outputs": [],
      "execution_count": null
    },
    {
      "cell_type": "code",
      "metadata": {
        "cell_id": "532baf31-a665-4573-b284-96eaccfc6eb5",
        "tags": [],
        "deepnote_to_be_reexecuted": false,
        "source_hash": "b59df0d5",
        "execution_start": 1647407177154,
        "execution_millis": 21,
        "deepnote_cell_type": "code",
        "deepnote_cell_height": 99,
        "id": "sQQ-FlgumZRY"
      },
      "source": [
        "X = df[[\"Calories\", \"Sodium\"]]\n",
        "y = df['Category']"
      ],
      "outputs": [],
      "execution_count": null
    },
    {
      "cell_type": "code",
      "metadata": {
        "cell_id": "d97df110-c188-4b41-9aad-f661db51c980",
        "tags": [],
        "deepnote_to_be_reexecuted": false,
        "source_hash": "9350e893",
        "execution_start": 1647407177194,
        "execution_millis": 99927957,
        "deepnote_cell_type": "code",
        "deepnote_cell_height": 81,
        "id": "vhk37BoQmZRY"
      },
      "source": [
        "X_train, X_test, y_train, y_test = train_test_split(X, y, test_size=0.6)"
      ],
      "outputs": [],
      "execution_count": null
    },
    {
      "cell_type": "code",
      "metadata": {
        "cell_id": "50557a5b-762c-4078-b1f3-4105f0920d75",
        "tags": [],
        "deepnote_to_be_reexecuted": false,
        "source_hash": "7e036cd",
        "execution_start": 1647407177213,
        "execution_millis": 99927983,
        "deepnote_cell_type": "code",
        "deepnote_cell_height": 118,
        "deepnote_output_heights": [
          21
        ],
        "id": "GFVhwqcgmZRY",
        "outputId": "f907c5c6-cbca-4b07-af9a-1ef0ed00a1a7"
      },
      "source": [
        "clf.fit(X_test,y_test)"
      ],
      "outputs": [
        {
          "output_type": "execute_result",
          "execution_count": 8,
          "data": {
            "text/plain": "KNeighborsClassifier(n_neighbors=4)"
          },
          "metadata": {}
        }
      ],
      "execution_count": null
    },
    {
      "cell_type": "code",
      "metadata": {
        "cell_id": "48fa5978-c74f-4539-a641-2ffa848b523b",
        "tags": [],
        "deepnote_to_be_reexecuted": false,
        "source_hash": "54b583ad",
        "execution_start": 1647407177214,
        "execution_millis": 19,
        "deepnote_cell_type": "code",
        "deepnote_cell_height": 81,
        "id": "pLNBva4ImZRY"
      },
      "source": [
        "df['Prediction'] = clf.predict(X)"
      ],
      "outputs": [],
      "execution_count": null
    },
    {
      "cell_type": "markdown",
      "source": [
        "### Altair\n",
        "\n",
        "Use Altair to plot."
      ],
      "metadata": {
        "cell_id": "2ca3f078-72a0-4924-a525-1c6f643d6aca",
        "tags": [],
        "deepnote_cell_type": "markdown",
        "deepnote_cell_height": 100,
        "id": "Na4lhoFimZRY"
      }
    },
    {
      "cell_type": "code",
      "metadata": {
        "cell_id": "9fc8efb5-a2b9-4049-9921-fb46174099e4",
        "tags": [],
        "deepnote_to_be_reexecuted": false,
        "source_hash": "3b749311",
        "execution_start": 1647407177261,
        "execution_millis": 15,
        "deepnote_cell_type": "code",
        "deepnote_cell_height": 171,
        "id": "yRr-staBmZRY"
      },
      "source": [
        "c1 = alt.Chart(df).mark_circle().encode(\n",
        "    x = \"Sodium\",\n",
        "    y = \"Calories\",\n",
        "    color = 'Category',\n",
        "    tooltip = 'Item'\n",
        ")"
      ],
      "outputs": [],
      "execution_count": null
    },
    {
      "cell_type": "code",
      "metadata": {
        "cell_id": "e868f0b7-1b5e-4a0c-a887-a881ba223b88",
        "tags": [],
        "deepnote_to_be_reexecuted": false,
        "source_hash": "8a4bb6be",
        "execution_start": 1647407265443,
        "execution_millis": 13,
        "deepnote_cell_type": "code",
        "deepnote_cell_height": 171,
        "id": "2KJoLc8-mZRZ"
      },
      "source": [
        "c2 = alt.Chart(df).mark_circle().encode(\n",
        "        x = \"Sodium\",\n",
        "        y = \"Calories\",\n",
        "        color = 'Prediction',\n",
        "        tooltip = 'Item'\n",
        "    )"
      ],
      "outputs": [],
      "execution_count": null
    },
    {
      "cell_type": "code",
      "metadata": {
        "cell_id": "cf36b198-d1ad-4cf3-a12e-35c50dc0fb5f",
        "tags": [],
        "deepnote_to_be_reexecuted": false,
        "source_hash": "776681b1",
        "execution_start": 1647407269235,
        "execution_millis": 61,
        "deepnote_cell_type": "code",
        "deepnote_cell_height": 460,
        "deepnote_output_heights": [
          363
        ],
        "id": "Cu2WBZifmZRZ",
        "outputId": "a2682e37-c3f8-4890-ea8f-86e938598305"
      },
      "source": [
        "c1 | c2"
      ],
      "outputs": [
        {
          "output_type": "execute_result",
          "execution_count": 20,
          "data": {
            "text/html": "\n<div id=\"altair-viz-a361bc2dd7d8444eb9871c2bcffecf27\"></div>\n<script type=\"text/javascript\">\n  (function(spec, embedOpt){\n    let outputDiv = document.currentScript.previousElementSibling;\n    if (outputDiv.id !== \"altair-viz-a361bc2dd7d8444eb9871c2bcffecf27\") {\n      outputDiv = document.getElementById(\"altair-viz-a361bc2dd7d8444eb9871c2bcffecf27\");\n    }\n    const paths = {\n      \"vega\": \"https://cdn.jsdelivr.net/npm//vega@5?noext\",\n      \"vega-lib\": \"https://cdn.jsdelivr.net/npm//vega-lib?noext\",\n      \"vega-lite\": \"https://cdn.jsdelivr.net/npm//vega-lite@4.8.1?noext\",\n      \"vega-embed\": \"https://cdn.jsdelivr.net/npm//vega-embed@6?noext\",\n    };\n\n    function loadScript(lib) {\n      return new Promise(function(resolve, reject) {\n        var s = document.createElement('script');\n        s.src = paths[lib];\n        s.async = true;\n        s.onload = () => resolve(paths[lib]);\n        s.onerror = () => reject(`Error loading script: ${paths[lib]}`);\n        document.getElementsByTagName(\"head\")[0].appendChild(s);\n      });\n    }\n\n    function showError(err) {\n      outputDiv.innerHTML = `<div class=\"error\" style=\"color:red;\">${err}</div>`;\n      throw err;\n    }\n\n    function displayChart(vegaEmbed) {\n      vegaEmbed(outputDiv, spec, embedOpt)\n        .catch(err => showError(`Javascript Error: ${err.message}<br>This usually means there's a typo in your chart specification. See the javascript console for the full traceback.`));\n    }\n\n    if(typeof define === \"function\" && define.amd) {\n      requirejs.config({paths});\n      require([\"vega-embed\"], displayChart, err => showError(`Error loading script: ${err.message}`));\n    } else if (typeof vegaEmbed === \"function\") {\n      displayChart(vegaEmbed);\n    } else {\n      loadScript(\"vega\")\n        .then(() => loadScript(\"vega-lite\"))\n        .then(() => loadScript(\"vega-embed\"))\n        .catch(showError)\n        .then(() => displayChart(vegaEmbed));\n    }\n  })({\"config\": {\"view\": {\"continuousWidth\": 400, \"continuousHeight\": 300}}, \"hconcat\": [{\"mark\": \"circle\", \"encoding\": {\"color\": {\"type\": \"nominal\", \"field\": \"Category\"}, \"tooltip\": {\"type\": \"nominal\", \"field\": \"Item\"}, \"x\": {\"type\": \"quantitative\", \"field\": \"Sodium\"}, \"y\": {\"type\": \"quantitative\", \"field\": \"Calories\"}}}, {\"mark\": \"circle\", \"encoding\": {\"color\": {\"type\": \"nominal\", \"field\": \"Prediction\"}, \"tooltip\": {\"type\": \"nominal\", \"field\": \"Item\"}, \"x\": {\"type\": \"quantitative\", \"field\": \"Sodium\"}, \"y\": {\"type\": \"quantitative\", \"field\": \"Calories\"}}}], \"data\": {\"name\": \"data-59da21a4080c3b61e63a6b9c238488c6\"}, \"$schema\": \"https://vega.github.io/schema/vega-lite/v4.8.1.json\", \"datasets\": {\"data-59da21a4080c3b61e63a6b9c238488c6\": [{\"Category\": \"Breakfast\", \"Item\": \"Egg McMuffin\", \"Serving Size\": \"4.8 oz (136 g)\", \"Calories\": 300, \"Calories from Fat\": 120, \"Total Fat\": 13.0, \"Total Fat (% Daily Value)\": 20, \"Saturated Fat\": 5.0, \"Saturated Fat (% Daily Value)\": 25, \"Trans Fat\": 0.0, \"Cholesterol\": 260, \"Cholesterol (% Daily Value)\": 87, \"Sodium\": 750, \"Sodium (% Daily Value)\": 31, \"Carbohydrates\": 31, \"Carbohydrates (% Daily Value)\": 10, \"Dietary Fiber\": 4, \"Dietary Fiber (% Daily Value)\": 17, \"Sugars\": 3, \"Protein\": 17, \"Vitamin A (% Daily Value)\": 10, \"Vitamin C (% Daily Value)\": 0, \"Calcium (% Daily Value)\": 25, \"Iron (% Daily Value)\": 15, \"Prediction\": \"Snacks & Sides\"}, {\"Category\": \"Breakfast\", \"Item\": \"Egg White Delight\", \"Serving Size\": \"4.8 oz (135 g)\", \"Calories\": 250, \"Calories from Fat\": 70, \"Total Fat\": 8.0, \"Total Fat (% Daily Value)\": 12, \"Saturated Fat\": 3.0, \"Saturated Fat (% Daily Value)\": 15, \"Trans Fat\": 0.0, \"Cholesterol\": 25, \"Cholesterol (% Daily Value)\": 8, \"Sodium\": 770, \"Sodium (% Daily Value)\": 32, \"Carbohydrates\": 30, \"Carbohydrates (% Daily Value)\": 10, \"Dietary Fiber\": 4, \"Dietary Fiber (% Daily Value)\": 17, \"Sugars\": 3, \"Protein\": 18, \"Vitamin A (% Daily Value)\": 6, \"Vitamin C (% Daily Value)\": 0, \"Calcium (% Daily Value)\": 25, \"Iron (% Daily Value)\": 8, \"Prediction\": \"Snacks & Sides\"}, {\"Category\": \"Breakfast\", \"Item\": \"Sausage McMuffin\", \"Serving Size\": \"3.9 oz (111 g)\", \"Calories\": 370, \"Calories from Fat\": 200, \"Total Fat\": 23.0, \"Total Fat (% Daily Value)\": 35, \"Saturated Fat\": 8.0, \"Saturated Fat (% Daily Value)\": 42, \"Trans Fat\": 0.0, \"Cholesterol\": 45, \"Cholesterol (% Daily Value)\": 15, \"Sodium\": 780, \"Sodium (% Daily Value)\": 33, \"Carbohydrates\": 29, \"Carbohydrates (% Daily Value)\": 10, \"Dietary Fiber\": 4, \"Dietary Fiber (% Daily Value)\": 17, \"Sugars\": 2, \"Protein\": 14, \"Vitamin A (% Daily Value)\": 8, \"Vitamin C (% Daily Value)\": 0, \"Calcium (% Daily Value)\": 25, \"Iron (% Daily Value)\": 10, \"Prediction\": \"Snacks & Sides\"}, {\"Category\": \"Breakfast\", \"Item\": \"Sausage McMuffin with Egg\", \"Serving Size\": \"5.7 oz (161 g)\", \"Calories\": 450, \"Calories from Fat\": 250, \"Total Fat\": 28.0, \"Total Fat (% Daily Value)\": 43, \"Saturated Fat\": 10.0, \"Saturated Fat (% Daily Value)\": 52, \"Trans Fat\": 0.0, \"Cholesterol\": 285, \"Cholesterol (% Daily Value)\": 95, \"Sodium\": 860, \"Sodium (% Daily Value)\": 36, \"Carbohydrates\": 30, \"Carbohydrates (% Daily Value)\": 10, \"Dietary Fiber\": 4, \"Dietary Fiber (% Daily Value)\": 17, \"Sugars\": 2, \"Protein\": 21, \"Vitamin A (% Daily Value)\": 15, \"Vitamin C (% Daily Value)\": 0, \"Calcium (% Daily Value)\": 30, \"Iron (% Daily Value)\": 15, \"Prediction\": \"Breakfast\"}, {\"Category\": \"Breakfast\", \"Item\": \"Sausage McMuffin with Egg Whites\", \"Serving Size\": \"5.7 oz (161 g)\", \"Calories\": 400, \"Calories from Fat\": 210, \"Total Fat\": 23.0, \"Total Fat (% Daily Value)\": 35, \"Saturated Fat\": 8.0, \"Saturated Fat (% Daily Value)\": 42, \"Trans Fat\": 0.0, \"Cholesterol\": 50, \"Cholesterol (% Daily Value)\": 16, \"Sodium\": 880, \"Sodium (% Daily Value)\": 37, \"Carbohydrates\": 30, \"Carbohydrates (% Daily Value)\": 10, \"Dietary Fiber\": 4, \"Dietary Fiber (% Daily Value)\": 17, \"Sugars\": 2, \"Protein\": 21, \"Vitamin A (% Daily Value)\": 6, \"Vitamin C (% Daily Value)\": 0, \"Calcium (% Daily Value)\": 25, \"Iron (% Daily Value)\": 10, \"Prediction\": \"Beef & Pork\"}, {\"Category\": \"Breakfast\", \"Item\": \"Steak & Egg McMuffin\", \"Serving Size\": \"6.5 oz (185 g)\", \"Calories\": 430, \"Calories from Fat\": 210, \"Total Fat\": 23.0, \"Total Fat (% Daily Value)\": 36, \"Saturated Fat\": 9.0, \"Saturated Fat (% Daily Value)\": 46, \"Trans Fat\": 1.0, \"Cholesterol\": 300, \"Cholesterol (% Daily Value)\": 100, \"Sodium\": 960, \"Sodium (% Daily Value)\": 40, \"Carbohydrates\": 31, \"Carbohydrates (% Daily Value)\": 10, \"Dietary Fiber\": 4, \"Dietary Fiber (% Daily Value)\": 18, \"Sugars\": 3, \"Protein\": 26, \"Vitamin A (% Daily Value)\": 15, \"Vitamin C (% Daily Value)\": 2, \"Calcium (% Daily Value)\": 30, \"Iron (% Daily Value)\": 20, \"Prediction\": \"Breakfast\"}, {\"Category\": \"Breakfast\", \"Item\": \"Bacon, Egg & Cheese Biscuit (Regular Biscuit)\", \"Serving Size\": \"5.3 oz (150 g)\", \"Calories\": 460, \"Calories from Fat\": 230, \"Total Fat\": 26.0, \"Total Fat (% Daily Value)\": 40, \"Saturated Fat\": 13.0, \"Saturated Fat (% Daily Value)\": 65, \"Trans Fat\": 0.0, \"Cholesterol\": 250, \"Cholesterol (% Daily Value)\": 83, \"Sodium\": 1300, \"Sodium (% Daily Value)\": 54, \"Carbohydrates\": 38, \"Carbohydrates (% Daily Value)\": 13, \"Dietary Fiber\": 2, \"Dietary Fiber (% Daily Value)\": 7, \"Sugars\": 3, \"Protein\": 19, \"Vitamin A (% Daily Value)\": 10, \"Vitamin C (% Daily Value)\": 8, \"Calcium (% Daily Value)\": 15, \"Iron (% Daily Value)\": 15, \"Prediction\": \"Breakfast\"}, {\"Category\": \"Breakfast\", \"Item\": \"Bacon, Egg & Cheese Biscuit (Large Biscuit)\", \"Serving Size\": \"5.8 oz (164 g)\", \"Calories\": 520, \"Calories from Fat\": 270, \"Total Fat\": 30.0, \"Total Fat (% Daily Value)\": 47, \"Saturated Fat\": 14.0, \"Saturated Fat (% Daily Value)\": 68, \"Trans Fat\": 0.0, \"Cholesterol\": 250, \"Cholesterol (% Daily Value)\": 83, \"Sodium\": 1410, \"Sodium (% Daily Value)\": 59, \"Carbohydrates\": 43, \"Carbohydrates (% Daily Value)\": 14, \"Dietary Fiber\": 3, \"Dietary Fiber (% Daily Value)\": 12, \"Sugars\": 4, \"Protein\": 19, \"Vitamin A (% Daily Value)\": 15, \"Vitamin C (% Daily Value)\": 8, \"Calcium (% Daily Value)\": 20, \"Iron (% Daily Value)\": 20, \"Prediction\": \"Breakfast\"}, {\"Category\": \"Breakfast\", \"Item\": \"Bacon, Egg & Cheese Biscuit with Egg Whites (Regular Biscuit)\", \"Serving Size\": \"5.4 oz (153 g)\", \"Calories\": 410, \"Calories from Fat\": 180, \"Total Fat\": 20.0, \"Total Fat (% Daily Value)\": 32, \"Saturated Fat\": 11.0, \"Saturated Fat (% Daily Value)\": 56, \"Trans Fat\": 0.0, \"Cholesterol\": 35, \"Cholesterol (% Daily Value)\": 11, \"Sodium\": 1300, \"Sodium (% Daily Value)\": 54, \"Carbohydrates\": 36, \"Carbohydrates (% Daily Value)\": 12, \"Dietary Fiber\": 2, \"Dietary Fiber (% Daily Value)\": 7, \"Sugars\": 3, \"Protein\": 20, \"Vitamin A (% Daily Value)\": 2, \"Vitamin C (% Daily Value)\": 8, \"Calcium (% Daily Value)\": 15, \"Iron (% Daily Value)\": 10, \"Prediction\": \"Breakfast\"}, {\"Category\": \"Breakfast\", \"Item\": \"Bacon, Egg & Cheese Biscuit with Egg Whites (Large Biscuit)\", \"Serving Size\": \"5.9 oz (167 g)\", \"Calories\": 470, \"Calories from Fat\": 220, \"Total Fat\": 25.0, \"Total Fat (% Daily Value)\": 38, \"Saturated Fat\": 12.0, \"Saturated Fat (% Daily Value)\": 59, \"Trans Fat\": 0.0, \"Cholesterol\": 35, \"Cholesterol (% Daily Value)\": 11, \"Sodium\": 1420, \"Sodium (% Daily Value)\": 59, \"Carbohydrates\": 42, \"Carbohydrates (% Daily Value)\": 14, \"Dietary Fiber\": 3, \"Dietary Fiber (% Daily Value)\": 12, \"Sugars\": 4, \"Protein\": 20, \"Vitamin A (% Daily Value)\": 6, \"Vitamin C (% Daily Value)\": 8, \"Calcium (% Daily Value)\": 15, \"Iron (% Daily Value)\": 15, \"Prediction\": \"Breakfast\"}, {\"Category\": \"Breakfast\", \"Item\": \"Sausage Biscuit (Regular Biscuit)\", \"Serving Size\": \"4.1 oz (117 g)\", \"Calories\": 430, \"Calories from Fat\": 240, \"Total Fat\": 27.0, \"Total Fat (% Daily Value)\": 42, \"Saturated Fat\": 12.0, \"Saturated Fat (% Daily Value)\": 62, \"Trans Fat\": 0.0, \"Cholesterol\": 30, \"Cholesterol (% Daily Value)\": 10, \"Sodium\": 1080, \"Sodium (% Daily Value)\": 45, \"Carbohydrates\": 34, \"Carbohydrates (% Daily Value)\": 11, \"Dietary Fiber\": 2, \"Dietary Fiber (% Daily Value)\": 6, \"Sugars\": 2, \"Protein\": 11, \"Vitamin A (% Daily Value)\": 0, \"Vitamin C (% Daily Value)\": 0, \"Calcium (% Daily Value)\": 6, \"Iron (% Daily Value)\": 15, \"Prediction\": \"Breakfast\"}, {\"Category\": \"Breakfast\", \"Item\": \"Sausage Biscuit (Large Biscuit)\", \"Serving Size\": \"4.6 oz (131 g)\", \"Calories\": 480, \"Calories from Fat\": 280, \"Total Fat\": 31.0, \"Total Fat (% Daily Value)\": 48, \"Saturated Fat\": 13.0, \"Saturated Fat (% Daily Value)\": 65, \"Trans Fat\": 0.0, \"Cholesterol\": 30, \"Cholesterol (% Daily Value)\": 10, \"Sodium\": 1190, \"Sodium (% Daily Value)\": 50, \"Carbohydrates\": 39, \"Carbohydrates (% Daily Value)\": 13, \"Dietary Fiber\": 3, \"Dietary Fiber (% Daily Value)\": 11, \"Sugars\": 3, \"Protein\": 11, \"Vitamin A (% Daily Value)\": 4, \"Vitamin C (% Daily Value)\": 0, \"Calcium (% Daily Value)\": 8, \"Iron (% Daily Value)\": 15, \"Prediction\": \"Chicken & Fish\"}, {\"Category\": \"Breakfast\", \"Item\": \"Sausage Biscuit with Egg (Regular Biscuit)\", \"Serving Size\": \"5.7 oz (163 g)\", \"Calories\": 510, \"Calories from Fat\": 290, \"Total Fat\": 33.0, \"Total Fat (% Daily Value)\": 50, \"Saturated Fat\": 14.0, \"Saturated Fat (% Daily Value)\": 71, \"Trans Fat\": 0.0, \"Cholesterol\": 250, \"Cholesterol (% Daily Value)\": 83, \"Sodium\": 1170, \"Sodium (% Daily Value)\": 49, \"Carbohydrates\": 36, \"Carbohydrates (% Daily Value)\": 12, \"Dietary Fiber\": 2, \"Dietary Fiber (% Daily Value)\": 6, \"Sugars\": 2, \"Protein\": 18, \"Vitamin A (% Daily Value)\": 6, \"Vitamin C (% Daily Value)\": 0, \"Calcium (% Daily Value)\": 10, \"Iron (% Daily Value)\": 20, \"Prediction\": \"Chicken & Fish\"}, {\"Category\": \"Breakfast\", \"Item\": \"Sausage Biscuit with Egg (Large Biscuit)\", \"Serving Size\": \"6.2 oz (177 g)\", \"Calories\": 570, \"Calories from Fat\": 330, \"Total Fat\": 37.0, \"Total Fat (% Daily Value)\": 57, \"Saturated Fat\": 15.0, \"Saturated Fat (% Daily Value)\": 74, \"Trans Fat\": 0.0, \"Cholesterol\": 250, \"Cholesterol (% Daily Value)\": 83, \"Sodium\": 1280, \"Sodium (% Daily Value)\": 53, \"Carbohydrates\": 42, \"Carbohydrates (% Daily Value)\": 14, \"Dietary Fiber\": 3, \"Dietary Fiber (% Daily Value)\": 11, \"Sugars\": 3, \"Protein\": 18, \"Vitamin A (% Daily Value)\": 10, \"Vitamin C (% Daily Value)\": 0, \"Calcium (% Daily Value)\": 10, \"Iron (% Daily Value)\": 20, \"Prediction\": \"Breakfast\"}, {\"Category\": \"Breakfast\", \"Item\": \"Sausage Biscuit with Egg Whites (Regular Biscuit)\", \"Serving Size\": \"5.9 oz (167 g)\", \"Calories\": 460, \"Calories from Fat\": 250, \"Total Fat\": 27.0, \"Total Fat (% Daily Value)\": 42, \"Saturated Fat\": 12.0, \"Saturated Fat (% Daily Value)\": 62, \"Trans Fat\": 0.0, \"Cholesterol\": 35, \"Cholesterol (% Daily Value)\": 11, \"Sodium\": 1180, \"Sodium (% Daily Value)\": 49, \"Carbohydrates\": 34, \"Carbohydrates (% Daily Value)\": 11, \"Dietary Fiber\": 2, \"Dietary Fiber (% Daily Value)\": 6, \"Sugars\": 3, \"Protein\": 18, \"Vitamin A (% Daily Value)\": 0, \"Vitamin C (% Daily Value)\": 0, \"Calcium (% Daily Value)\": 8, \"Iron (% Daily Value)\": 15, \"Prediction\": \"Breakfast\"}, {\"Category\": \"Breakfast\", \"Item\": \"Sausage Biscuit with Egg Whites (Large Biscuit)\", \"Serving Size\": \"6.4 oz (181 g)\", \"Calories\": 520, \"Calories from Fat\": 280, \"Total Fat\": 32.0, \"Total Fat (% Daily Value)\": 49, \"Saturated Fat\": 13.0, \"Saturated Fat (% Daily Value)\": 65, \"Trans Fat\": 0.0, \"Cholesterol\": 35, \"Cholesterol (% Daily Value)\": 11, \"Sodium\": 1290, \"Sodium (% Daily Value)\": 54, \"Carbohydrates\": 40, \"Carbohydrates (% Daily Value)\": 13, \"Dietary Fiber\": 3, \"Dietary Fiber (% Daily Value)\": 11, \"Sugars\": 3, \"Protein\": 18, \"Vitamin A (% Daily Value)\": 4, \"Vitamin C (% Daily Value)\": 0, \"Calcium (% Daily Value)\": 8, \"Iron (% Daily Value)\": 15, \"Prediction\": \"Breakfast\"}, {\"Category\": \"Breakfast\", \"Item\": \"Southern Style Chicken Biscuit (Regular Biscuit)\", \"Serving Size\": \"5 oz (143 g)\", \"Calories\": 410, \"Calories from Fat\": 180, \"Total Fat\": 20.0, \"Total Fat (% Daily Value)\": 31, \"Saturated Fat\": 8.0, \"Saturated Fat (% Daily Value)\": 41, \"Trans Fat\": 0.0, \"Cholesterol\": 30, \"Cholesterol (% Daily Value)\": 10, \"Sodium\": 1180, \"Sodium (% Daily Value)\": 49, \"Carbohydrates\": 41, \"Carbohydrates (% Daily Value)\": 14, \"Dietary Fiber\": 2, \"Dietary Fiber (% Daily Value)\": 6, \"Sugars\": 3, \"Protein\": 17, \"Vitamin A (% Daily Value)\": 0, \"Vitamin C (% Daily Value)\": 2, \"Calcium (% Daily Value)\": 6, \"Iron (% Daily Value)\": 15, \"Prediction\": \"Breakfast\"}, {\"Category\": \"Breakfast\", \"Item\": \"Southern Style Chicken Biscuit (Large Biscuit)\", \"Serving Size\": \"5.5 oz (157 g)\", \"Calories\": 470, \"Calories from Fat\": 220, \"Total Fat\": 24.0, \"Total Fat (% Daily Value)\": 37, \"Saturated Fat\": 9.0, \"Saturated Fat (% Daily Value)\": 45, \"Trans Fat\": 0.0, \"Cholesterol\": 30, \"Cholesterol (% Daily Value)\": 10, \"Sodium\": 1290, \"Sodium (% Daily Value)\": 54, \"Carbohydrates\": 46, \"Carbohydrates (% Daily Value)\": 15, \"Dietary Fiber\": 3, \"Dietary Fiber (% Daily Value)\": 11, \"Sugars\": 4, \"Protein\": 17, \"Vitamin A (% Daily Value)\": 4, \"Vitamin C (% Daily Value)\": 2, \"Calcium (% Daily Value)\": 8, \"Iron (% Daily Value)\": 15, \"Prediction\": \"Breakfast\"}, {\"Category\": \"Breakfast\", \"Item\": \"Steak & Egg Biscuit (Regular Biscuit)\", \"Serving Size\": \"7.1 oz (201 g)\", \"Calories\": 540, \"Calories from Fat\": 290, \"Total Fat\": 32.0, \"Total Fat (% Daily Value)\": 49, \"Saturated Fat\": 16.0, \"Saturated Fat (% Daily Value)\": 78, \"Trans Fat\": 1.0, \"Cholesterol\": 280, \"Cholesterol (% Daily Value)\": 93, \"Sodium\": 1470, \"Sodium (% Daily Value)\": 61, \"Carbohydrates\": 38, \"Carbohydrates (% Daily Value)\": 13, \"Dietary Fiber\": 2, \"Dietary Fiber (% Daily Value)\": 8, \"Sugars\": 3, \"Protein\": 25, \"Vitamin A (% Daily Value)\": 10, \"Vitamin C (% Daily Value)\": 2, \"Calcium (% Daily Value)\": 20, \"Iron (% Daily Value)\": 25, \"Prediction\": \"Breakfast\"}, {\"Category\": \"Breakfast\", \"Item\": \"Bacon, Egg & Cheese McGriddles\", \"Serving Size\": \"6.1 oz (174 g)\", \"Calories\": 460, \"Calories from Fat\": 190, \"Total Fat\": 21.0, \"Total Fat (% Daily Value)\": 32, \"Saturated Fat\": 9.0, \"Saturated Fat (% Daily Value)\": 44, \"Trans Fat\": 0.0, \"Cholesterol\": 250, \"Cholesterol (% Daily Value)\": 84, \"Sodium\": 1250, \"Sodium (% Daily Value)\": 52, \"Carbohydrates\": 48, \"Carbohydrates (% Daily Value)\": 16, \"Dietary Fiber\": 2, \"Dietary Fiber (% Daily Value)\": 9, \"Sugars\": 15, \"Protein\": 19, \"Vitamin A (% Daily Value)\": 10, \"Vitamin C (% Daily Value)\": 10, \"Calcium (% Daily Value)\": 20, \"Iron (% Daily Value)\": 15, \"Prediction\": \"Breakfast\"}, {\"Category\": \"Breakfast\", \"Item\": \"Bacon, Egg & Cheese McGriddles with Egg Whites\", \"Serving Size\": \"6.3 oz (178 g)\", \"Calories\": 400, \"Calories from Fat\": 140, \"Total Fat\": 15.0, \"Total Fat (% Daily Value)\": 24, \"Saturated Fat\": 7.0, \"Saturated Fat (% Daily Value)\": 34, \"Trans Fat\": 0.0, \"Cholesterol\": 35, \"Cholesterol (% Daily Value)\": 11, \"Sodium\": 1250, \"Sodium (% Daily Value)\": 52, \"Carbohydrates\": 47, \"Carbohydrates (% Daily Value)\": 16, \"Dietary Fiber\": 2, \"Dietary Fiber (% Daily Value)\": 9, \"Sugars\": 16, \"Protein\": 20, \"Vitamin A (% Daily Value)\": 2, \"Vitamin C (% Daily Value)\": 10, \"Calcium (% Daily Value)\": 15, \"Iron (% Daily Value)\": 10, \"Prediction\": \"Breakfast\"}, {\"Category\": \"Breakfast\", \"Item\": \"Sausage McGriddles\", \"Serving Size\": \"5 oz (141 g)\", \"Calories\": 420, \"Calories from Fat\": 200, \"Total Fat\": 22.0, \"Total Fat (% Daily Value)\": 34, \"Saturated Fat\": 8.0, \"Saturated Fat (% Daily Value)\": 40, \"Trans Fat\": 0.0, \"Cholesterol\": 35, \"Cholesterol (% Daily Value)\": 11, \"Sodium\": 1030, \"Sodium (% Daily Value)\": 43, \"Carbohydrates\": 44, \"Carbohydrates (% Daily Value)\": 15, \"Dietary Fiber\": 2, \"Dietary Fiber (% Daily Value)\": 8, \"Sugars\": 15, \"Protein\": 11, \"Vitamin A (% Daily Value)\": 0, \"Vitamin C (% Daily Value)\": 0, \"Calcium (% Daily Value)\": 8, \"Iron (% Daily Value)\": 10, \"Prediction\": \"Breakfast\"}, {\"Category\": \"Breakfast\", \"Item\": \"Sausage, Egg & Cheese McGriddles\", \"Serving Size\": \"7.1 oz (201 g)\", \"Calories\": 550, \"Calories from Fat\": 280, \"Total Fat\": 31.0, \"Total Fat (% Daily Value)\": 48, \"Saturated Fat\": 12.0, \"Saturated Fat (% Daily Value)\": 61, \"Trans Fat\": 0.0, \"Cholesterol\": 265, \"Cholesterol (% Daily Value)\": 89, \"Sodium\": 1320, \"Sodium (% Daily Value)\": 55, \"Carbohydrates\": 48, \"Carbohydrates (% Daily Value)\": 16, \"Dietary Fiber\": 2, \"Dietary Fiber (% Daily Value)\": 9, \"Sugars\": 15, \"Protein\": 20, \"Vitamin A (% Daily Value)\": 10, \"Vitamin C (% Daily Value)\": 0, \"Calcium (% Daily Value)\": 20, \"Iron (% Daily Value)\": 15, \"Prediction\": \"Breakfast\"}, {\"Category\": \"Breakfast\", \"Item\": \"Sausage, Egg & Cheese McGriddles with Egg Whites\", \"Serving Size\": \"7.2 oz (205 g)\", \"Calories\": 500, \"Calories from Fat\": 230, \"Total Fat\": 26.0, \"Total Fat (% Daily Value)\": 40, \"Saturated Fat\": 10.0, \"Saturated Fat (% Daily Value)\": 52, \"Trans Fat\": 0.0, \"Cholesterol\": 50, \"Cholesterol (% Daily Value)\": 17, \"Sodium\": 1320, \"Sodium (% Daily Value)\": 55, \"Carbohydrates\": 46, \"Carbohydrates (% Daily Value)\": 15, \"Dietary Fiber\": 2, \"Dietary Fiber (% Daily Value)\": 9, \"Sugars\": 15, \"Protein\": 21, \"Vitamin A (% Daily Value)\": 2, \"Vitamin C (% Daily Value)\": 0, \"Calcium (% Daily Value)\": 20, \"Iron (% Daily Value)\": 10, \"Prediction\": \"Breakfast\"}, {\"Category\": \"Breakfast\", \"Item\": \"Bacon, Egg & Cheese Bagel\", \"Serving Size\": \"6.9 oz (197 g)\", \"Calories\": 620, \"Calories from Fat\": 280, \"Total Fat\": 31.0, \"Total Fat (% Daily Value)\": 48, \"Saturated Fat\": 11.0, \"Saturated Fat (% Daily Value)\": 56, \"Trans Fat\": 0.5, \"Cholesterol\": 275, \"Cholesterol (% Daily Value)\": 92, \"Sodium\": 1480, \"Sodium (% Daily Value)\": 62, \"Carbohydrates\": 57, \"Carbohydrates (% Daily Value)\": 19, \"Dietary Fiber\": 3, \"Dietary Fiber (% Daily Value)\": 11, \"Sugars\": 7, \"Protein\": 30, \"Vitamin A (% Daily Value)\": 20, \"Vitamin C (% Daily Value)\": 15, \"Calcium (% Daily Value)\": 20, \"Iron (% Daily Value)\": 20, \"Prediction\": \"Breakfast\"}, {\"Category\": \"Breakfast\", \"Item\": \"Bacon, Egg & Cheese Bagel with Egg Whites\", \"Serving Size\": \"7.1 oz (201 g)\", \"Calories\": 570, \"Calories from Fat\": 230, \"Total Fat\": 25.0, \"Total Fat (% Daily Value)\": 39, \"Saturated Fat\": 9.0, \"Saturated Fat (% Daily Value)\": 45, \"Trans Fat\": 0.5, \"Cholesterol\": 60, \"Cholesterol (% Daily Value)\": 20, \"Sodium\": 1480, \"Sodium (% Daily Value)\": 62, \"Carbohydrates\": 55, \"Carbohydrates (% Daily Value)\": 18, \"Dietary Fiber\": 3, \"Dietary Fiber (% Daily Value)\": 12, \"Sugars\": 8, \"Protein\": 30, \"Vitamin A (% Daily Value)\": 10, \"Vitamin C (% Daily Value)\": 15, \"Calcium (% Daily Value)\": 20, \"Iron (% Daily Value)\": 15, \"Prediction\": \"Breakfast\"}, {\"Category\": \"Breakfast\", \"Item\": \"Steak, Egg & Cheese Bagel\", \"Serving Size\": \"8.5 oz (241 g)\", \"Calories\": 670, \"Calories from Fat\": 310, \"Total Fat\": 35.0, \"Total Fat (% Daily Value)\": 53, \"Saturated Fat\": 13.0, \"Saturated Fat (% Daily Value)\": 63, \"Trans Fat\": 1.5, \"Cholesterol\": 295, \"Cholesterol (% Daily Value)\": 99, \"Sodium\": 1510, \"Sodium (% Daily Value)\": 63, \"Carbohydrates\": 56, \"Carbohydrates (% Daily Value)\": 19, \"Dietary Fiber\": 3, \"Dietary Fiber (% Daily Value)\": 12, \"Sugars\": 7, \"Protein\": 33, \"Vitamin A (% Daily Value)\": 20, \"Vitamin C (% Daily Value)\": 4, \"Calcium (% Daily Value)\": 25, \"Iron (% Daily Value)\": 25, \"Prediction\": \"Breakfast\"}, {\"Category\": \"Breakfast\", \"Item\": \"Big Breakfast (Regular Biscuit)\", \"Serving Size\": \"9.5 oz (269 g)\", \"Calories\": 740, \"Calories from Fat\": 430, \"Total Fat\": 48.0, \"Total Fat (% Daily Value)\": 73, \"Saturated Fat\": 17.0, \"Saturated Fat (% Daily Value)\": 87, \"Trans Fat\": 0.0, \"Cholesterol\": 555, \"Cholesterol (% Daily Value)\": 185, \"Sodium\": 1560, \"Sodium (% Daily Value)\": 65, \"Carbohydrates\": 51, \"Carbohydrates (% Daily Value)\": 17, \"Dietary Fiber\": 3, \"Dietary Fiber (% Daily Value)\": 12, \"Sugars\": 3, \"Protein\": 28, \"Vitamin A (% Daily Value)\": 15, \"Vitamin C (% Daily Value)\": 2, \"Calcium (% Daily Value)\": 15, \"Iron (% Daily Value)\": 25, \"Prediction\": \"Breakfast\"}, {\"Category\": \"Breakfast\", \"Item\": \"Big Breakfast (Large Biscuit)\", \"Serving Size\": \"10 oz (283 g)\", \"Calories\": 800, \"Calories from Fat\": 470, \"Total Fat\": 52.0, \"Total Fat (% Daily Value)\": 80, \"Saturated Fat\": 18.0, \"Saturated Fat (% Daily Value)\": 90, \"Trans Fat\": 0.0, \"Cholesterol\": 555, \"Cholesterol (% Daily Value)\": 185, \"Sodium\": 1680, \"Sodium (% Daily Value)\": 70, \"Carbohydrates\": 56, \"Carbohydrates (% Daily Value)\": 19, \"Dietary Fiber\": 4, \"Dietary Fiber (% Daily Value)\": 17, \"Sugars\": 3, \"Protein\": 28, \"Vitamin A (% Daily Value)\": 15, \"Vitamin C (% Daily Value)\": 2, \"Calcium (% Daily Value)\": 15, \"Iron (% Daily Value)\": 30, \"Prediction\": \"Breakfast\"}, {\"Category\": \"Breakfast\", \"Item\": \"Big Breakfast with Egg Whites (Regular Biscuit)\", \"Serving Size\": \"9.6 oz (272 g)\", \"Calories\": 640, \"Calories from Fat\": 330, \"Total Fat\": 37.0, \"Total Fat (% Daily Value)\": 57, \"Saturated Fat\": 14.0, \"Saturated Fat (% Daily Value)\": 69, \"Trans Fat\": 0.0, \"Cholesterol\": 35, \"Cholesterol (% Daily Value)\": 12, \"Sodium\": 1590, \"Sodium (% Daily Value)\": 66, \"Carbohydrates\": 50, \"Carbohydrates (% Daily Value)\": 17, \"Dietary Fiber\": 3, \"Dietary Fiber (% Daily Value)\": 12, \"Sugars\": 3, \"Protein\": 26, \"Vitamin A (% Daily Value)\": 0, \"Vitamin C (% Daily Value)\": 2, \"Calcium (% Daily Value)\": 10, \"Iron (% Daily Value)\": 15, \"Prediction\": \"Breakfast\"}, {\"Category\": \"Breakfast\", \"Item\": \"Big Breakfast with Egg Whites (Large Biscuit)\", \"Serving Size\": \"10.1 oz (286 g)\", \"Calories\": 690, \"Calories from Fat\": 370, \"Total Fat\": 41.0, \"Total Fat (% Daily Value)\": 63, \"Saturated Fat\": 14.0, \"Saturated Fat (% Daily Value)\": 72, \"Trans Fat\": 0.0, \"Cholesterol\": 35, \"Cholesterol (% Daily Value)\": 12, \"Sodium\": 1700, \"Sodium (% Daily Value)\": 71, \"Carbohydrates\": 55, \"Carbohydrates (% Daily Value)\": 18, \"Dietary Fiber\": 4, \"Dietary Fiber (% Daily Value)\": 17, \"Sugars\": 4, \"Protein\": 26, \"Vitamin A (% Daily Value)\": 4, \"Vitamin C (% Daily Value)\": 2, \"Calcium (% Daily Value)\": 10, \"Iron (% Daily Value)\": 15, \"Prediction\": \"Breakfast\"}, {\"Category\": \"Breakfast\", \"Item\": \"Big Breakfast with Hotcakes (Regular Biscuit)\", \"Serving Size\": \"14.8 oz (420 g)\", \"Calories\": 1090, \"Calories from Fat\": 510, \"Total Fat\": 56.0, \"Total Fat (% Daily Value)\": 87, \"Saturated Fat\": 19.0, \"Saturated Fat (% Daily Value)\": 96, \"Trans Fat\": 0.0, \"Cholesterol\": 575, \"Cholesterol (% Daily Value)\": 192, \"Sodium\": 2150, \"Sodium (% Daily Value)\": 90, \"Carbohydrates\": 111, \"Carbohydrates (% Daily Value)\": 37, \"Dietary Fiber\": 6, \"Dietary Fiber (% Daily Value)\": 23, \"Sugars\": 17, \"Protein\": 36, \"Vitamin A (% Daily Value)\": 15, \"Vitamin C (% Daily Value)\": 2, \"Calcium (% Daily Value)\": 25, \"Iron (% Daily Value)\": 40, \"Prediction\": \"Breakfast\"}, {\"Category\": \"Breakfast\", \"Item\": \"Big Breakfast with Hotcakes (Large Biscuit)\", \"Serving Size\": \"15.3 oz (434 g)\", \"Calories\": 1150, \"Calories from Fat\": 540, \"Total Fat\": 60.0, \"Total Fat (% Daily Value)\": 93, \"Saturated Fat\": 20.0, \"Saturated Fat (% Daily Value)\": 100, \"Trans Fat\": 0.0, \"Cholesterol\": 575, \"Cholesterol (% Daily Value)\": 192, \"Sodium\": 2260, \"Sodium (% Daily Value)\": 94, \"Carbohydrates\": 116, \"Carbohydrates (% Daily Value)\": 39, \"Dietary Fiber\": 7, \"Dietary Fiber (% Daily Value)\": 28, \"Sugars\": 17, \"Protein\": 36, \"Vitamin A (% Daily Value)\": 15, \"Vitamin C (% Daily Value)\": 2, \"Calcium (% Daily Value)\": 30, \"Iron (% Daily Value)\": 40, \"Prediction\": \"Breakfast\"}, {\"Category\": \"Breakfast\", \"Item\": \"Big Breakfast with Hotcakes and Egg Whites (Regular Biscuit)\", \"Serving Size\": \"14.9 oz (423 g)\", \"Calories\": 990, \"Calories from Fat\": 410, \"Total Fat\": 46.0, \"Total Fat (% Daily Value)\": 70, \"Saturated Fat\": 16.0, \"Saturated Fat (% Daily Value)\": 78, \"Trans Fat\": 0.0, \"Cholesterol\": 55, \"Cholesterol (% Daily Value)\": 19, \"Sodium\": 2170, \"Sodium (% Daily Value)\": 91, \"Carbohydrates\": 110, \"Carbohydrates (% Daily Value)\": 37, \"Dietary Fiber\": 6, \"Dietary Fiber (% Daily Value)\": 23, \"Sugars\": 17, \"Protein\": 35, \"Vitamin A (% Daily Value)\": 0, \"Vitamin C (% Daily Value)\": 2, \"Calcium (% Daily Value)\": 25, \"Iron (% Daily Value)\": 30, \"Prediction\": \"Breakfast\"}, {\"Category\": \"Breakfast\", \"Item\": \"Big Breakfast with Hotcakes and Egg Whites (Large Biscuit)\", \"Serving Size\": \"15.4 oz (437 g)\", \"Calories\": 1050, \"Calories from Fat\": 450, \"Total Fat\": 50.0, \"Total Fat (% Daily Value)\": 77, \"Saturated Fat\": 16.0, \"Saturated Fat (% Daily Value)\": 81, \"Trans Fat\": 0.0, \"Cholesterol\": 55, \"Cholesterol (% Daily Value)\": 19, \"Sodium\": 2290, \"Sodium (% Daily Value)\": 95, \"Carbohydrates\": 115, \"Carbohydrates (% Daily Value)\": 38, \"Dietary Fiber\": 7, \"Dietary Fiber (% Daily Value)\": 28, \"Sugars\": 18, \"Protein\": 35, \"Vitamin A (% Daily Value)\": 4, \"Vitamin C (% Daily Value)\": 2, \"Calcium (% Daily Value)\": 25, \"Iron (% Daily Value)\": 30, \"Prediction\": \"Breakfast\"}, {\"Category\": \"Breakfast\", \"Item\": \"Hotcakes\", \"Serving Size\": \"5.3 oz (151 g)\", \"Calories\": 350, \"Calories from Fat\": 80, \"Total Fat\": 9.0, \"Total Fat (% Daily Value)\": 13, \"Saturated Fat\": 2.0, \"Saturated Fat (% Daily Value)\": 9, \"Trans Fat\": 0.0, \"Cholesterol\": 20, \"Cholesterol (% Daily Value)\": 7, \"Sodium\": 590, \"Sodium (% Daily Value)\": 24, \"Carbohydrates\": 60, \"Carbohydrates (% Daily Value)\": 20, \"Dietary Fiber\": 3, \"Dietary Fiber (% Daily Value)\": 10, \"Sugars\": 14, \"Protein\": 8, \"Vitamin A (% Daily Value)\": 0, \"Vitamin C (% Daily Value)\": 0, \"Calcium (% Daily Value)\": 15, \"Iron (% Daily Value)\": 15, \"Prediction\": \"Snacks & Sides\"}, {\"Category\": \"Breakfast\", \"Item\": \"Hotcakes and Sausage\", \"Serving Size\": \"6.8 oz (192 g)\", \"Calories\": 520, \"Calories from Fat\": 210, \"Total Fat\": 24.0, \"Total Fat (% Daily Value)\": 37, \"Saturated Fat\": 7.0, \"Saturated Fat (% Daily Value)\": 36, \"Trans Fat\": 0.0, \"Cholesterol\": 50, \"Cholesterol (% Daily Value)\": 17, \"Sodium\": 930, \"Sodium (% Daily Value)\": 39, \"Carbohydrates\": 61, \"Carbohydrates (% Daily Value)\": 20, \"Dietary Fiber\": 3, \"Dietary Fiber (% Daily Value)\": 10, \"Sugars\": 14, \"Protein\": 15, \"Vitamin A (% Daily Value)\": 0, \"Vitamin C (% Daily Value)\": 0, \"Calcium (% Daily Value)\": 15, \"Iron (% Daily Value)\": 15, \"Prediction\": \"Beef & Pork\"}, {\"Category\": \"Breakfast\", \"Item\": \"Sausage Burrito\", \"Serving Size\": \"3.9 oz (111 g)\", \"Calories\": 300, \"Calories from Fat\": 150, \"Total Fat\": 16.0, \"Total Fat (% Daily Value)\": 25, \"Saturated Fat\": 7.0, \"Saturated Fat (% Daily Value)\": 33, \"Trans Fat\": 0.0, \"Cholesterol\": 115, \"Cholesterol (% Daily Value)\": 38, \"Sodium\": 790, \"Sodium (% Daily Value)\": 33, \"Carbohydrates\": 26, \"Carbohydrates (% Daily Value)\": 9, \"Dietary Fiber\": 1, \"Dietary Fiber (% Daily Value)\": 5, \"Sugars\": 2, \"Protein\": 12, \"Vitamin A (% Daily Value)\": 10, \"Vitamin C (% Daily Value)\": 2, \"Calcium (% Daily Value)\": 15, \"Iron (% Daily Value)\": 15, \"Prediction\": \"Chicken & Fish\"}, {\"Category\": \"Breakfast\", \"Item\": \"Hash Brown\", \"Serving Size\": \"2 oz (56 g)\", \"Calories\": 150, \"Calories from Fat\": 80, \"Total Fat\": 9.0, \"Total Fat (% Daily Value)\": 14, \"Saturated Fat\": 1.5, \"Saturated Fat (% Daily Value)\": 6, \"Trans Fat\": 0.0, \"Cholesterol\": 0, \"Cholesterol (% Daily Value)\": 0, \"Sodium\": 310, \"Sodium (% Daily Value)\": 13, \"Carbohydrates\": 15, \"Carbohydrates (% Daily Value)\": 5, \"Dietary Fiber\": 2, \"Dietary Fiber (% Daily Value)\": 6, \"Sugars\": 0, \"Protein\": 1, \"Vitamin A (% Daily Value)\": 0, \"Vitamin C (% Daily Value)\": 2, \"Calcium (% Daily Value)\": 0, \"Iron (% Daily Value)\": 2, \"Prediction\": \"Coffee & Tea\"}, {\"Category\": \"Breakfast\", \"Item\": \"Cinnamon Melts\", \"Serving Size\": \"4 oz (114 g)\", \"Calories\": 460, \"Calories from Fat\": 170, \"Total Fat\": 19.0, \"Total Fat (% Daily Value)\": 30, \"Saturated Fat\": 9.0, \"Saturated Fat (% Daily Value)\": 43, \"Trans Fat\": 0.0, \"Cholesterol\": 15, \"Cholesterol (% Daily Value)\": 5, \"Sodium\": 370, \"Sodium (% Daily Value)\": 15, \"Carbohydrates\": 66, \"Carbohydrates (% Daily Value)\": 22, \"Dietary Fiber\": 3, \"Dietary Fiber (% Daily Value)\": 11, \"Sugars\": 32, \"Protein\": 6, \"Vitamin A (% Daily Value)\": 4, \"Vitamin C (% Daily Value)\": 0, \"Calcium (% Daily Value)\": 6, \"Iron (% Daily Value)\": 15, \"Prediction\": \"Breakfast\"}, {\"Category\": \"Breakfast\", \"Item\": \"Fruit & Maple Oatmeal\", \"Serving Size\": \"9.6 oz (251 g)\", \"Calories\": 290, \"Calories from Fat\": 35, \"Total Fat\": 4.0, \"Total Fat (% Daily Value)\": 6, \"Saturated Fat\": 1.5, \"Saturated Fat (% Daily Value)\": 8, \"Trans Fat\": 0.0, \"Cholesterol\": 5, \"Cholesterol (% Daily Value)\": 2, \"Sodium\": 160, \"Sodium (% Daily Value)\": 7, \"Carbohydrates\": 58, \"Carbohydrates (% Daily Value)\": 19, \"Dietary Fiber\": 5, \"Dietary Fiber (% Daily Value)\": 19, \"Sugars\": 32, \"Protein\": 5, \"Vitamin A (% Daily Value)\": 2, \"Vitamin C (% Daily Value)\": 130, \"Calcium (% Daily Value)\": 10, \"Iron (% Daily Value)\": 10, \"Prediction\": \"Coffee & Tea\"}, {\"Category\": \"Breakfast\", \"Item\": \"Fruit & Maple Oatmeal without Brown Sugar\", \"Serving Size\": \"9.6 oz (251 g)\", \"Calories\": 260, \"Calories from Fat\": 40, \"Total Fat\": 4.0, \"Total Fat (% Daily Value)\": 6, \"Saturated Fat\": 1.5, \"Saturated Fat (% Daily Value)\": 8, \"Trans Fat\": 0.0, \"Cholesterol\": 5, \"Cholesterol (% Daily Value)\": 2, \"Sodium\": 115, \"Sodium (% Daily Value)\": 5, \"Carbohydrates\": 49, \"Carbohydrates (% Daily Value)\": 16, \"Dietary Fiber\": 5, \"Dietary Fiber (% Daily Value)\": 22, \"Sugars\": 18, \"Protein\": 5, \"Vitamin A (% Daily Value)\": 2, \"Vitamin C (% Daily Value)\": 130, \"Calcium (% Daily Value)\": 6, \"Iron (% Daily Value)\": 10, \"Prediction\": \"Coffee & Tea\"}, {\"Category\": \"Beef & Pork\", \"Item\": \"Big Mac\", \"Serving Size\": \"7.4 oz (211 g)\", \"Calories\": 530, \"Calories from Fat\": 240, \"Total Fat\": 27.0, \"Total Fat (% Daily Value)\": 42, \"Saturated Fat\": 10.0, \"Saturated Fat (% Daily Value)\": 48, \"Trans Fat\": 1.0, \"Cholesterol\": 85, \"Cholesterol (% Daily Value)\": 28, \"Sodium\": 960, \"Sodium (% Daily Value)\": 40, \"Carbohydrates\": 47, \"Carbohydrates (% Daily Value)\": 16, \"Dietary Fiber\": 3, \"Dietary Fiber (% Daily Value)\": 13, \"Sugars\": 9, \"Protein\": 24, \"Vitamin A (% Daily Value)\": 6, \"Vitamin C (% Daily Value)\": 2, \"Calcium (% Daily Value)\": 25, \"Iron (% Daily Value)\": 25, \"Prediction\": \"Beef & Pork\"}, {\"Category\": \"Beef & Pork\", \"Item\": \"Quarter Pounder with Cheese\", \"Serving Size\": \"7.1 oz (202 g)\", \"Calories\": 520, \"Calories from Fat\": 240, \"Total Fat\": 26.0, \"Total Fat (% Daily Value)\": 41, \"Saturated Fat\": 12.0, \"Saturated Fat (% Daily Value)\": 61, \"Trans Fat\": 1.5, \"Cholesterol\": 95, \"Cholesterol (% Daily Value)\": 31, \"Sodium\": 1100, \"Sodium (% Daily Value)\": 46, \"Carbohydrates\": 41, \"Carbohydrates (% Daily Value)\": 14, \"Dietary Fiber\": 3, \"Dietary Fiber (% Daily Value)\": 11, \"Sugars\": 10, \"Protein\": 30, \"Vitamin A (% Daily Value)\": 10, \"Vitamin C (% Daily Value)\": 2, \"Calcium (% Daily Value)\": 30, \"Iron (% Daily Value)\": 25, \"Prediction\": \"Beef & Pork\"}, {\"Category\": \"Beef & Pork\", \"Item\": \"Quarter Pounder with Bacon & Cheese\", \"Serving Size\": \"8 oz (227 g)\", \"Calories\": 600, \"Calories from Fat\": 260, \"Total Fat\": 29.0, \"Total Fat (% Daily Value)\": 45, \"Saturated Fat\": 13.0, \"Saturated Fat (% Daily Value)\": 63, \"Trans Fat\": 1.5, \"Cholesterol\": 105, \"Cholesterol (% Daily Value)\": 34, \"Sodium\": 1440, \"Sodium (% Daily Value)\": 60, \"Carbohydrates\": 48, \"Carbohydrates (% Daily Value)\": 16, \"Dietary Fiber\": 3, \"Dietary Fiber (% Daily Value)\": 12, \"Sugars\": 12, \"Protein\": 37, \"Vitamin A (% Daily Value)\": 6, \"Vitamin C (% Daily Value)\": 15, \"Calcium (% Daily Value)\": 25, \"Iron (% Daily Value)\": 30, \"Prediction\": \"Breakfast\"}, {\"Category\": \"Beef & Pork\", \"Item\": \"Quarter Pounder with Bacon Habanero Ranch\", \"Serving Size\": \"8.3 oz (235 g)\", \"Calories\": 610, \"Calories from Fat\": 280, \"Total Fat\": 31.0, \"Total Fat (% Daily Value)\": 48, \"Saturated Fat\": 13.0, \"Saturated Fat (% Daily Value)\": 64, \"Trans Fat\": 1.5, \"Cholesterol\": 105, \"Cholesterol (% Daily Value)\": 35, \"Sodium\": 1180, \"Sodium (% Daily Value)\": 49, \"Carbohydrates\": 46, \"Carbohydrates (% Daily Value)\": 15, \"Dietary Fiber\": 3, \"Dietary Fiber (% Daily Value)\": 14, \"Sugars\": 10, \"Protein\": 37, \"Vitamin A (% Daily Value)\": 8, \"Vitamin C (% Daily Value)\": 20, \"Calcium (% Daily Value)\": 25, \"Iron (% Daily Value)\": 30, \"Prediction\": \"Breakfast\"}, {\"Category\": \"Beef & Pork\", \"Item\": \"Quarter Pounder Deluxe\", \"Serving Size\": \"8.6 oz (244 g)\", \"Calories\": 540, \"Calories from Fat\": 250, \"Total Fat\": 27.0, \"Total Fat (% Daily Value)\": 42, \"Saturated Fat\": 11.0, \"Saturated Fat (% Daily Value)\": 54, \"Trans Fat\": 1.5, \"Cholesterol\": 85, \"Cholesterol (% Daily Value)\": 28, \"Sodium\": 960, \"Sodium (% Daily Value)\": 40, \"Carbohydrates\": 45, \"Carbohydrates (% Daily Value)\": 15, \"Dietary Fiber\": 3, \"Dietary Fiber (% Daily Value)\": 13, \"Sugars\": 9, \"Protein\": 29, \"Vitamin A (% Daily Value)\": 10, \"Vitamin C (% Daily Value)\": 8, \"Calcium (% Daily Value)\": 25, \"Iron (% Daily Value)\": 30, \"Prediction\": \"Beef & Pork\"}, {\"Category\": \"Beef & Pork\", \"Item\": \"Double Quarter Pounder with Cheese\", \"Serving Size\": \"10 oz (283 g)\", \"Calories\": 750, \"Calories from Fat\": 380, \"Total Fat\": 43.0, \"Total Fat (% Daily Value)\": 66, \"Saturated Fat\": 19.0, \"Saturated Fat (% Daily Value)\": 96, \"Trans Fat\": 2.5, \"Cholesterol\": 160, \"Cholesterol (% Daily Value)\": 53, \"Sodium\": 1280, \"Sodium (% Daily Value)\": 53, \"Carbohydrates\": 42, \"Carbohydrates (% Daily Value)\": 14, \"Dietary Fiber\": 3, \"Dietary Fiber (% Daily Value)\": 11, \"Sugars\": 10, \"Protein\": 48, \"Vitamin A (% Daily Value)\": 10, \"Vitamin C (% Daily Value)\": 2, \"Calcium (% Daily Value)\": 30, \"Iron (% Daily Value)\": 35, \"Prediction\": \"Beef & Pork\"}, {\"Category\": \"Beef & Pork\", \"Item\": \"Hamburger\", \"Serving Size\": \"3.5 oz (98 g)\", \"Calories\": 240, \"Calories from Fat\": 70, \"Total Fat\": 8.0, \"Total Fat (% Daily Value)\": 12, \"Saturated Fat\": 3.0, \"Saturated Fat (% Daily Value)\": 15, \"Trans Fat\": 0.0, \"Cholesterol\": 30, \"Cholesterol (% Daily Value)\": 10, \"Sodium\": 480, \"Sodium (% Daily Value)\": 20, \"Carbohydrates\": 32, \"Carbohydrates (% Daily Value)\": 11, \"Dietary Fiber\": 1, \"Dietary Fiber (% Daily Value)\": 6, \"Sugars\": 6, \"Protein\": 12, \"Vitamin A (% Daily Value)\": 2, \"Vitamin C (% Daily Value)\": 2, \"Calcium (% Daily Value)\": 10, \"Iron (% Daily Value)\": 15, \"Prediction\": \"Chicken & Fish\"}, {\"Category\": \"Beef & Pork\", \"Item\": \"Cheeseburger\", \"Serving Size\": \"4 oz (113 g)\", \"Calories\": 290, \"Calories from Fat\": 100, \"Total Fat\": 11.0, \"Total Fat (% Daily Value)\": 18, \"Saturated Fat\": 5.0, \"Saturated Fat (% Daily Value)\": 27, \"Trans Fat\": 0.5, \"Cholesterol\": 45, \"Cholesterol (% Daily Value)\": 15, \"Sodium\": 680, \"Sodium (% Daily Value)\": 28, \"Carbohydrates\": 33, \"Carbohydrates (% Daily Value)\": 11, \"Dietary Fiber\": 2, \"Dietary Fiber (% Daily Value)\": 7, \"Sugars\": 7, \"Protein\": 15, \"Vitamin A (% Daily Value)\": 6, \"Vitamin C (% Daily Value)\": 2, \"Calcium (% Daily Value)\": 20, \"Iron (% Daily Value)\": 15, \"Prediction\": \"Snacks & Sides\"}, {\"Category\": \"Beef & Pork\", \"Item\": \"Double Cheeseburger\", \"Serving Size\": \"5.7 oz (161 g)\", \"Calories\": 430, \"Calories from Fat\": 190, \"Total Fat\": 21.0, \"Total Fat (% Daily Value)\": 32, \"Saturated Fat\": 10.0, \"Saturated Fat (% Daily Value)\": 52, \"Trans Fat\": 1.0, \"Cholesterol\": 90, \"Cholesterol (% Daily Value)\": 30, \"Sodium\": 1040, \"Sodium (% Daily Value)\": 43, \"Carbohydrates\": 35, \"Carbohydrates (% Daily Value)\": 12, \"Dietary Fiber\": 2, \"Dietary Fiber (% Daily Value)\": 8, \"Sugars\": 7, \"Protein\": 24, \"Vitamin A (% Daily Value)\": 10, \"Vitamin C (% Daily Value)\": 2, \"Calcium (% Daily Value)\": 30, \"Iron (% Daily Value)\": 20, \"Prediction\": \"Breakfast\"}, {\"Category\": \"Beef & Pork\", \"Item\": \"Bacon Clubhouse Burger\", \"Serving Size\": \"9.5 oz (270 g)\", \"Calories\": 720, \"Calories from Fat\": 360, \"Total Fat\": 40.0, \"Total Fat (% Daily Value)\": 62, \"Saturated Fat\": 15.0, \"Saturated Fat (% Daily Value)\": 75, \"Trans Fat\": 1.5, \"Cholesterol\": 115, \"Cholesterol (% Daily Value)\": 38, \"Sodium\": 1470, \"Sodium (% Daily Value)\": 61, \"Carbohydrates\": 51, \"Carbohydrates (% Daily Value)\": 17, \"Dietary Fiber\": 4, \"Dietary Fiber (% Daily Value)\": 14, \"Sugars\": 14, \"Protein\": 39, \"Vitamin A (% Daily Value)\": 8, \"Vitamin C (% Daily Value)\": 25, \"Calcium (% Daily Value)\": 30, \"Iron (% Daily Value)\": 25, \"Prediction\": \"Breakfast\"}, {\"Category\": \"Beef & Pork\", \"Item\": \"McDouble\", \"Serving Size\": \"5.2 oz (147 g)\", \"Calories\": 380, \"Calories from Fat\": 150, \"Total Fat\": 17.0, \"Total Fat (% Daily Value)\": 26, \"Saturated Fat\": 8.0, \"Saturated Fat (% Daily Value)\": 40, \"Trans Fat\": 1.0, \"Cholesterol\": 75, \"Cholesterol (% Daily Value)\": 25, \"Sodium\": 840, \"Sodium (% Daily Value)\": 35, \"Carbohydrates\": 34, \"Carbohydrates (% Daily Value)\": 11, \"Dietary Fiber\": 2, \"Dietary Fiber (% Daily Value)\": 7, \"Sugars\": 7, \"Protein\": 22, \"Vitamin A (% Daily Value)\": 6, \"Vitamin C (% Daily Value)\": 2, \"Calcium (% Daily Value)\": 20, \"Iron (% Daily Value)\": 20, \"Prediction\": \"Beef & Pork\"}, {\"Category\": \"Beef & Pork\", \"Item\": \"Bacon McDouble\", \"Serving Size\": \"5.7 oz (161 g)\", \"Calories\": 440, \"Calories from Fat\": 200, \"Total Fat\": 22.0, \"Total Fat (% Daily Value)\": 34, \"Saturated Fat\": 10.0, \"Saturated Fat (% Daily Value)\": 49, \"Trans Fat\": 1.0, \"Cholesterol\": 90, \"Cholesterol (% Daily Value)\": 30, \"Sodium\": 1110, \"Sodium (% Daily Value)\": 46, \"Carbohydrates\": 35, \"Carbohydrates (% Daily Value)\": 12, \"Dietary Fiber\": 2, \"Dietary Fiber (% Daily Value)\": 7, \"Sugars\": 7, \"Protein\": 27, \"Vitamin A (% Daily Value)\": 6, \"Vitamin C (% Daily Value)\": 10, \"Calcium (% Daily Value)\": 20, \"Iron (% Daily Value)\": 20, \"Prediction\": \"Chicken & Fish\"}, {\"Category\": \"Beef & Pork\", \"Item\": \"Daily Double\", \"Serving Size\": \"6.7 oz (190 g)\", \"Calories\": 430, \"Calories from Fat\": 200, \"Total Fat\": 22.0, \"Total Fat (% Daily Value)\": 35, \"Saturated Fat\": 9.0, \"Saturated Fat (% Daily Value)\": 44, \"Trans Fat\": 1.0, \"Cholesterol\": 80, \"Cholesterol (% Daily Value)\": 27, \"Sodium\": 760, \"Sodium (% Daily Value)\": 32, \"Carbohydrates\": 34, \"Carbohydrates (% Daily Value)\": 11, \"Dietary Fiber\": 2, \"Dietary Fiber (% Daily Value)\": 8, \"Sugars\": 7, \"Protein\": 22, \"Vitamin A (% Daily Value)\": 8, \"Vitamin C (% Daily Value)\": 8, \"Calcium (% Daily Value)\": 20, \"Iron (% Daily Value)\": 20, \"Prediction\": \"Beef & Pork\"}, {\"Category\": \"Beef & Pork\", \"Item\": \"Jalape\\u00f1o Double\", \"Serving Size\": \"5.6 oz (159 g)\", \"Calories\": 430, \"Calories from Fat\": 210, \"Total Fat\": 23.0, \"Total Fat (% Daily Value)\": 36, \"Saturated Fat\": 9.0, \"Saturated Fat (% Daily Value)\": 44, \"Trans Fat\": 1.0, \"Cholesterol\": 80, \"Cholesterol (% Daily Value)\": 27, \"Sodium\": 1030, \"Sodium (% Daily Value)\": 43, \"Carbohydrates\": 35, \"Carbohydrates (% Daily Value)\": 12, \"Dietary Fiber\": 2, \"Dietary Fiber (% Daily Value)\": 7, \"Sugars\": 6, \"Protein\": 22, \"Vitamin A (% Daily Value)\": 6, \"Vitamin C (% Daily Value)\": 8, \"Calcium (% Daily Value)\": 20, \"Iron (% Daily Value)\": 20, \"Prediction\": \"Breakfast\"}, {\"Category\": \"Beef & Pork\", \"Item\": \"McRib\", \"Serving Size\": \"7.3 oz (208 g)\", \"Calories\": 500, \"Calories from Fat\": 240, \"Total Fat\": 26.0, \"Total Fat (% Daily Value)\": 40, \"Saturated Fat\": 10.0, \"Saturated Fat (% Daily Value)\": 48, \"Trans Fat\": 0.0, \"Cholesterol\": 70, \"Cholesterol (% Daily Value)\": 23, \"Sodium\": 980, \"Sodium (% Daily Value)\": 41, \"Carbohydrates\": 44, \"Carbohydrates (% Daily Value)\": 15, \"Dietary Fiber\": 3, \"Dietary Fiber (% Daily Value)\": 10, \"Sugars\": 11, \"Protein\": 22, \"Vitamin A (% Daily Value)\": 2, \"Vitamin C (% Daily Value)\": 2, \"Calcium (% Daily Value)\": 15, \"Iron (% Daily Value)\": 20, \"Prediction\": \"Beef & Pork\"}, {\"Category\": \"Chicken & Fish\", \"Item\": \"Premium Crispy Chicken Classic Sandwich\", \"Serving Size\": \"7.5 oz (213 g)\", \"Calories\": 510, \"Calories from Fat\": 200, \"Total Fat\": 22.0, \"Total Fat (% Daily Value)\": 33, \"Saturated Fat\": 3.5, \"Saturated Fat (% Daily Value)\": 18, \"Trans Fat\": 0.0, \"Cholesterol\": 45, \"Cholesterol (% Daily Value)\": 16, \"Sodium\": 990, \"Sodium (% Daily Value)\": 41, \"Carbohydrates\": 55, \"Carbohydrates (% Daily Value)\": 18, \"Dietary Fiber\": 3, \"Dietary Fiber (% Daily Value)\": 13, \"Sugars\": 10, \"Protein\": 24, \"Vitamin A (% Daily Value)\": 4, \"Vitamin C (% Daily Value)\": 6, \"Calcium (% Daily Value)\": 15, \"Iron (% Daily Value)\": 20, \"Prediction\": \"Beef & Pork\"}, {\"Category\": \"Chicken & Fish\", \"Item\": \"Premium Grilled Chicken Classic Sandwich\", \"Serving Size\": \"7 oz (200 g)\", \"Calories\": 350, \"Calories from Fat\": 80, \"Total Fat\": 9.0, \"Total Fat (% Daily Value)\": 13, \"Saturated Fat\": 2.0, \"Saturated Fat (% Daily Value)\": 9, \"Trans Fat\": 0.0, \"Cholesterol\": 65, \"Cholesterol (% Daily Value)\": 22, \"Sodium\": 820, \"Sodium (% Daily Value)\": 34, \"Carbohydrates\": 42, \"Carbohydrates (% Daily Value)\": 14, \"Dietary Fiber\": 3, \"Dietary Fiber (% Daily Value)\": 13, \"Sugars\": 8, \"Protein\": 28, \"Vitamin A (% Daily Value)\": 4, \"Vitamin C (% Daily Value)\": 8, \"Calcium (% Daily Value)\": 15, \"Iron (% Daily Value)\": 20, \"Prediction\": \"Chicken & Fish\"}, {\"Category\": \"Chicken & Fish\", \"Item\": \"Premium Crispy Chicken Club Sandwich\", \"Serving Size\": \"8.8 oz (249 g)\", \"Calories\": 670, \"Calories from Fat\": 300, \"Total Fat\": 33.0, \"Total Fat (% Daily Value)\": 51, \"Saturated Fat\": 9.0, \"Saturated Fat (% Daily Value)\": 44, \"Trans Fat\": 0.0, \"Cholesterol\": 85, \"Cholesterol (% Daily Value)\": 29, \"Sodium\": 1410, \"Sodium (% Daily Value)\": 59, \"Carbohydrates\": 58, \"Carbohydrates (% Daily Value)\": 19, \"Dietary Fiber\": 3, \"Dietary Fiber (% Daily Value)\": 14, \"Sugars\": 11, \"Protein\": 36, \"Vitamin A (% Daily Value)\": 8, \"Vitamin C (% Daily Value)\": 20, \"Calcium (% Daily Value)\": 30, \"Iron (% Daily Value)\": 20, \"Prediction\": \"Breakfast\"}, {\"Category\": \"Chicken & Fish\", \"Item\": \"Premium Grilled Chicken Club Sandwich\", \"Serving Size\": \"8.3 oz (235 g)\", \"Calories\": 510, \"Calories from Fat\": 180, \"Total Fat\": 20.0, \"Total Fat (% Daily Value)\": 31, \"Saturated Fat\": 7.0, \"Saturated Fat (% Daily Value)\": 36, \"Trans Fat\": 0.0, \"Cholesterol\": 105, \"Cholesterol (% Daily Value)\": 35, \"Sodium\": 1250, \"Sodium (% Daily Value)\": 52, \"Carbohydrates\": 44, \"Carbohydrates (% Daily Value)\": 15, \"Dietary Fiber\": 3, \"Dietary Fiber (% Daily Value)\": 13, \"Sugars\": 9, \"Protein\": 40, \"Vitamin A (% Daily Value)\": 8, \"Vitamin C (% Daily Value)\": 20, \"Calcium (% Daily Value)\": 30, \"Iron (% Daily Value)\": 20, \"Prediction\": \"Breakfast\"}, {\"Category\": \"Chicken & Fish\", \"Item\": \"Premium Crispy Chicken Ranch BLT Sandwich\", \"Serving Size\": \"8.1 oz (230 g)\", \"Calories\": 610, \"Calories from Fat\": 250, \"Total Fat\": 28.0, \"Total Fat (% Daily Value)\": 43, \"Saturated Fat\": 6.0, \"Saturated Fat (% Daily Value)\": 31, \"Trans Fat\": 0.0, \"Cholesterol\": 70, \"Cholesterol (% Daily Value)\": 24, \"Sodium\": 1400, \"Sodium (% Daily Value)\": 58, \"Carbohydrates\": 57, \"Carbohydrates (% Daily Value)\": 19, \"Dietary Fiber\": 3, \"Dietary Fiber (% Daily Value)\": 13, \"Sugars\": 11, \"Protein\": 32, \"Vitamin A (% Daily Value)\": 4, \"Vitamin C (% Daily Value)\": 20, \"Calcium (% Daily Value)\": 15, \"Iron (% Daily Value)\": 20, \"Prediction\": \"Breakfast\"}, {\"Category\": \"Chicken & Fish\", \"Item\": \"Premium Grilled Chicken Ranch BLT Sandwich\", \"Serving Size\": \"7.6 oz (217 g)\", \"Calories\": 450, \"Calories from Fat\": 130, \"Total Fat\": 15.0, \"Total Fat (% Daily Value)\": 23, \"Saturated Fat\": 4.5, \"Saturated Fat (% Daily Value)\": 22, \"Trans Fat\": 0.0, \"Cholesterol\": 90, \"Cholesterol (% Daily Value)\": 30, \"Sodium\": 1230, \"Sodium (% Daily Value)\": 51, \"Carbohydrates\": 43, \"Carbohydrates (% Daily Value)\": 14, \"Dietary Fiber\": 3, \"Dietary Fiber (% Daily Value)\": 13, \"Sugars\": 9, \"Protein\": 36, \"Vitamin A (% Daily Value)\": 4, \"Vitamin C (% Daily Value)\": 20, \"Calcium (% Daily Value)\": 15, \"Iron (% Daily Value)\": 20, \"Prediction\": \"Chicken & Fish\"}, {\"Category\": \"Chicken & Fish\", \"Item\": \"Bacon Clubhouse Crispy Chicken Sandwich\", \"Serving Size\": \"10 oz (284 g)\", \"Calories\": 750, \"Calories from Fat\": 340, \"Total Fat\": 38.0, \"Total Fat (% Daily Value)\": 59, \"Saturated Fat\": 10.0, \"Saturated Fat (% Daily Value)\": 51, \"Trans Fat\": 0.5, \"Cholesterol\": 90, \"Cholesterol (% Daily Value)\": 31, \"Sodium\": 1720, \"Sodium (% Daily Value)\": 72, \"Carbohydrates\": 65, \"Carbohydrates (% Daily Value)\": 22, \"Dietary Fiber\": 4, \"Dietary Fiber (% Daily Value)\": 15, \"Sugars\": 16, \"Protein\": 36, \"Vitamin A (% Daily Value)\": 8, \"Vitamin C (% Daily Value)\": 25, \"Calcium (% Daily Value)\": 30, \"Iron (% Daily Value)\": 15, \"Prediction\": \"Breakfast\"}, {\"Category\": \"Chicken & Fish\", \"Item\": \"Bacon Clubhouse Grilled Chicken Sandwich\", \"Serving Size\": \"9.5 oz (270 g)\", \"Calories\": 590, \"Calories from Fat\": 230, \"Total Fat\": 25.0, \"Total Fat (% Daily Value)\": 39, \"Saturated Fat\": 8.0, \"Saturated Fat (% Daily Value)\": 42, \"Trans Fat\": 0.0, \"Cholesterol\": 110, \"Cholesterol (% Daily Value)\": 37, \"Sodium\": 1560, \"Sodium (% Daily Value)\": 65, \"Carbohydrates\": 51, \"Carbohydrates (% Daily Value)\": 17, \"Dietary Fiber\": 4, \"Dietary Fiber (% Daily Value)\": 15, \"Sugars\": 14, \"Protein\": 40, \"Vitamin A (% Daily Value)\": 8, \"Vitamin C (% Daily Value)\": 30, \"Calcium (% Daily Value)\": 30, \"Iron (% Daily Value)\": 15, \"Prediction\": \"Breakfast\"}, {\"Category\": \"Chicken & Fish\", \"Item\": \"Southern Style Crispy Chicken Sandwich\", \"Serving Size\": \"5.6 oz (160 g)\", \"Calories\": 430, \"Calories from Fat\": 170, \"Total Fat\": 19.0, \"Total Fat (% Daily Value)\": 29, \"Saturated Fat\": 3.0, \"Saturated Fat (% Daily Value)\": 15, \"Trans Fat\": 0.0, \"Cholesterol\": 45, \"Cholesterol (% Daily Value)\": 14, \"Sodium\": 910, \"Sodium (% Daily Value)\": 38, \"Carbohydrates\": 43, \"Carbohydrates (% Daily Value)\": 14, \"Dietary Fiber\": 2, \"Dietary Fiber (% Daily Value)\": 7, \"Sugars\": 7, \"Protein\": 21, \"Vitamin A (% Daily Value)\": 4, \"Vitamin C (% Daily Value)\": 2, \"Calcium (% Daily Value)\": 15, \"Iron (% Daily Value)\": 15, \"Prediction\": \"Breakfast\"}, {\"Category\": \"Chicken & Fish\", \"Item\": \"McChicken\", \"Serving Size\": \"5.1 oz (143 g)\", \"Calories\": 360, \"Calories from Fat\": 140, \"Total Fat\": 16.0, \"Total Fat (% Daily Value)\": 25, \"Saturated Fat\": 3.0, \"Saturated Fat (% Daily Value)\": 15, \"Trans Fat\": 0.0, \"Cholesterol\": 35, \"Cholesterol (% Daily Value)\": 11, \"Sodium\": 800, \"Sodium (% Daily Value)\": 33, \"Carbohydrates\": 40, \"Carbohydrates (% Daily Value)\": 13, \"Dietary Fiber\": 2, \"Dietary Fiber (% Daily Value)\": 7, \"Sugars\": 5, \"Protein\": 14, \"Vitamin A (% Daily Value)\": 0, \"Vitamin C (% Daily Value)\": 2, \"Calcium (% Daily Value)\": 10, \"Iron (% Daily Value)\": 15, \"Prediction\": \"Chicken & Fish\"}, {\"Category\": \"Chicken & Fish\", \"Item\": \"Bacon Cheddar McChicken\", \"Serving Size\": \"6 oz (171 g)\", \"Calories\": 480, \"Calories from Fat\": 220, \"Total Fat\": 24.0, \"Total Fat (% Daily Value)\": 38, \"Saturated Fat\": 7.0, \"Saturated Fat (% Daily Value)\": 35, \"Trans Fat\": 0.0, \"Cholesterol\": 65, \"Cholesterol (% Daily Value)\": 21, \"Sodium\": 1260, \"Sodium (% Daily Value)\": 53, \"Carbohydrates\": 43, \"Carbohydrates (% Daily Value)\": 14, \"Dietary Fiber\": 2, \"Dietary Fiber (% Daily Value)\": 8, \"Sugars\": 6, \"Protein\": 22, \"Vitamin A (% Daily Value)\": 4, \"Vitamin C (% Daily Value)\": 10, \"Calcium (% Daily Value)\": 20, \"Iron (% Daily Value)\": 15, \"Prediction\": \"Breakfast\"}, {\"Category\": \"Chicken & Fish\", \"Item\": \"Bacon Buffalo Ranch McChicken\", \"Serving Size\": \"5.7 oz (161 g)\", \"Calories\": 430, \"Calories from Fat\": 190, \"Total Fat\": 21.0, \"Total Fat (% Daily Value)\": 32, \"Saturated Fat\": 5.0, \"Saturated Fat (% Daily Value)\": 25, \"Trans Fat\": 0.0, \"Cholesterol\": 50, \"Cholesterol (% Daily Value)\": 17, \"Sodium\": 1260, \"Sodium (% Daily Value)\": 53, \"Carbohydrates\": 41, \"Carbohydrates (% Daily Value)\": 14, \"Dietary Fiber\": 2, \"Dietary Fiber (% Daily Value)\": 7, \"Sugars\": 6, \"Protein\": 20, \"Vitamin A (% Daily Value)\": 2, \"Vitamin C (% Daily Value)\": 10, \"Calcium (% Daily Value)\": 15, \"Iron (% Daily Value)\": 15, \"Prediction\": \"Breakfast\"}, {\"Category\": \"Chicken & Fish\", \"Item\": \"Buffalo Ranch McChicken\", \"Serving Size\": \"5.2 oz (148 g)\", \"Calories\": 360, \"Calories from Fat\": 150, \"Total Fat\": 16.0, \"Total Fat (% Daily Value)\": 25, \"Saturated Fat\": 3.0, \"Saturated Fat (% Daily Value)\": 16, \"Trans Fat\": 0.0, \"Cholesterol\": 35, \"Cholesterol (% Daily Value)\": 11, \"Sodium\": 990, \"Sodium (% Daily Value)\": 41, \"Carbohydrates\": 40, \"Carbohydrates (% Daily Value)\": 13, \"Dietary Fiber\": 2, \"Dietary Fiber (% Daily Value)\": 7, \"Sugars\": 5, \"Protein\": 14, \"Vitamin A (% Daily Value)\": 2, \"Vitamin C (% Daily Value)\": 2, \"Calcium (% Daily Value)\": 15, \"Iron (% Daily Value)\": 15, \"Prediction\": \"Breakfast\"}, {\"Category\": \"Chicken & Fish\", \"Item\": \"Premium McWrap Chicken & Bacon (Crispy Chicken)\", \"Serving Size\": \"11.1 oz (316 g)\", \"Calories\": 630, \"Calories from Fat\": 280, \"Total Fat\": 32.0, \"Total Fat (% Daily Value)\": 49, \"Saturated Fat\": 9.0, \"Saturated Fat (% Daily Value)\": 45, \"Trans Fat\": 0.5, \"Cholesterol\": 80, \"Cholesterol (% Daily Value)\": 26, \"Sodium\": 1540, \"Sodium (% Daily Value)\": 64, \"Carbohydrates\": 56, \"Carbohydrates (% Daily Value)\": 19, \"Dietary Fiber\": 3, \"Dietary Fiber (% Daily Value)\": 13, \"Sugars\": 7, \"Protein\": 32, \"Vitamin A (% Daily Value)\": 60, \"Vitamin C (% Daily Value)\": 20, \"Calcium (% Daily Value)\": 20, \"Iron (% Daily Value)\": 20, \"Prediction\": \"Breakfast\"}, {\"Category\": \"Chicken & Fish\", \"Item\": \"Premium McWrap Chicken & Bacon (Grilled Chicken)\", \"Serving Size\": \"10.7 oz (302 g)\", \"Calories\": 480, \"Calories from Fat\": 170, \"Total Fat\": 19.0, \"Total Fat (% Daily Value)\": 28, \"Saturated Fat\": 7.0, \"Saturated Fat (% Daily Value)\": 36, \"Trans Fat\": 0.0, \"Cholesterol\": 95, \"Cholesterol (% Daily Value)\": 32, \"Sodium\": 1370, \"Sodium (% Daily Value)\": 57, \"Carbohydrates\": 42, \"Carbohydrates (% Daily Value)\": 14, \"Dietary Fiber\": 3, \"Dietary Fiber (% Daily Value)\": 13, \"Sugars\": 6, \"Protein\": 36, \"Vitamin A (% Daily Value)\": 60, \"Vitamin C (% Daily Value)\": 25, \"Calcium (% Daily Value)\": 20, \"Iron (% Daily Value)\": 20, \"Prediction\": \"Breakfast\"}, {\"Category\": \"Chicken & Fish\", \"Item\": \"Premium McWrap Chicken & Ranch (Crispy Chicken)\", \"Serving Size\": \"10.9 oz (310 g)\", \"Calories\": 610, \"Calories from Fat\": 280, \"Total Fat\": 31.0, \"Total Fat (% Daily Value)\": 47, \"Saturated Fat\": 8.0, \"Saturated Fat (% Daily Value)\": 40, \"Trans Fat\": 0.5, \"Cholesterol\": 65, \"Cholesterol (% Daily Value)\": 21, \"Sodium\": 1340, \"Sodium (% Daily Value)\": 56, \"Carbohydrates\": 56, \"Carbohydrates (% Daily Value)\": 19, \"Dietary Fiber\": 3, \"Dietary Fiber (% Daily Value)\": 14, \"Sugars\": 8, \"Protein\": 27, \"Vitamin A (% Daily Value)\": 60, \"Vitamin C (% Daily Value)\": 15, \"Calcium (% Daily Value)\": 20, \"Iron (% Daily Value)\": 20, \"Prediction\": \"Breakfast\"}, {\"Category\": \"Chicken & Fish\", \"Item\": \"Premium McWrap Chicken & Ranch (Grilled Chicken)\", \"Serving Size\": \"10.5 oz (297 g)\", \"Calories\": 450, \"Calories from Fat\": 160, \"Total Fat\": 18.0, \"Total Fat (% Daily Value)\": 27, \"Saturated Fat\": 6.0, \"Saturated Fat (% Daily Value)\": 31, \"Trans Fat\": 0.5, \"Cholesterol\": 80, \"Cholesterol (% Daily Value)\": 27, \"Sodium\": 1170, \"Sodium (% Daily Value)\": 49, \"Carbohydrates\": 42, \"Carbohydrates (% Daily Value)\": 14, \"Dietary Fiber\": 3, \"Dietary Fiber (% Daily Value)\": 14, \"Sugars\": 6, \"Protein\": 30, \"Vitamin A (% Daily Value)\": 60, \"Vitamin C (% Daily Value)\": 15, \"Calcium (% Daily Value)\": 15, \"Iron (% Daily Value)\": 20, \"Prediction\": \"Breakfast\"}, {\"Category\": \"Chicken & Fish\", \"Item\": \"Premium McWrap Southwest Chicken (Crispy Chicken)\", \"Serving Size\": \"11.1 oz (314 g)\", \"Calories\": 670, \"Calories from Fat\": 300, \"Total Fat\": 33.0, \"Total Fat (% Daily Value)\": 51, \"Saturated Fat\": 8.0, \"Saturated Fat (% Daily Value)\": 40, \"Trans Fat\": 0.5, \"Cholesterol\": 60, \"Cholesterol (% Daily Value)\": 21, \"Sodium\": 1480, \"Sodium (% Daily Value)\": 62, \"Carbohydrates\": 68, \"Carbohydrates (% Daily Value)\": 23, \"Dietary Fiber\": 5, \"Dietary Fiber (% Daily Value)\": 19, \"Sugars\": 12, \"Protein\": 27, \"Vitamin A (% Daily Value)\": 60, \"Vitamin C (% Daily Value)\": 15, \"Calcium (% Daily Value)\": 20, \"Iron (% Daily Value)\": 20, \"Prediction\": \"Breakfast\"}, {\"Category\": \"Chicken & Fish\", \"Item\": \"Premium McWrap Southwest Chicken (Grilled Chicken)\", \"Serving Size\": \"11.2 oz (318 g)\", \"Calories\": 520, \"Calories from Fat\": 180, \"Total Fat\": 20.0, \"Total Fat (% Daily Value)\": 31, \"Saturated Fat\": 6.0, \"Saturated Fat (% Daily Value)\": 32, \"Trans Fat\": 0.0, \"Cholesterol\": 80, \"Cholesterol (% Daily Value)\": 27, \"Sodium\": 1320, \"Sodium (% Daily Value)\": 55, \"Carbohydrates\": 55, \"Carbohydrates (% Daily Value)\": 18, \"Dietary Fiber\": 5, \"Dietary Fiber (% Daily Value)\": 20, \"Sugars\": 10, \"Protein\": 31, \"Vitamin A (% Daily Value)\": 70, \"Vitamin C (% Daily Value)\": 15, \"Calcium (% Daily Value)\": 20, \"Iron (% Daily Value)\": 20, \"Prediction\": \"Breakfast\"}, {\"Category\": \"Chicken & Fish\", \"Item\": \"Premium McWrap Chicken Sweet Chili (Crispy Chicken)\", \"Serving Size\": \"10.7 oz (304 g)\", \"Calories\": 540, \"Calories from Fat\": 200, \"Total Fat\": 23.0, \"Total Fat (% Daily Value)\": 35, \"Saturated Fat\": 4.5, \"Saturated Fat (% Daily Value)\": 23, \"Trans Fat\": 0.0, \"Cholesterol\": 50, \"Cholesterol (% Daily Value)\": 16, \"Sodium\": 1260, \"Sodium (% Daily Value)\": 52, \"Carbohydrates\": 61, \"Carbohydrates (% Daily Value)\": 20, \"Dietary Fiber\": 3, \"Dietary Fiber (% Daily Value)\": 13, \"Sugars\": 14, \"Protein\": 23, \"Vitamin A (% Daily Value)\": 60, \"Vitamin C (% Daily Value)\": 15, \"Calcium (% Daily Value)\": 8, \"Iron (% Daily Value)\": 20, \"Prediction\": \"Breakfast\"}, {\"Category\": \"Chicken & Fish\", \"Item\": \"Premium McWrap Chicken Sweet Chili (Grilled Chicken)\", \"Serving Size\": \"10.3 oz (291 g)\", \"Calories\": 380, \"Calories from Fat\": 90, \"Total Fat\": 10.0, \"Total Fat (% Daily Value)\": 15, \"Saturated Fat\": 3.0, \"Saturated Fat (% Daily Value)\": 14, \"Trans Fat\": 0.0, \"Cholesterol\": 65, \"Cholesterol (% Daily Value)\": 22, \"Sodium\": 1090, \"Sodium (% Daily Value)\": 45, \"Carbohydrates\": 47, \"Carbohydrates (% Daily Value)\": 16, \"Dietary Fiber\": 3, \"Dietary Fiber (% Daily Value)\": 13, \"Sugars\": 12, \"Protein\": 27, \"Vitamin A (% Daily Value)\": 60, \"Vitamin C (% Daily Value)\": 15, \"Calcium (% Daily Value)\": 8, \"Iron (% Daily Value)\": 20, \"Prediction\": \"Breakfast\"}, {\"Category\": \"Chicken & Fish\", \"Item\": \"Chicken McNuggets (4 piece)\", \"Serving Size\": \"2.3 oz (65 g)\", \"Calories\": 190, \"Calories from Fat\": 110, \"Total Fat\": 12.0, \"Total Fat (% Daily Value)\": 18, \"Saturated Fat\": 2.0, \"Saturated Fat (% Daily Value)\": 10, \"Trans Fat\": 0.0, \"Cholesterol\": 25, \"Cholesterol (% Daily Value)\": 9, \"Sodium\": 360, \"Sodium (% Daily Value)\": 15, \"Carbohydrates\": 12, \"Carbohydrates (% Daily Value)\": 4, \"Dietary Fiber\": 1, \"Dietary Fiber (% Daily Value)\": 2, \"Sugars\": 0, \"Protein\": 9, \"Vitamin A (% Daily Value)\": 0, \"Vitamin C (% Daily Value)\": 2, \"Calcium (% Daily Value)\": 0, \"Iron (% Daily Value)\": 2, \"Prediction\": \"Beef & Pork\"}, {\"Category\": \"Chicken & Fish\", \"Item\": \"Chicken McNuggets (6 piece)\", \"Serving Size\": \"3.4 oz (97 g)\", \"Calories\": 280, \"Calories from Fat\": 160, \"Total Fat\": 18.0, \"Total Fat (% Daily Value)\": 27, \"Saturated Fat\": 3.0, \"Saturated Fat (% Daily Value)\": 15, \"Trans Fat\": 0.0, \"Cholesterol\": 40, \"Cholesterol (% Daily Value)\": 13, \"Sodium\": 540, \"Sodium (% Daily Value)\": 22, \"Carbohydrates\": 18, \"Carbohydrates (% Daily Value)\": 6, \"Dietary Fiber\": 1, \"Dietary Fiber (% Daily Value)\": 4, \"Sugars\": 0, \"Protein\": 13, \"Vitamin A (% Daily Value)\": 0, \"Vitamin C (% Daily Value)\": 2, \"Calcium (% Daily Value)\": 2, \"Iron (% Daily Value)\": 4, \"Prediction\": \"Beef & Pork\"}, {\"Category\": \"Chicken & Fish\", \"Item\": \"Chicken McNuggets (10 piece)\", \"Serving Size\": \"5.7 oz (162 g)\", \"Calories\": 470, \"Calories from Fat\": 270, \"Total Fat\": 30.0, \"Total Fat (% Daily Value)\": 45, \"Saturated Fat\": 5.0, \"Saturated Fat (% Daily Value)\": 25, \"Trans Fat\": 0.0, \"Cholesterol\": 65, \"Cholesterol (% Daily Value)\": 22, \"Sodium\": 900, \"Sodium (% Daily Value)\": 37, \"Carbohydrates\": 30, \"Carbohydrates (% Daily Value)\": 10, \"Dietary Fiber\": 2, \"Dietary Fiber (% Daily Value)\": 6, \"Sugars\": 0, \"Protein\": 22, \"Vitamin A (% Daily Value)\": 0, \"Vitamin C (% Daily Value)\": 4, \"Calcium (% Daily Value)\": 2, \"Iron (% Daily Value)\": 6, \"Prediction\": \"Beef & Pork\"}, {\"Category\": \"Chicken & Fish\", \"Item\": \"Chicken McNuggets (20 piece)\", \"Serving Size\": \"11.4 oz (323 g)\", \"Calories\": 940, \"Calories from Fat\": 530, \"Total Fat\": 59.0, \"Total Fat (% Daily Value)\": 91, \"Saturated Fat\": 10.0, \"Saturated Fat (% Daily Value)\": 50, \"Trans Fat\": 0.0, \"Cholesterol\": 135, \"Cholesterol (% Daily Value)\": 44, \"Sodium\": 1800, \"Sodium (% Daily Value)\": 75, \"Carbohydrates\": 59, \"Carbohydrates (% Daily Value)\": 20, \"Dietary Fiber\": 3, \"Dietary Fiber (% Daily Value)\": 12, \"Sugars\": 0, \"Protein\": 44, \"Vitamin A (% Daily Value)\": 0, \"Vitamin C (% Daily Value)\": 8, \"Calcium (% Daily Value)\": 4, \"Iron (% Daily Value)\": 10, \"Prediction\": \"Breakfast\"}, {\"Category\": \"Chicken & Fish\", \"Item\": \"Chicken McNuggets (40 piece)\", \"Serving Size\": \"22.8 oz (646 g)\", \"Calories\": 1880, \"Calories from Fat\": 1060, \"Total Fat\": 118.0, \"Total Fat (% Daily Value)\": 182, \"Saturated Fat\": 20.0, \"Saturated Fat (% Daily Value)\": 101, \"Trans Fat\": 1.0, \"Cholesterol\": 265, \"Cholesterol (% Daily Value)\": 89, \"Sodium\": 3600, \"Sodium (% Daily Value)\": 150, \"Carbohydrates\": 118, \"Carbohydrates (% Daily Value)\": 39, \"Dietary Fiber\": 6, \"Dietary Fiber (% Daily Value)\": 24, \"Sugars\": 1, \"Protein\": 87, \"Vitamin A (% Daily Value)\": 0, \"Vitamin C (% Daily Value)\": 15, \"Calcium (% Daily Value)\": 8, \"Iron (% Daily Value)\": 25, \"Prediction\": \"Breakfast\"}, {\"Category\": \"Chicken & Fish\", \"Item\": \"Filet-O-Fish\", \"Serving Size\": \"5 oz (142 g)\", \"Calories\": 390, \"Calories from Fat\": 170, \"Total Fat\": 19.0, \"Total Fat (% Daily Value)\": 29, \"Saturated Fat\": 4.0, \"Saturated Fat (% Daily Value)\": 19, \"Trans Fat\": 0.0, \"Cholesterol\": 40, \"Cholesterol (% Daily Value)\": 14, \"Sodium\": 590, \"Sodium (% Daily Value)\": 24, \"Carbohydrates\": 39, \"Carbohydrates (% Daily Value)\": 13, \"Dietary Fiber\": 2, \"Dietary Fiber (% Daily Value)\": 7, \"Sugars\": 5, \"Protein\": 15, \"Vitamin A (% Daily Value)\": 2, \"Vitamin C (% Daily Value)\": 0, \"Calcium (% Daily Value)\": 15, \"Iron (% Daily Value)\": 10, \"Prediction\": \"Snacks & Sides\"}, {\"Category\": \"Salads\", \"Item\": \"Premium Bacon Ranch Salad (without Chicken)\", \"Serving Size\": \"7.9 oz (223 g)\", \"Calories\": 140, \"Calories from Fat\": 70, \"Total Fat\": 7.0, \"Total Fat (% Daily Value)\": 11, \"Saturated Fat\": 3.5, \"Saturated Fat (% Daily Value)\": 18, \"Trans Fat\": 0.0, \"Cholesterol\": 25, \"Cholesterol (% Daily Value)\": 9, \"Sodium\": 300, \"Sodium (% Daily Value)\": 13, \"Carbohydrates\": 10, \"Carbohydrates (% Daily Value)\": 3, \"Dietary Fiber\": 3, \"Dietary Fiber (% Daily Value)\": 12, \"Sugars\": 4, \"Protein\": 9, \"Vitamin A (% Daily Value)\": 170, \"Vitamin C (% Daily Value)\": 30, \"Calcium (% Daily Value)\": 15, \"Iron (% Daily Value)\": 6, \"Prediction\": \"Coffee & Tea\"}, {\"Category\": \"Salads\", \"Item\": \"Premium Bacon Ranch Salad with Crispy Chicken\", \"Serving Size\": \"9 oz (255 g)\", \"Calories\": 380, \"Calories from Fat\": 190, \"Total Fat\": 21.0, \"Total Fat (% Daily Value)\": 33, \"Saturated Fat\": 6.0, \"Saturated Fat (% Daily Value)\": 29, \"Trans Fat\": 0.0, \"Cholesterol\": 70, \"Cholesterol (% Daily Value)\": 23, \"Sodium\": 860, \"Sodium (% Daily Value)\": 36, \"Carbohydrates\": 22, \"Carbohydrates (% Daily Value)\": 7, \"Dietary Fiber\": 2, \"Dietary Fiber (% Daily Value)\": 10, \"Sugars\": 5, \"Protein\": 25, \"Vitamin A (% Daily Value)\": 100, \"Vitamin C (% Daily Value)\": 25, \"Calcium (% Daily Value)\": 15, \"Iron (% Daily Value)\": 8, \"Prediction\": \"Beef & Pork\"}, {\"Category\": \"Salads\", \"Item\": \"Premium Bacon Ranch Salad with Grilled Chicken\", \"Serving Size\": \"8.5 oz (241 g)\", \"Calories\": 220, \"Calories from Fat\": 80, \"Total Fat\": 8.0, \"Total Fat (% Daily Value)\": 13, \"Saturated Fat\": 4.0, \"Saturated Fat (% Daily Value)\": 20, \"Trans Fat\": 0.0, \"Cholesterol\": 85, \"Cholesterol (% Daily Value)\": 29, \"Sodium\": 690, \"Sodium (% Daily Value)\": 29, \"Carbohydrates\": 8, \"Carbohydrates (% Daily Value)\": 3, \"Dietary Fiber\": 2, \"Dietary Fiber (% Daily Value)\": 10, \"Sugars\": 4, \"Protein\": 29, \"Vitamin A (% Daily Value)\": 110, \"Vitamin C (% Daily Value)\": 30, \"Calcium (% Daily Value)\": 15, \"Iron (% Daily Value)\": 8, \"Prediction\": \"Snacks & Sides\"}, {\"Category\": \"Salads\", \"Item\": \"Premium Southwest Salad (without Chicken)\", \"Serving Size\": \"8.1 oz (230 g)\", \"Calories\": 140, \"Calories from Fat\": 40, \"Total Fat\": 4.5, \"Total Fat (% Daily Value)\": 7, \"Saturated Fat\": 2.0, \"Saturated Fat (% Daily Value)\": 9, \"Trans Fat\": 0.0, \"Cholesterol\": 10, \"Cholesterol (% Daily Value)\": 3, \"Sodium\": 150, \"Sodium (% Daily Value)\": 6, \"Carbohydrates\": 20, \"Carbohydrates (% Daily Value)\": 7, \"Dietary Fiber\": 6, \"Dietary Fiber (% Daily Value)\": 23, \"Sugars\": 6, \"Protein\": 6, \"Vitamin A (% Daily Value)\": 160, \"Vitamin C (% Daily Value)\": 25, \"Calcium (% Daily Value)\": 15, \"Iron (% Daily Value)\": 10, \"Prediction\": \"Coffee & Tea\"}, {\"Category\": \"Salads\", \"Item\": \"Premium Southwest Salad with Crispy Chicken\", \"Serving Size\": \"12.3 oz (348 g)\", \"Calories\": 450, \"Calories from Fat\": 190, \"Total Fat\": 22.0, \"Total Fat (% Daily Value)\": 33, \"Saturated Fat\": 4.5, \"Saturated Fat (% Daily Value)\": 22, \"Trans Fat\": 0.0, \"Cholesterol\": 50, \"Cholesterol (% Daily Value)\": 17, \"Sodium\": 850, \"Sodium (% Daily Value)\": 35, \"Carbohydrates\": 42, \"Carbohydrates (% Daily Value)\": 14, \"Dietary Fiber\": 7, \"Dietary Fiber (% Daily Value)\": 28, \"Sugars\": 12, \"Protein\": 23, \"Vitamin A (% Daily Value)\": 170, \"Vitamin C (% Daily Value)\": 30, \"Calcium (% Daily Value)\": 15, \"Iron (% Daily Value)\": 15, \"Prediction\": \"Beef & Pork\"}, {\"Category\": \"Salads\", \"Item\": \"Premium Southwest Salad with Grilled Chicken\", \"Serving Size\": \"11.8 oz (335 g)\", \"Calories\": 290, \"Calories from Fat\": 80, \"Total Fat\": 8.0, \"Total Fat (% Daily Value)\": 13, \"Saturated Fat\": 2.5, \"Saturated Fat (% Daily Value)\": 13, \"Trans Fat\": 0.0, \"Cholesterol\": 70, \"Cholesterol (% Daily Value)\": 23, \"Sodium\": 680, \"Sodium (% Daily Value)\": 28, \"Carbohydrates\": 28, \"Carbohydrates (% Daily Value)\": 9, \"Dietary Fiber\": 7, \"Dietary Fiber (% Daily Value)\": 28, \"Sugars\": 10, \"Protein\": 27, \"Vitamin A (% Daily Value)\": 170, \"Vitamin C (% Daily Value)\": 30, \"Calcium (% Daily Value)\": 15, \"Iron (% Daily Value)\": 15, \"Prediction\": \"Snacks & Sides\"}, {\"Category\": \"Snacks & Sides\", \"Item\": \"Chipotle BBQ Snack Wrap (Crispy Chicken)\", \"Serving Size\": \"4.6 oz (130 g)\", \"Calories\": 340, \"Calories from Fat\": 130, \"Total Fat\": 15.0, \"Total Fat (% Daily Value)\": 23, \"Saturated Fat\": 4.5, \"Saturated Fat (% Daily Value)\": 22, \"Trans Fat\": 0.0, \"Cholesterol\": 30, \"Cholesterol (% Daily Value)\": 11, \"Sodium\": 780, \"Sodium (% Daily Value)\": 33, \"Carbohydrates\": 37, \"Carbohydrates (% Daily Value)\": 12, \"Dietary Fiber\": 1, \"Dietary Fiber (% Daily Value)\": 6, \"Sugars\": 8, \"Protein\": 14, \"Vitamin A (% Daily Value)\": 4, \"Vitamin C (% Daily Value)\": 0, \"Calcium (% Daily Value)\": 10, \"Iron (% Daily Value)\": 10, \"Prediction\": \"Snacks & Sides\"}, {\"Category\": \"Snacks & Sides\", \"Item\": \"Chipotle BBQ Snack Wrap (Grilled Chicken)\", \"Serving Size\": \"4.3 oz (123 g)\", \"Calories\": 260, \"Calories from Fat\": 70, \"Total Fat\": 8.0, \"Total Fat (% Daily Value)\": 13, \"Saturated Fat\": 3.5, \"Saturated Fat (% Daily Value)\": 18, \"Trans Fat\": 0.0, \"Cholesterol\": 40, \"Cholesterol (% Daily Value)\": 14, \"Sodium\": 700, \"Sodium (% Daily Value)\": 29, \"Carbohydrates\": 30, \"Carbohydrates (% Daily Value)\": 10, \"Dietary Fiber\": 1, \"Dietary Fiber (% Daily Value)\": 6, \"Sugars\": 7, \"Protein\": 16, \"Vitamin A (% Daily Value)\": 4, \"Vitamin C (% Daily Value)\": 2, \"Calcium (% Daily Value)\": 10, \"Iron (% Daily Value)\": 10, \"Prediction\": \"Snacks & Sides\"}, {\"Category\": \"Snacks & Sides\", \"Item\": \"Honey Mustard Snack Wrap (Crispy Chicken)\", \"Serving Size\": \"4.3 oz (123 g)\", \"Calories\": 330, \"Calories from Fat\": 130, \"Total Fat\": 15.0, \"Total Fat (% Daily Value)\": 23, \"Saturated Fat\": 4.5, \"Saturated Fat (% Daily Value)\": 22, \"Trans Fat\": 0.0, \"Cholesterol\": 35, \"Cholesterol (% Daily Value)\": 11, \"Sodium\": 730, \"Sodium (% Daily Value)\": 30, \"Carbohydrates\": 34, \"Carbohydrates (% Daily Value)\": 11, \"Dietary Fiber\": 1, \"Dietary Fiber (% Daily Value)\": 5, \"Sugars\": 3, \"Protein\": 14, \"Vitamin A (% Daily Value)\": 2, \"Vitamin C (% Daily Value)\": 0, \"Calcium (% Daily Value)\": 10, \"Iron (% Daily Value)\": 10, \"Prediction\": \"Breakfast\"}, {\"Category\": \"Snacks & Sides\", \"Item\": \"Honey Mustard Snack Wrap (Grilled Chicken)\", \"Serving Size\": \"4.1 oz (116 g)\", \"Calories\": 250, \"Calories from Fat\": 70, \"Total Fat\": 8.0, \"Total Fat (% Daily Value)\": 13, \"Saturated Fat\": 3.5, \"Saturated Fat (% Daily Value)\": 18, \"Trans Fat\": 0.0, \"Cholesterol\": 45, \"Cholesterol (% Daily Value)\": 14, \"Sodium\": 650, \"Sodium (% Daily Value)\": 27, \"Carbohydrates\": 27, \"Carbohydrates (% Daily Value)\": 9, \"Dietary Fiber\": 1, \"Dietary Fiber (% Daily Value)\": 5, \"Sugars\": 2, \"Protein\": 16, \"Vitamin A (% Daily Value)\": 2, \"Vitamin C (% Daily Value)\": 2, \"Calcium (% Daily Value)\": 10, \"Iron (% Daily Value)\": 10, \"Prediction\": \"Snacks & Sides\"}, {\"Category\": \"Snacks & Sides\", \"Item\": \"Ranch Snack Wrap (Crispy Chicken)\", \"Serving Size\": \"4.5 oz (128 g)\", \"Calories\": 360, \"Calories from Fat\": 180, \"Total Fat\": 20.0, \"Total Fat (% Daily Value)\": 30, \"Saturated Fat\": 5.0, \"Saturated Fat (% Daily Value)\": 27, \"Trans Fat\": 0.0, \"Cholesterol\": 40, \"Cholesterol (% Daily Value)\": 13, \"Sodium\": 810, \"Sodium (% Daily Value)\": 34, \"Carbohydrates\": 32, \"Carbohydrates (% Daily Value)\": 11, \"Dietary Fiber\": 1, \"Dietary Fiber (% Daily Value)\": 5, \"Sugars\": 3, \"Protein\": 15, \"Vitamin A (% Daily Value)\": 2, \"Vitamin C (% Daily Value)\": 0, \"Calcium (% Daily Value)\": 10, \"Iron (% Daily Value)\": 10, \"Prediction\": \"Chicken & Fish\"}, {\"Category\": \"Snacks & Sides\", \"Item\": \"Ranch Snack Wrap (Grilled Chicken)\", \"Serving Size\": \"4.3 oz (121 g)\", \"Calories\": 280, \"Calories from Fat\": 120, \"Total Fat\": 13.0, \"Total Fat (% Daily Value)\": 20, \"Saturated Fat\": 4.5, \"Saturated Fat (% Daily Value)\": 22, \"Trans Fat\": 0.0, \"Cholesterol\": 45, \"Cholesterol (% Daily Value)\": 16, \"Sodium\": 720, \"Sodium (% Daily Value)\": 30, \"Carbohydrates\": 25, \"Carbohydrates (% Daily Value)\": 8, \"Dietary Fiber\": 1, \"Dietary Fiber (% Daily Value)\": 5, \"Sugars\": 2, \"Protein\": 16, \"Vitamin A (% Daily Value)\": 2, \"Vitamin C (% Daily Value)\": 2, \"Calcium (% Daily Value)\": 10, \"Iron (% Daily Value)\": 10, \"Prediction\": \"Snacks & Sides\"}, {\"Category\": \"Snacks & Sides\", \"Item\": \"Small French Fries\", \"Serving Size\": \"2.6 oz (75 g)\", \"Calories\": 230, \"Calories from Fat\": 100, \"Total Fat\": 11.0, \"Total Fat (% Daily Value)\": 17, \"Saturated Fat\": 1.5, \"Saturated Fat (% Daily Value)\": 8, \"Trans Fat\": 0.0, \"Cholesterol\": 0, \"Cholesterol (% Daily Value)\": 0, \"Sodium\": 130, \"Sodium (% Daily Value)\": 5, \"Carbohydrates\": 30, \"Carbohydrates (% Daily Value)\": 10, \"Dietary Fiber\": 2, \"Dietary Fiber (% Daily Value)\": 10, \"Sugars\": 0, \"Protein\": 2, \"Vitamin A (% Daily Value)\": 0, \"Vitamin C (% Daily Value)\": 30, \"Calcium (% Daily Value)\": 0, \"Iron (% Daily Value)\": 4, \"Prediction\": \"Coffee & Tea\"}, {\"Category\": \"Snacks & Sides\", \"Item\": \"Medium French Fries\", \"Serving Size\": \"3.9 oz (111 g)\", \"Calories\": 340, \"Calories from Fat\": 140, \"Total Fat\": 16.0, \"Total Fat (% Daily Value)\": 24, \"Saturated Fat\": 2.5, \"Saturated Fat (% Daily Value)\": 11, \"Trans Fat\": 0.0, \"Cholesterol\": 0, \"Cholesterol (% Daily Value)\": 0, \"Sodium\": 190, \"Sodium (% Daily Value)\": 8, \"Carbohydrates\": 44, \"Carbohydrates (% Daily Value)\": 15, \"Dietary Fiber\": 4, \"Dietary Fiber (% Daily Value)\": 14, \"Sugars\": 0, \"Protein\": 4, \"Vitamin A (% Daily Value)\": 0, \"Vitamin C (% Daily Value)\": 45, \"Calcium (% Daily Value)\": 2, \"Iron (% Daily Value)\": 4, \"Prediction\": \"Coffee & Tea\"}, {\"Category\": \"Snacks & Sides\", \"Item\": \"Large French Fries\", \"Serving Size\": \"5.9 oz (168 g)\", \"Calories\": 510, \"Calories from Fat\": 220, \"Total Fat\": 24.0, \"Total Fat (% Daily Value)\": 37, \"Saturated Fat\": 3.5, \"Saturated Fat (% Daily Value)\": 17, \"Trans Fat\": 0.0, \"Cholesterol\": 0, \"Cholesterol (% Daily Value)\": 0, \"Sodium\": 290, \"Sodium (% Daily Value)\": 12, \"Carbohydrates\": 67, \"Carbohydrates (% Daily Value)\": 22, \"Dietary Fiber\": 5, \"Dietary Fiber (% Daily Value)\": 22, \"Sugars\": 0, \"Protein\": 6, \"Vitamin A (% Daily Value)\": 0, \"Vitamin C (% Daily Value)\": 70, \"Calcium (% Daily Value)\": 2, \"Iron (% Daily Value)\": 8, \"Prediction\": \"Smoothies & Shakes\"}, {\"Category\": \"Snacks & Sides\", \"Item\": \"Kids French Fries\", \"Serving Size\": \"1.3 oz (38 g)\", \"Calories\": 110, \"Calories from Fat\": 50, \"Total Fat\": 5.0, \"Total Fat (% Daily Value)\": 8, \"Saturated Fat\": 1.0, \"Saturated Fat (% Daily Value)\": 4, \"Trans Fat\": 0.0, \"Cholesterol\": 0, \"Cholesterol (% Daily Value)\": 0, \"Sodium\": 65, \"Sodium (% Daily Value)\": 3, \"Carbohydrates\": 15, \"Carbohydrates (% Daily Value)\": 5, \"Dietary Fiber\": 1, \"Dietary Fiber (% Daily Value)\": 5, \"Sugars\": 0, \"Protein\": 1, \"Vitamin A (% Daily Value)\": 0, \"Vitamin C (% Daily Value)\": 15, \"Calcium (% Daily Value)\": 0, \"Iron (% Daily Value)\": 2, \"Prediction\": \"Coffee & Tea\"}, {\"Category\": \"Snacks & Sides\", \"Item\": \"Side Salad\", \"Serving Size\": \"3.1 oz (87 g)\", \"Calories\": 20, \"Calories from Fat\": 0, \"Total Fat\": 0.0, \"Total Fat (% Daily Value)\": 0, \"Saturated Fat\": 0.0, \"Saturated Fat (% Daily Value)\": 0, \"Trans Fat\": 0.0, \"Cholesterol\": 0, \"Cholesterol (% Daily Value)\": 0, \"Sodium\": 10, \"Sodium (% Daily Value)\": 0, \"Carbohydrates\": 4, \"Carbohydrates (% Daily Value)\": 1, \"Dietary Fiber\": 1, \"Dietary Fiber (% Daily Value)\": 6, \"Sugars\": 2, \"Protein\": 1, \"Vitamin A (% Daily Value)\": 45, \"Vitamin C (% Daily Value)\": 25, \"Calcium (% Daily Value)\": 2, \"Iron (% Daily Value)\": 4, \"Prediction\": \"Coffee & Tea\"}, {\"Category\": \"Snacks & Sides\", \"Item\": \"Apple Slices\", \"Serving Size\": \"1.2 oz (34 g)\", \"Calories\": 15, \"Calories from Fat\": 0, \"Total Fat\": 0.0, \"Total Fat (% Daily Value)\": 0, \"Saturated Fat\": 0.0, \"Saturated Fat (% Daily Value)\": 0, \"Trans Fat\": 0.0, \"Cholesterol\": 0, \"Cholesterol (% Daily Value)\": 0, \"Sodium\": 0, \"Sodium (% Daily Value)\": 0, \"Carbohydrates\": 4, \"Carbohydrates (% Daily Value)\": 1, \"Dietary Fiber\": 0, \"Dietary Fiber (% Daily Value)\": 0, \"Sugars\": 3, \"Protein\": 0, \"Vitamin A (% Daily Value)\": 0, \"Vitamin C (% Daily Value)\": 160, \"Calcium (% Daily Value)\": 2, \"Iron (% Daily Value)\": 0, \"Prediction\": \"Coffee & Tea\"}, {\"Category\": \"Snacks & Sides\", \"Item\": \"Fruit 'n Yogurt Parfait\", \"Serving Size\": \"5.2 oz (149 g)\", \"Calories\": 150, \"Calories from Fat\": 20, \"Total Fat\": 2.0, \"Total Fat (% Daily Value)\": 3, \"Saturated Fat\": 1.0, \"Saturated Fat (% Daily Value)\": 5, \"Trans Fat\": 0.0, \"Cholesterol\": 5, \"Cholesterol (% Daily Value)\": 2, \"Sodium\": 70, \"Sodium (% Daily Value)\": 3, \"Carbohydrates\": 30, \"Carbohydrates (% Daily Value)\": 10, \"Dietary Fiber\": 1, \"Dietary Fiber (% Daily Value)\": 3, \"Sugars\": 23, \"Protein\": 4, \"Vitamin A (% Daily Value)\": 2, \"Vitamin C (% Daily Value)\": 15, \"Calcium (% Daily Value)\": 10, \"Iron (% Daily Value)\": 4, \"Prediction\": \"Coffee & Tea\"}, {\"Category\": \"Desserts\", \"Item\": \"Baked Apple Pie\", \"Serving Size\": \"2.7 oz (77 g)\", \"Calories\": 250, \"Calories from Fat\": 110, \"Total Fat\": 13.0, \"Total Fat (% Daily Value)\": 19, \"Saturated Fat\": 7.0, \"Saturated Fat (% Daily Value)\": 35, \"Trans Fat\": 0.0, \"Cholesterol\": 0, \"Cholesterol (% Daily Value)\": 0, \"Sodium\": 170, \"Sodium (% Daily Value)\": 7, \"Carbohydrates\": 32, \"Carbohydrates (% Daily Value)\": 11, \"Dietary Fiber\": 4, \"Dietary Fiber (% Daily Value)\": 15, \"Sugars\": 13, \"Protein\": 2, \"Vitamin A (% Daily Value)\": 4, \"Vitamin C (% Daily Value)\": 25, \"Calcium (% Daily Value)\": 2, \"Iron (% Daily Value)\": 6, \"Prediction\": \"Coffee & Tea\"}, {\"Category\": \"Desserts\", \"Item\": \"Chocolate Chip Cookie\", \"Serving Size\": \"1 cookie (33 g)\", \"Calories\": 160, \"Calories from Fat\": 70, \"Total Fat\": 8.0, \"Total Fat (% Daily Value)\": 12, \"Saturated Fat\": 3.5, \"Saturated Fat (% Daily Value)\": 19, \"Trans Fat\": 0.0, \"Cholesterol\": 10, \"Cholesterol (% Daily Value)\": 3, \"Sodium\": 90, \"Sodium (% Daily Value)\": 4, \"Carbohydrates\": 21, \"Carbohydrates (% Daily Value)\": 7, \"Dietary Fiber\": 1, \"Dietary Fiber (% Daily Value)\": 3, \"Sugars\": 15, \"Protein\": 2, \"Vitamin A (% Daily Value)\": 2, \"Vitamin C (% Daily Value)\": 0, \"Calcium (% Daily Value)\": 2, \"Iron (% Daily Value)\": 8, \"Prediction\": \"Coffee & Tea\"}, {\"Category\": \"Desserts\", \"Item\": \"Oatmeal Raisin Cookie\", \"Serving Size\": \"1 cookie (33 g)\", \"Calories\": 150, \"Calories from Fat\": 50, \"Total Fat\": 6.0, \"Total Fat (% Daily Value)\": 9, \"Saturated Fat\": 2.5, \"Saturated Fat (% Daily Value)\": 13, \"Trans Fat\": 0.0, \"Cholesterol\": 10, \"Cholesterol (% Daily Value)\": 3, \"Sodium\": 135, \"Sodium (% Daily Value)\": 6, \"Carbohydrates\": 22, \"Carbohydrates (% Daily Value)\": 7, \"Dietary Fiber\": 1, \"Dietary Fiber (% Daily Value)\": 3, \"Sugars\": 13, \"Protein\": 2, \"Vitamin A (% Daily Value)\": 2, \"Vitamin C (% Daily Value)\": 0, \"Calcium (% Daily Value)\": 2, \"Iron (% Daily Value)\": 6, \"Prediction\": \"Coffee & Tea\"}, {\"Category\": \"Desserts\", \"Item\": \"Kids Ice Cream Cone\", \"Serving Size\": \"1 oz (29 g)\", \"Calories\": 45, \"Calories from Fat\": 10, \"Total Fat\": 1.5, \"Total Fat (% Daily Value)\": 2, \"Saturated Fat\": 1.0, \"Saturated Fat (% Daily Value)\": 4, \"Trans Fat\": 0.0, \"Cholesterol\": 5, \"Cholesterol (% Daily Value)\": 2, \"Sodium\": 20, \"Sodium (% Daily Value)\": 1, \"Carbohydrates\": 7, \"Carbohydrates (% Daily Value)\": 2, \"Dietary Fiber\": 0, \"Dietary Fiber (% Daily Value)\": 0, \"Sugars\": 6, \"Protein\": 1, \"Vitamin A (% Daily Value)\": 2, \"Vitamin C (% Daily Value)\": 0, \"Calcium (% Daily Value)\": 4, \"Iron (% Daily Value)\": 0, \"Prediction\": \"Snacks & Sides\"}, {\"Category\": \"Desserts\", \"Item\": \"Hot Fudge Sundae\", \"Serving Size\": \"6.3 oz (179 g)\", \"Calories\": 330, \"Calories from Fat\": 80, \"Total Fat\": 9.0, \"Total Fat (% Daily Value)\": 14, \"Saturated Fat\": 7.0, \"Saturated Fat (% Daily Value)\": 34, \"Trans Fat\": 0.0, \"Cholesterol\": 25, \"Cholesterol (% Daily Value)\": 8, \"Sodium\": 170, \"Sodium (% Daily Value)\": 7, \"Carbohydrates\": 53, \"Carbohydrates (% Daily Value)\": 18, \"Dietary Fiber\": 1, \"Dietary Fiber (% Daily Value)\": 3, \"Sugars\": 48, \"Protein\": 8, \"Vitamin A (% Daily Value)\": 8, \"Vitamin C (% Daily Value)\": 0, \"Calcium (% Daily Value)\": 25, \"Iron (% Daily Value)\": 8, \"Prediction\": \"Coffee & Tea\"}, {\"Category\": \"Desserts\", \"Item\": \"Hot Caramel Sundae\", \"Serving Size\": \"6.4 oz (182 g)\", \"Calories\": 340, \"Calories from Fat\": 70, \"Total Fat\": 8.0, \"Total Fat (% Daily Value)\": 12, \"Saturated Fat\": 5.0, \"Saturated Fat (% Daily Value)\": 24, \"Trans Fat\": 0.0, \"Cholesterol\": 30, \"Cholesterol (% Daily Value)\": 10, \"Sodium\": 150, \"Sodium (% Daily Value)\": 6, \"Carbohydrates\": 60, \"Carbohydrates (% Daily Value)\": 20, \"Dietary Fiber\": 0, \"Dietary Fiber (% Daily Value)\": 0, \"Sugars\": 43, \"Protein\": 7, \"Vitamin A (% Daily Value)\": 10, \"Vitamin C (% Daily Value)\": 0, \"Calcium (% Daily Value)\": 25, \"Iron (% Daily Value)\": 0, \"Prediction\": \"Coffee & Tea\"}, {\"Category\": \"Desserts\", \"Item\": \"Strawberry Sundae\", \"Serving Size\": \"6.3 oz (178 g)\", \"Calories\": 280, \"Calories from Fat\": 60, \"Total Fat\": 6.0, \"Total Fat (% Daily Value)\": 10, \"Saturated Fat\": 4.0, \"Saturated Fat (% Daily Value)\": 20, \"Trans Fat\": 0.0, \"Cholesterol\": 25, \"Cholesterol (% Daily Value)\": 8, \"Sodium\": 85, \"Sodium (% Daily Value)\": 4, \"Carbohydrates\": 49, \"Carbohydrates (% Daily Value)\": 16, \"Dietary Fiber\": 0, \"Dietary Fiber (% Daily Value)\": 0, \"Sugars\": 45, \"Protein\": 6, \"Vitamin A (% Daily Value)\": 8, \"Vitamin C (% Daily Value)\": 4, \"Calcium (% Daily Value)\": 20, \"Iron (% Daily Value)\": 0, \"Prediction\": \"Beverages\"}, {\"Category\": \"Beverages\", \"Item\": \"Coca-Cola Classic (Small)\", \"Serving Size\": \"16 fl oz cup\", \"Calories\": 140, \"Calories from Fat\": 0, \"Total Fat\": 0.0, \"Total Fat (% Daily Value)\": 0, \"Saturated Fat\": 0.0, \"Saturated Fat (% Daily Value)\": 0, \"Trans Fat\": 0.0, \"Cholesterol\": 0, \"Cholesterol (% Daily Value)\": 0, \"Sodium\": 0, \"Sodium (% Daily Value)\": 0, \"Carbohydrates\": 39, \"Carbohydrates (% Daily Value)\": 13, \"Dietary Fiber\": 0, \"Dietary Fiber (% Daily Value)\": 0, \"Sugars\": 39, \"Protein\": 0, \"Vitamin A (% Daily Value)\": 0, \"Vitamin C (% Daily Value)\": 0, \"Calcium (% Daily Value)\": 0, \"Iron (% Daily Value)\": 0, \"Prediction\": \"Beverages\"}, {\"Category\": \"Beverages\", \"Item\": \"Coca-Cola Classic (Medium)\", \"Serving Size\": \"21 fl oz cup\", \"Calories\": 200, \"Calories from Fat\": 0, \"Total Fat\": 0.0, \"Total Fat (% Daily Value)\": 0, \"Saturated Fat\": 0.0, \"Saturated Fat (% Daily Value)\": 0, \"Trans Fat\": 0.0, \"Cholesterol\": 0, \"Cholesterol (% Daily Value)\": 0, \"Sodium\": 5, \"Sodium (% Daily Value)\": 0, \"Carbohydrates\": 55, \"Carbohydrates (% Daily Value)\": 18, \"Dietary Fiber\": 0, \"Dietary Fiber (% Daily Value)\": 0, \"Sugars\": 55, \"Protein\": 0, \"Vitamin A (% Daily Value)\": 0, \"Vitamin C (% Daily Value)\": 0, \"Calcium (% Daily Value)\": 0, \"Iron (% Daily Value)\": 0, \"Prediction\": \"Coffee & Tea\"}, {\"Category\": \"Beverages\", \"Item\": \"Coca-Cola Classic (Large)\", \"Serving Size\": \"30 fl oz cup\", \"Calories\": 280, \"Calories from Fat\": 0, \"Total Fat\": 0.0, \"Total Fat (% Daily Value)\": 0, \"Saturated Fat\": 0.0, \"Saturated Fat (% Daily Value)\": 0, \"Trans Fat\": 0.0, \"Cholesterol\": 0, \"Cholesterol (% Daily Value)\": 0, \"Sodium\": 5, \"Sodium (% Daily Value)\": 0, \"Carbohydrates\": 76, \"Carbohydrates (% Daily Value)\": 25, \"Dietary Fiber\": 0, \"Dietary Fiber (% Daily Value)\": 0, \"Sugars\": 76, \"Protein\": 0, \"Vitamin A (% Daily Value)\": 0, \"Vitamin C (% Daily Value)\": 0, \"Calcium (% Daily Value)\": 0, \"Iron (% Daily Value)\": 0, \"Prediction\": \"Beverages\"}, {\"Category\": \"Beverages\", \"Item\": \"Coca-Cola Classic (Child)\", \"Serving Size\": \"12 fl oz cup\", \"Calories\": 100, \"Calories from Fat\": 0, \"Total Fat\": 0.0, \"Total Fat (% Daily Value)\": 0, \"Saturated Fat\": 0.0, \"Saturated Fat (% Daily Value)\": 0, \"Trans Fat\": 0.0, \"Cholesterol\": 0, \"Cholesterol (% Daily Value)\": 0, \"Sodium\": 0, \"Sodium (% Daily Value)\": 0, \"Carbohydrates\": 28, \"Carbohydrates (% Daily Value)\": 9, \"Dietary Fiber\": 0, \"Dietary Fiber (% Daily Value)\": 0, \"Sugars\": 28, \"Protein\": 0, \"Vitamin A (% Daily Value)\": 0, \"Vitamin C (% Daily Value)\": 0, \"Calcium (% Daily Value)\": 0, \"Iron (% Daily Value)\": 0, \"Prediction\": \"Beverages\"}, {\"Category\": \"Beverages\", \"Item\": \"Diet Coke (Small)\", \"Serving Size\": \"16 fl oz cup\", \"Calories\": 0, \"Calories from Fat\": 0, \"Total Fat\": 0.0, \"Total Fat (% Daily Value)\": 0, \"Saturated Fat\": 0.0, \"Saturated Fat (% Daily Value)\": 0, \"Trans Fat\": 0.0, \"Cholesterol\": 0, \"Cholesterol (% Daily Value)\": 0, \"Sodium\": 10, \"Sodium (% Daily Value)\": 0, \"Carbohydrates\": 0, \"Carbohydrates (% Daily Value)\": 0, \"Dietary Fiber\": 0, \"Dietary Fiber (% Daily Value)\": 0, \"Sugars\": 0, \"Protein\": 0, \"Vitamin A (% Daily Value)\": 0, \"Vitamin C (% Daily Value)\": 0, \"Calcium (% Daily Value)\": 0, \"Iron (% Daily Value)\": 0, \"Prediction\": \"Coffee & Tea\"}, {\"Category\": \"Beverages\", \"Item\": \"Diet Coke (Medium)\", \"Serving Size\": \"21 fl oz cup\", \"Calories\": 0, \"Calories from Fat\": 0, \"Total Fat\": 0.0, \"Total Fat (% Daily Value)\": 0, \"Saturated Fat\": 0.0, \"Saturated Fat (% Daily Value)\": 0, \"Trans Fat\": 0.0, \"Cholesterol\": 0, \"Cholesterol (% Daily Value)\": 0, \"Sodium\": 20, \"Sodium (% Daily Value)\": 1, \"Carbohydrates\": 0, \"Carbohydrates (% Daily Value)\": 0, \"Dietary Fiber\": 0, \"Dietary Fiber (% Daily Value)\": 0, \"Sugars\": 0, \"Protein\": 0, \"Vitamin A (% Daily Value)\": 0, \"Vitamin C (% Daily Value)\": 0, \"Calcium (% Daily Value)\": 0, \"Iron (% Daily Value)\": 0, \"Prediction\": \"Coffee & Tea\"}, {\"Category\": \"Beverages\", \"Item\": \"Diet Coke (Large)\", \"Serving Size\": \"30 fl oz cup\", \"Calories\": 0, \"Calories from Fat\": 0, \"Total Fat\": 0.0, \"Total Fat (% Daily Value)\": 0, \"Saturated Fat\": 0.0, \"Saturated Fat (% Daily Value)\": 0, \"Trans Fat\": 0.0, \"Cholesterol\": 0, \"Cholesterol (% Daily Value)\": 0, \"Sodium\": 35, \"Sodium (% Daily Value)\": 1, \"Carbohydrates\": 0, \"Carbohydrates (% Daily Value)\": 0, \"Dietary Fiber\": 0, \"Dietary Fiber (% Daily Value)\": 0, \"Sugars\": 0, \"Protein\": 0, \"Vitamin A (% Daily Value)\": 0, \"Vitamin C (% Daily Value)\": 0, \"Calcium (% Daily Value)\": 0, \"Iron (% Daily Value)\": 0, \"Prediction\": \"Coffee & Tea\"}, {\"Category\": \"Beverages\", \"Item\": \"Diet Coke (Child)\", \"Serving Size\": \"12 fl oz cup\", \"Calories\": 0, \"Calories from Fat\": 0, \"Total Fat\": 0.0, \"Total Fat (% Daily Value)\": 0, \"Saturated Fat\": 0.0, \"Saturated Fat (% Daily Value)\": 0, \"Trans Fat\": 0.0, \"Cholesterol\": 0, \"Cholesterol (% Daily Value)\": 0, \"Sodium\": 15, \"Sodium (% Daily Value)\": 1, \"Carbohydrates\": 0, \"Carbohydrates (% Daily Value)\": 0, \"Dietary Fiber\": 0, \"Dietary Fiber (% Daily Value)\": 0, \"Sugars\": 0, \"Protein\": 0, \"Vitamin A (% Daily Value)\": 0, \"Vitamin C (% Daily Value)\": 0, \"Calcium (% Daily Value)\": 0, \"Iron (% Daily Value)\": 0, \"Prediction\": \"Coffee & Tea\"}, {\"Category\": \"Beverages\", \"Item\": \"Dr Pepper (Small)\", \"Serving Size\": \"16 fl oz cup\", \"Calories\": 140, \"Calories from Fat\": 0, \"Total Fat\": 0.0, \"Total Fat (% Daily Value)\": 0, \"Saturated Fat\": 0.0, \"Saturated Fat (% Daily Value)\": 0, \"Trans Fat\": 0.0, \"Cholesterol\": 0, \"Cholesterol (% Daily Value)\": 0, \"Sodium\": 45, \"Sodium (% Daily Value)\": 2, \"Carbohydrates\": 37, \"Carbohydrates (% Daily Value)\": 12, \"Dietary Fiber\": 0, \"Dietary Fiber (% Daily Value)\": 0, \"Sugars\": 35, \"Protein\": 0, \"Vitamin A (% Daily Value)\": 0, \"Vitamin C (% Daily Value)\": 0, \"Calcium (% Daily Value)\": 0, \"Iron (% Daily Value)\": 0, \"Prediction\": \"Coffee & Tea\"}, {\"Category\": \"Beverages\", \"Item\": \"Dr Pepper (Medium)\", \"Serving Size\": \"21 fl oz cup\", \"Calories\": 190, \"Calories from Fat\": 0, \"Total Fat\": 0.0, \"Total Fat (% Daily Value)\": 0, \"Saturated Fat\": 0.0, \"Saturated Fat (% Daily Value)\": 0, \"Trans Fat\": 0.0, \"Cholesterol\": 0, \"Cholesterol (% Daily Value)\": 0, \"Sodium\": 65, \"Sodium (% Daily Value)\": 3, \"Carbohydrates\": 53, \"Carbohydrates (% Daily Value)\": 18, \"Dietary Fiber\": 0, \"Dietary Fiber (% Daily Value)\": 0, \"Sugars\": 51, \"Protein\": 0, \"Vitamin A (% Daily Value)\": 0, \"Vitamin C (% Daily Value)\": 0, \"Calcium (% Daily Value)\": 0, \"Iron (% Daily Value)\": 0, \"Prediction\": \"Coffee & Tea\"}, {\"Category\": \"Beverages\", \"Item\": \"Dr Pepper (Large)\", \"Serving Size\": \"30 fl oz cup\", \"Calories\": 270, \"Calories from Fat\": 0, \"Total Fat\": 0.0, \"Total Fat (% Daily Value)\": 0, \"Saturated Fat\": 0.0, \"Saturated Fat (% Daily Value)\": 0, \"Trans Fat\": 0.0, \"Cholesterol\": 0, \"Cholesterol (% Daily Value)\": 0, \"Sodium\": 90, \"Sodium (% Daily Value)\": 4, \"Carbohydrates\": 72, \"Carbohydrates (% Daily Value)\": 24, \"Dietary Fiber\": 0, \"Dietary Fiber (% Daily Value)\": 0, \"Sugars\": 70, \"Protein\": 0, \"Vitamin A (% Daily Value)\": 0, \"Vitamin C (% Daily Value)\": 0, \"Calcium (% Daily Value)\": 0, \"Iron (% Daily Value)\": 0, \"Prediction\": \"Coffee & Tea\"}, {\"Category\": \"Beverages\", \"Item\": \"Dr Pepper (Child)\", \"Serving Size\": \"12 fl oz cup\", \"Calories\": 100, \"Calories from Fat\": 0, \"Total Fat\": 0.0, \"Total Fat (% Daily Value)\": 0, \"Saturated Fat\": 0.0, \"Saturated Fat (% Daily Value)\": 0, \"Trans Fat\": 0.0, \"Cholesterol\": 0, \"Cholesterol (% Daily Value)\": 0, \"Sodium\": 30, \"Sodium (% Daily Value)\": 1, \"Carbohydrates\": 27, \"Carbohydrates (% Daily Value)\": 9, \"Dietary Fiber\": 0, \"Dietary Fiber (% Daily Value)\": 0, \"Sugars\": 26, \"Protein\": 0, \"Vitamin A (% Daily Value)\": 0, \"Vitamin C (% Daily Value)\": 0, \"Calcium (% Daily Value)\": 0, \"Iron (% Daily Value)\": 0, \"Prediction\": \"Beverages\"}, {\"Category\": \"Beverages\", \"Item\": \"Diet Dr Pepper (Small)\", \"Serving Size\": \"16 fl oz cup\", \"Calories\": 0, \"Calories from Fat\": 0, \"Total Fat\": 0.0, \"Total Fat (% Daily Value)\": 0, \"Saturated Fat\": 0.0, \"Saturated Fat (% Daily Value)\": 0, \"Trans Fat\": 0.0, \"Cholesterol\": 0, \"Cholesterol (% Daily Value)\": 0, \"Sodium\": 70, \"Sodium (% Daily Value)\": 3, \"Carbohydrates\": 0, \"Carbohydrates (% Daily Value)\": 0, \"Dietary Fiber\": 0, \"Dietary Fiber (% Daily Value)\": 0, \"Sugars\": 0, \"Protein\": 2, \"Vitamin A (% Daily Value)\": 0, \"Vitamin C (% Daily Value)\": 0, \"Calcium (% Daily Value)\": 0, \"Iron (% Daily Value)\": 0, \"Prediction\": \"Beverages\"}, {\"Category\": \"Beverages\", \"Item\": \"Diet Dr Pepper (Medium)\", \"Serving Size\": \"21 fl oz cup\", \"Calories\": 0, \"Calories from Fat\": 0, \"Total Fat\": 0.0, \"Total Fat (% Daily Value)\": 0, \"Saturated Fat\": 0.0, \"Saturated Fat (% Daily Value)\": 0, \"Trans Fat\": 0.0, \"Cholesterol\": 0, \"Cholesterol (% Daily Value)\": 0, \"Sodium\": 100, \"Sodium (% Daily Value)\": 4, \"Carbohydrates\": 0, \"Carbohydrates (% Daily Value)\": 0, \"Dietary Fiber\": 0, \"Dietary Fiber (% Daily Value)\": 0, \"Sugars\": 0, \"Protein\": 3, \"Vitamin A (% Daily Value)\": 0, \"Vitamin C (% Daily Value)\": 0, \"Calcium (% Daily Value)\": 0, \"Iron (% Daily Value)\": 0, \"Prediction\": \"Beverages\"}, {\"Category\": \"Beverages\", \"Item\": \"Diet Dr Pepper (Large)\", \"Serving Size\": \"30 fl oz cup\", \"Calories\": 0, \"Calories from Fat\": 0, \"Total Fat\": 0.0, \"Total Fat (% Daily Value)\": 0, \"Saturated Fat\": 0.0, \"Saturated Fat (% Daily Value)\": 0, \"Trans Fat\": 0.0, \"Cholesterol\": 0, \"Cholesterol (% Daily Value)\": 0, \"Sodium\": 140, \"Sodium (% Daily Value)\": 6, \"Carbohydrates\": 0, \"Carbohydrates (% Daily Value)\": 0, \"Dietary Fiber\": 0, \"Dietary Fiber (% Daily Value)\": 0, \"Sugars\": 0, \"Protein\": 4, \"Vitamin A (% Daily Value)\": 0, \"Vitamin C (% Daily Value)\": 0, \"Calcium (% Daily Value)\": 0, \"Iron (% Daily Value)\": 0, \"Prediction\": \"Beverages\"}, {\"Category\": \"Beverages\", \"Item\": \"Diet Dr Pepper (Child)\", \"Serving Size\": \"12 fl oz cup\", \"Calories\": 0, \"Calories from Fat\": 0, \"Total Fat\": 0.0, \"Total Fat (% Daily Value)\": 0, \"Saturated Fat\": 0.0, \"Saturated Fat (% Daily Value)\": 0, \"Trans Fat\": 0.0, \"Cholesterol\": 0, \"Cholesterol (% Daily Value)\": 0, \"Sodium\": 50, \"Sodium (% Daily Value)\": 2, \"Carbohydrates\": 0, \"Carbohydrates (% Daily Value)\": 0, \"Dietary Fiber\": 0, \"Dietary Fiber (% Daily Value)\": 0, \"Sugars\": 0, \"Protein\": 1, \"Vitamin A (% Daily Value)\": 0, \"Vitamin C (% Daily Value)\": 0, \"Calcium (% Daily Value)\": 0, \"Iron (% Daily Value)\": 0, \"Prediction\": \"Beverages\"}, {\"Category\": \"Beverages\", \"Item\": \"Sprite (Small)\", \"Serving Size\": \"16 fl oz cup\", \"Calories\": 140, \"Calories from Fat\": 0, \"Total Fat\": 0.0, \"Total Fat (% Daily Value)\": 0, \"Saturated Fat\": 0.0, \"Saturated Fat (% Daily Value)\": 0, \"Trans Fat\": 0.0, \"Cholesterol\": 0, \"Cholesterol (% Daily Value)\": 0, \"Sodium\": 30, \"Sodium (% Daily Value)\": 1, \"Carbohydrates\": 37, \"Carbohydrates (% Daily Value)\": 12, \"Dietary Fiber\": 0, \"Dietary Fiber (% Daily Value)\": 0, \"Sugars\": 37, \"Protein\": 0, \"Vitamin A (% Daily Value)\": 0, \"Vitamin C (% Daily Value)\": 0, \"Calcium (% Daily Value)\": 0, \"Iron (% Daily Value)\": 0, \"Prediction\": \"Beverages\"}, {\"Category\": \"Beverages\", \"Item\": \"Sprite (Medium)\", \"Serving Size\": \"21 fl oz cup\", \"Calories\": 200, \"Calories from Fat\": 0, \"Total Fat\": 0.0, \"Total Fat (% Daily Value)\": 0, \"Saturated Fat\": 0.0, \"Saturated Fat (% Daily Value)\": 0, \"Trans Fat\": 0.0, \"Cholesterol\": 0, \"Cholesterol (% Daily Value)\": 0, \"Sodium\": 45, \"Sodium (% Daily Value)\": 2, \"Carbohydrates\": 54, \"Carbohydrates (% Daily Value)\": 18, \"Dietary Fiber\": 0, \"Dietary Fiber (% Daily Value)\": 0, \"Sugars\": 54, \"Protein\": 0, \"Vitamin A (% Daily Value)\": 0, \"Vitamin C (% Daily Value)\": 0, \"Calcium (% Daily Value)\": 0, \"Iron (% Daily Value)\": 0, \"Prediction\": \"Smoothies & Shakes\"}, {\"Category\": \"Beverages\", \"Item\": \"Sprite (Large)\", \"Serving Size\": \"30 fl oz cup\", \"Calories\": 280, \"Calories from Fat\": 0, \"Total Fat\": 0.0, \"Total Fat (% Daily Value)\": 0, \"Saturated Fat\": 0.0, \"Saturated Fat (% Daily Value)\": 0, \"Trans Fat\": 0.0, \"Cholesterol\": 0, \"Cholesterol (% Daily Value)\": 0, \"Sodium\": 60, \"Sodium (% Daily Value)\": 3, \"Carbohydrates\": 74, \"Carbohydrates (% Daily Value)\": 25, \"Dietary Fiber\": 0, \"Dietary Fiber (% Daily Value)\": 0, \"Sugars\": 74, \"Protein\": 0, \"Vitamin A (% Daily Value)\": 0, \"Vitamin C (% Daily Value)\": 0, \"Calcium (% Daily Value)\": 0, \"Iron (% Daily Value)\": 0, \"Prediction\": \"Smoothies & Shakes\"}, {\"Category\": \"Beverages\", \"Item\": \"Sprite (Child)\", \"Serving Size\": \"12 fl oz cup\", \"Calories\": 100, \"Calories from Fat\": 0, \"Total Fat\": 0.0, \"Total Fat (% Daily Value)\": 0, \"Saturated Fat\": 0.0, \"Saturated Fat (% Daily Value)\": 0, \"Trans Fat\": 0.0, \"Cholesterol\": 0, \"Cholesterol (% Daily Value)\": 0, \"Sodium\": 25, \"Sodium (% Daily Value)\": 1, \"Carbohydrates\": 27, \"Carbohydrates (% Daily Value)\": 9, \"Dietary Fiber\": 0, \"Dietary Fiber (% Daily Value)\": 0, \"Sugars\": 27, \"Protein\": 0, \"Vitamin A (% Daily Value)\": 0, \"Vitamin C (% Daily Value)\": 0, \"Calcium (% Daily Value)\": 0, \"Iron (% Daily Value)\": 0, \"Prediction\": \"Beverages\"}, {\"Category\": \"Beverages\", \"Item\": \"1% Low Fat Milk Jug\", \"Serving Size\": \"1 carton (236 ml)\", \"Calories\": 100, \"Calories from Fat\": 20, \"Total Fat\": 2.5, \"Total Fat (% Daily Value)\": 4, \"Saturated Fat\": 1.5, \"Saturated Fat (% Daily Value)\": 8, \"Trans Fat\": 0.0, \"Cholesterol\": 10, \"Cholesterol (% Daily Value)\": 3, \"Sodium\": 125, \"Sodium (% Daily Value)\": 5, \"Carbohydrates\": 12, \"Carbohydrates (% Daily Value)\": 4, \"Dietary Fiber\": 0, \"Dietary Fiber (% Daily Value)\": 0, \"Sugars\": 12, \"Protein\": 8, \"Vitamin A (% Daily Value)\": 10, \"Vitamin C (% Daily Value)\": 4, \"Calcium (% Daily Value)\": 30, \"Iron (% Daily Value)\": 0, \"Prediction\": \"Coffee & Tea\"}, {\"Category\": \"Beverages\", \"Item\": \"Fat Free Chocolate Milk Jug\", \"Serving Size\": \"1 carton (236 ml)\", \"Calories\": 130, \"Calories from Fat\": 0, \"Total Fat\": 0.0, \"Total Fat (% Daily Value)\": 0, \"Saturated Fat\": 0.0, \"Saturated Fat (% Daily Value)\": 0, \"Trans Fat\": 0.0, \"Cholesterol\": 5, \"Cholesterol (% Daily Value)\": 2, \"Sodium\": 135, \"Sodium (% Daily Value)\": 6, \"Carbohydrates\": 23, \"Carbohydrates (% Daily Value)\": 8, \"Dietary Fiber\": 1, \"Dietary Fiber (% Daily Value)\": 2, \"Sugars\": 22, \"Protein\": 9, \"Vitamin A (% Daily Value)\": 10, \"Vitamin C (% Daily Value)\": 0, \"Calcium (% Daily Value)\": 30, \"Iron (% Daily Value)\": 8, \"Prediction\": \"Coffee & Tea\"}, {\"Category\": \"Beverages\", \"Item\": \"Minute Maid 100% Apple Juice Box\", \"Serving Size\": \"6 fl oz (177 ml)\", \"Calories\": 80, \"Calories from Fat\": 0, \"Total Fat\": 0.0, \"Total Fat (% Daily Value)\": 0, \"Saturated Fat\": 0.0, \"Saturated Fat (% Daily Value)\": 0, \"Trans Fat\": 0.0, \"Cholesterol\": 0, \"Cholesterol (% Daily Value)\": 0, \"Sodium\": 15, \"Sodium (% Daily Value)\": 1, \"Carbohydrates\": 21, \"Carbohydrates (% Daily Value)\": 7, \"Dietary Fiber\": 0, \"Dietary Fiber (% Daily Value)\": 0, \"Sugars\": 19, \"Protein\": 0, \"Vitamin A (% Daily Value)\": 0, \"Vitamin C (% Daily Value)\": 100, \"Calcium (% Daily Value)\": 10, \"Iron (% Daily Value)\": 0, \"Prediction\": \"Beverages\"}, {\"Category\": \"Beverages\", \"Item\": \"Minute Maid Orange Juice (Small)\", \"Serving Size\": \"12 fl oz cup\", \"Calories\": 150, \"Calories from Fat\": 0, \"Total Fat\": 0.0, \"Total Fat (% Daily Value)\": 0, \"Saturated Fat\": 0.0, \"Saturated Fat (% Daily Value)\": 0, \"Trans Fat\": 0.0, \"Cholesterol\": 0, \"Cholesterol (% Daily Value)\": 0, \"Sodium\": 0, \"Sodium (% Daily Value)\": 0, \"Carbohydrates\": 34, \"Carbohydrates (% Daily Value)\": 11, \"Dietary Fiber\": 0, \"Dietary Fiber (% Daily Value)\": 0, \"Sugars\": 30, \"Protein\": 2, \"Vitamin A (% Daily Value)\": 0, \"Vitamin C (% Daily Value)\": 130, \"Calcium (% Daily Value)\": 2, \"Iron (% Daily Value)\": 0, \"Prediction\": \"Beverages\"}, {\"Category\": \"Beverages\", \"Item\": \"Minute Maid Orange Juice (Medium)\", \"Serving Size\": \"16 fl oz cup\", \"Calories\": 190, \"Calories from Fat\": 0, \"Total Fat\": 0.0, \"Total Fat (% Daily Value)\": 0, \"Saturated Fat\": 0.0, \"Saturated Fat (% Daily Value)\": 0, \"Trans Fat\": 0.0, \"Cholesterol\": 0, \"Cholesterol (% Daily Value)\": 0, \"Sodium\": 0, \"Sodium (% Daily Value)\": 0, \"Carbohydrates\": 44, \"Carbohydrates (% Daily Value)\": 15, \"Dietary Fiber\": 0, \"Dietary Fiber (% Daily Value)\": 0, \"Sugars\": 39, \"Protein\": 3, \"Vitamin A (% Daily Value)\": 0, \"Vitamin C (% Daily Value)\": 160, \"Calcium (% Daily Value)\": 4, \"Iron (% Daily Value)\": 0, \"Prediction\": \"Beverages\"}, {\"Category\": \"Beverages\", \"Item\": \"Minute Maid Orange Juice (Large)\", \"Serving Size\": \"22 fl oz cup\", \"Calories\": 280, \"Calories from Fat\": 0, \"Total Fat\": 0.0, \"Total Fat (% Daily Value)\": 0, \"Saturated Fat\": 0.0, \"Saturated Fat (% Daily Value)\": 0, \"Trans Fat\": 0.0, \"Cholesterol\": 0, \"Cholesterol (% Daily Value)\": 0, \"Sodium\": 5, \"Sodium (% Daily Value)\": 0, \"Carbohydrates\": 65, \"Carbohydrates (% Daily Value)\": 22, \"Dietary Fiber\": 0, \"Dietary Fiber (% Daily Value)\": 0, \"Sugars\": 58, \"Protein\": 4, \"Vitamin A (% Daily Value)\": 0, \"Vitamin C (% Daily Value)\": 240, \"Calcium (% Daily Value)\": 4, \"Iron (% Daily Value)\": 0, \"Prediction\": \"Beverages\"}, {\"Category\": \"Beverages\", \"Item\": \"Dasani Water Bottle\", \"Serving Size\": \"16.9 fl oz\", \"Calories\": 0, \"Calories from Fat\": 0, \"Total Fat\": 0.0, \"Total Fat (% Daily Value)\": 0, \"Saturated Fat\": 0.0, \"Saturated Fat (% Daily Value)\": 0, \"Trans Fat\": 0.0, \"Cholesterol\": 0, \"Cholesterol (% Daily Value)\": 0, \"Sodium\": 0, \"Sodium (% Daily Value)\": 0, \"Carbohydrates\": 0, \"Carbohydrates (% Daily Value)\": 0, \"Dietary Fiber\": 0, \"Dietary Fiber (% Daily Value)\": 0, \"Sugars\": 0, \"Protein\": 0, \"Vitamin A (% Daily Value)\": 0, \"Vitamin C (% Daily Value)\": 0, \"Calcium (% Daily Value)\": 0, \"Iron (% Daily Value)\": 0, \"Prediction\": \"Coffee & Tea\"}, {\"Category\": \"Coffee & Tea\", \"Item\": \"Iced Tea (Small)\", \"Serving Size\": \"16 fl oz cup\", \"Calories\": 0, \"Calories from Fat\": 0, \"Total Fat\": 0.0, \"Total Fat (% Daily Value)\": 0, \"Saturated Fat\": 0.0, \"Saturated Fat (% Daily Value)\": 0, \"Trans Fat\": 0.0, \"Cholesterol\": 0, \"Cholesterol (% Daily Value)\": 0, \"Sodium\": 10, \"Sodium (% Daily Value)\": 0, \"Carbohydrates\": 0, \"Carbohydrates (% Daily Value)\": 0, \"Dietary Fiber\": 0, \"Dietary Fiber (% Daily Value)\": 0, \"Sugars\": 0, \"Protein\": 0, \"Vitamin A (% Daily Value)\": 0, \"Vitamin C (% Daily Value)\": 0, \"Calcium (% Daily Value)\": 0, \"Iron (% Daily Value)\": 0, \"Prediction\": \"Coffee & Tea\"}, {\"Category\": \"Coffee & Tea\", \"Item\": \"Iced Tea (Medium)\", \"Serving Size\": \"21 fl oz cup\", \"Calories\": 0, \"Calories from Fat\": 0, \"Total Fat\": 0.0, \"Total Fat (% Daily Value)\": 0, \"Saturated Fat\": 0.0, \"Saturated Fat (% Daily Value)\": 0, \"Trans Fat\": 0.0, \"Cholesterol\": 0, \"Cholesterol (% Daily Value)\": 0, \"Sodium\": 10, \"Sodium (% Daily Value)\": 0, \"Carbohydrates\": 0, \"Carbohydrates (% Daily Value)\": 0, \"Dietary Fiber\": 0, \"Dietary Fiber (% Daily Value)\": 0, \"Sugars\": 0, \"Protein\": 0, \"Vitamin A (% Daily Value)\": 0, \"Vitamin C (% Daily Value)\": 0, \"Calcium (% Daily Value)\": 0, \"Iron (% Daily Value)\": 0, \"Prediction\": \"Coffee & Tea\"}, {\"Category\": \"Coffee & Tea\", \"Item\": \"Iced Tea (Large)\", \"Serving Size\": \"30 fl oz cup\", \"Calories\": 0, \"Calories from Fat\": 0, \"Total Fat\": 0.0, \"Total Fat (% Daily Value)\": 0, \"Saturated Fat\": 0.0, \"Saturated Fat (% Daily Value)\": 0, \"Trans Fat\": 0.0, \"Cholesterol\": 0, \"Cholesterol (% Daily Value)\": 0, \"Sodium\": 15, \"Sodium (% Daily Value)\": 1, \"Carbohydrates\": 0, \"Carbohydrates (% Daily Value)\": 0, \"Dietary Fiber\": 0, \"Dietary Fiber (% Daily Value)\": 0, \"Sugars\": 0, \"Protein\": 0, \"Vitamin A (% Daily Value)\": 0, \"Vitamin C (% Daily Value)\": 0, \"Calcium (% Daily Value)\": 0, \"Iron (% Daily Value)\": 0, \"Prediction\": \"Coffee & Tea\"}, {\"Category\": \"Coffee & Tea\", \"Item\": \"Iced Tea (Child)\", \"Serving Size\": \"12 fl oz cup\", \"Calories\": 0, \"Calories from Fat\": 0, \"Total Fat\": 0.0, \"Total Fat (% Daily Value)\": 0, \"Saturated Fat\": 0.0, \"Saturated Fat (% Daily Value)\": 0, \"Trans Fat\": 0.0, \"Cholesterol\": 0, \"Cholesterol (% Daily Value)\": 0, \"Sodium\": 5, \"Sodium (% Daily Value)\": 0, \"Carbohydrates\": 0, \"Carbohydrates (% Daily Value)\": 0, \"Dietary Fiber\": 0, \"Dietary Fiber (% Daily Value)\": 0, \"Sugars\": 0, \"Protein\": 0, \"Vitamin A (% Daily Value)\": 0, \"Vitamin C (% Daily Value)\": 0, \"Calcium (% Daily Value)\": 0, \"Iron (% Daily Value)\": 0, \"Prediction\": \"Coffee & Tea\"}, {\"Category\": \"Coffee & Tea\", \"Item\": \"Sweet Tea (Small)\", \"Serving Size\": \"16 fl oz cup\", \"Calories\": 150, \"Calories from Fat\": 0, \"Total Fat\": 0.0, \"Total Fat (% Daily Value)\": 0, \"Saturated Fat\": 0.0, \"Saturated Fat (% Daily Value)\": 0, \"Trans Fat\": 0.0, \"Cholesterol\": 0, \"Cholesterol (% Daily Value)\": 0, \"Sodium\": 10, \"Sodium (% Daily Value)\": 0, \"Carbohydrates\": 36, \"Carbohydrates (% Daily Value)\": 12, \"Dietary Fiber\": 0, \"Dietary Fiber (% Daily Value)\": 0, \"Sugars\": 36, \"Protein\": 1, \"Vitamin A (% Daily Value)\": 0, \"Vitamin C (% Daily Value)\": 0, \"Calcium (% Daily Value)\": 0, \"Iron (% Daily Value)\": 0, \"Prediction\": \"Beverages\"}, {\"Category\": \"Coffee & Tea\", \"Item\": \"Sweet Tea (Medium)\", \"Serving Size\": \"21 fl oz cup\", \"Calories\": 180, \"Calories from Fat\": 0, \"Total Fat\": 0.0, \"Total Fat (% Daily Value)\": 0, \"Saturated Fat\": 0.0, \"Saturated Fat (% Daily Value)\": 0, \"Trans Fat\": 0.0, \"Cholesterol\": 0, \"Cholesterol (% Daily Value)\": 0, \"Sodium\": 10, \"Sodium (% Daily Value)\": 0, \"Carbohydrates\": 45, \"Carbohydrates (% Daily Value)\": 15, \"Dietary Fiber\": 0, \"Dietary Fiber (% Daily Value)\": 0, \"Sugars\": 45, \"Protein\": 1, \"Vitamin A (% Daily Value)\": 0, \"Vitamin C (% Daily Value)\": 0, \"Calcium (% Daily Value)\": 0, \"Iron (% Daily Value)\": 0, \"Prediction\": \"Beverages\"}, {\"Category\": \"Coffee & Tea\", \"Item\": \"Sweet Tea (Large)\", \"Serving Size\": \"30 fl oz cup\", \"Calories\": 220, \"Calories from Fat\": 0, \"Total Fat\": 0.0, \"Total Fat (% Daily Value)\": 0, \"Saturated Fat\": 0.0, \"Saturated Fat (% Daily Value)\": 0, \"Trans Fat\": 0.0, \"Cholesterol\": 0, \"Cholesterol (% Daily Value)\": 0, \"Sodium\": 10, \"Sodium (% Daily Value)\": 1, \"Carbohydrates\": 54, \"Carbohydrates (% Daily Value)\": 18, \"Dietary Fiber\": 0, \"Dietary Fiber (% Daily Value)\": 0, \"Sugars\": 54, \"Protein\": 1, \"Vitamin A (% Daily Value)\": 0, \"Vitamin C (% Daily Value)\": 0, \"Calcium (% Daily Value)\": 0, \"Iron (% Daily Value)\": 0, \"Prediction\": \"Smoothies & Shakes\"}, {\"Category\": \"Coffee & Tea\", \"Item\": \"Sweet Tea (Child)\", \"Serving Size\": \"12 fl oz cup\", \"Calories\": 110, \"Calories from Fat\": 0, \"Total Fat\": 0.0, \"Total Fat (% Daily Value)\": 0, \"Saturated Fat\": 0.0, \"Saturated Fat (% Daily Value)\": 0, \"Trans Fat\": 0.0, \"Cholesterol\": 0, \"Cholesterol (% Daily Value)\": 0, \"Sodium\": 5, \"Sodium (% Daily Value)\": 0, \"Carbohydrates\": 27, \"Carbohydrates (% Daily Value)\": 9, \"Dietary Fiber\": 0, \"Dietary Fiber (% Daily Value)\": 0, \"Sugars\": 27, \"Protein\": 0, \"Vitamin A (% Daily Value)\": 0, \"Vitamin C (% Daily Value)\": 0, \"Calcium (% Daily Value)\": 0, \"Iron (% Daily Value)\": 0, \"Prediction\": \"Beverages\"}, {\"Category\": \"Coffee & Tea\", \"Item\": \"Coffee (Small)\", \"Serving Size\": \"12 fl oz cup\", \"Calories\": 0, \"Calories from Fat\": 0, \"Total Fat\": 0.0, \"Total Fat (% Daily Value)\": 0, \"Saturated Fat\": 0.0, \"Saturated Fat (% Daily Value)\": 0, \"Trans Fat\": 0.0, \"Cholesterol\": 0, \"Cholesterol (% Daily Value)\": 0, \"Sodium\": 0, \"Sodium (% Daily Value)\": 0, \"Carbohydrates\": 0, \"Carbohydrates (% Daily Value)\": 0, \"Dietary Fiber\": 0, \"Dietary Fiber (% Daily Value)\": 0, \"Sugars\": 0, \"Protein\": 0, \"Vitamin A (% Daily Value)\": 0, \"Vitamin C (% Daily Value)\": 0, \"Calcium (% Daily Value)\": 0, \"Iron (% Daily Value)\": 0, \"Prediction\": \"Coffee & Tea\"}, {\"Category\": \"Coffee & Tea\", \"Item\": \"Coffee (Medium)\", \"Serving Size\": \"16 fl oz cup\", \"Calories\": 0, \"Calories from Fat\": 0, \"Total Fat\": 0.0, \"Total Fat (% Daily Value)\": 0, \"Saturated Fat\": 0.0, \"Saturated Fat (% Daily Value)\": 0, \"Trans Fat\": 0.0, \"Cholesterol\": 0, \"Cholesterol (% Daily Value)\": 0, \"Sodium\": 0, \"Sodium (% Daily Value)\": 0, \"Carbohydrates\": 0, \"Carbohydrates (% Daily Value)\": 0, \"Dietary Fiber\": 0, \"Dietary Fiber (% Daily Value)\": 0, \"Sugars\": 0, \"Protein\": 0, \"Vitamin A (% Daily Value)\": 0, \"Vitamin C (% Daily Value)\": 0, \"Calcium (% Daily Value)\": 0, \"Iron (% Daily Value)\": 0, \"Prediction\": \"Coffee & Tea\"}, {\"Category\": \"Coffee & Tea\", \"Item\": \"Coffee (Large)\", \"Serving Size\": \"16 fl oz cup\", \"Calories\": 0, \"Calories from Fat\": 0, \"Total Fat\": 0.0, \"Total Fat (% Daily Value)\": 0, \"Saturated Fat\": 0.0, \"Saturated Fat (% Daily Value)\": 0, \"Trans Fat\": 0.0, \"Cholesterol\": 0, \"Cholesterol (% Daily Value)\": 0, \"Sodium\": 0, \"Sodium (% Daily Value)\": 0, \"Carbohydrates\": 0, \"Carbohydrates (% Daily Value)\": 0, \"Dietary Fiber\": 0, \"Dietary Fiber (% Daily Value)\": 0, \"Sugars\": 0, \"Protein\": 0, \"Vitamin A (% Daily Value)\": 0, \"Vitamin C (% Daily Value)\": 0, \"Calcium (% Daily Value)\": 0, \"Iron (% Daily Value)\": 0, \"Prediction\": \"Coffee & Tea\"}, {\"Category\": \"Coffee & Tea\", \"Item\": \"Latte (Small)\", \"Serving Size\": \"12 fl oz cup\", \"Calories\": 170, \"Calories from Fat\": 80, \"Total Fat\": 9.0, \"Total Fat (% Daily Value)\": 13, \"Saturated Fat\": 5.0, \"Saturated Fat (% Daily Value)\": 24, \"Trans Fat\": 0.0, \"Cholesterol\": 25, \"Cholesterol (% Daily Value)\": 9, \"Sodium\": 115, \"Sodium (% Daily Value)\": 5, \"Carbohydrates\": 15, \"Carbohydrates (% Daily Value)\": 5, \"Dietary Fiber\": 1, \"Dietary Fiber (% Daily Value)\": 3, \"Sugars\": 12, \"Protein\": 9, \"Vitamin A (% Daily Value)\": 8, \"Vitamin C (% Daily Value)\": 0, \"Calcium (% Daily Value)\": 30, \"Iron (% Daily Value)\": 0, \"Prediction\": \"Coffee & Tea\"}, {\"Category\": \"Coffee & Tea\", \"Item\": \"Latte (Medium)\", \"Serving Size\": \"16 fl oz cup\", \"Calories\": 210, \"Calories from Fat\": 90, \"Total Fat\": 10.0, \"Total Fat (% Daily Value)\": 16, \"Saturated Fat\": 6.0, \"Saturated Fat (% Daily Value)\": 30, \"Trans Fat\": 0.0, \"Cholesterol\": 30, \"Cholesterol (% Daily Value)\": 11, \"Sodium\": 140, \"Sodium (% Daily Value)\": 6, \"Carbohydrates\": 18, \"Carbohydrates (% Daily Value)\": 6, \"Dietary Fiber\": 1, \"Dietary Fiber (% Daily Value)\": 4, \"Sugars\": 15, \"Protein\": 11, \"Vitamin A (% Daily Value)\": 10, \"Vitamin C (% Daily Value)\": 0, \"Calcium (% Daily Value)\": 35, \"Iron (% Daily Value)\": 0, \"Prediction\": \"Coffee & Tea\"}, {\"Category\": \"Coffee & Tea\", \"Item\": \"Latte (Large)\", \"Serving Size\": \"20 fl oz cup\", \"Calories\": 280, \"Calories from Fat\": 120, \"Total Fat\": 14.0, \"Total Fat (% Daily Value)\": 21, \"Saturated Fat\": 8.0, \"Saturated Fat (% Daily Value)\": 39, \"Trans Fat\": 0.0, \"Cholesterol\": 40, \"Cholesterol (% Daily Value)\": 14, \"Sodium\": 180, \"Sodium (% Daily Value)\": 8, \"Carbohydrates\": 24, \"Carbohydrates (% Daily Value)\": 8, \"Dietary Fiber\": 1, \"Dietary Fiber (% Daily Value)\": 6, \"Sugars\": 20, \"Protein\": 15, \"Vitamin A (% Daily Value)\": 15, \"Vitamin C (% Daily Value)\": 0, \"Calcium (% Daily Value)\": 50, \"Iron (% Daily Value)\": 2, \"Prediction\": \"Coffee & Tea\"}, {\"Category\": \"Coffee & Tea\", \"Item\": \"Caramel Latte (Small)\", \"Serving Size\": \"12 fl oz cup\", \"Calories\": 270, \"Calories from Fat\": 80, \"Total Fat\": 9.0, \"Total Fat (% Daily Value)\": 13, \"Saturated Fat\": 5.0, \"Saturated Fat (% Daily Value)\": 24, \"Trans Fat\": 0.0, \"Cholesterol\": 25, \"Cholesterol (% Daily Value)\": 9, \"Sodium\": 115, \"Sodium (% Daily Value)\": 5, \"Carbohydrates\": 40, \"Carbohydrates (% Daily Value)\": 13, \"Dietary Fiber\": 1, \"Dietary Fiber (% Daily Value)\": 3, \"Sugars\": 38, \"Protein\": 9, \"Vitamin A (% Daily Value)\": 8, \"Vitamin C (% Daily Value)\": 0, \"Calcium (% Daily Value)\": 30, \"Iron (% Daily Value)\": 0, \"Prediction\": \"Coffee & Tea\"}, {\"Category\": \"Coffee & Tea\", \"Item\": \"Caramel Latte (Medium)\", \"Serving Size\": \"16 fl oz cup\", \"Calories\": 340, \"Calories from Fat\": 90, \"Total Fat\": 10.0, \"Total Fat (% Daily Value)\": 16, \"Saturated Fat\": 6.0, \"Saturated Fat (% Daily Value)\": 30, \"Trans Fat\": 0.0, \"Cholesterol\": 30, \"Cholesterol (% Daily Value)\": 11, \"Sodium\": 140, \"Sodium (% Daily Value)\": 6, \"Carbohydrates\": 50, \"Carbohydrates (% Daily Value)\": 17, \"Dietary Fiber\": 1, \"Dietary Fiber (% Daily Value)\": 4, \"Sugars\": 48, \"Protein\": 11, \"Vitamin A (% Daily Value)\": 10, \"Vitamin C (% Daily Value)\": 0, \"Calcium (% Daily Value)\": 35, \"Iron (% Daily Value)\": 0, \"Prediction\": \"Coffee & Tea\"}, {\"Category\": \"Coffee & Tea\", \"Item\": \"Caramel Latte (Large)\", \"Serving Size\": \"20 fl oz cup\", \"Calories\": 430, \"Calories from Fat\": 120, \"Total Fat\": 14.0, \"Total Fat (% Daily Value)\": 21, \"Saturated Fat\": 8.0, \"Saturated Fat (% Daily Value)\": 39, \"Trans Fat\": 0.0, \"Cholesterol\": 40, \"Cholesterol (% Daily Value)\": 14, \"Sodium\": 180, \"Sodium (% Daily Value)\": 8, \"Carbohydrates\": 62, \"Carbohydrates (% Daily Value)\": 21, \"Dietary Fiber\": 1, \"Dietary Fiber (% Daily Value)\": 6, \"Sugars\": 59, \"Protein\": 15, \"Vitamin A (% Daily Value)\": 15, \"Vitamin C (% Daily Value)\": 0, \"Calcium (% Daily Value)\": 50, \"Iron (% Daily Value)\": 2, \"Prediction\": \"Coffee & Tea\"}, {\"Category\": \"Coffee & Tea\", \"Item\": \"Hazelnut Latte (Small)\", \"Serving Size\": \"12 fl oz cup\", \"Calories\": 270, \"Calories from Fat\": 80, \"Total Fat\": 9.0, \"Total Fat (% Daily Value)\": 13, \"Saturated Fat\": 5.0, \"Saturated Fat (% Daily Value)\": 24, \"Trans Fat\": 0.0, \"Cholesterol\": 25, \"Cholesterol (% Daily Value)\": 9, \"Sodium\": 115, \"Sodium (% Daily Value)\": 5, \"Carbohydrates\": 40, \"Carbohydrates (% Daily Value)\": 13, \"Dietary Fiber\": 1, \"Dietary Fiber (% Daily Value)\": 3, \"Sugars\": 38, \"Protein\": 9, \"Vitamin A (% Daily Value)\": 8, \"Vitamin C (% Daily Value)\": 0, \"Calcium (% Daily Value)\": 30, \"Iron (% Daily Value)\": 0, \"Prediction\": \"Coffee & Tea\"}, {\"Category\": \"Coffee & Tea\", \"Item\": \"Hazelnut Latte (Medium)\", \"Serving Size\": \"16 fl oz cup\", \"Calories\": 330, \"Calories from Fat\": 90, \"Total Fat\": 10.0, \"Total Fat (% Daily Value)\": 16, \"Saturated Fat\": 6.0, \"Saturated Fat (% Daily Value)\": 30, \"Trans Fat\": 0.0, \"Cholesterol\": 30, \"Cholesterol (% Daily Value)\": 11, \"Sodium\": 140, \"Sodium (% Daily Value)\": 6, \"Carbohydrates\": 50, \"Carbohydrates (% Daily Value)\": 17, \"Dietary Fiber\": 1, \"Dietary Fiber (% Daily Value)\": 4, \"Sugars\": 47, \"Protein\": 11, \"Vitamin A (% Daily Value)\": 10, \"Vitamin C (% Daily Value)\": 0, \"Calcium (% Daily Value)\": 35, \"Iron (% Daily Value)\": 0, \"Prediction\": \"Coffee & Tea\"}, {\"Category\": \"Coffee & Tea\", \"Item\": \"Hazelnut Latte (Large)\", \"Serving Size\": \"20 fl oz cup\", \"Calories\": 430, \"Calories from Fat\": 120, \"Total Fat\": 14.0, \"Total Fat (% Daily Value)\": 21, \"Saturated Fat\": 8.0, \"Saturated Fat (% Daily Value)\": 39, \"Trans Fat\": 0.0, \"Cholesterol\": 40, \"Cholesterol (% Daily Value)\": 14, \"Sodium\": 180, \"Sodium (% Daily Value)\": 8, \"Carbohydrates\": 62, \"Carbohydrates (% Daily Value)\": 21, \"Dietary Fiber\": 1, \"Dietary Fiber (% Daily Value)\": 6, \"Sugars\": 58, \"Protein\": 15, \"Vitamin A (% Daily Value)\": 15, \"Vitamin C (% Daily Value)\": 0, \"Calcium (% Daily Value)\": 50, \"Iron (% Daily Value)\": 2, \"Prediction\": \"Coffee & Tea\"}, {\"Category\": \"Coffee & Tea\", \"Item\": \"French Vanilla Latte (Small)\", \"Serving Size\": \"12 fl oz cup\", \"Calories\": 260, \"Calories from Fat\": 80, \"Total Fat\": 9.0, \"Total Fat (% Daily Value)\": 13, \"Saturated Fat\": 5.0, \"Saturated Fat (% Daily Value)\": 24, \"Trans Fat\": 0.0, \"Cholesterol\": 25, \"Cholesterol (% Daily Value)\": 9, \"Sodium\": 115, \"Sodium (% Daily Value)\": 5, \"Carbohydrates\": 38, \"Carbohydrates (% Daily Value)\": 13, \"Dietary Fiber\": 1, \"Dietary Fiber (% Daily Value)\": 3, \"Sugars\": 36, \"Protein\": 9, \"Vitamin A (% Daily Value)\": 8, \"Vitamin C (% Daily Value)\": 0, \"Calcium (% Daily Value)\": 30, \"Iron (% Daily Value)\": 0, \"Prediction\": \"Coffee & Tea\"}, {\"Category\": \"Coffee & Tea\", \"Item\": \"French Vanilla Latte (Medium)\", \"Serving Size\": \"16 fl oz cup\", \"Calories\": 330, \"Calories from Fat\": 90, \"Total Fat\": 10.0, \"Total Fat (% Daily Value)\": 16, \"Saturated Fat\": 6.0, \"Saturated Fat (% Daily Value)\": 30, \"Trans Fat\": 0.0, \"Cholesterol\": 30, \"Cholesterol (% Daily Value)\": 11, \"Sodium\": 140, \"Sodium (% Daily Value)\": 6, \"Carbohydrates\": 48, \"Carbohydrates (% Daily Value)\": 16, \"Dietary Fiber\": 1, \"Dietary Fiber (% Daily Value)\": 4, \"Sugars\": 45, \"Protein\": 11, \"Vitamin A (% Daily Value)\": 10, \"Vitamin C (% Daily Value)\": 0, \"Calcium (% Daily Value)\": 35, \"Iron (% Daily Value)\": 2, \"Prediction\": \"Coffee & Tea\"}, {\"Category\": \"Coffee & Tea\", \"Item\": \"French Vanilla Latte (Large)\", \"Serving Size\": \"20 fl oz cup\", \"Calories\": 420, \"Calories from Fat\": 120, \"Total Fat\": 14.0, \"Total Fat (% Daily Value)\": 21, \"Saturated Fat\": 8.0, \"Saturated Fat (% Daily Value)\": 39, \"Trans Fat\": 0.0, \"Cholesterol\": 40, \"Cholesterol (% Daily Value)\": 14, \"Sodium\": 190, \"Sodium (% Daily Value)\": 8, \"Carbohydrates\": 60, \"Carbohydrates (% Daily Value)\": 20, \"Dietary Fiber\": 1, \"Dietary Fiber (% Daily Value)\": 6, \"Sugars\": 56, \"Protein\": 15, \"Vitamin A (% Daily Value)\": 15, \"Vitamin C (% Daily Value)\": 0, \"Calcium (% Daily Value)\": 50, \"Iron (% Daily Value)\": 2, \"Prediction\": \"Coffee & Tea\"}, {\"Category\": \"Coffee & Tea\", \"Item\": \"Latte with Sugar Free French Vanilla Syrup (Small)\", \"Serving Size\": \"12 fl oz cup\", \"Calories\": 210, \"Calories from Fat\": 80, \"Total Fat\": 9.0, \"Total Fat (% Daily Value)\": 13, \"Saturated Fat\": 5.0, \"Saturated Fat (% Daily Value)\": 24, \"Trans Fat\": 0.0, \"Cholesterol\": 25, \"Cholesterol (% Daily Value)\": 9, \"Sodium\": 150, \"Sodium (% Daily Value)\": 6, \"Carbohydrates\": 24, \"Carbohydrates (% Daily Value)\": 8, \"Dietary Fiber\": 1, \"Dietary Fiber (% Daily Value)\": 4, \"Sugars\": 12, \"Protein\": 9, \"Vitamin A (% Daily Value)\": 8, \"Vitamin C (% Daily Value)\": 0, \"Calcium (% Daily Value)\": 30, \"Iron (% Daily Value)\": 0, \"Prediction\": \"Coffee & Tea\"}, {\"Category\": \"Coffee & Tea\", \"Item\": \"Latte with Sugar Free French Vanilla Syrup (Medium)\", \"Serving Size\": \"16 fl oz cup\", \"Calories\": 260, \"Calories from Fat\": 90, \"Total Fat\": 10.0, \"Total Fat (% Daily Value)\": 16, \"Saturated Fat\": 6.0, \"Saturated Fat (% Daily Value)\": 30, \"Trans Fat\": 0.0, \"Cholesterol\": 30, \"Cholesterol (% Daily Value)\": 11, \"Sodium\": 190, \"Sodium (% Daily Value)\": 8, \"Carbohydrates\": 29, \"Carbohydrates (% Daily Value)\": 10, \"Dietary Fiber\": 1, \"Dietary Fiber (% Daily Value)\": 5, \"Sugars\": 15, \"Protein\": 12, \"Vitamin A (% Daily Value)\": 10, \"Vitamin C (% Daily Value)\": 0, \"Calcium (% Daily Value)\": 35, \"Iron (% Daily Value)\": 0, \"Prediction\": \"Coffee & Tea\"}, {\"Category\": \"Coffee & Tea\", \"Item\": \"Latte with Sugar Free French Vanilla Syrup (Large)\", \"Serving Size\": \"20 fl oz cup\", \"Calories\": 330, \"Calories from Fat\": 120, \"Total Fat\": 14.0, \"Total Fat (% Daily Value)\": 21, \"Saturated Fat\": 8.0, \"Saturated Fat (% Daily Value)\": 39, \"Trans Fat\": 0.0, \"Cholesterol\": 40, \"Cholesterol (% Daily Value)\": 14, \"Sodium\": 240, \"Sodium (% Daily Value)\": 10, \"Carbohydrates\": 37, \"Carbohydrates (% Daily Value)\": 12, \"Dietary Fiber\": 2, \"Dietary Fiber (% Daily Value)\": 7, \"Sugars\": 20, \"Protein\": 15, \"Vitamin A (% Daily Value)\": 15, \"Vitamin C (% Daily Value)\": 0, \"Calcium (% Daily Value)\": 50, \"Iron (% Daily Value)\": 2, \"Prediction\": \"Coffee & Tea\"}, {\"Category\": \"Coffee & Tea\", \"Item\": \"Nonfat Latte (Small)\", \"Serving Size\": \"12 fl oz cup\", \"Calories\": 100, \"Calories from Fat\": 0, \"Total Fat\": 0.0, \"Total Fat (% Daily Value)\": 0, \"Saturated Fat\": 0.0, \"Saturated Fat (% Daily Value)\": 0, \"Trans Fat\": 0.0, \"Cholesterol\": 5, \"Cholesterol (% Daily Value)\": 2, \"Sodium\": 110, \"Sodium (% Daily Value)\": 5, \"Carbohydrates\": 15, \"Carbohydrates (% Daily Value)\": 5, \"Dietary Fiber\": 1, \"Dietary Fiber (% Daily Value)\": 3, \"Sugars\": 13, \"Protein\": 10, \"Vitamin A (% Daily Value)\": 10, \"Vitamin C (% Daily Value)\": 0, \"Calcium (% Daily Value)\": 30, \"Iron (% Daily Value)\": 0, \"Prediction\": \"Coffee & Tea\"}, {\"Category\": \"Coffee & Tea\", \"Item\": \"Nonfat Latte (Medium)\", \"Serving Size\": \"16 fl oz cup\", \"Calories\": 130, \"Calories from Fat\": 0, \"Total Fat\": 0.0, \"Total Fat (% Daily Value)\": 0, \"Saturated Fat\": 0.0, \"Saturated Fat (% Daily Value)\": 0, \"Trans Fat\": 0.0, \"Cholesterol\": 5, \"Cholesterol (% Daily Value)\": 2, \"Sodium\": 135, \"Sodium (% Daily Value)\": 6, \"Carbohydrates\": 19, \"Carbohydrates (% Daily Value)\": 6, \"Dietary Fiber\": 1, \"Dietary Fiber (% Daily Value)\": 4, \"Sugars\": 16, \"Protein\": 12, \"Vitamin A (% Daily Value)\": 15, \"Vitamin C (% Daily Value)\": 0, \"Calcium (% Daily Value)\": 40, \"Iron (% Daily Value)\": 0, \"Prediction\": \"Coffee & Tea\"}, {\"Category\": \"Coffee & Tea\", \"Item\": \"Nonfat Latte (Large)\", \"Serving Size\": \"20 fl oz cup\", \"Calories\": 170, \"Calories from Fat\": 0, \"Total Fat\": 0.5, \"Total Fat (% Daily Value)\": 1, \"Saturated Fat\": 0.0, \"Saturated Fat (% Daily Value)\": 0, \"Trans Fat\": 0.0, \"Cholesterol\": 10, \"Cholesterol (% Daily Value)\": 3, \"Sodium\": 180, \"Sodium (% Daily Value)\": 7, \"Carbohydrates\": 25, \"Carbohydrates (% Daily Value)\": 8, \"Dietary Fiber\": 1, \"Dietary Fiber (% Daily Value)\": 6, \"Sugars\": 21, \"Protein\": 16, \"Vitamin A (% Daily Value)\": 15, \"Vitamin C (% Daily Value)\": 0, \"Calcium (% Daily Value)\": 50, \"Iron (% Daily Value)\": 2, \"Prediction\": \"Coffee & Tea\"}, {\"Category\": \"Coffee & Tea\", \"Item\": \"Nonfat Caramel Latte (Small)\", \"Serving Size\": \"12 fl oz cup\", \"Calories\": 200, \"Calories from Fat\": 0, \"Total Fat\": 0.0, \"Total Fat (% Daily Value)\": 0, \"Saturated Fat\": 0.0, \"Saturated Fat (% Daily Value)\": 0, \"Trans Fat\": 0.0, \"Cholesterol\": 5, \"Cholesterol (% Daily Value)\": 2, \"Sodium\": 110, \"Sodium (% Daily Value)\": 5, \"Carbohydrates\": 41, \"Carbohydrates (% Daily Value)\": 14, \"Dietary Fiber\": 1, \"Dietary Fiber (% Daily Value)\": 3, \"Sugars\": 39, \"Protein\": 10, \"Vitamin A (% Daily Value)\": 10, \"Vitamin C (% Daily Value)\": 0, \"Calcium (% Daily Value)\": 30, \"Iron (% Daily Value)\": 0, \"Prediction\": \"Coffee & Tea\"}, {\"Category\": \"Coffee & Tea\", \"Item\": \"Nonfat Caramel Latte (Medium)\", \"Serving Size\": \"16 fl oz cup\", \"Calories\": 250, \"Calories from Fat\": 0, \"Total Fat\": 0.0, \"Total Fat (% Daily Value)\": 0, \"Saturated Fat\": 0.0, \"Saturated Fat (% Daily Value)\": 0, \"Trans Fat\": 0.0, \"Cholesterol\": 5, \"Cholesterol (% Daily Value)\": 2, \"Sodium\": 135, \"Sodium (% Daily Value)\": 6, \"Carbohydrates\": 51, \"Carbohydrates (% Daily Value)\": 17, \"Dietary Fiber\": 1, \"Dietary Fiber (% Daily Value)\": 4, \"Sugars\": 48, \"Protein\": 12, \"Vitamin A (% Daily Value)\": 15, \"Vitamin C (% Daily Value)\": 0, \"Calcium (% Daily Value)\": 40, \"Iron (% Daily Value)\": 0, \"Prediction\": \"Coffee & Tea\"}, {\"Category\": \"Coffee & Tea\", \"Item\": \"Nonfat Caramel Latte (Large)\", \"Serving Size\": \"20 fl oz cup\", \"Calories\": 310, \"Calories from Fat\": 0, \"Total Fat\": 0.5, \"Total Fat (% Daily Value)\": 1, \"Saturated Fat\": 0.0, \"Saturated Fat (% Daily Value)\": 0, \"Trans Fat\": 0.0, \"Cholesterol\": 10, \"Cholesterol (% Daily Value)\": 3, \"Sodium\": 180, \"Sodium (% Daily Value)\": 7, \"Carbohydrates\": 63, \"Carbohydrates (% Daily Value)\": 21, \"Dietary Fiber\": 1, \"Dietary Fiber (% Daily Value)\": 6, \"Sugars\": 59, \"Protein\": 16, \"Vitamin A (% Daily Value)\": 15, \"Vitamin C (% Daily Value)\": 0, \"Calcium (% Daily Value)\": 50, \"Iron (% Daily Value)\": 2, \"Prediction\": \"Coffee & Tea\"}, {\"Category\": \"Coffee & Tea\", \"Item\": \"Nonfat Hazelnut Latte (Small)\", \"Serving Size\": \"12 fl oz cup\", \"Calories\": 200, \"Calories from Fat\": 0, \"Total Fat\": 0.0, \"Total Fat (% Daily Value)\": 0, \"Saturated Fat\": 0.0, \"Saturated Fat (% Daily Value)\": 0, \"Trans Fat\": 0.0, \"Cholesterol\": 5, \"Cholesterol (% Daily Value)\": 2, \"Sodium\": 110, \"Sodium (% Daily Value)\": 5, \"Carbohydrates\": 40, \"Carbohydrates (% Daily Value)\": 13, \"Dietary Fiber\": 1, \"Dietary Fiber (% Daily Value)\": 3, \"Sugars\": 38, \"Protein\": 10, \"Vitamin A (% Daily Value)\": 10, \"Vitamin C (% Daily Value)\": 0, \"Calcium (% Daily Value)\": 30, \"Iron (% Daily Value)\": 0, \"Prediction\": \"Coffee & Tea\"}, {\"Category\": \"Coffee & Tea\", \"Item\": \"Nonfat Hazelnut Latte (Medium)\", \"Serving Size\": \"16 fl oz cup\", \"Calories\": 250, \"Calories from Fat\": 0, \"Total Fat\": 0.0, \"Total Fat (% Daily Value)\": 0, \"Saturated Fat\": 0.0, \"Saturated Fat (% Daily Value)\": 0, \"Trans Fat\": 0.0, \"Cholesterol\": 5, \"Cholesterol (% Daily Value)\": 2, \"Sodium\": 135, \"Sodium (% Daily Value)\": 6, \"Carbohydrates\": 51, \"Carbohydrates (% Daily Value)\": 17, \"Dietary Fiber\": 1, \"Dietary Fiber (% Daily Value)\": 4, \"Sugars\": 48, \"Protein\": 12, \"Vitamin A (% Daily Value)\": 15, \"Vitamin C (% Daily Value)\": 0, \"Calcium (% Daily Value)\": 40, \"Iron (% Daily Value)\": 0, \"Prediction\": \"Coffee & Tea\"}, {\"Category\": \"Coffee & Tea\", \"Item\": \"Nonfat Hazelnut Latte (Large)\", \"Serving Size\": \"20 fl oz cup\", \"Calories\": 310, \"Calories from Fat\": 0, \"Total Fat\": 0.5, \"Total Fat (% Daily Value)\": 1, \"Saturated Fat\": 0.0, \"Saturated Fat (% Daily Value)\": 0, \"Trans Fat\": 0.0, \"Cholesterol\": 10, \"Cholesterol (% Daily Value)\": 3, \"Sodium\": 180, \"Sodium (% Daily Value)\": 7, \"Carbohydrates\": 63, \"Carbohydrates (% Daily Value)\": 21, \"Dietary Fiber\": 1, \"Dietary Fiber (% Daily Value)\": 6, \"Sugars\": 59, \"Protein\": 16, \"Vitamin A (% Daily Value)\": 15, \"Vitamin C (% Daily Value)\": 0, \"Calcium (% Daily Value)\": 50, \"Iron (% Daily Value)\": 2, \"Prediction\": \"Coffee & Tea\"}, {\"Category\": \"Coffee & Tea\", \"Item\": \"Nonfat French Vanilla Latte (Small)\", \"Serving Size\": \"12 fl oz cup\", \"Calories\": 190, \"Calories from Fat\": 0, \"Total Fat\": 0.0, \"Total Fat (% Daily Value)\": 0, \"Saturated Fat\": 0.0, \"Saturated Fat (% Daily Value)\": 0, \"Trans Fat\": 0.0, \"Cholesterol\": 5, \"Cholesterol (% Daily Value)\": 2, \"Sodium\": 115, \"Sodium (% Daily Value)\": 5, \"Carbohydrates\": 39, \"Carbohydrates (% Daily Value)\": 13, \"Dietary Fiber\": 1, \"Dietary Fiber (% Daily Value)\": 3, \"Sugars\": 37, \"Protein\": 10, \"Vitamin A (% Daily Value)\": 10, \"Vitamin C (% Daily Value)\": 0, \"Calcium (% Daily Value)\": 30, \"Iron (% Daily Value)\": 0, \"Prediction\": \"Coffee & Tea\"}, {\"Category\": \"Coffee & Tea\", \"Item\": \"Nonfat French Vanilla Latte (Medium)\", \"Serving Size\": \"16 fl oz cup\", \"Calories\": 240, \"Calories from Fat\": 0, \"Total Fat\": 0.0, \"Total Fat (% Daily Value)\": 0, \"Saturated Fat\": 0.0, \"Saturated Fat (% Daily Value)\": 0, \"Trans Fat\": 0.0, \"Cholesterol\": 5, \"Cholesterol (% Daily Value)\": 2, \"Sodium\": 140, \"Sodium (% Daily Value)\": 6, \"Carbohydrates\": 49, \"Carbohydrates (% Daily Value)\": 16, \"Dietary Fiber\": 1, \"Dietary Fiber (% Daily Value)\": 4, \"Sugars\": 46, \"Protein\": 12, \"Vitamin A (% Daily Value)\": 15, \"Vitamin C (% Daily Value)\": 0, \"Calcium (% Daily Value)\": 40, \"Iron (% Daily Value)\": 2, \"Prediction\": \"Coffee & Tea\"}, {\"Category\": \"Coffee & Tea\", \"Item\": \"Nonfat French Vanilla Latte (Large)\", \"Serving Size\": \"20 fl oz cup\", \"Calories\": 300, \"Calories from Fat\": 0, \"Total Fat\": 0.5, \"Total Fat (% Daily Value)\": 1, \"Saturated Fat\": 0.0, \"Saturated Fat (% Daily Value)\": 0, \"Trans Fat\": 0.0, \"Cholesterol\": 10, \"Cholesterol (% Daily Value)\": 3, \"Sodium\": 180, \"Sodium (% Daily Value)\": 8, \"Carbohydrates\": 60, \"Carbohydrates (% Daily Value)\": 20, \"Dietary Fiber\": 1, \"Dietary Fiber (% Daily Value)\": 6, \"Sugars\": 56, \"Protein\": 16, \"Vitamin A (% Daily Value)\": 15, \"Vitamin C (% Daily Value)\": 0, \"Calcium (% Daily Value)\": 50, \"Iron (% Daily Value)\": 2, \"Prediction\": \"Coffee & Tea\"}, {\"Category\": \"Coffee & Tea\", \"Item\": \"Nonfat Latte with Sugar Free French Vanilla Syrup (Small)\", \"Serving Size\": \"12 fl oz cup\", \"Calories\": 140, \"Calories from Fat\": 0, \"Total Fat\": 0.0, \"Total Fat (% Daily Value)\": 0, \"Saturated Fat\": 0.0, \"Saturated Fat (% Daily Value)\": 0, \"Trans Fat\": 0.0, \"Cholesterol\": 5, \"Cholesterol (% Daily Value)\": 2, \"Sodium\": 150, \"Sodium (% Daily Value)\": 6, \"Carbohydrates\": 24, \"Carbohydrates (% Daily Value)\": 8, \"Dietary Fiber\": 1, \"Dietary Fiber (% Daily Value)\": 4, \"Sugars\": 13, \"Protein\": 10, \"Vitamin A (% Daily Value)\": 10, \"Vitamin C (% Daily Value)\": 0, \"Calcium (% Daily Value)\": 30, \"Iron (% Daily Value)\": 0, \"Prediction\": \"Coffee & Tea\"}, {\"Category\": \"Coffee & Tea\", \"Item\": \"Nonfat Latte with Sugar Free French Vanilla Syrup (Medium)\", \"Serving Size\": \"16 fl oz cup\", \"Calories\": 170, \"Calories from Fat\": 0, \"Total Fat\": 0.0, \"Total Fat (% Daily Value)\": 0, \"Saturated Fat\": 0.0, \"Saturated Fat (% Daily Value)\": 0, \"Trans Fat\": 0.0, \"Cholesterol\": 5, \"Cholesterol (% Daily Value)\": 2, \"Sodium\": 180, \"Sodium (% Daily Value)\": 8, \"Carbohydrates\": 30, \"Carbohydrates (% Daily Value)\": 10, \"Dietary Fiber\": 1, \"Dietary Fiber (% Daily Value)\": 5, \"Sugars\": 16, \"Protein\": 12, \"Vitamin A (% Daily Value)\": 15, \"Vitamin C (% Daily Value)\": 0, \"Calcium (% Daily Value)\": 40, \"Iron (% Daily Value)\": 0, \"Prediction\": \"Coffee & Tea\"}, {\"Category\": \"Coffee & Tea\", \"Item\": \"Nonfat Latte with Sugar Free French Vanilla Syrup (Large)\", \"Serving Size\": \"20 fl oz cup\", \"Calories\": 220, \"Calories from Fat\": 0, \"Total Fat\": 0.5, \"Total Fat (% Daily Value)\": 1, \"Saturated Fat\": 0.0, \"Saturated Fat (% Daily Value)\": 0, \"Trans Fat\": 0.0, \"Cholesterol\": 10, \"Cholesterol (% Daily Value)\": 3, \"Sodium\": 240, \"Sodium (% Daily Value)\": 10, \"Carbohydrates\": 38, \"Carbohydrates (% Daily Value)\": 13, \"Dietary Fiber\": 2, \"Dietary Fiber (% Daily Value)\": 7, \"Sugars\": 21, \"Protein\": 16, \"Vitamin A (% Daily Value)\": 15, \"Vitamin C (% Daily Value)\": 0, \"Calcium (% Daily Value)\": 50, \"Iron (% Daily Value)\": 2, \"Prediction\": \"Coffee & Tea\"}, {\"Category\": \"Coffee & Tea\", \"Item\": \"Mocha (Small)\", \"Serving Size\": \"12 fl oz cup\", \"Calories\": 340, \"Calories from Fat\": 100, \"Total Fat\": 11.0, \"Total Fat (% Daily Value)\": 18, \"Saturated Fat\": 7.0, \"Saturated Fat (% Daily Value)\": 34, \"Trans Fat\": 0.0, \"Cholesterol\": 35, \"Cholesterol (% Daily Value)\": 12, \"Sodium\": 150, \"Sodium (% Daily Value)\": 6, \"Carbohydrates\": 49, \"Carbohydrates (% Daily Value)\": 16, \"Dietary Fiber\": 2, \"Dietary Fiber (% Daily Value)\": 6, \"Sugars\": 42, \"Protein\": 10, \"Vitamin A (% Daily Value)\": 10, \"Vitamin C (% Daily Value)\": 0, \"Calcium (% Daily Value)\": 30, \"Iron (% Daily Value)\": 6, \"Prediction\": \"Coffee & Tea\"}, {\"Category\": \"Coffee & Tea\", \"Item\": \"Mocha (Medium)\", \"Serving Size\": \"16 fl oz cup\", \"Calories\": 410, \"Calories from Fat\": 120, \"Total Fat\": 14.0, \"Total Fat (% Daily Value)\": 21, \"Saturated Fat\": 8.0, \"Saturated Fat (% Daily Value)\": 40, \"Trans Fat\": 0.0, \"Cholesterol\": 40, \"Cholesterol (% Daily Value)\": 14, \"Sodium\": 190, \"Sodium (% Daily Value)\": 8, \"Carbohydrates\": 60, \"Carbohydrates (% Daily Value)\": 20, \"Dietary Fiber\": 2, \"Dietary Fiber (% Daily Value)\": 8, \"Sugars\": 53, \"Protein\": 13, \"Vitamin A (% Daily Value)\": 10, \"Vitamin C (% Daily Value)\": 0, \"Calcium (% Daily Value)\": 40, \"Iron (% Daily Value)\": 6, \"Prediction\": \"Coffee & Tea\"}, {\"Category\": \"Coffee & Tea\", \"Item\": \"Mocha (Large)\", \"Serving Size\": \"20 fl oz cup\", \"Calories\": 500, \"Calories from Fat\": 150, \"Total Fat\": 17.0, \"Total Fat (% Daily Value)\": 26, \"Saturated Fat\": 10.0, \"Saturated Fat (% Daily Value)\": 49, \"Trans Fat\": 0.5, \"Cholesterol\": 50, \"Cholesterol (% Daily Value)\": 17, \"Sodium\": 240, \"Sodium (% Daily Value)\": 10, \"Carbohydrates\": 72, \"Carbohydrates (% Daily Value)\": 24, \"Dietary Fiber\": 2, \"Dietary Fiber (% Daily Value)\": 10, \"Sugars\": 63, \"Protein\": 16, \"Vitamin A (% Daily Value)\": 15, \"Vitamin C (% Daily Value)\": 0, \"Calcium (% Daily Value)\": 50, \"Iron (% Daily Value)\": 8, \"Prediction\": \"Smoothies & Shakes\"}, {\"Category\": \"Coffee & Tea\", \"Item\": \"Mocha with Nonfat Milk (Small)\", \"Serving Size\": \"12 fl oz cup\", \"Calories\": 270, \"Calories from Fat\": 30, \"Total Fat\": 3.5, \"Total Fat (% Daily Value)\": 5, \"Saturated Fat\": 2.0, \"Saturated Fat (% Daily Value)\": 11, \"Trans Fat\": 0.0, \"Cholesterol\": 15, \"Cholesterol (% Daily Value)\": 5, \"Sodium\": 150, \"Sodium (% Daily Value)\": 6, \"Carbohydrates\": 49, \"Carbohydrates (% Daily Value)\": 16, \"Dietary Fiber\": 2, \"Dietary Fiber (% Daily Value)\": 6, \"Sugars\": 43, \"Protein\": 11, \"Vitamin A (% Daily Value)\": 10, \"Vitamin C (% Daily Value)\": 0, \"Calcium (% Daily Value)\": 35, \"Iron (% Daily Value)\": 6, \"Prediction\": \"Coffee & Tea\"}, {\"Category\": \"Coffee & Tea\", \"Item\": \"Mocha with Nonfat Milk (Medium)\", \"Serving Size\": \"16 fl oz cup\", \"Calories\": 330, \"Calories from Fat\": 30, \"Total Fat\": 3.5, \"Total Fat (% Daily Value)\": 6, \"Saturated Fat\": 2.0, \"Saturated Fat (% Daily Value)\": 11, \"Trans Fat\": 0.0, \"Cholesterol\": 15, \"Cholesterol (% Daily Value)\": 5, \"Sodium\": 190, \"Sodium (% Daily Value)\": 8, \"Carbohydrates\": 60, \"Carbohydrates (% Daily Value)\": 20, \"Dietary Fiber\": 2, \"Dietary Fiber (% Daily Value)\": 8, \"Sugars\": 53, \"Protein\": 13, \"Vitamin A (% Daily Value)\": 15, \"Vitamin C (% Daily Value)\": 0, \"Calcium (% Daily Value)\": 40, \"Iron (% Daily Value)\": 6, \"Prediction\": \"Coffee & Tea\"}, {\"Category\": \"Coffee & Tea\", \"Item\": \"Mocha with Nonfat Milk (Large)\", \"Serving Size\": \"20 fl oz cup\", \"Calories\": 390, \"Calories from Fat\": 35, \"Total Fat\": 4.0, \"Total Fat (% Daily Value)\": 6, \"Saturated Fat\": 2.5, \"Saturated Fat (% Daily Value)\": 12, \"Trans Fat\": 0.0, \"Cholesterol\": 20, \"Cholesterol (% Daily Value)\": 6, \"Sodium\": 240, \"Sodium (% Daily Value)\": 10, \"Carbohydrates\": 73, \"Carbohydrates (% Daily Value)\": 24, \"Dietary Fiber\": 2, \"Dietary Fiber (% Daily Value)\": 10, \"Sugars\": 64, \"Protein\": 17, \"Vitamin A (% Daily Value)\": 20, \"Vitamin C (% Daily Value)\": 0, \"Calcium (% Daily Value)\": 50, \"Iron (% Daily Value)\": 8, \"Prediction\": \"Coffee & Tea\"}, {\"Category\": \"Coffee & Tea\", \"Item\": \"Caramel Mocha (Small)\", \"Serving Size\": \"12 fl oz cup\", \"Calories\": 320, \"Calories from Fat\": 100, \"Total Fat\": 11.0, \"Total Fat (% Daily Value)\": 17, \"Saturated Fat\": 7.0, \"Saturated Fat (% Daily Value)\": 33, \"Trans Fat\": 0.0, \"Cholesterol\": 35, \"Cholesterol (% Daily Value)\": 12, \"Sodium\": 170, \"Sodium (% Daily Value)\": 7, \"Carbohydrates\": 45, \"Carbohydrates (% Daily Value)\": 15, \"Dietary Fiber\": 1, \"Dietary Fiber (% Daily Value)\": 3, \"Sugars\": 40, \"Protein\": 10, \"Vitamin A (% Daily Value)\": 10, \"Vitamin C (% Daily Value)\": 0, \"Calcium (% Daily Value)\": 30, \"Iron (% Daily Value)\": 2, \"Prediction\": \"Breakfast\"}, {\"Category\": \"Coffee & Tea\", \"Item\": \"Caramel Mocha (Medium)\", \"Serving Size\": \"16 fl oz cup\", \"Calories\": 390, \"Calories from Fat\": 120, \"Total Fat\": 14.0, \"Total Fat (% Daily Value)\": 21, \"Saturated Fat\": 8.0, \"Saturated Fat (% Daily Value)\": 40, \"Trans Fat\": 0.5, \"Cholesterol\": 40, \"Cholesterol (% Daily Value)\": 14, \"Sodium\": 220, \"Sodium (% Daily Value)\": 9, \"Carbohydrates\": 55, \"Carbohydrates (% Daily Value)\": 18, \"Dietary Fiber\": 1, \"Dietary Fiber (% Daily Value)\": 4, \"Sugars\": 50, \"Protein\": 12, \"Vitamin A (% Daily Value)\": 15, \"Vitamin C (% Daily Value)\": 0, \"Calcium (% Daily Value)\": 40, \"Iron (% Daily Value)\": 2, \"Prediction\": \"Coffee & Tea\"}, {\"Category\": \"Coffee & Tea\", \"Item\": \"Caramel Mocha (Large)\", \"Serving Size\": \"20 fl oz cup\", \"Calories\": 480, \"Calories from Fat\": 150, \"Total Fat\": 17.0, \"Total Fat (% Daily Value)\": 26, \"Saturated Fat\": 10.0, \"Saturated Fat (% Daily Value)\": 49, \"Trans Fat\": 0.5, \"Cholesterol\": 50, \"Cholesterol (% Daily Value)\": 17, \"Sodium\": 270, \"Sodium (% Daily Value)\": 11, \"Carbohydrates\": 66, \"Carbohydrates (% Daily Value)\": 22, \"Dietary Fiber\": 1, \"Dietary Fiber (% Daily Value)\": 5, \"Sugars\": 60, \"Protein\": 16, \"Vitamin A (% Daily Value)\": 15, \"Vitamin C (% Daily Value)\": 0, \"Calcium (% Daily Value)\": 50, \"Iron (% Daily Value)\": 4, \"Prediction\": \"Smoothies & Shakes\"}, {\"Category\": \"Coffee & Tea\", \"Item\": \"Nonfat Caramel Mocha (Small)\", \"Serving Size\": \"12 fl oz cup\", \"Calories\": 250, \"Calories from Fat\": 30, \"Total Fat\": 3.5, \"Total Fat (% Daily Value)\": 5, \"Saturated Fat\": 2.0, \"Saturated Fat (% Daily Value)\": 10, \"Trans Fat\": 0.0, \"Cholesterol\": 15, \"Cholesterol (% Daily Value)\": 5, \"Sodium\": 170, \"Sodium (% Daily Value)\": 7, \"Carbohydrates\": 45, \"Carbohydrates (% Daily Value)\": 15, \"Dietary Fiber\": 1, \"Dietary Fiber (% Daily Value)\": 3, \"Sugars\": 41, \"Protein\": 10, \"Vitamin A (% Daily Value)\": 10, \"Vitamin C (% Daily Value)\": 0, \"Calcium (% Daily Value)\": 35, \"Iron (% Daily Value)\": 2, \"Prediction\": \"Coffee & Tea\"}, {\"Category\": \"Coffee & Tea\", \"Item\": \"Nonfat Caramel Mocha (Medium)\", \"Serving Size\": \"16 fl oz cup\", \"Calories\": 310, \"Calories from Fat\": 30, \"Total Fat\": 3.5, \"Total Fat (% Daily Value)\": 5, \"Saturated Fat\": 2.0, \"Saturated Fat (% Daily Value)\": 11, \"Trans Fat\": 0.0, \"Cholesterol\": 15, \"Cholesterol (% Daily Value)\": 5, \"Sodium\": 210, \"Sodium (% Daily Value)\": 9, \"Carbohydrates\": 56, \"Carbohydrates (% Daily Value)\": 19, \"Dietary Fiber\": 1, \"Dietary Fiber (% Daily Value)\": 4, \"Sugars\": 51, \"Protein\": 13, \"Vitamin A (% Daily Value)\": 15, \"Vitamin C (% Daily Value)\": 0, \"Calcium (% Daily Value)\": 40, \"Iron (% Daily Value)\": 2, \"Prediction\": \"Coffee & Tea\"}, {\"Category\": \"Coffee & Tea\", \"Item\": \"Nonfat Caramel Mocha (Large)\", \"Serving Size\": \"20 fl oz cup\", \"Calories\": 370, \"Calories from Fat\": 35, \"Total Fat\": 3.5, \"Total Fat (% Daily Value)\": 6, \"Saturated Fat\": 2.5, \"Saturated Fat (% Daily Value)\": 11, \"Trans Fat\": 0.0, \"Cholesterol\": 20, \"Cholesterol (% Daily Value)\": 6, \"Sodium\": 270, \"Sodium (% Daily Value)\": 11, \"Carbohydrates\": 67, \"Carbohydrates (% Daily Value)\": 22, \"Dietary Fiber\": 1, \"Dietary Fiber (% Daily Value)\": 5, \"Sugars\": 61, \"Protein\": 17, \"Vitamin A (% Daily Value)\": 20, \"Vitamin C (% Daily Value)\": 0, \"Calcium (% Daily Value)\": 50, \"Iron (% Daily Value)\": 4, \"Prediction\": \"Coffee & Tea\"}, {\"Category\": \"Coffee & Tea\", \"Item\": \"Hot Chocolate (Small)\", \"Serving Size\": \"12 fl oz cup\", \"Calories\": 360, \"Calories from Fat\": 120, \"Total Fat\": 13.0, \"Total Fat (% Daily Value)\": 21, \"Saturated Fat\": 8.0, \"Saturated Fat (% Daily Value)\": 39, \"Trans Fat\": 0.0, \"Cholesterol\": 40, \"Cholesterol (% Daily Value)\": 14, \"Sodium\": 180, \"Sodium (% Daily Value)\": 8, \"Carbohydrates\": 50, \"Carbohydrates (% Daily Value)\": 17, \"Dietary Fiber\": 1, \"Dietary Fiber (% Daily Value)\": 3, \"Sugars\": 45, \"Protein\": 11, \"Vitamin A (% Daily Value)\": 10, \"Vitamin C (% Daily Value)\": 0, \"Calcium (% Daily Value)\": 40, \"Iron (% Daily Value)\": 6, \"Prediction\": \"Coffee & Tea\"}, {\"Category\": \"Coffee & Tea\", \"Item\": \"Hot Chocolate (Medium)\", \"Serving Size\": \"16 fl oz cup\", \"Calories\": 440, \"Calories from Fat\": 140, \"Total Fat\": 16.0, \"Total Fat (% Daily Value)\": 25, \"Saturated Fat\": 9.0, \"Saturated Fat (% Daily Value)\": 47, \"Trans Fat\": 0.5, \"Cholesterol\": 50, \"Cholesterol (% Daily Value)\": 16, \"Sodium\": 220, \"Sodium (% Daily Value)\": 9, \"Carbohydrates\": 61, \"Carbohydrates (% Daily Value)\": 20, \"Dietary Fiber\": 1, \"Dietary Fiber (% Daily Value)\": 4, \"Sugars\": 56, \"Protein\": 14, \"Vitamin A (% Daily Value)\": 15, \"Vitamin C (% Daily Value)\": 0, \"Calcium (% Daily Value)\": 45, \"Iron (% Daily Value)\": 6, \"Prediction\": \"Coffee & Tea\"}, {\"Category\": \"Coffee & Tea\", \"Item\": \"Hot Chocolate (Large)\", \"Serving Size\": \"20 fl oz cup\", \"Calories\": 540, \"Calories from Fat\": 180, \"Total Fat\": 20.0, \"Total Fat (% Daily Value)\": 31, \"Saturated Fat\": 12.0, \"Saturated Fat (% Daily Value)\": 58, \"Trans Fat\": 0.5, \"Cholesterol\": 60, \"Cholesterol (% Daily Value)\": 20, \"Sodium\": 280, \"Sodium (% Daily Value)\": 12, \"Carbohydrates\": 73, \"Carbohydrates (% Daily Value)\": 24, \"Dietary Fiber\": 1, \"Dietary Fiber (% Daily Value)\": 5, \"Sugars\": 68, \"Protein\": 17, \"Vitamin A (% Daily Value)\": 20, \"Vitamin C (% Daily Value)\": 0, \"Calcium (% Daily Value)\": 60, \"Iron (% Daily Value)\": 8, \"Prediction\": \"Smoothies & Shakes\"}, {\"Category\": \"Coffee & Tea\", \"Item\": \"Hot Chocolate with Nonfat Milk (Small)\", \"Serving Size\": \"12 fl oz cup\", \"Calories\": 280, \"Calories from Fat\": 30, \"Total Fat\": 3.5, \"Total Fat (% Daily Value)\": 5, \"Saturated Fat\": 2.0, \"Saturated Fat (% Daily Value)\": 11, \"Trans Fat\": 0.0, \"Cholesterol\": 15, \"Cholesterol (% Daily Value)\": 5, \"Sodium\": 180, \"Sodium (% Daily Value)\": 7, \"Carbohydrates\": 50, \"Carbohydrates (% Daily Value)\": 17, \"Dietary Fiber\": 1, \"Dietary Fiber (% Daily Value)\": 3, \"Sugars\": 46, \"Protein\": 12, \"Vitamin A (% Daily Value)\": 15, \"Vitamin C (% Daily Value)\": 0, \"Calcium (% Daily Value)\": 40, \"Iron (% Daily Value)\": 6, \"Prediction\": \"Coffee & Tea\"}, {\"Category\": \"Coffee & Tea\", \"Item\": \"Hot Chocolate with Nonfat Milk (Medium)\", \"Serving Size\": \"16 fl oz cup\", \"Calories\": 340, \"Calories from Fat\": 30, \"Total Fat\": 3.5, \"Total Fat (% Daily Value)\": 5, \"Saturated Fat\": 2.0, \"Saturated Fat (% Daily Value)\": 11, \"Trans Fat\": 0.0, \"Cholesterol\": 15, \"Cholesterol (% Daily Value)\": 6, \"Sodium\": 220, \"Sodium (% Daily Value)\": 9, \"Carbohydrates\": 61, \"Carbohydrates (% Daily Value)\": 20, \"Dietary Fiber\": 1, \"Dietary Fiber (% Daily Value)\": 4, \"Sugars\": 57, \"Protein\": 14, \"Vitamin A (% Daily Value)\": 20, \"Vitamin C (% Daily Value)\": 0, \"Calcium (% Daily Value)\": 50, \"Iron (% Daily Value)\": 6, \"Prediction\": \"Coffee & Tea\"}, {\"Category\": \"Coffee & Tea\", \"Item\": \"Hot Chocolate with Nonfat Milk (Large)\", \"Serving Size\": \"20 fl oz cup\", \"Calories\": 400, \"Calories from Fat\": 35, \"Total Fat\": 3.5, \"Total Fat (% Daily Value)\": 6, \"Saturated Fat\": 2.5, \"Saturated Fat (% Daily Value)\": 12, \"Trans Fat\": 0.0, \"Cholesterol\": 20, \"Cholesterol (% Daily Value)\": 7, \"Sodium\": 280, \"Sodium (% Daily Value)\": 12, \"Carbohydrates\": 74, \"Carbohydrates (% Daily Value)\": 25, \"Dietary Fiber\": 1, \"Dietary Fiber (% Daily Value)\": 5, \"Sugars\": 69, \"Protein\": 19, \"Vitamin A (% Daily Value)\": 25, \"Vitamin C (% Daily Value)\": 0, \"Calcium (% Daily Value)\": 60, \"Iron (% Daily Value)\": 8, \"Prediction\": \"Coffee & Tea\"}, {\"Category\": \"Coffee & Tea\", \"Item\": \"Regular Iced Coffee (Small)\", \"Serving Size\": \"16 fl oz cup\", \"Calories\": 140, \"Calories from Fat\": 40, \"Total Fat\": 4.5, \"Total Fat (% Daily Value)\": 7, \"Saturated Fat\": 3.0, \"Saturated Fat (% Daily Value)\": 15, \"Trans Fat\": 0.0, \"Cholesterol\": 15, \"Cholesterol (% Daily Value)\": 6, \"Sodium\": 35, \"Sodium (% Daily Value)\": 1, \"Carbohydrates\": 23, \"Carbohydrates (% Daily Value)\": 8, \"Dietary Fiber\": 0, \"Dietary Fiber (% Daily Value)\": 0, \"Sugars\": 22, \"Protein\": 1, \"Vitamin A (% Daily Value)\": 4, \"Vitamin C (% Daily Value)\": 0, \"Calcium (% Daily Value)\": 4, \"Iron (% Daily Value)\": 0, \"Prediction\": \"Coffee & Tea\"}, {\"Category\": \"Coffee & Tea\", \"Item\": \"Regular Iced Coffee (Medium)\", \"Serving Size\": \"22 fl oz cup\", \"Calories\": 190, \"Calories from Fat\": 60, \"Total Fat\": 7.0, \"Total Fat (% Daily Value)\": 11, \"Saturated Fat\": 4.5, \"Saturated Fat (% Daily Value)\": 22, \"Trans Fat\": 0.0, \"Cholesterol\": 25, \"Cholesterol (% Daily Value)\": 9, \"Sodium\": 50, \"Sodium (% Daily Value)\": 2, \"Carbohydrates\": 31, \"Carbohydrates (% Daily Value)\": 10, \"Dietary Fiber\": 0, \"Dietary Fiber (% Daily Value)\": 0, \"Sugars\": 30, \"Protein\": 1, \"Vitamin A (% Daily Value)\": 4, \"Vitamin C (% Daily Value)\": 0, \"Calcium (% Daily Value)\": 4, \"Iron (% Daily Value)\": 0, \"Prediction\": \"Coffee & Tea\"}, {\"Category\": \"Coffee & Tea\", \"Item\": \"Regular Iced Coffee (Large)\", \"Serving Size\": \"32 fl oz cup\", \"Calories\": 270, \"Calories from Fat\": 80, \"Total Fat\": 9.0, \"Total Fat (% Daily Value)\": 14, \"Saturated Fat\": 6.0, \"Saturated Fat (% Daily Value)\": 29, \"Trans Fat\": 0.0, \"Cholesterol\": 35, \"Cholesterol (% Daily Value)\": 12, \"Sodium\": 75, \"Sodium (% Daily Value)\": 3, \"Carbohydrates\": 47, \"Carbohydrates (% Daily Value)\": 16, \"Dietary Fiber\": 0, \"Dietary Fiber (% Daily Value)\": 0, \"Sugars\": 45, \"Protein\": 2, \"Vitamin A (% Daily Value)\": 6, \"Vitamin C (% Daily Value)\": 0, \"Calcium (% Daily Value)\": 8, \"Iron (% Daily Value)\": 0, \"Prediction\": \"Beverages\"}, {\"Category\": \"Coffee & Tea\", \"Item\": \"Caramel Iced Coffee (Small)\", \"Serving Size\": \"16 fl oz cup\", \"Calories\": 130, \"Calories from Fat\": 40, \"Total Fat\": 4.5, \"Total Fat (% Daily Value)\": 7, \"Saturated Fat\": 3.0, \"Saturated Fat (% Daily Value)\": 15, \"Trans Fat\": 0.0, \"Cholesterol\": 15, \"Cholesterol (% Daily Value)\": 6, \"Sodium\": 35, \"Sodium (% Daily Value)\": 2, \"Carbohydrates\": 22, \"Carbohydrates (% Daily Value)\": 7, \"Dietary Fiber\": 0, \"Dietary Fiber (% Daily Value)\": 0, \"Sugars\": 21, \"Protein\": 1, \"Vitamin A (% Daily Value)\": 4, \"Vitamin C (% Daily Value)\": 0, \"Calcium (% Daily Value)\": 4, \"Iron (% Daily Value)\": 0, \"Prediction\": \"Beverages\"}, {\"Category\": \"Coffee & Tea\", \"Item\": \"Caramel Iced Coffee (Medium)\", \"Serving Size\": \"22 fl oz cup\", \"Calories\": 180, \"Calories from Fat\": 60, \"Total Fat\": 7.0, \"Total Fat (% Daily Value)\": 11, \"Saturated Fat\": 4.5, \"Saturated Fat (% Daily Value)\": 22, \"Trans Fat\": 0.0, \"Cholesterol\": 25, \"Cholesterol (% Daily Value)\": 9, \"Sodium\": 50, \"Sodium (% Daily Value)\": 2, \"Carbohydrates\": 29, \"Carbohydrates (% Daily Value)\": 10, \"Dietary Fiber\": 0, \"Dietary Fiber (% Daily Value)\": 0, \"Sugars\": 28, \"Protein\": 1, \"Vitamin A (% Daily Value)\": 4, \"Vitamin C (% Daily Value)\": 0, \"Calcium (% Daily Value)\": 4, \"Iron (% Daily Value)\": 0, \"Prediction\": \"Coffee & Tea\"}, {\"Category\": \"Coffee & Tea\", \"Item\": \"Caramel Iced Coffee (Large)\", \"Serving Size\": \"32 fl oz cup\", \"Calories\": 260, \"Calories from Fat\": 80, \"Total Fat\": 9.0, \"Total Fat (% Daily Value)\": 14, \"Saturated Fat\": 6.0, \"Saturated Fat (% Daily Value)\": 29, \"Trans Fat\": 0.0, \"Cholesterol\": 35, \"Cholesterol (% Daily Value)\": 12, \"Sodium\": 65, \"Sodium (% Daily Value)\": 3, \"Carbohydrates\": 43, \"Carbohydrates (% Daily Value)\": 14, \"Dietary Fiber\": 0, \"Dietary Fiber (% Daily Value)\": 0, \"Sugars\": 42, \"Protein\": 2, \"Vitamin A (% Daily Value)\": 6, \"Vitamin C (% Daily Value)\": 0, \"Calcium (% Daily Value)\": 6, \"Iron (% Daily Value)\": 0, \"Prediction\": \"Coffee & Tea\"}, {\"Category\": \"Coffee & Tea\", \"Item\": \"Hazelnut Iced Coffee (Small)\", \"Serving Size\": \"16 fl oz cup\", \"Calories\": 130, \"Calories from Fat\": 40, \"Total Fat\": 4.5, \"Total Fat (% Daily Value)\": 7, \"Saturated Fat\": 3.0, \"Saturated Fat (% Daily Value)\": 15, \"Trans Fat\": 0.0, \"Cholesterol\": 15, \"Cholesterol (% Daily Value)\": 6, \"Sodium\": 35, \"Sodium (% Daily Value)\": 1, \"Carbohydrates\": 21, \"Carbohydrates (% Daily Value)\": 7, \"Dietary Fiber\": 0, \"Dietary Fiber (% Daily Value)\": 0, \"Sugars\": 20, \"Protein\": 1, \"Vitamin A (% Daily Value)\": 4, \"Vitamin C (% Daily Value)\": 0, \"Calcium (% Daily Value)\": 4, \"Iron (% Daily Value)\": 0, \"Prediction\": \"Beverages\"}, {\"Category\": \"Coffee & Tea\", \"Item\": \"Hazelnut Iced Coffee (Medium)\", \"Serving Size\": \"22 fl oz cup\", \"Calories\": 180, \"Calories from Fat\": 60, \"Total Fat\": 7.0, \"Total Fat (% Daily Value)\": 11, \"Saturated Fat\": 4.5, \"Saturated Fat (% Daily Value)\": 22, \"Trans Fat\": 0.0, \"Cholesterol\": 25, \"Cholesterol (% Daily Value)\": 9, \"Sodium\": 50, \"Sodium (% Daily Value)\": 2, \"Carbohydrates\": 29, \"Carbohydrates (% Daily Value)\": 10, \"Dietary Fiber\": 0, \"Dietary Fiber (% Daily Value)\": 0, \"Sugars\": 28, \"Protein\": 1, \"Vitamin A (% Daily Value)\": 4, \"Vitamin C (% Daily Value)\": 0, \"Calcium (% Daily Value)\": 4, \"Iron (% Daily Value)\": 0, \"Prediction\": \"Coffee & Tea\"}, {\"Category\": \"Coffee & Tea\", \"Item\": \"Hazelnut Iced Coffee (Large)\", \"Serving Size\": \"32 fl oz cup\", \"Calories\": 250, \"Calories from Fat\": 80, \"Total Fat\": 9.0, \"Total Fat (% Daily Value)\": 14, \"Saturated Fat\": 6.0, \"Saturated Fat (% Daily Value)\": 29, \"Trans Fat\": 0.0, \"Cholesterol\": 35, \"Cholesterol (% Daily Value)\": 12, \"Sodium\": 75, \"Sodium (% Daily Value)\": 3, \"Carbohydrates\": 43, \"Carbohydrates (% Daily Value)\": 14, \"Dietary Fiber\": 0, \"Dietary Fiber (% Daily Value)\": 0, \"Sugars\": 41, \"Protein\": 2, \"Vitamin A (% Daily Value)\": 6, \"Vitamin C (% Daily Value)\": 0, \"Calcium (% Daily Value)\": 8, \"Iron (% Daily Value)\": 0, \"Prediction\": \"Coffee & Tea\"}, {\"Category\": \"Coffee & Tea\", \"Item\": \"French Vanilla Iced Coffee (Small)\", \"Serving Size\": \"16 fl oz cup\", \"Calories\": 120, \"Calories from Fat\": 40, \"Total Fat\": 4.5, \"Total Fat (% Daily Value)\": 7, \"Saturated Fat\": 3.0, \"Saturated Fat (% Daily Value)\": 15, \"Trans Fat\": 0.0, \"Cholesterol\": 15, \"Cholesterol (% Daily Value)\": 6, \"Sodium\": 40, \"Sodium (% Daily Value)\": 2, \"Carbohydrates\": 20, \"Carbohydrates (% Daily Value)\": 7, \"Dietary Fiber\": 0, \"Dietary Fiber (% Daily Value)\": 0, \"Sugars\": 19, \"Protein\": 1, \"Vitamin A (% Daily Value)\": 4, \"Vitamin C (% Daily Value)\": 0, \"Calcium (% Daily Value)\": 4, \"Iron (% Daily Value)\": 0, \"Prediction\": \"Beverages\"}, {\"Category\": \"Coffee & Tea\", \"Item\": \"French Vanilla Iced Coffee (Medium)\", \"Serving Size\": \"22 fl oz cup\", \"Calories\": 170, \"Calories from Fat\": 60, \"Total Fat\": 7.0, \"Total Fat (% Daily Value)\": 11, \"Saturated Fat\": 4.5, \"Saturated Fat (% Daily Value)\": 22, \"Trans Fat\": 0.0, \"Cholesterol\": 25, \"Cholesterol (% Daily Value)\": 9, \"Sodium\": 55, \"Sodium (% Daily Value)\": 2, \"Carbohydrates\": 27, \"Carbohydrates (% Daily Value)\": 9, \"Dietary Fiber\": 0, \"Dietary Fiber (% Daily Value)\": 0, \"Sugars\": 26, \"Protein\": 1, \"Vitamin A (% Daily Value)\": 4, \"Vitamin C (% Daily Value)\": 0, \"Calcium (% Daily Value)\": 4, \"Iron (% Daily Value)\": 0, \"Prediction\": \"Coffee & Tea\"}, {\"Category\": \"Coffee & Tea\", \"Item\": \"French Vanilla Iced Coffee (Large)\", \"Serving Size\": \"32 fl oz cup\", \"Calories\": 240, \"Calories from Fat\": 80, \"Total Fat\": 9.0, \"Total Fat (% Daily Value)\": 14, \"Saturated Fat\": 6.0, \"Saturated Fat (% Daily Value)\": 29, \"Trans Fat\": 0.0, \"Cholesterol\": 35, \"Cholesterol (% Daily Value)\": 12, \"Sodium\": 80, \"Sodium (% Daily Value)\": 3, \"Carbohydrates\": 41, \"Carbohydrates (% Daily Value)\": 14, \"Dietary Fiber\": 0, \"Dietary Fiber (% Daily Value)\": 0, \"Sugars\": 39, \"Protein\": 2, \"Vitamin A (% Daily Value)\": 6, \"Vitamin C (% Daily Value)\": 0, \"Calcium (% Daily Value)\": 8, \"Iron (% Daily Value)\": 0, \"Prediction\": \"Coffee & Tea\"}, {\"Category\": \"Coffee & Tea\", \"Item\": \"Iced Coffee with Sugar Free French Vanilla Syrup (Small)\", \"Serving Size\": \"16 fl oz cup\", \"Calories\": 80, \"Calories from Fat\": 40, \"Total Fat\": 4.5, \"Total Fat (% Daily Value)\": 7, \"Saturated Fat\": 3.0, \"Saturated Fat (% Daily Value)\": 15, \"Trans Fat\": 0.0, \"Cholesterol\": 15, \"Cholesterol (% Daily Value)\": 6, \"Sodium\": 65, \"Sodium (% Daily Value)\": 3, \"Carbohydrates\": 9, \"Carbohydrates (% Daily Value)\": 3, \"Dietary Fiber\": 0, \"Dietary Fiber (% Daily Value)\": 0, \"Sugars\": 1, \"Protein\": 1, \"Vitamin A (% Daily Value)\": 4, \"Vitamin C (% Daily Value)\": 0, \"Calcium (% Daily Value)\": 4, \"Iron (% Daily Value)\": 0, \"Prediction\": \"Beverages\"}, {\"Category\": \"Coffee & Tea\", \"Item\": \"Iced Coffee with Sugar Free French Vanilla Syrup (Medium)\", \"Serving Size\": \"22 fl oz cup\", \"Calories\": 120, \"Calories from Fat\": 60, \"Total Fat\": 7.0, \"Total Fat (% Daily Value)\": 11, \"Saturated Fat\": 4.5, \"Saturated Fat (% Daily Value)\": 22, \"Trans Fat\": 0.0, \"Cholesterol\": 25, \"Cholesterol (% Daily Value)\": 9, \"Sodium\": 90, \"Sodium (% Daily Value)\": 4, \"Carbohydrates\": 12, \"Carbohydrates (% Daily Value)\": 4, \"Dietary Fiber\": 0, \"Dietary Fiber (% Daily Value)\": 0, \"Sugars\": 2, \"Protein\": 1, \"Vitamin A (% Daily Value)\": 4, \"Vitamin C (% Daily Value)\": 0, \"Calcium (% Daily Value)\": 4, \"Iron (% Daily Value)\": 0, \"Prediction\": \"Coffee & Tea\"}, {\"Category\": \"Coffee & Tea\", \"Item\": \"Iced Coffee with Sugar Free French Vanilla Syrup (Large)\", \"Serving Size\": \"32 fl oz cup\", \"Calories\": 160, \"Calories from Fat\": 80, \"Total Fat\": 9.0, \"Total Fat (% Daily Value)\": 14, \"Saturated Fat\": 6.0, \"Saturated Fat (% Daily Value)\": 29, \"Trans Fat\": 0.0, \"Cholesterol\": 35, \"Cholesterol (% Daily Value)\": 12, \"Sodium\": 135, \"Sodium (% Daily Value)\": 6, \"Carbohydrates\": 18, \"Carbohydrates (% Daily Value)\": 6, \"Dietary Fiber\": 0, \"Dietary Fiber (% Daily Value)\": 0, \"Sugars\": 2, \"Protein\": 2, \"Vitamin A (% Daily Value)\": 6, \"Vitamin C (% Daily Value)\": 0, \"Calcium (% Daily Value)\": 8, \"Iron (% Daily Value)\": 0, \"Prediction\": \"Coffee & Tea\"}, {\"Category\": \"Coffee & Tea\", \"Item\": \"Iced Mocha (Small)\", \"Serving Size\": \"12 fl oz cup\", \"Calories\": 290, \"Calories from Fat\": 100, \"Total Fat\": 11.0, \"Total Fat (% Daily Value)\": 17, \"Saturated Fat\": 7.0, \"Saturated Fat (% Daily Value)\": 33, \"Trans Fat\": 0.0, \"Cholesterol\": 35, \"Cholesterol (% Daily Value)\": 12, \"Sodium\": 125, \"Sodium (% Daily Value)\": 5, \"Carbohydrates\": 41, \"Carbohydrates (% Daily Value)\": 14, \"Dietary Fiber\": 1, \"Dietary Fiber (% Daily Value)\": 4, \"Sugars\": 34, \"Protein\": 8, \"Vitamin A (% Daily Value)\": 10, \"Vitamin C (% Daily Value)\": 0, \"Calcium (% Daily Value)\": 25, \"Iron (% Daily Value)\": 4, \"Prediction\": \"Coffee & Tea\"}, {\"Category\": \"Coffee & Tea\", \"Item\": \"Iced Mocha (Medium)\", \"Serving Size\": \"16 fl oz cup\", \"Calories\": 350, \"Calories from Fat\": 110, \"Total Fat\": 13.0, \"Total Fat (% Daily Value)\": 19, \"Saturated Fat\": 8.0, \"Saturated Fat (% Daily Value)\": 38, \"Trans Fat\": 0.0, \"Cholesterol\": 40, \"Cholesterol (% Daily Value)\": 13, \"Sodium\": 150, \"Sodium (% Daily Value)\": 6, \"Carbohydrates\": 50, \"Carbohydrates (% Daily Value)\": 17, \"Dietary Fiber\": 1, \"Dietary Fiber (% Daily Value)\": 5, \"Sugars\": 43, \"Protein\": 9, \"Vitamin A (% Daily Value)\": 10, \"Vitamin C (% Daily Value)\": 0, \"Calcium (% Daily Value)\": 30, \"Iron (% Daily Value)\": 6, \"Prediction\": \"Coffee & Tea\"}, {\"Category\": \"Coffee & Tea\", \"Item\": \"Iced Mocha (Large)\", \"Serving Size\": \"22 fl oz cup\", \"Calories\": 480, \"Calories from Fat\": 150, \"Total Fat\": 16.0, \"Total Fat (% Daily Value)\": 25, \"Saturated Fat\": 10.0, \"Saturated Fat (% Daily Value)\": 49, \"Trans Fat\": 0.5, \"Cholesterol\": 50, \"Cholesterol (% Daily Value)\": 17, \"Sodium\": 220, \"Sodium (% Daily Value)\": 9, \"Carbohydrates\": 70, \"Carbohydrates (% Daily Value)\": 23, \"Dietary Fiber\": 2, \"Dietary Fiber (% Daily Value)\": 8, \"Sugars\": 62, \"Protein\": 14, \"Vitamin A (% Daily Value)\": 15, \"Vitamin C (% Daily Value)\": 0, \"Calcium (% Daily Value)\": 40, \"Iron (% Daily Value)\": 8, \"Prediction\": \"Coffee & Tea\"}, {\"Category\": \"Coffee & Tea\", \"Item\": \"Iced Mocha with Nonfat Milk (Small)\", \"Serving Size\": \"12 fl oz cup\", \"Calories\": 240, \"Calories from Fat\": 45, \"Total Fat\": 5.0, \"Total Fat (% Daily Value)\": 8, \"Saturated Fat\": 3.0, \"Saturated Fat (% Daily Value)\": 16, \"Trans Fat\": 0.0, \"Cholesterol\": 20, \"Cholesterol (% Daily Value)\": 7, \"Sodium\": 125, \"Sodium (% Daily Value)\": 5, \"Carbohydrates\": 41, \"Carbohydrates (% Daily Value)\": 14, \"Dietary Fiber\": 1, \"Dietary Fiber (% Daily Value)\": 4, \"Sugars\": 35, \"Protein\": 8, \"Vitamin A (% Daily Value)\": 10, \"Vitamin C (% Daily Value)\": 0, \"Calcium (% Daily Value)\": 25, \"Iron (% Daily Value)\": 4, \"Prediction\": \"Coffee & Tea\"}, {\"Category\": \"Coffee & Tea\", \"Item\": \"Iced Mocha with Nonfat Milk (Medium)\", \"Serving Size\": \"16 fl oz cup\", \"Calories\": 290, \"Calories from Fat\": 45, \"Total Fat\": 5.0, \"Total Fat (% Daily Value)\": 8, \"Saturated Fat\": 3.5, \"Saturated Fat (% Daily Value)\": 17, \"Trans Fat\": 0.0, \"Cholesterol\": 20, \"Cholesterol (% Daily Value)\": 7, \"Sodium\": 150, \"Sodium (% Daily Value)\": 6, \"Carbohydrates\": 50, \"Carbohydrates (% Daily Value)\": 17, \"Dietary Fiber\": 1, \"Dietary Fiber (% Daily Value)\": 5, \"Sugars\": 43, \"Protein\": 10, \"Vitamin A (% Daily Value)\": 15, \"Vitamin C (% Daily Value)\": 0, \"Calcium (% Daily Value)\": 30, \"Iron (% Daily Value)\": 6, \"Prediction\": \"Coffee & Tea\"}, {\"Category\": \"Coffee & Tea\", \"Item\": \"Iced Mocha with Nonfat Milk (Large)\", \"Serving Size\": \"22 fl oz cup\", \"Calories\": 390, \"Calories from Fat\": 50, \"Total Fat\": 6.0, \"Total Fat (% Daily Value)\": 9, \"Saturated Fat\": 3.5, \"Saturated Fat (% Daily Value)\": 18, \"Trans Fat\": 0.0, \"Cholesterol\": 25, \"Cholesterol (% Daily Value)\": 8, \"Sodium\": 220, \"Sodium (% Daily Value)\": 9, \"Carbohydrates\": 71, \"Carbohydrates (% Daily Value)\": 24, \"Dietary Fiber\": 2, \"Dietary Fiber (% Daily Value)\": 8, \"Sugars\": 62, \"Protein\": 14, \"Vitamin A (% Daily Value)\": 20, \"Vitamin C (% Daily Value)\": 0, \"Calcium (% Daily Value)\": 45, \"Iron (% Daily Value)\": 8, \"Prediction\": \"Coffee & Tea\"}, {\"Category\": \"Coffee & Tea\", \"Item\": \"Iced Caramel Mocha (Small)\", \"Serving Size\": \"12 fl oz cup\", \"Calories\": 280, \"Calories from Fat\": 100, \"Total Fat\": 11.0, \"Total Fat (% Daily Value)\": 17, \"Saturated Fat\": 7.0, \"Saturated Fat (% Daily Value)\": 33, \"Trans Fat\": 0.0, \"Cholesterol\": 35, \"Cholesterol (% Daily Value)\": 12, \"Sodium\": 140, \"Sodium (% Daily Value)\": 6, \"Carbohydrates\": 38, \"Carbohydrates (% Daily Value)\": 13, \"Dietary Fiber\": 0, \"Dietary Fiber (% Daily Value)\": 0, \"Sugars\": 33, \"Protein\": 8, \"Vitamin A (% Daily Value)\": 10, \"Vitamin C (% Daily Value)\": 0, \"Calcium (% Daily Value)\": 25, \"Iron (% Daily Value)\": 2, \"Prediction\": \"Coffee & Tea\"}, {\"Category\": \"Coffee & Tea\", \"Item\": \"Iced Caramel Mocha (Medium)\", \"Serving Size\": \"16 fl oz cup\", \"Calories\": 340, \"Calories from Fat\": 110, \"Total Fat\": 13.0, \"Total Fat (% Daily Value)\": 19, \"Saturated Fat\": 7.0, \"Saturated Fat (% Daily Value)\": 37, \"Trans Fat\": 0.0, \"Cholesterol\": 40, \"Cholesterol (% Daily Value)\": 13, \"Sodium\": 170, \"Sodium (% Daily Value)\": 7, \"Carbohydrates\": 46, \"Carbohydrates (% Daily Value)\": 15, \"Dietary Fiber\": 1, \"Dietary Fiber (% Daily Value)\": 2, \"Sugars\": 41, \"Protein\": 9, \"Vitamin A (% Daily Value)\": 10, \"Vitamin C (% Daily Value)\": 0, \"Calcium (% Daily Value)\": 30, \"Iron (% Daily Value)\": 2, \"Prediction\": \"Coffee & Tea\"}, {\"Category\": \"Coffee & Tea\", \"Item\": \"Iced Caramel Mocha (Large)\", \"Serving Size\": \"22 fl oz cup\", \"Calories\": 460, \"Calories from Fat\": 150, \"Total Fat\": 16.0, \"Total Fat (% Daily Value)\": 25, \"Saturated Fat\": 10.0, \"Saturated Fat (% Daily Value)\": 48, \"Trans Fat\": 0.5, \"Cholesterol\": 50, \"Cholesterol (% Daily Value)\": 17, \"Sodium\": 250, \"Sodium (% Daily Value)\": 10, \"Carbohydrates\": 65, \"Carbohydrates (% Daily Value)\": 22, \"Dietary Fiber\": 1, \"Dietary Fiber (% Daily Value)\": 3, \"Sugars\": 59, \"Protein\": 13, \"Vitamin A (% Daily Value)\": 15, \"Vitamin C (% Daily Value)\": 0, \"Calcium (% Daily Value)\": 40, \"Iron (% Daily Value)\": 4, \"Prediction\": \"Smoothies & Shakes\"}, {\"Category\": \"Coffee & Tea\", \"Item\": \"Iced Nonfat Caramel Mocha (Small)\", \"Serving Size\": \"12 fl oz cup\", \"Calories\": 230, \"Calories from Fat\": 45, \"Total Fat\": 5.0, \"Total Fat (% Daily Value)\": 8, \"Saturated Fat\": 3.0, \"Saturated Fat (% Daily Value)\": 16, \"Trans Fat\": 0.0, \"Cholesterol\": 20, \"Cholesterol (% Daily Value)\": 7, \"Sodium\": 140, \"Sodium (% Daily Value)\": 6, \"Carbohydrates\": 38, \"Carbohydrates (% Daily Value)\": 13, \"Dietary Fiber\": 0, \"Dietary Fiber (% Daily Value)\": 0, \"Sugars\": 33, \"Protein\": 8, \"Vitamin A (% Daily Value)\": 10, \"Vitamin C (% Daily Value)\": 0, \"Calcium (% Daily Value)\": 25, \"Iron (% Daily Value)\": 2, \"Prediction\": \"Coffee & Tea\"}, {\"Category\": \"Coffee & Tea\", \"Item\": \"Iced Nonfat Caramel Mocha (Medium)\", \"Serving Size\": \"16 fl oz cup\", \"Calories\": 270, \"Calories from Fat\": 45, \"Total Fat\": 5.0, \"Total Fat (% Daily Value)\": 8, \"Saturated Fat\": 3.0, \"Saturated Fat (% Daily Value)\": 16, \"Trans Fat\": 0.0, \"Cholesterol\": 20, \"Cholesterol (% Daily Value)\": 7, \"Sodium\": 170, \"Sodium (% Daily Value)\": 7, \"Carbohydrates\": 47, \"Carbohydrates (% Daily Value)\": 16, \"Dietary Fiber\": 1, \"Dietary Fiber (% Daily Value)\": 2, \"Sugars\": 41, \"Protein\": 10, \"Vitamin A (% Daily Value)\": 15, \"Vitamin C (% Daily Value)\": 0, \"Calcium (% Daily Value)\": 30, \"Iron (% Daily Value)\": 2, \"Prediction\": \"Coffee & Tea\"}, {\"Category\": \"Coffee & Tea\", \"Item\": \"Iced Nonfat Caramel Mocha (Large)\", \"Serving Size\": \"22 fl oz cup\", \"Calories\": 370, \"Calories from Fat\": 50, \"Total Fat\": 6.0, \"Total Fat (% Daily Value)\": 8, \"Saturated Fat\": 3.5, \"Saturated Fat (% Daily Value)\": 17, \"Trans Fat\": 0.0, \"Cholesterol\": 25, \"Cholesterol (% Daily Value)\": 8, \"Sodium\": 250, \"Sodium (% Daily Value)\": 10, \"Carbohydrates\": 65, \"Carbohydrates (% Daily Value)\": 22, \"Dietary Fiber\": 1, \"Dietary Fiber (% Daily Value)\": 3, \"Sugars\": 59, \"Protein\": 14, \"Vitamin A (% Daily Value)\": 20, \"Vitamin C (% Daily Value)\": 0, \"Calcium (% Daily Value)\": 45, \"Iron (% Daily Value)\": 4, \"Prediction\": \"Coffee & Tea\"}, {\"Category\": \"Coffee & Tea\", \"Item\": \"Frapp\\u00e9 Mocha (Small)\", \"Serving Size\": \"12 fl oz cup\", \"Calories\": 450, \"Calories from Fat\": 160, \"Total Fat\": 18.0, \"Total Fat (% Daily Value)\": 28, \"Saturated Fat\": 12.0, \"Saturated Fat (% Daily Value)\": 59, \"Trans Fat\": 1.0, \"Cholesterol\": 65, \"Cholesterol (% Daily Value)\": 21, \"Sodium\": 125, \"Sodium (% Daily Value)\": 5, \"Carbohydrates\": 65, \"Carbohydrates (% Daily Value)\": 22, \"Dietary Fiber\": 1, \"Dietary Fiber (% Daily Value)\": 3, \"Sugars\": 57, \"Protein\": 7, \"Vitamin A (% Daily Value)\": 15, \"Vitamin C (% Daily Value)\": 0, \"Calcium (% Daily Value)\": 20, \"Iron (% Daily Value)\": 4, \"Prediction\": \"Coffee & Tea\"}, {\"Category\": \"Coffee & Tea\", \"Item\": \"Frapp\\u00e9 Mocha (Medium)\", \"Serving Size\": \"16 fl oz cup\", \"Calories\": 550, \"Calories from Fat\": 200, \"Total Fat\": 22.0, \"Total Fat (% Daily Value)\": 34, \"Saturated Fat\": 14.0, \"Saturated Fat (% Daily Value)\": 71, \"Trans Fat\": 1.0, \"Cholesterol\": 75, \"Cholesterol (% Daily Value)\": 25, \"Sodium\": 160, \"Sodium (% Daily Value)\": 7, \"Carbohydrates\": 80, \"Carbohydrates (% Daily Value)\": 27, \"Dietary Fiber\": 1, \"Dietary Fiber (% Daily Value)\": 4, \"Sugars\": 71, \"Protein\": 9, \"Vitamin A (% Daily Value)\": 15, \"Vitamin C (% Daily Value)\": 0, \"Calcium (% Daily Value)\": 25, \"Iron (% Daily Value)\": 4, \"Prediction\": \"Coffee & Tea\"}, {\"Category\": \"Coffee & Tea\", \"Item\": \"Frapp\\u00e9 Mocha (Large)\", \"Serving Size\": \"22 fl oz cup\", \"Calories\": 670, \"Calories from Fat\": 240, \"Total Fat\": 26.0, \"Total Fat (% Daily Value)\": 41, \"Saturated Fat\": 17.0, \"Saturated Fat (% Daily Value)\": 85, \"Trans Fat\": 1.0, \"Cholesterol\": 90, \"Cholesterol (% Daily Value)\": 30, \"Sodium\": 190, \"Sodium (% Daily Value)\": 8, \"Carbohydrates\": 98, \"Carbohydrates (% Daily Value)\": 33, \"Dietary Fiber\": 1, \"Dietary Fiber (% Daily Value)\": 4, \"Sugars\": 88, \"Protein\": 11, \"Vitamin A (% Daily Value)\": 20, \"Vitamin C (% Daily Value)\": 0, \"Calcium (% Daily Value)\": 35, \"Iron (% Daily Value)\": 4, \"Prediction\": \"Coffee & Tea\"}, {\"Category\": \"Coffee & Tea\", \"Item\": \"Frapp\\u00e9 Caramel (Small)\", \"Serving Size\": \"12 fl oz cup\", \"Calories\": 450, \"Calories from Fat\": 170, \"Total Fat\": 19.0, \"Total Fat (% Daily Value)\": 29, \"Saturated Fat\": 12.0, \"Saturated Fat (% Daily Value)\": 60, \"Trans Fat\": 1.0, \"Cholesterol\": 65, \"Cholesterol (% Daily Value)\": 22, \"Sodium\": 125, \"Sodium (% Daily Value)\": 5, \"Carbohydrates\": 64, \"Carbohydrates (% Daily Value)\": 21, \"Dietary Fiber\": 0, \"Dietary Fiber (% Daily Value)\": 0, \"Sugars\": 57, \"Protein\": 7, \"Vitamin A (% Daily Value)\": 15, \"Vitamin C (% Daily Value)\": 0, \"Calcium (% Daily Value)\": 25, \"Iron (% Daily Value)\": 2, \"Prediction\": \"Coffee & Tea\"}, {\"Category\": \"Coffee & Tea\", \"Item\": \"Frapp\\u00e9 Caramel (Medium)\", \"Serving Size\": \"16 fl oz cup\", \"Calories\": 550, \"Calories from Fat\": 200, \"Total Fat\": 23.0, \"Total Fat (% Daily Value)\": 35, \"Saturated Fat\": 15.0, \"Saturated Fat (% Daily Value)\": 73, \"Trans Fat\": 1.0, \"Cholesterol\": 80, \"Cholesterol (% Daily Value)\": 27, \"Sodium\": 160, \"Sodium (% Daily Value)\": 7, \"Carbohydrates\": 79, \"Carbohydrates (% Daily Value)\": 26, \"Dietary Fiber\": 0, \"Dietary Fiber (% Daily Value)\": 0, \"Sugars\": 71, \"Protein\": 9, \"Vitamin A (% Daily Value)\": 20, \"Vitamin C (% Daily Value)\": 0, \"Calcium (% Daily Value)\": 30, \"Iron (% Daily Value)\": 2, \"Prediction\": \"Coffee & Tea\"}, {\"Category\": \"Coffee & Tea\", \"Item\": \"Frapp\\u00e9 Caramel (Large)\", \"Serving Size\": \"22 fl oz cup\", \"Calories\": 670, \"Calories from Fat\": 250, \"Total Fat\": 27.0, \"Total Fat (% Daily Value)\": 42, \"Saturated Fat\": 17.0, \"Saturated Fat (% Daily Value)\": 87, \"Trans Fat\": 1.5, \"Cholesterol\": 95, \"Cholesterol (% Daily Value)\": 32, \"Sodium\": 190, \"Sodium (% Daily Value)\": 8, \"Carbohydrates\": 96, \"Carbohydrates (% Daily Value)\": 32, \"Dietary Fiber\": 0, \"Dietary Fiber (% Daily Value)\": 0, \"Sugars\": 88, \"Protein\": 11, \"Vitamin A (% Daily Value)\": 20, \"Vitamin C (% Daily Value)\": 0, \"Calcium (% Daily Value)\": 35, \"Iron (% Daily Value)\": 2, \"Prediction\": \"Coffee & Tea\"}, {\"Category\": \"Coffee & Tea\", \"Item\": \"Frapp\\u00e9 Chocolate Chip (Small)\", \"Serving Size\": \"12 fl oz cup\", \"Calories\": 530, \"Calories from Fat\": 200, \"Total Fat\": 23.0, \"Total Fat (% Daily Value)\": 35, \"Saturated Fat\": 14.0, \"Saturated Fat (% Daily Value)\": 72, \"Trans Fat\": 1.0, \"Cholesterol\": 65, \"Cholesterol (% Daily Value)\": 22, \"Sodium\": 135, \"Sodium (% Daily Value)\": 6, \"Carbohydrates\": 76, \"Carbohydrates (% Daily Value)\": 25, \"Dietary Fiber\": 1, \"Dietary Fiber (% Daily Value)\": 5, \"Sugars\": 67, \"Protein\": 8, \"Vitamin A (% Daily Value)\": 15, \"Vitamin C (% Daily Value)\": 0, \"Calcium (% Daily Value)\": 25, \"Iron (% Daily Value)\": 4, \"Prediction\": \"Coffee & Tea\"}, {\"Category\": \"Coffee & Tea\", \"Item\": \"Frapp\\u00e9 Chocolate Chip (Medium)\", \"Serving Size\": \"16 fl oz cup\", \"Calories\": 630, \"Calories from Fat\": 240, \"Total Fat\": 26.0, \"Total Fat (% Daily Value)\": 41, \"Saturated Fat\": 17.0, \"Saturated Fat (% Daily Value)\": 85, \"Trans Fat\": 1.0, \"Cholesterol\": 80, \"Cholesterol (% Daily Value)\": 26, \"Sodium\": 160, \"Sodium (% Daily Value)\": 7, \"Carbohydrates\": 91, \"Carbohydrates (% Daily Value)\": 30, \"Dietary Fiber\": 1, \"Dietary Fiber (% Daily Value)\": 5, \"Sugars\": 81, \"Protein\": 9, \"Vitamin A (% Daily Value)\": 15, \"Vitamin C (% Daily Value)\": 0, \"Calcium (% Daily Value)\": 30, \"Iron (% Daily Value)\": 4, \"Prediction\": \"Coffee & Tea\"}, {\"Category\": \"Coffee & Tea\", \"Item\": \"Frapp\\u00e9 Chocolate Chip (Large)\", \"Serving Size\": \"22 fl oz cup\", \"Calories\": 760, \"Calories from Fat\": 280, \"Total Fat\": 31.0, \"Total Fat (% Daily Value)\": 48, \"Saturated Fat\": 20.0, \"Saturated Fat (% Daily Value)\": 101, \"Trans Fat\": 1.5, \"Cholesterol\": 95, \"Cholesterol (% Daily Value)\": 32, \"Sodium\": 200, \"Sodium (% Daily Value)\": 8, \"Carbohydrates\": 111, \"Carbohydrates (% Daily Value)\": 37, \"Dietary Fiber\": 1, \"Dietary Fiber (% Daily Value)\": 5, \"Sugars\": 99, \"Protein\": 12, \"Vitamin A (% Daily Value)\": 20, \"Vitamin C (% Daily Value)\": 0, \"Calcium (% Daily Value)\": 35, \"Iron (% Daily Value)\": 6, \"Prediction\": \"Coffee & Tea\"}, {\"Category\": \"Smoothies & Shakes\", \"Item\": \"Blueberry Pomegranate Smoothie (Small)\", \"Serving Size\": \"12 fl oz cup\", \"Calories\": 220, \"Calories from Fat\": 5, \"Total Fat\": 0.5, \"Total Fat (% Daily Value)\": 1, \"Saturated Fat\": 0.0, \"Saturated Fat (% Daily Value)\": 0, \"Trans Fat\": 0.0, \"Cholesterol\": 5, \"Cholesterol (% Daily Value)\": 1, \"Sodium\": 40, \"Sodium (% Daily Value)\": 2, \"Carbohydrates\": 50, \"Carbohydrates (% Daily Value)\": 17, \"Dietary Fiber\": 3, \"Dietary Fiber (% Daily Value)\": 12, \"Sugars\": 44, \"Protein\": 2, \"Vitamin A (% Daily Value)\": 0, \"Vitamin C (% Daily Value)\": 2, \"Calcium (% Daily Value)\": 6, \"Iron (% Daily Value)\": 2, \"Prediction\": \"Smoothies & Shakes\"}, {\"Category\": \"Smoothies & Shakes\", \"Item\": \"Blueberry Pomegranate Smoothie (Medium)\", \"Serving Size\": \"16 fl oz cup\", \"Calories\": 260, \"Calories from Fat\": 5, \"Total Fat\": 1.0, \"Total Fat (% Daily Value)\": 1, \"Saturated Fat\": 0.0, \"Saturated Fat (% Daily Value)\": 0, \"Trans Fat\": 0.0, \"Cholesterol\": 5, \"Cholesterol (% Daily Value)\": 1, \"Sodium\": 50, \"Sodium (% Daily Value)\": 2, \"Carbohydrates\": 62, \"Carbohydrates (% Daily Value)\": 21, \"Dietary Fiber\": 4, \"Dietary Fiber (% Daily Value)\": 15, \"Sugars\": 54, \"Protein\": 3, \"Vitamin A (% Daily Value)\": 0, \"Vitamin C (% Daily Value)\": 4, \"Calcium (% Daily Value)\": 8, \"Iron (% Daily Value)\": 2, \"Prediction\": \"Smoothies & Shakes\"}, {\"Category\": \"Smoothies & Shakes\", \"Item\": \"Blueberry Pomegranate Smoothie (Large)\", \"Serving Size\": \"22 fl oz cup\", \"Calories\": 340, \"Calories from Fat\": 10, \"Total Fat\": 1.0, \"Total Fat (% Daily Value)\": 2, \"Saturated Fat\": 0.5, \"Saturated Fat (% Daily Value)\": 3, \"Trans Fat\": 0.0, \"Cholesterol\": 5, \"Cholesterol (% Daily Value)\": 2, \"Sodium\": 65, \"Sodium (% Daily Value)\": 3, \"Carbohydrates\": 79, \"Carbohydrates (% Daily Value)\": 26, \"Dietary Fiber\": 5, \"Dietary Fiber (% Daily Value)\": 19, \"Sugars\": 70, \"Protein\": 4, \"Vitamin A (% Daily Value)\": 0, \"Vitamin C (% Daily Value)\": 4, \"Calcium (% Daily Value)\": 10, \"Iron (% Daily Value)\": 2, \"Prediction\": \"Smoothies & Shakes\"}, {\"Category\": \"Smoothies & Shakes\", \"Item\": \"Strawberry Banana Smoothie (Small)\", \"Serving Size\": \"12 fl oz cup\", \"Calories\": 210, \"Calories from Fat\": 5, \"Total Fat\": 0.5, \"Total Fat (% Daily Value)\": 1, \"Saturated Fat\": 0.0, \"Saturated Fat (% Daily Value)\": 0, \"Trans Fat\": 0.0, \"Cholesterol\": 5, \"Cholesterol (% Daily Value)\": 1, \"Sodium\": 50, \"Sodium (% Daily Value)\": 2, \"Carbohydrates\": 47, \"Carbohydrates (% Daily Value)\": 16, \"Dietary Fiber\": 3, \"Dietary Fiber (% Daily Value)\": 10, \"Sugars\": 44, \"Protein\": 3, \"Vitamin A (% Daily Value)\": 0, \"Vitamin C (% Daily Value)\": 30, \"Calcium (% Daily Value)\": 8, \"Iron (% Daily Value)\": 2, \"Prediction\": \"Smoothies & Shakes\"}, {\"Category\": \"Smoothies & Shakes\", \"Item\": \"Strawberry Banana Smoothie (Medium)\", \"Serving Size\": \"16 fl oz cup\", \"Calories\": 250, \"Calories from Fat\": 5, \"Total Fat\": 1.0, \"Total Fat (% Daily Value)\": 1, \"Saturated Fat\": 0.0, \"Saturated Fat (% Daily Value)\": 0, \"Trans Fat\": 0.0, \"Cholesterol\": 5, \"Cholesterol (% Daily Value)\": 1, \"Sodium\": 60, \"Sodium (% Daily Value)\": 2, \"Carbohydrates\": 58, \"Carbohydrates (% Daily Value)\": 19, \"Dietary Fiber\": 3, \"Dietary Fiber (% Daily Value)\": 13, \"Sugars\": 54, \"Protein\": 4, \"Vitamin A (% Daily Value)\": 0, \"Vitamin C (% Daily Value)\": 35, \"Calcium (% Daily Value)\": 8, \"Iron (% Daily Value)\": 4, \"Prediction\": \"Coffee & Tea\"}, {\"Category\": \"Smoothies & Shakes\", \"Item\": \"Strawberry Banana Smoothie (Large)\", \"Serving Size\": \"22 fl oz cup\", \"Calories\": 330, \"Calories from Fat\": 10, \"Total Fat\": 1.0, \"Total Fat (% Daily Value)\": 2, \"Saturated Fat\": 0.5, \"Saturated Fat (% Daily Value)\": 3, \"Trans Fat\": 0.0, \"Cholesterol\": 5, \"Cholesterol (% Daily Value)\": 2, \"Sodium\": 80, \"Sodium (% Daily Value)\": 3, \"Carbohydrates\": 74, \"Carbohydrates (% Daily Value)\": 25, \"Dietary Fiber\": 4, \"Dietary Fiber (% Daily Value)\": 16, \"Sugars\": 70, \"Protein\": 5, \"Vitamin A (% Daily Value)\": 0, \"Vitamin C (% Daily Value)\": 45, \"Calcium (% Daily Value)\": 10, \"Iron (% Daily Value)\": 4, \"Prediction\": \"Smoothies & Shakes\"}, {\"Category\": \"Smoothies & Shakes\", \"Item\": \"Mango Pineapple Smoothie (Small)\", \"Serving Size\": \"12 fl oz cup\", \"Calories\": 210, \"Calories from Fat\": 5, \"Total Fat\": 0.5, \"Total Fat (% Daily Value)\": 1, \"Saturated Fat\": 0.0, \"Saturated Fat (% Daily Value)\": 0, \"Trans Fat\": 0.0, \"Cholesterol\": 5, \"Cholesterol (% Daily Value)\": 1, \"Sodium\": 40, \"Sodium (% Daily Value)\": 2, \"Carbohydrates\": 50, \"Carbohydrates (% Daily Value)\": 17, \"Dietary Fiber\": 1, \"Dietary Fiber (% Daily Value)\": 4, \"Sugars\": 46, \"Protein\": 2, \"Vitamin A (% Daily Value)\": 30, \"Vitamin C (% Daily Value)\": 20, \"Calcium (% Daily Value)\": 8, \"Iron (% Daily Value)\": 2, \"Prediction\": \"Smoothies & Shakes\"}, {\"Category\": \"Smoothies & Shakes\", \"Item\": \"Mango Pineapple Smoothie (Medium)\", \"Serving Size\": \"16 fl oz cup\", \"Calories\": 260, \"Calories from Fat\": 10, \"Total Fat\": 1.0, \"Total Fat (% Daily Value)\": 1, \"Saturated Fat\": 0.0, \"Saturated Fat (% Daily Value)\": 0, \"Trans Fat\": 0.0, \"Cholesterol\": 5, \"Cholesterol (% Daily Value)\": 1, \"Sodium\": 45, \"Sodium (% Daily Value)\": 2, \"Carbohydrates\": 61, \"Carbohydrates (% Daily Value)\": 20, \"Dietary Fiber\": 1, \"Dietary Fiber (% Daily Value)\": 5, \"Sugars\": 56, \"Protein\": 3, \"Vitamin A (% Daily Value)\": 40, \"Vitamin C (% Daily Value)\": 25, \"Calcium (% Daily Value)\": 8, \"Iron (% Daily Value)\": 2, \"Prediction\": \"Smoothies & Shakes\"}, {\"Category\": \"Smoothies & Shakes\", \"Item\": \"Mango Pineapple Smoothie (Large)\", \"Serving Size\": \"22 fl oz cup\", \"Calories\": 340, \"Calories from Fat\": 10, \"Total Fat\": 1.0, \"Total Fat (% Daily Value)\": 2, \"Saturated Fat\": 0.5, \"Saturated Fat (% Daily Value)\": 3, \"Trans Fat\": 0.0, \"Cholesterol\": 5, \"Cholesterol (% Daily Value)\": 2, \"Sodium\": 60, \"Sodium (% Daily Value)\": 3, \"Carbohydrates\": 78, \"Carbohydrates (% Daily Value)\": 26, \"Dietary Fiber\": 2, \"Dietary Fiber (% Daily Value)\": 6, \"Sugars\": 72, \"Protein\": 4, \"Vitamin A (% Daily Value)\": 50, \"Vitamin C (% Daily Value)\": 30, \"Calcium (% Daily Value)\": 10, \"Iron (% Daily Value)\": 2, \"Prediction\": \"Smoothies & Shakes\"}, {\"Category\": \"Smoothies & Shakes\", \"Item\": \"Vanilla Shake (Small)\", \"Serving Size\": \"12 fl oz cup\", \"Calories\": 530, \"Calories from Fat\": 140, \"Total Fat\": 15.0, \"Total Fat (% Daily Value)\": 24, \"Saturated Fat\": 10.0, \"Saturated Fat (% Daily Value)\": 49, \"Trans Fat\": 1.0, \"Cholesterol\": 60, \"Cholesterol (% Daily Value)\": 20, \"Sodium\": 160, \"Sodium (% Daily Value)\": 7, \"Carbohydrates\": 86, \"Carbohydrates (% Daily Value)\": 29, \"Dietary Fiber\": 0, \"Dietary Fiber (% Daily Value)\": 0, \"Sugars\": 63, \"Protein\": 11, \"Vitamin A (% Daily Value)\": 20, \"Vitamin C (% Daily Value)\": 0, \"Calcium (% Daily Value)\": 40, \"Iron (% Daily Value)\": 0, \"Prediction\": \"Coffee & Tea\"}, {\"Category\": \"Smoothies & Shakes\", \"Item\": \"Vanilla Shake (Medium)\", \"Serving Size\": \"16 fl oz cup\", \"Calories\": 660, \"Calories from Fat\": 170, \"Total Fat\": 19.0, \"Total Fat (% Daily Value)\": 29, \"Saturated Fat\": 12.0, \"Saturated Fat (% Daily Value)\": 61, \"Trans Fat\": 1.0, \"Cholesterol\": 75, \"Cholesterol (% Daily Value)\": 24, \"Sodium\": 200, \"Sodium (% Daily Value)\": 9, \"Carbohydrates\": 109, \"Carbohydrates (% Daily Value)\": 36, \"Dietary Fiber\": 0, \"Dietary Fiber (% Daily Value)\": 0, \"Sugars\": 81, \"Protein\": 14, \"Vitamin A (% Daily Value)\": 25, \"Vitamin C (% Daily Value)\": 0, \"Calcium (% Daily Value)\": 50, \"Iron (% Daily Value)\": 0, \"Prediction\": \"Coffee & Tea\"}, {\"Category\": \"Smoothies & Shakes\", \"Item\": \"Vanilla Shake (Large)\", \"Serving Size\": \"22 fl oz cup\", \"Calories\": 820, \"Calories from Fat\": 210, \"Total Fat\": 23.0, \"Total Fat (% Daily Value)\": 35, \"Saturated Fat\": 15.0, \"Saturated Fat (% Daily Value)\": 73, \"Trans Fat\": 1.0, \"Cholesterol\": 90, \"Cholesterol (% Daily Value)\": 29, \"Sodium\": 260, \"Sodium (% Daily Value)\": 11, \"Carbohydrates\": 135, \"Carbohydrates (% Daily Value)\": 45, \"Dietary Fiber\": 0, \"Dietary Fiber (% Daily Value)\": 0, \"Sugars\": 101, \"Protein\": 18, \"Vitamin A (% Daily Value)\": 30, \"Vitamin C (% Daily Value)\": 0, \"Calcium (% Daily Value)\": 60, \"Iron (% Daily Value)\": 0, \"Prediction\": \"Smoothies & Shakes\"}, {\"Category\": \"Smoothies & Shakes\", \"Item\": \"Strawberry Shake (Small)\", \"Serving Size\": \"12 fl oz cup\", \"Calories\": 550, \"Calories from Fat\": 150, \"Total Fat\": 16.0, \"Total Fat (% Daily Value)\": 25, \"Saturated Fat\": 10.0, \"Saturated Fat (% Daily Value)\": 52, \"Trans Fat\": 1.0, \"Cholesterol\": 60, \"Cholesterol (% Daily Value)\": 21, \"Sodium\": 160, \"Sodium (% Daily Value)\": 7, \"Carbohydrates\": 90, \"Carbohydrates (% Daily Value)\": 30, \"Dietary Fiber\": 0, \"Dietary Fiber (% Daily Value)\": 0, \"Sugars\": 79, \"Protein\": 12, \"Vitamin A (% Daily Value)\": 20, \"Vitamin C (% Daily Value)\": 0, \"Calcium (% Daily Value)\": 40, \"Iron (% Daily Value)\": 0, \"Prediction\": \"Coffee & Tea\"}, {\"Category\": \"Smoothies & Shakes\", \"Item\": \"Strawberry Shake (Medium)\", \"Serving Size\": \"16 fl oz cup\", \"Calories\": 690, \"Calories from Fat\": 180, \"Total Fat\": 20.0, \"Total Fat (% Daily Value)\": 30, \"Saturated Fat\": 13.0, \"Saturated Fat (% Daily Value)\": 63, \"Trans Fat\": 1.0, \"Cholesterol\": 75, \"Cholesterol (% Daily Value)\": 25, \"Sodium\": 210, \"Sodium (% Daily Value)\": 9, \"Carbohydrates\": 114, \"Carbohydrates (% Daily Value)\": 38, \"Dietary Fiber\": 0, \"Dietary Fiber (% Daily Value)\": 0, \"Sugars\": 100, \"Protein\": 15, \"Vitamin A (% Daily Value)\": 25, \"Vitamin C (% Daily Value)\": 0, \"Calcium (% Daily Value)\": 50, \"Iron (% Daily Value)\": 0, \"Prediction\": \"Coffee & Tea\"}, {\"Category\": \"Smoothies & Shakes\", \"Item\": \"Strawberry Shake (Large)\", \"Serving Size\": \"22 fl oz cup\", \"Calories\": 850, \"Calories from Fat\": 210, \"Total Fat\": 24.0, \"Total Fat (% Daily Value)\": 36, \"Saturated Fat\": 15.0, \"Saturated Fat (% Daily Value)\": 75, \"Trans Fat\": 1.0, \"Cholesterol\": 90, \"Cholesterol (% Daily Value)\": 30, \"Sodium\": 260, \"Sodium (% Daily Value)\": 11, \"Carbohydrates\": 140, \"Carbohydrates (% Daily Value)\": 47, \"Dietary Fiber\": 0, \"Dietary Fiber (% Daily Value)\": 0, \"Sugars\": 123, \"Protein\": 18, \"Vitamin A (% Daily Value)\": 30, \"Vitamin C (% Daily Value)\": 0, \"Calcium (% Daily Value)\": 70, \"Iron (% Daily Value)\": 0, \"Prediction\": \"Smoothies & Shakes\"}, {\"Category\": \"Smoothies & Shakes\", \"Item\": \"Chocolate Shake (Small)\", \"Serving Size\": \"12 fl oz cup\", \"Calories\": 560, \"Calories from Fat\": 150, \"Total Fat\": 16.0, \"Total Fat (% Daily Value)\": 25, \"Saturated Fat\": 10.0, \"Saturated Fat (% Daily Value)\": 51, \"Trans Fat\": 1.0, \"Cholesterol\": 60, \"Cholesterol (% Daily Value)\": 20, \"Sodium\": 240, \"Sodium (% Daily Value)\": 10, \"Carbohydrates\": 91, \"Carbohydrates (% Daily Value)\": 30, \"Dietary Fiber\": 1, \"Dietary Fiber (% Daily Value)\": 5, \"Sugars\": 77, \"Protein\": 12, \"Vitamin A (% Daily Value)\": 20, \"Vitamin C (% Daily Value)\": 0, \"Calcium (% Daily Value)\": 40, \"Iron (% Daily Value)\": 8, \"Prediction\": \"Smoothies & Shakes\"}, {\"Category\": \"Smoothies & Shakes\", \"Item\": \"Chocolate Shake (Medium)\", \"Serving Size\": \"16 fl oz cup\", \"Calories\": 700, \"Calories from Fat\": 180, \"Total Fat\": 20.0, \"Total Fat (% Daily Value)\": 30, \"Saturated Fat\": 12.0, \"Saturated Fat (% Daily Value)\": 62, \"Trans Fat\": 1.0, \"Cholesterol\": 75, \"Cholesterol (% Daily Value)\": 24, \"Sodium\": 300, \"Sodium (% Daily Value)\": 13, \"Carbohydrates\": 114, \"Carbohydrates (% Daily Value)\": 38, \"Dietary Fiber\": 2, \"Dietary Fiber (% Daily Value)\": 6, \"Sugars\": 97, \"Protein\": 15, \"Vitamin A (% Daily Value)\": 25, \"Vitamin C (% Daily Value)\": 0, \"Calcium (% Daily Value)\": 50, \"Iron (% Daily Value)\": 10, \"Prediction\": \"Smoothies & Shakes\"}, {\"Category\": \"Smoothies & Shakes\", \"Item\": \"Chocolate Shake (Large)\", \"Serving Size\": \"22 fl oz cup\", \"Calories\": 850, \"Calories from Fat\": 210, \"Total Fat\": 23.0, \"Total Fat (% Daily Value)\": 36, \"Saturated Fat\": 15.0, \"Saturated Fat (% Daily Value)\": 74, \"Trans Fat\": 1.0, \"Cholesterol\": 85, \"Cholesterol (% Daily Value)\": 29, \"Sodium\": 380, \"Sodium (% Daily Value)\": 16, \"Carbohydrates\": 141, \"Carbohydrates (% Daily Value)\": 47, \"Dietary Fiber\": 2, \"Dietary Fiber (% Daily Value)\": 8, \"Sugars\": 120, \"Protein\": 19, \"Vitamin A (% Daily Value)\": 30, \"Vitamin C (% Daily Value)\": 0, \"Calcium (% Daily Value)\": 60, \"Iron (% Daily Value)\": 15, \"Prediction\": \"Smoothies & Shakes\"}, {\"Category\": \"Smoothies & Shakes\", \"Item\": \"Shamrock Shake (Medium)\", \"Serving Size\": \"16 fl oz cup\", \"Calories\": 660, \"Calories from Fat\": 170, \"Total Fat\": 19.0, \"Total Fat (% Daily Value)\": 29, \"Saturated Fat\": 12.0, \"Saturated Fat (% Daily Value)\": 61, \"Trans Fat\": 1.0, \"Cholesterol\": 75, \"Cholesterol (% Daily Value)\": 24, \"Sodium\": 210, \"Sodium (% Daily Value)\": 9, \"Carbohydrates\": 109, \"Carbohydrates (% Daily Value)\": 36, \"Dietary Fiber\": 0, \"Dietary Fiber (% Daily Value)\": 0, \"Sugars\": 93, \"Protein\": 14, \"Vitamin A (% Daily Value)\": 25, \"Vitamin C (% Daily Value)\": 0, \"Calcium (% Daily Value)\": 50, \"Iron (% Daily Value)\": 0, \"Prediction\": \"Coffee & Tea\"}, {\"Category\": \"Smoothies & Shakes\", \"Item\": \"Shamrock Shake (Large)\", \"Serving Size\": \"22 fl oz cup\", \"Calories\": 820, \"Calories from Fat\": 210, \"Total Fat\": 23.0, \"Total Fat (% Daily Value)\": 35, \"Saturated Fat\": 15.0, \"Saturated Fat (% Daily Value)\": 73, \"Trans Fat\": 1.0, \"Cholesterol\": 90, \"Cholesterol (% Daily Value)\": 29, \"Sodium\": 260, \"Sodium (% Daily Value)\": 11, \"Carbohydrates\": 135, \"Carbohydrates (% Daily Value)\": 45, \"Dietary Fiber\": 0, \"Dietary Fiber (% Daily Value)\": 0, \"Sugars\": 115, \"Protein\": 18, \"Vitamin A (% Daily Value)\": 30, \"Vitamin C (% Daily Value)\": 0, \"Calcium (% Daily Value)\": 60, \"Iron (% Daily Value)\": 0, \"Prediction\": \"Smoothies & Shakes\"}, {\"Category\": \"Smoothies & Shakes\", \"Item\": \"McFlurry with M&M\\u2019s Candies (Small)\", \"Serving Size\": \"10.9 oz (310 g)\", \"Calories\": 650, \"Calories from Fat\": 210, \"Total Fat\": 23.0, \"Total Fat (% Daily Value)\": 35, \"Saturated Fat\": 14.0, \"Saturated Fat (% Daily Value)\": 72, \"Trans Fat\": 0.5, \"Cholesterol\": 50, \"Cholesterol (% Daily Value)\": 17, \"Sodium\": 180, \"Sodium (% Daily Value)\": 7, \"Carbohydrates\": 96, \"Carbohydrates (% Daily Value)\": 32, \"Dietary Fiber\": 1, \"Dietary Fiber (% Daily Value)\": 6, \"Sugars\": 89, \"Protein\": 13, \"Vitamin A (% Daily Value)\": 15, \"Vitamin C (% Daily Value)\": 0, \"Calcium (% Daily Value)\": 45, \"Iron (% Daily Value)\": 8, \"Prediction\": \"Coffee & Tea\"}, {\"Category\": \"Smoothies & Shakes\", \"Item\": \"McFlurry with M&M\\u2019s Candies (Medium)\", \"Serving Size\": \"16.2 oz (460 g)\", \"Calories\": 930, \"Calories from Fat\": 290, \"Total Fat\": 33.0, \"Total Fat (% Daily Value)\": 50, \"Saturated Fat\": 20.0, \"Saturated Fat (% Daily Value)\": 102, \"Trans Fat\": 1.0, \"Cholesterol\": 75, \"Cholesterol (% Daily Value)\": 25, \"Sodium\": 260, \"Sodium (% Daily Value)\": 11, \"Carbohydrates\": 139, \"Carbohydrates (% Daily Value)\": 46, \"Dietary Fiber\": 2, \"Dietary Fiber (% Daily Value)\": 7, \"Sugars\": 128, \"Protein\": 20, \"Vitamin A (% Daily Value)\": 25, \"Vitamin C (% Daily Value)\": 0, \"Calcium (% Daily Value)\": 70, \"Iron (% Daily Value)\": 10, \"Prediction\": \"Smoothies & Shakes\"}, {\"Category\": \"Smoothies & Shakes\", \"Item\": \"McFlurry with M&M\\u2019s Candies (Snack)\", \"Serving Size\": \"7.3 oz (207 g)\", \"Calories\": 430, \"Calories from Fat\": 140, \"Total Fat\": 15.0, \"Total Fat (% Daily Value)\": 24, \"Saturated Fat\": 10.0, \"Saturated Fat (% Daily Value)\": 48, \"Trans Fat\": 0.0, \"Cholesterol\": 35, \"Cholesterol (% Daily Value)\": 11, \"Sodium\": 120, \"Sodium (% Daily Value)\": 5, \"Carbohydrates\": 64, \"Carbohydrates (% Daily Value)\": 21, \"Dietary Fiber\": 1, \"Dietary Fiber (% Daily Value)\": 4, \"Sugars\": 59, \"Protein\": 9, \"Vitamin A (% Daily Value)\": 10, \"Vitamin C (% Daily Value)\": 0, \"Calcium (% Daily Value)\": 30, \"Iron (% Daily Value)\": 4, \"Prediction\": \"Coffee & Tea\"}, {\"Category\": \"Smoothies & Shakes\", \"Item\": \"McFlurry with Oreo Cookies (Small)\", \"Serving Size\": \"10.1 oz (285 g)\", \"Calories\": 510, \"Calories from Fat\": 150, \"Total Fat\": 17.0, \"Total Fat (% Daily Value)\": 26, \"Saturated Fat\": 9.0, \"Saturated Fat (% Daily Value)\": 44, \"Trans Fat\": 0.5, \"Cholesterol\": 45, \"Cholesterol (% Daily Value)\": 14, \"Sodium\": 280, \"Sodium (% Daily Value)\": 12, \"Carbohydrates\": 80, \"Carbohydrates (% Daily Value)\": 27, \"Dietary Fiber\": 1, \"Dietary Fiber (% Daily Value)\": 4, \"Sugars\": 64, \"Protein\": 12, \"Vitamin A (% Daily Value)\": 15, \"Vitamin C (% Daily Value)\": 0, \"Calcium (% Daily Value)\": 40, \"Iron (% Daily Value)\": 8, \"Prediction\": \"Smoothies & Shakes\"}, {\"Category\": \"Smoothies & Shakes\", \"Item\": \"McFlurry with Oreo Cookies (Medium)\", \"Serving Size\": \"13.4 oz (381 g)\", \"Calories\": 690, \"Calories from Fat\": 200, \"Total Fat\": 23.0, \"Total Fat (% Daily Value)\": 35, \"Saturated Fat\": 12.0, \"Saturated Fat (% Daily Value)\": 58, \"Trans Fat\": 1.0, \"Cholesterol\": 55, \"Cholesterol (% Daily Value)\": 19, \"Sodium\": 380, \"Sodium (% Daily Value)\": 16, \"Carbohydrates\": 106, \"Carbohydrates (% Daily Value)\": 35, \"Dietary Fiber\": 1, \"Dietary Fiber (% Daily Value)\": 5, \"Sugars\": 85, \"Protein\": 15, \"Vitamin A (% Daily Value)\": 20, \"Vitamin C (% Daily Value)\": 0, \"Calcium (% Daily Value)\": 50, \"Iron (% Daily Value)\": 10, \"Prediction\": \"Smoothies & Shakes\"}, {\"Category\": \"Smoothies & Shakes\", \"Item\": \"McFlurry with Oreo Cookies (Snack)\", \"Serving Size\": \"6.7 oz (190 g)\", \"Calories\": 340, \"Calories from Fat\": 100, \"Total Fat\": 11.0, \"Total Fat (% Daily Value)\": 17, \"Saturated Fat\": 6.0, \"Saturated Fat (% Daily Value)\": 29, \"Trans Fat\": 0.0, \"Cholesterol\": 30, \"Cholesterol (% Daily Value)\": 9, \"Sodium\": 190, \"Sodium (% Daily Value)\": 8, \"Carbohydrates\": 53, \"Carbohydrates (% Daily Value)\": 18, \"Dietary Fiber\": 1, \"Dietary Fiber (% Daily Value)\": 2, \"Sugars\": 43, \"Protein\": 8, \"Vitamin A (% Daily Value)\": 10, \"Vitamin C (% Daily Value)\": 0, \"Calcium (% Daily Value)\": 25, \"Iron (% Daily Value)\": 6, \"Prediction\": \"Coffee & Tea\"}, {\"Category\": \"Smoothies & Shakes\", \"Item\": \"McFlurry with Reese's Peanut Butter Cups (Medium)\", \"Serving Size\": \"14.2 oz (403 g)\", \"Calories\": 810, \"Calories from Fat\": 290, \"Total Fat\": 32.0, \"Total Fat (% Daily Value)\": 50, \"Saturated Fat\": 15.0, \"Saturated Fat (% Daily Value)\": 76, \"Trans Fat\": 1.0, \"Cholesterol\": 60, \"Cholesterol (% Daily Value)\": 20, \"Sodium\": 400, \"Sodium (% Daily Value)\": 17, \"Carbohydrates\": 114, \"Carbohydrates (% Daily Value)\": 38, \"Dietary Fiber\": 2, \"Dietary Fiber (% Daily Value)\": 9, \"Sugars\": 103, \"Protein\": 21, \"Vitamin A (% Daily Value)\": 20, \"Vitamin C (% Daily Value)\": 0, \"Calcium (% Daily Value)\": 60, \"Iron (% Daily Value)\": 6, \"Prediction\": \"Smoothies & Shakes\"}, {\"Category\": \"Smoothies & Shakes\", \"Item\": \"McFlurry with Reese's Peanut Butter Cups (Snack)\", \"Serving Size\": \"7.1 oz (202 g)\", \"Calories\": 410, \"Calories from Fat\": 150, \"Total Fat\": 16.0, \"Total Fat (% Daily Value)\": 25, \"Saturated Fat\": 8.0, \"Saturated Fat (% Daily Value)\": 38, \"Trans Fat\": 0.0, \"Cholesterol\": 30, \"Cholesterol (% Daily Value)\": 10, \"Sodium\": 200, \"Sodium (% Daily Value)\": 8, \"Carbohydrates\": 57, \"Carbohydrates (% Daily Value)\": 19, \"Dietary Fiber\": 1, \"Dietary Fiber (% Daily Value)\": 5, \"Sugars\": 51, \"Protein\": 10, \"Vitamin A (% Daily Value)\": 10, \"Vitamin C (% Daily Value)\": 0, \"Calcium (% Daily Value)\": 30, \"Iron (% Daily Value)\": 4, \"Prediction\": \"Coffee & Tea\"}]}}, {\"mode\": \"vega-lite\"});\n</script>",
            "text/plain": "alt.HConcatChart(...)"
          },
          "metadata": {}
        }
      ],
      "execution_count": null
    },
    {
      "cell_type": "markdown",
      "source": [
        "The 1st graph shows the actual scatterplot and the 2nd graph shows the predicted scatterplot. There is a lot more Breakfast foods that are shown in the predicted scatterplot. In both scatterplots, it looks like we have a positive correlation between Sodium and Calories. We can also see that the drinks and beverages have the least sodium."
      ],
      "metadata": {
        "cell_id": "91408a40-8e5b-49d9-935f-6baf1ed9fae8",
        "tags": [],
        "is_collapsed": false,
        "deepnote_cell_type": "text-cell-p",
        "deepnote_cell_height": 96,
        "id": "4RNFsfximZRZ"
      }
    },
    {
      "cell_type": "markdown",
      "source": [
        "Next, we will find the number of neighbors (k) that will give us the best fit graph."
      ],
      "metadata": {
        "cell_id": "b41d0be7-44a2-4fe8-854d-532dd626720a",
        "tags": [],
        "is_collapsed": false,
        "deepnote_cell_type": "text-cell-p",
        "deepnote_cell_height": 52,
        "id": "6tRPpakhmZRZ"
      }
    },
    {
      "cell_type": "code",
      "metadata": {
        "cell_id": "e6b009cf-f476-42c5-bb20-47f7cf26589b",
        "tags": [],
        "deepnote_to_be_reexecuted": false,
        "source_hash": "d05c5641",
        "execution_start": 1647407177455,
        "execution_millis": 386,
        "deepnote_cell_type": "code",
        "deepnote_cell_height": 791,
        "id": "1xBQMdXRmZRZ",
        "outputId": "bcbb7932-8d1b-4242-d5ba-7965e3a1b78b"
      },
      "source": [
        "for k in range(10,50):\n",
        "    clf = KNeighborsClassifier(n_neighbors=k)\n",
        "    clf.fit(X_train, y_train)\n",
        "    loss = log_loss(y_test, clf.predict_proba(X_test))\n",
        "    print(k)\n",
        "    print(loss)"
      ],
      "outputs": [
        {
          "name": "stdout",
          "text": "10\n6.0403429851948856\n11\n5.841550440022011\n12\n5.43317217888796\n13\n4.618419823577553\n14\n4.6202291027250775\n15\n4.632552954899944\n16\n4.226015001076752\n17\n4.041124926537652\n18\n3.8507788472806888\n19\n3.8529062168396453\n20\n3.6574676447225327\n21\n3.6571086482864663\n22\n2.861903299055544\n23\n2.8573859035005658\n24\n2.8635253844626507\n25\n2.678034872545609\n26\n2.683057927540438\n27\n2.6890617256588163\n28\n2.695123688326176\n29\n2.695641911003013\n30\n2.7002444807297024\n31\n2.706711184949227\n32\n2.716289630157656\n33\n2.7317374028737604\n34\n2.742772014073851\n35\n2.750539249149148\n36\n2.757087647552644\n37\n2.7623256139024446\n38\n2.77157558671901\n39\n2.3850265824620354\n40\n2.189238890675243\n41\n2.2020264320683927\n42\n2.2066750718876667\n43\n2.01769451413343\n44\n2.009043398740177\n45\n1.6290029938251587\n46\n1.6436320911236701\n47\n1.6456239415848195\n48\n1.6507661666879414\n49\n1.6592345984998622\n",
          "output_type": "stream"
        }
      ],
      "execution_count": null
    },
    {
      "cell_type": "markdown",
      "source": [
        "The log_loss is the smallest when k=45. This means we will have the best fitted graph when we set n_neighbors equal to 45. (This number may change if we run the notebook multiple times. The ideal k number should be between 35-50.)"
      ],
      "metadata": {
        "cell_id": "dde3a586-1f5a-42f0-a6f5-95b723d5aab6",
        "tags": [],
        "is_collapsed": false,
        "deepnote_cell_type": "text-cell-p",
        "deepnote_cell_height": 74,
        "id": "EWiEhAoqmZRZ"
      }
    },
    {
      "cell_type": "markdown",
      "source": [
        "### Plotly\n",
        "Create a bar chart using Plotly. This bar chart will show us the food category and the amount of average proteins and sugars each category has."
      ],
      "metadata": {
        "cell_id": "d46dc976-7049-4944-9e8c-3a5ec7ead81a",
        "tags": [],
        "deepnote_cell_type": "markdown",
        "deepnote_cell_height": 122,
        "id": "rCp_PpHImZRZ"
      }
    },
    {
      "cell_type": "code",
      "metadata": {
        "cell_id": "bd935ded-d5a3-4a27-9abf-1192d3d77865",
        "tags": [],
        "deepnote_to_be_reexecuted": false,
        "source_hash": "550992fd",
        "execution_start": 1647407177846,
        "execution_millis": 1880,
        "deepnote_cell_type": "code",
        "deepnote_cell_height": 678,
        "deepnote_output_heights": [
          527
        ],
        "id": "dCeAdHeXmZRZ",
        "outputId": "fe80c10c-b359-4e3f-d9fc-dde71f9f8e1b"
      },
      "source": [
        "avgprotein = pd.DataFrame(df.groupby('Category')['Protein'].mean())\n",
        "\n",
        "fig = px.bar(df, x=avgprotein.index, y=avgprotein[\"Protein\"])\n",
        "fig.show()"
      ],
      "outputs": [
        {
          "data": {
            "text/html": "<html>\n<head><meta charset=\"utf-8\" /></head>\n<body>\n    <div>            <script src=\"https://cdnjs.cloudflare.com/ajax/libs/mathjax/2.7.5/MathJax.js?config=TeX-AMS-MML_SVG\"></script><script type=\"text/javascript\">if (window.MathJax) {MathJax.Hub.Config({SVG: {font: \"STIX-Web\"}});}</script>                <script type=\"text/javascript\">window.PlotlyConfig = {MathJaxConfig: 'local'};</script>\n        <script src=\"https://cdn.plot.ly/plotly-2.9.0.min.js\"></script>                <div id=\"39d6eabe-a5ab-4a9c-a786-a60163fd116a\" class=\"plotly-graph-div\" style=\"height:525px; width:100%;\"></div>            <script type=\"text/javascript\">                                    window.PLOTLYENV=window.PLOTLYENV || {};                                    if (document.getElementById(\"39d6eabe-a5ab-4a9c-a786-a60163fd116a\")) {                    Plotly.newPlot(                        \"39d6eabe-a5ab-4a9c-a786-a60163fd116a\",                        [{\"alignmentgroup\":\"True\",\"hovertemplate\":\"x=%{x}<br>y=%{y}<extra></extra>\",\"legendgroup\":\"\",\"marker\":{\"color\":\"#636efa\",\"pattern\":{\"shape\":\"\"}},\"name\":\"\",\"offsetgroup\":\"\",\"orientation\":\"v\",\"showlegend\":false,\"textposition\":\"auto\",\"x\":[\"Beef & Pork\",\"Beverages\",\"Breakfast\",\"Chicken & Fish\",\"Coffee & Tea\",\"Desserts\",\"Salads\",\"Smoothies & Shakes\",\"Snacks & Sides\"],\"xaxis\":\"x\",\"y\":[27.333333333333332,1.3333333333333333,19.857142857142858,29.11111111111111,8.863157894736842,4.0,19.833333333333332,10.857142857142858,8.384615384615385],\"yaxis\":\"y\",\"type\":\"bar\"}],                        {\"template\":{\"data\":{\"bar\":[{\"error_x\":{\"color\":\"#2a3f5f\"},\"error_y\":{\"color\":\"#2a3f5f\"},\"marker\":{\"line\":{\"color\":\"#E5ECF6\",\"width\":0.5},\"pattern\":{\"fillmode\":\"overlay\",\"size\":10,\"solidity\":0.2}},\"type\":\"bar\"}],\"barpolar\":[{\"marker\":{\"line\":{\"color\":\"#E5ECF6\",\"width\":0.5},\"pattern\":{\"fillmode\":\"overlay\",\"size\":10,\"solidity\":0.2}},\"type\":\"barpolar\"}],\"carpet\":[{\"aaxis\":{\"endlinecolor\":\"#2a3f5f\",\"gridcolor\":\"white\",\"linecolor\":\"white\",\"minorgridcolor\":\"white\",\"startlinecolor\":\"#2a3f5f\"},\"baxis\":{\"endlinecolor\":\"#2a3f5f\",\"gridcolor\":\"white\",\"linecolor\":\"white\",\"minorgridcolor\":\"white\",\"startlinecolor\":\"#2a3f5f\"},\"type\":\"carpet\"}],\"choropleth\":[{\"colorbar\":{\"outlinewidth\":0,\"ticks\":\"\"},\"type\":\"choropleth\"}],\"contour\":[{\"colorbar\":{\"outlinewidth\":0,\"ticks\":\"\"},\"colorscale\":[[0.0,\"#0d0887\"],[0.1111111111111111,\"#46039f\"],[0.2222222222222222,\"#7201a8\"],[0.3333333333333333,\"#9c179e\"],[0.4444444444444444,\"#bd3786\"],[0.5555555555555556,\"#d8576b\"],[0.6666666666666666,\"#ed7953\"],[0.7777777777777778,\"#fb9f3a\"],[0.8888888888888888,\"#fdca26\"],[1.0,\"#f0f921\"]],\"type\":\"contour\"}],\"contourcarpet\":[{\"colorbar\":{\"outlinewidth\":0,\"ticks\":\"\"},\"type\":\"contourcarpet\"}],\"heatmap\":[{\"colorbar\":{\"outlinewidth\":0,\"ticks\":\"\"},\"colorscale\":[[0.0,\"#0d0887\"],[0.1111111111111111,\"#46039f\"],[0.2222222222222222,\"#7201a8\"],[0.3333333333333333,\"#9c179e\"],[0.4444444444444444,\"#bd3786\"],[0.5555555555555556,\"#d8576b\"],[0.6666666666666666,\"#ed7953\"],[0.7777777777777778,\"#fb9f3a\"],[0.8888888888888888,\"#fdca26\"],[1.0,\"#f0f921\"]],\"type\":\"heatmap\"}],\"heatmapgl\":[{\"colorbar\":{\"outlinewidth\":0,\"ticks\":\"\"},\"colorscale\":[[0.0,\"#0d0887\"],[0.1111111111111111,\"#46039f\"],[0.2222222222222222,\"#7201a8\"],[0.3333333333333333,\"#9c179e\"],[0.4444444444444444,\"#bd3786\"],[0.5555555555555556,\"#d8576b\"],[0.6666666666666666,\"#ed7953\"],[0.7777777777777778,\"#fb9f3a\"],[0.8888888888888888,\"#fdca26\"],[1.0,\"#f0f921\"]],\"type\":\"heatmapgl\"}],\"histogram\":[{\"marker\":{\"pattern\":{\"fillmode\":\"overlay\",\"size\":10,\"solidity\":0.2}},\"type\":\"histogram\"}],\"histogram2d\":[{\"colorbar\":{\"outlinewidth\":0,\"ticks\":\"\"},\"colorscale\":[[0.0,\"#0d0887\"],[0.1111111111111111,\"#46039f\"],[0.2222222222222222,\"#7201a8\"],[0.3333333333333333,\"#9c179e\"],[0.4444444444444444,\"#bd3786\"],[0.5555555555555556,\"#d8576b\"],[0.6666666666666666,\"#ed7953\"],[0.7777777777777778,\"#fb9f3a\"],[0.8888888888888888,\"#fdca26\"],[1.0,\"#f0f921\"]],\"type\":\"histogram2d\"}],\"histogram2dcontour\":[{\"colorbar\":{\"outlinewidth\":0,\"ticks\":\"\"},\"colorscale\":[[0.0,\"#0d0887\"],[0.1111111111111111,\"#46039f\"],[0.2222222222222222,\"#7201a8\"],[0.3333333333333333,\"#9c179e\"],[0.4444444444444444,\"#bd3786\"],[0.5555555555555556,\"#d8576b\"],[0.6666666666666666,\"#ed7953\"],[0.7777777777777778,\"#fb9f3a\"],[0.8888888888888888,\"#fdca26\"],[1.0,\"#f0f921\"]],\"type\":\"histogram2dcontour\"}],\"mesh3d\":[{\"colorbar\":{\"outlinewidth\":0,\"ticks\":\"\"},\"type\":\"mesh3d\"}],\"parcoords\":[{\"line\":{\"colorbar\":{\"outlinewidth\":0,\"ticks\":\"\"}},\"type\":\"parcoords\"}],\"pie\":[{\"automargin\":true,\"type\":\"pie\"}],\"scatter\":[{\"marker\":{\"colorbar\":{\"outlinewidth\":0,\"ticks\":\"\"}},\"type\":\"scatter\"}],\"scatter3d\":[{\"line\":{\"colorbar\":{\"outlinewidth\":0,\"ticks\":\"\"}},\"marker\":{\"colorbar\":{\"outlinewidth\":0,\"ticks\":\"\"}},\"type\":\"scatter3d\"}],\"scattercarpet\":[{\"marker\":{\"colorbar\":{\"outlinewidth\":0,\"ticks\":\"\"}},\"type\":\"scattercarpet\"}],\"scattergeo\":[{\"marker\":{\"colorbar\":{\"outlinewidth\":0,\"ticks\":\"\"}},\"type\":\"scattergeo\"}],\"scattergl\":[{\"marker\":{\"colorbar\":{\"outlinewidth\":0,\"ticks\":\"\"}},\"type\":\"scattergl\"}],\"scattermapbox\":[{\"marker\":{\"colorbar\":{\"outlinewidth\":0,\"ticks\":\"\"}},\"type\":\"scattermapbox\"}],\"scatterpolar\":[{\"marker\":{\"colorbar\":{\"outlinewidth\":0,\"ticks\":\"\"}},\"type\":\"scatterpolar\"}],\"scatterpolargl\":[{\"marker\":{\"colorbar\":{\"outlinewidth\":0,\"ticks\":\"\"}},\"type\":\"scatterpolargl\"}],\"scatterternary\":[{\"marker\":{\"colorbar\":{\"outlinewidth\":0,\"ticks\":\"\"}},\"type\":\"scatterternary\"}],\"surface\":[{\"colorbar\":{\"outlinewidth\":0,\"ticks\":\"\"},\"colorscale\":[[0.0,\"#0d0887\"],[0.1111111111111111,\"#46039f\"],[0.2222222222222222,\"#7201a8\"],[0.3333333333333333,\"#9c179e\"],[0.4444444444444444,\"#bd3786\"],[0.5555555555555556,\"#d8576b\"],[0.6666666666666666,\"#ed7953\"],[0.7777777777777778,\"#fb9f3a\"],[0.8888888888888888,\"#fdca26\"],[1.0,\"#f0f921\"]],\"type\":\"surface\"}],\"table\":[{\"cells\":{\"fill\":{\"color\":\"#EBF0F8\"},\"line\":{\"color\":\"white\"}},\"header\":{\"fill\":{\"color\":\"#C8D4E3\"},\"line\":{\"color\":\"white\"}},\"type\":\"table\"}]},\"layout\":{\"annotationdefaults\":{\"arrowcolor\":\"#2a3f5f\",\"arrowhead\":0,\"arrowwidth\":1},\"autotypenumbers\":\"strict\",\"coloraxis\":{\"colorbar\":{\"outlinewidth\":0,\"ticks\":\"\"}},\"colorscale\":{\"diverging\":[[0,\"#8e0152\"],[0.1,\"#c51b7d\"],[0.2,\"#de77ae\"],[0.3,\"#f1b6da\"],[0.4,\"#fde0ef\"],[0.5,\"#f7f7f7\"],[0.6,\"#e6f5d0\"],[0.7,\"#b8e186\"],[0.8,\"#7fbc41\"],[0.9,\"#4d9221\"],[1,\"#276419\"]],\"sequential\":[[0.0,\"#0d0887\"],[0.1111111111111111,\"#46039f\"],[0.2222222222222222,\"#7201a8\"],[0.3333333333333333,\"#9c179e\"],[0.4444444444444444,\"#bd3786\"],[0.5555555555555556,\"#d8576b\"],[0.6666666666666666,\"#ed7953\"],[0.7777777777777778,\"#fb9f3a\"],[0.8888888888888888,\"#fdca26\"],[1.0,\"#f0f921\"]],\"sequentialminus\":[[0.0,\"#0d0887\"],[0.1111111111111111,\"#46039f\"],[0.2222222222222222,\"#7201a8\"],[0.3333333333333333,\"#9c179e\"],[0.4444444444444444,\"#bd3786\"],[0.5555555555555556,\"#d8576b\"],[0.6666666666666666,\"#ed7953\"],[0.7777777777777778,\"#fb9f3a\"],[0.8888888888888888,\"#fdca26\"],[1.0,\"#f0f921\"]]},\"colorway\":[\"#636efa\",\"#EF553B\",\"#00cc96\",\"#ab63fa\",\"#FFA15A\",\"#19d3f3\",\"#FF6692\",\"#B6E880\",\"#FF97FF\",\"#FECB52\"],\"font\":{\"color\":\"#2a3f5f\"},\"geo\":{\"bgcolor\":\"white\",\"lakecolor\":\"white\",\"landcolor\":\"#E5ECF6\",\"showlakes\":true,\"showland\":true,\"subunitcolor\":\"white\"},\"hoverlabel\":{\"align\":\"left\"},\"hovermode\":\"closest\",\"mapbox\":{\"style\":\"light\"},\"paper_bgcolor\":\"white\",\"plot_bgcolor\":\"#E5ECF6\",\"polar\":{\"angularaxis\":{\"gridcolor\":\"white\",\"linecolor\":\"white\",\"ticks\":\"\"},\"bgcolor\":\"#E5ECF6\",\"radialaxis\":{\"gridcolor\":\"white\",\"linecolor\":\"white\",\"ticks\":\"\"}},\"scene\":{\"xaxis\":{\"backgroundcolor\":\"#E5ECF6\",\"gridcolor\":\"white\",\"gridwidth\":2,\"linecolor\":\"white\",\"showbackground\":true,\"ticks\":\"\",\"zerolinecolor\":\"white\"},\"yaxis\":{\"backgroundcolor\":\"#E5ECF6\",\"gridcolor\":\"white\",\"gridwidth\":2,\"linecolor\":\"white\",\"showbackground\":true,\"ticks\":\"\",\"zerolinecolor\":\"white\"},\"zaxis\":{\"backgroundcolor\":\"#E5ECF6\",\"gridcolor\":\"white\",\"gridwidth\":2,\"linecolor\":\"white\",\"showbackground\":true,\"ticks\":\"\",\"zerolinecolor\":\"white\"}},\"shapedefaults\":{\"line\":{\"color\":\"#2a3f5f\"}},\"ternary\":{\"aaxis\":{\"gridcolor\":\"white\",\"linecolor\":\"white\",\"ticks\":\"\"},\"baxis\":{\"gridcolor\":\"white\",\"linecolor\":\"white\",\"ticks\":\"\"},\"bgcolor\":\"#E5ECF6\",\"caxis\":{\"gridcolor\":\"white\",\"linecolor\":\"white\",\"ticks\":\"\"}},\"title\":{\"x\":0.05},\"xaxis\":{\"automargin\":true,\"gridcolor\":\"white\",\"linecolor\":\"white\",\"ticks\":\"\",\"title\":{\"standoff\":15},\"zerolinecolor\":\"white\",\"zerolinewidth\":2},\"yaxis\":{\"automargin\":true,\"gridcolor\":\"white\",\"linecolor\":\"white\",\"ticks\":\"\",\"title\":{\"standoff\":15},\"zerolinecolor\":\"white\",\"zerolinewidth\":2}}},\"xaxis\":{\"anchor\":\"y\",\"domain\":[0.0,1.0],\"title\":{\"text\":\"x\"}},\"yaxis\":{\"anchor\":\"x\",\"domain\":[0.0,1.0],\"title\":{\"text\":\"y\"}},\"legend\":{\"tracegroupgap\":0},\"margin\":{\"t\":60},\"barmode\":\"relative\"},                        {\"responsive\": true}                    ).then(function(){\n                            \nvar gd = document.getElementById('39d6eabe-a5ab-4a9c-a786-a60163fd116a');\nvar x = new MutationObserver(function (mutations, observer) {{\n        var display = window.getComputedStyle(gd).display;\n        if (!display || display === 'none') {{\n            console.log([gd, 'removed!']);\n            Plotly.purge(gd);\n            observer.disconnect();\n        }}\n}});\n\n// Listen for the removal of the full notebook cells\nvar notebookContainer = gd.closest('#notebook-container');\nif (notebookContainer) {{\n    x.observe(notebookContainer, {childList: true});\n}}\n\n// Listen for the clearing of the current output cell\nvar outputEl = gd.closest('.output');\nif (outputEl) {{\n    x.observe(outputEl, {childList: true});\n}}\n\n                        })                };                            </script>        </div>\n</body>\n</html>"
          },
          "metadata": {},
          "output_type": "display_data"
        }
      ],
      "execution_count": null
    },
    {
      "cell_type": "markdown",
      "source": [
        "Chicken &amp; Fish has the most average protein. Lets find what food item in this category has the most protein."
      ],
      "metadata": {
        "cell_id": "97553191-c77c-4861-8c05-34e19f08e013",
        "tags": [],
        "is_collapsed": false,
        "deepnote_cell_type": "text-cell-p",
        "deepnote_cell_height": 52,
        "id": "jGDAjWwwmZRZ"
      }
    },
    {
      "cell_type": "code",
      "metadata": {
        "cell_id": "631fe995-c8f6-4bdc-aa00-d83c5afb4c5f",
        "tags": [],
        "deepnote_to_be_reexecuted": false,
        "source_hash": "5971d79c",
        "execution_start": 1647407179754,
        "execution_millis": 7,
        "deepnote_table_state": {
          "pageSize": 10,
          "pageIndex": 0,
          "filters": [],
          "sortBy": []
        },
        "deepnote_table_loading": false,
        "deepnote_table_invalid": false,
        "deepnote_cell_type": "code",
        "deepnote_cell_height": 652,
        "id": "-HtDCG9LmZRZ",
        "outputId": "e0c58c59-d886-479c-c50e-d82c860166cf"
      },
      "source": [
        "chifi = df[df['Category'] == 'Chicken & Fish']\n",
        "chifi = chifi[['Item', 'Protein']]\n",
        "chifi.sort_values(by=['Protein'], ascending=False)\n"
      ],
      "outputs": [
        {
          "output_type": "execute_result",
          "execution_count": 15,
          "data": {
            "application/vnd.deepnote.dataframe.v3+json": {
              "column_count": 2,
              "row_count": 27,
              "columns": [
                {
                  "name": "Item",
                  "dtype": "object",
                  "stats": {
                    "unique_count": 27,
                    "nan_count": 0,
                    "categories": [
                      {
                        "name": "Chicken McNuggets (40 piece)",
                        "count": 1
                      },
                      {
                        "name": "Chicken McNuggets (20 piece)",
                        "count": 1
                      },
                      {
                        "name": "25 others",
                        "count": 25
                      }
                    ]
                  }
                },
                {
                  "name": "Protein",
                  "dtype": "int64",
                  "stats": {
                    "unique_count": 18,
                    "nan_count": 0,
                    "min": "9",
                    "max": "87",
                    "histogram": [
                      {
                        "bin_start": 9,
                        "bin_end": 16.8,
                        "count": 5
                      },
                      {
                        "bin_start": 16.8,
                        "bin_end": 24.6,
                        "count": 6
                      },
                      {
                        "bin_start": 24.6,
                        "bin_end": 32.4,
                        "count": 8
                      },
                      {
                        "bin_start": 32.4,
                        "bin_end": 40.2,
                        "count": 6
                      },
                      {
                        "bin_start": 40.2,
                        "bin_end": 48,
                        "count": 1
                      },
                      {
                        "bin_start": 48,
                        "bin_end": 55.8,
                        "count": 0
                      },
                      {
                        "bin_start": 55.8,
                        "bin_end": 63.6,
                        "count": 0
                      },
                      {
                        "bin_start": 63.6,
                        "bin_end": 71.4,
                        "count": 0
                      },
                      {
                        "bin_start": 71.4,
                        "bin_end": 79.2,
                        "count": 0
                      },
                      {
                        "bin_start": 79.2,
                        "bin_end": 87,
                        "count": 1
                      }
                    ]
                  }
                },
                {
                  "name": "_deepnote_index_column",
                  "dtype": "int64"
                }
              ],
              "rows": [
                {
                  "Item": "Chicken McNuggets (40 piece)",
                  "Protein": 87,
                  "_deepnote_index_column": 82
                },
                {
                  "Item": "Chicken McNuggets (20 piece)",
                  "Protein": 44,
                  "_deepnote_index_column": 81
                },
                {
                  "Item": "Premium Grilled Chicken Club Sandwich",
                  "Protein": 40,
                  "_deepnote_index_column": 60
                },
                {
                  "Item": "Bacon Clubhouse Grilled Chicken Sandwich",
                  "Protein": 40,
                  "_deepnote_index_column": 64
                },
                {
                  "Item": "Premium Crispy Chicken Club Sandwich",
                  "Protein": 36,
                  "_deepnote_index_column": 59
                },
                {
                  "Item": "Premium Grilled Chicken Ranch BLT Sandwich",
                  "Protein": 36,
                  "_deepnote_index_column": 62
                },
                {
                  "Item": "Bacon Clubhouse Crispy Chicken Sandwich",
                  "Protein": 36,
                  "_deepnote_index_column": 63
                },
                {
                  "Item": "Premium McWrap Chicken & Bacon (Grilled Chicken)",
                  "Protein": 36,
                  "_deepnote_index_column": 71
                },
                {
                  "Item": "Premium McWrap Chicken & Bacon (Crispy Chicken)",
                  "Protein": 32,
                  "_deepnote_index_column": 70
                },
                {
                  "Item": "Premium Crispy Chicken Ranch BLT Sandwich",
                  "Protein": 32,
                  "_deepnote_index_column": 61
                }
              ]
            },
            "text/plain": "                                                 Item  Protein\n82                       Chicken McNuggets (40 piece)       87\n81                       Chicken McNuggets (20 piece)       44\n60              Premium Grilled Chicken Club Sandwich       40\n64           Bacon Clubhouse Grilled Chicken Sandwich       40\n59               Premium Crispy Chicken Club Sandwich       36\n62         Premium Grilled Chicken Ranch BLT Sandwich       36\n63            Bacon Clubhouse Crispy Chicken Sandwich       36\n71   Premium McWrap Chicken & Bacon (Grilled Chicken)       36\n70    Premium McWrap Chicken & Bacon (Crispy Chicken)       32\n61          Premium Crispy Chicken Ranch BLT Sandwich       32\n75  Premium McWrap Southwest Chicken (Grilled Chic...       31\n73   Premium McWrap Chicken & Ranch (Grilled Chicken)       30\n58           Premium Grilled Chicken Classic Sandwich       28\n77  Premium McWrap Chicken Sweet Chili (Grilled Ch...       27\n74  Premium McWrap Southwest Chicken (Crispy Chicken)       27\n72    Premium McWrap Chicken & Ranch (Crispy Chicken)       27\n57            Premium Crispy Chicken Classic Sandwich       24\n76  Premium McWrap Chicken Sweet Chili (Crispy Chi...       23\n67                            Bacon Cheddar McChicken       22\n80                       Chicken McNuggets (10 piece)       22\n65             Southern Style Crispy Chicken Sandwich       21\n68                      Bacon Buffalo Ranch McChicken       20\n83                                       Filet-O-Fish       15\n69                            Buffalo Ranch McChicken       14\n66                                          McChicken       14\n79                        Chicken McNuggets (6 piece)       13\n78                        Chicken McNuggets (4 piece)        9",
            "text/html": "<div>\n<style scoped>\n    .dataframe tbody tr th:only-of-type {\n        vertical-align: middle;\n    }\n\n    .dataframe tbody tr th {\n        vertical-align: top;\n    }\n\n    .dataframe thead th {\n        text-align: right;\n    }\n</style>\n<table border=\"1\" class=\"dataframe\">\n  <thead>\n    <tr style=\"text-align: right;\">\n      <th></th>\n      <th>Item</th>\n      <th>Protein</th>\n    </tr>\n  </thead>\n  <tbody>\n    <tr>\n      <th>82</th>\n      <td>Chicken McNuggets (40 piece)</td>\n      <td>87</td>\n    </tr>\n    <tr>\n      <th>81</th>\n      <td>Chicken McNuggets (20 piece)</td>\n      <td>44</td>\n    </tr>\n    <tr>\n      <th>60</th>\n      <td>Premium Grilled Chicken Club Sandwich</td>\n      <td>40</td>\n    </tr>\n    <tr>\n      <th>64</th>\n      <td>Bacon Clubhouse Grilled Chicken Sandwich</td>\n      <td>40</td>\n    </tr>\n    <tr>\n      <th>59</th>\n      <td>Premium Crispy Chicken Club Sandwich</td>\n      <td>36</td>\n    </tr>\n    <tr>\n      <th>62</th>\n      <td>Premium Grilled Chicken Ranch BLT Sandwich</td>\n      <td>36</td>\n    </tr>\n    <tr>\n      <th>63</th>\n      <td>Bacon Clubhouse Crispy Chicken Sandwich</td>\n      <td>36</td>\n    </tr>\n    <tr>\n      <th>71</th>\n      <td>Premium McWrap Chicken &amp; Bacon (Grilled Chicken)</td>\n      <td>36</td>\n    </tr>\n    <tr>\n      <th>70</th>\n      <td>Premium McWrap Chicken &amp; Bacon (Crispy Chicken)</td>\n      <td>32</td>\n    </tr>\n    <tr>\n      <th>61</th>\n      <td>Premium Crispy Chicken Ranch BLT Sandwich</td>\n      <td>32</td>\n    </tr>\n    <tr>\n      <th>75</th>\n      <td>Premium McWrap Southwest Chicken (Grilled Chic...</td>\n      <td>31</td>\n    </tr>\n    <tr>\n      <th>73</th>\n      <td>Premium McWrap Chicken &amp; Ranch (Grilled Chicken)</td>\n      <td>30</td>\n    </tr>\n    <tr>\n      <th>58</th>\n      <td>Premium Grilled Chicken Classic Sandwich</td>\n      <td>28</td>\n    </tr>\n    <tr>\n      <th>77</th>\n      <td>Premium McWrap Chicken Sweet Chili (Grilled Ch...</td>\n      <td>27</td>\n    </tr>\n    <tr>\n      <th>74</th>\n      <td>Premium McWrap Southwest Chicken (Crispy Chicken)</td>\n      <td>27</td>\n    </tr>\n    <tr>\n      <th>72</th>\n      <td>Premium McWrap Chicken &amp; Ranch (Crispy Chicken)</td>\n      <td>27</td>\n    </tr>\n    <tr>\n      <th>57</th>\n      <td>Premium Crispy Chicken Classic Sandwich</td>\n      <td>24</td>\n    </tr>\n    <tr>\n      <th>76</th>\n      <td>Premium McWrap Chicken Sweet Chili (Crispy Chi...</td>\n      <td>23</td>\n    </tr>\n    <tr>\n      <th>67</th>\n      <td>Bacon Cheddar McChicken</td>\n      <td>22</td>\n    </tr>\n    <tr>\n      <th>80</th>\n      <td>Chicken McNuggets (10 piece)</td>\n      <td>22</td>\n    </tr>\n    <tr>\n      <th>65</th>\n      <td>Southern Style Crispy Chicken Sandwich</td>\n      <td>21</td>\n    </tr>\n    <tr>\n      <th>68</th>\n      <td>Bacon Buffalo Ranch McChicken</td>\n      <td>20</td>\n    </tr>\n    <tr>\n      <th>83</th>\n      <td>Filet-O-Fish</td>\n      <td>15</td>\n    </tr>\n    <tr>\n      <th>69</th>\n      <td>Buffalo Ranch McChicken</td>\n      <td>14</td>\n    </tr>\n    <tr>\n      <th>66</th>\n      <td>McChicken</td>\n      <td>14</td>\n    </tr>\n    <tr>\n      <th>79</th>\n      <td>Chicken McNuggets (6 piece)</td>\n      <td>13</td>\n    </tr>\n    <tr>\n      <th>78</th>\n      <td>Chicken McNuggets (4 piece)</td>\n      <td>9</td>\n    </tr>\n  </tbody>\n</table>\n</div>"
          },
          "metadata": {}
        }
      ],
      "execution_count": null
    },
    {
      "cell_type": "markdown",
      "source": [
        "The Chicken McNuggets (40 Pieces) have the most protein followed by the Chicken McNuggets (20 Pieces)."
      ],
      "metadata": {
        "cell_id": "3b756a43-ba6b-4376-8d2a-e9341a199a85",
        "tags": [],
        "is_collapsed": false,
        "deepnote_cell_type": "text-cell-p",
        "deepnote_cell_height": 52,
        "id": "Hn_yKxKImZRZ"
      }
    },
    {
      "cell_type": "markdown",
      "source": [
        "Next, we will check the average sugar of each category."
      ],
      "metadata": {
        "cell_id": "ce2888ed-48b8-488d-8d6e-49c7db3c1c7d",
        "tags": [],
        "is_collapsed": false,
        "deepnote_cell_type": "text-cell-p",
        "deepnote_cell_height": 52,
        "id": "hG9MGU_xmZRZ"
      }
    },
    {
      "cell_type": "code",
      "metadata": {
        "cell_id": "c4fa9bd6-b4b9-492e-a613-aded110639c0",
        "tags": [],
        "deepnote_to_be_reexecuted": false,
        "source_hash": "8342ec48",
        "execution_start": 1647407179766,
        "execution_millis": 74,
        "deepnote_cell_type": "code",
        "deepnote_cell_height": 678,
        "deepnote_output_heights": [
          527
        ],
        "id": "oHDmj1abmZRZ",
        "outputId": "29049711-eb7b-4c8b-ba7f-d0930fbba814"
      },
      "source": [
        "avgsugar = pd.DataFrame(df.groupby('Category')['Sugars'].mean())\n",
        "\n",
        "fig = px.bar(df, x=avgsugar.index, y=avgsugar[\"Sugars\"])\n",
        "fig.show()"
      ],
      "outputs": [
        {
          "data": {
            "text/html": "<html>\n<head><meta charset=\"utf-8\" /></head>\n<body>\n    <div>            <script src=\"https://cdnjs.cloudflare.com/ajax/libs/mathjax/2.7.5/MathJax.js?config=TeX-AMS-MML_SVG\"></script><script type=\"text/javascript\">if (window.MathJax) {MathJax.Hub.Config({SVG: {font: \"STIX-Web\"}});}</script>                <script type=\"text/javascript\">window.PlotlyConfig = {MathJaxConfig: 'local'};</script>\n        <script src=\"https://cdn.plot.ly/plotly-2.9.0.min.js\"></script>                <div id=\"f75f70d9-7279-4007-a4f7-a06b367d786d\" class=\"plotly-graph-div\" style=\"height:525px; width:100%;\"></div>            <script type=\"text/javascript\">                                    window.PLOTLYENV=window.PLOTLYENV || {};                                    if (document.getElementById(\"f75f70d9-7279-4007-a4f7-a06b367d786d\")) {                    Plotly.newPlot(                        \"f75f70d9-7279-4007-a4f7-a06b367d786d\",                        [{\"alignmentgroup\":\"True\",\"hovertemplate\":\"x=%{x}<br>y=%{y}<extra></extra>\",\"legendgroup\":\"\",\"marker\":{\"color\":\"#636efa\",\"pattern\":{\"shape\":\"\"}},\"name\":\"\",\"offsetgroup\":\"\",\"orientation\":\"v\",\"showlegend\":false,\"textposition\":\"auto\",\"x\":[\"Beef & Pork\",\"Beverages\",\"Breakfast\",\"Chicken & Fish\",\"Coffee & Tea\",\"Desserts\",\"Salads\",\"Smoothies & Shakes\",\"Snacks & Sides\"],\"xaxis\":\"x\",\"y\":[8.8,27.85185185185185,8.261904761904763,7.333333333333333,39.61052631578947,26.142857142857142,6.833333333333333,77.89285714285714,4.076923076923077],\"yaxis\":\"y\",\"type\":\"bar\"}],                        {\"template\":{\"data\":{\"bar\":[{\"error_x\":{\"color\":\"#2a3f5f\"},\"error_y\":{\"color\":\"#2a3f5f\"},\"marker\":{\"line\":{\"color\":\"#E5ECF6\",\"width\":0.5},\"pattern\":{\"fillmode\":\"overlay\",\"size\":10,\"solidity\":0.2}},\"type\":\"bar\"}],\"barpolar\":[{\"marker\":{\"line\":{\"color\":\"#E5ECF6\",\"width\":0.5},\"pattern\":{\"fillmode\":\"overlay\",\"size\":10,\"solidity\":0.2}},\"type\":\"barpolar\"}],\"carpet\":[{\"aaxis\":{\"endlinecolor\":\"#2a3f5f\",\"gridcolor\":\"white\",\"linecolor\":\"white\",\"minorgridcolor\":\"white\",\"startlinecolor\":\"#2a3f5f\"},\"baxis\":{\"endlinecolor\":\"#2a3f5f\",\"gridcolor\":\"white\",\"linecolor\":\"white\",\"minorgridcolor\":\"white\",\"startlinecolor\":\"#2a3f5f\"},\"type\":\"carpet\"}],\"choropleth\":[{\"colorbar\":{\"outlinewidth\":0,\"ticks\":\"\"},\"type\":\"choropleth\"}],\"contour\":[{\"colorbar\":{\"outlinewidth\":0,\"ticks\":\"\"},\"colorscale\":[[0.0,\"#0d0887\"],[0.1111111111111111,\"#46039f\"],[0.2222222222222222,\"#7201a8\"],[0.3333333333333333,\"#9c179e\"],[0.4444444444444444,\"#bd3786\"],[0.5555555555555556,\"#d8576b\"],[0.6666666666666666,\"#ed7953\"],[0.7777777777777778,\"#fb9f3a\"],[0.8888888888888888,\"#fdca26\"],[1.0,\"#f0f921\"]],\"type\":\"contour\"}],\"contourcarpet\":[{\"colorbar\":{\"outlinewidth\":0,\"ticks\":\"\"},\"type\":\"contourcarpet\"}],\"heatmap\":[{\"colorbar\":{\"outlinewidth\":0,\"ticks\":\"\"},\"colorscale\":[[0.0,\"#0d0887\"],[0.1111111111111111,\"#46039f\"],[0.2222222222222222,\"#7201a8\"],[0.3333333333333333,\"#9c179e\"],[0.4444444444444444,\"#bd3786\"],[0.5555555555555556,\"#d8576b\"],[0.6666666666666666,\"#ed7953\"],[0.7777777777777778,\"#fb9f3a\"],[0.8888888888888888,\"#fdca26\"],[1.0,\"#f0f921\"]],\"type\":\"heatmap\"}],\"heatmapgl\":[{\"colorbar\":{\"outlinewidth\":0,\"ticks\":\"\"},\"colorscale\":[[0.0,\"#0d0887\"],[0.1111111111111111,\"#46039f\"],[0.2222222222222222,\"#7201a8\"],[0.3333333333333333,\"#9c179e\"],[0.4444444444444444,\"#bd3786\"],[0.5555555555555556,\"#d8576b\"],[0.6666666666666666,\"#ed7953\"],[0.7777777777777778,\"#fb9f3a\"],[0.8888888888888888,\"#fdca26\"],[1.0,\"#f0f921\"]],\"type\":\"heatmapgl\"}],\"histogram\":[{\"marker\":{\"pattern\":{\"fillmode\":\"overlay\",\"size\":10,\"solidity\":0.2}},\"type\":\"histogram\"}],\"histogram2d\":[{\"colorbar\":{\"outlinewidth\":0,\"ticks\":\"\"},\"colorscale\":[[0.0,\"#0d0887\"],[0.1111111111111111,\"#46039f\"],[0.2222222222222222,\"#7201a8\"],[0.3333333333333333,\"#9c179e\"],[0.4444444444444444,\"#bd3786\"],[0.5555555555555556,\"#d8576b\"],[0.6666666666666666,\"#ed7953\"],[0.7777777777777778,\"#fb9f3a\"],[0.8888888888888888,\"#fdca26\"],[1.0,\"#f0f921\"]],\"type\":\"histogram2d\"}],\"histogram2dcontour\":[{\"colorbar\":{\"outlinewidth\":0,\"ticks\":\"\"},\"colorscale\":[[0.0,\"#0d0887\"],[0.1111111111111111,\"#46039f\"],[0.2222222222222222,\"#7201a8\"],[0.3333333333333333,\"#9c179e\"],[0.4444444444444444,\"#bd3786\"],[0.5555555555555556,\"#d8576b\"],[0.6666666666666666,\"#ed7953\"],[0.7777777777777778,\"#fb9f3a\"],[0.8888888888888888,\"#fdca26\"],[1.0,\"#f0f921\"]],\"type\":\"histogram2dcontour\"}],\"mesh3d\":[{\"colorbar\":{\"outlinewidth\":0,\"ticks\":\"\"},\"type\":\"mesh3d\"}],\"parcoords\":[{\"line\":{\"colorbar\":{\"outlinewidth\":0,\"ticks\":\"\"}},\"type\":\"parcoords\"}],\"pie\":[{\"automargin\":true,\"type\":\"pie\"}],\"scatter\":[{\"marker\":{\"colorbar\":{\"outlinewidth\":0,\"ticks\":\"\"}},\"type\":\"scatter\"}],\"scatter3d\":[{\"line\":{\"colorbar\":{\"outlinewidth\":0,\"ticks\":\"\"}},\"marker\":{\"colorbar\":{\"outlinewidth\":0,\"ticks\":\"\"}},\"type\":\"scatter3d\"}],\"scattercarpet\":[{\"marker\":{\"colorbar\":{\"outlinewidth\":0,\"ticks\":\"\"}},\"type\":\"scattercarpet\"}],\"scattergeo\":[{\"marker\":{\"colorbar\":{\"outlinewidth\":0,\"ticks\":\"\"}},\"type\":\"scattergeo\"}],\"scattergl\":[{\"marker\":{\"colorbar\":{\"outlinewidth\":0,\"ticks\":\"\"}},\"type\":\"scattergl\"}],\"scattermapbox\":[{\"marker\":{\"colorbar\":{\"outlinewidth\":0,\"ticks\":\"\"}},\"type\":\"scattermapbox\"}],\"scatterpolar\":[{\"marker\":{\"colorbar\":{\"outlinewidth\":0,\"ticks\":\"\"}},\"type\":\"scatterpolar\"}],\"scatterpolargl\":[{\"marker\":{\"colorbar\":{\"outlinewidth\":0,\"ticks\":\"\"}},\"type\":\"scatterpolargl\"}],\"scatterternary\":[{\"marker\":{\"colorbar\":{\"outlinewidth\":0,\"ticks\":\"\"}},\"type\":\"scatterternary\"}],\"surface\":[{\"colorbar\":{\"outlinewidth\":0,\"ticks\":\"\"},\"colorscale\":[[0.0,\"#0d0887\"],[0.1111111111111111,\"#46039f\"],[0.2222222222222222,\"#7201a8\"],[0.3333333333333333,\"#9c179e\"],[0.4444444444444444,\"#bd3786\"],[0.5555555555555556,\"#d8576b\"],[0.6666666666666666,\"#ed7953\"],[0.7777777777777778,\"#fb9f3a\"],[0.8888888888888888,\"#fdca26\"],[1.0,\"#f0f921\"]],\"type\":\"surface\"}],\"table\":[{\"cells\":{\"fill\":{\"color\":\"#EBF0F8\"},\"line\":{\"color\":\"white\"}},\"header\":{\"fill\":{\"color\":\"#C8D4E3\"},\"line\":{\"color\":\"white\"}},\"type\":\"table\"}]},\"layout\":{\"annotationdefaults\":{\"arrowcolor\":\"#2a3f5f\",\"arrowhead\":0,\"arrowwidth\":1},\"autotypenumbers\":\"strict\",\"coloraxis\":{\"colorbar\":{\"outlinewidth\":0,\"ticks\":\"\"}},\"colorscale\":{\"diverging\":[[0,\"#8e0152\"],[0.1,\"#c51b7d\"],[0.2,\"#de77ae\"],[0.3,\"#f1b6da\"],[0.4,\"#fde0ef\"],[0.5,\"#f7f7f7\"],[0.6,\"#e6f5d0\"],[0.7,\"#b8e186\"],[0.8,\"#7fbc41\"],[0.9,\"#4d9221\"],[1,\"#276419\"]],\"sequential\":[[0.0,\"#0d0887\"],[0.1111111111111111,\"#46039f\"],[0.2222222222222222,\"#7201a8\"],[0.3333333333333333,\"#9c179e\"],[0.4444444444444444,\"#bd3786\"],[0.5555555555555556,\"#d8576b\"],[0.6666666666666666,\"#ed7953\"],[0.7777777777777778,\"#fb9f3a\"],[0.8888888888888888,\"#fdca26\"],[1.0,\"#f0f921\"]],\"sequentialminus\":[[0.0,\"#0d0887\"],[0.1111111111111111,\"#46039f\"],[0.2222222222222222,\"#7201a8\"],[0.3333333333333333,\"#9c179e\"],[0.4444444444444444,\"#bd3786\"],[0.5555555555555556,\"#d8576b\"],[0.6666666666666666,\"#ed7953\"],[0.7777777777777778,\"#fb9f3a\"],[0.8888888888888888,\"#fdca26\"],[1.0,\"#f0f921\"]]},\"colorway\":[\"#636efa\",\"#EF553B\",\"#00cc96\",\"#ab63fa\",\"#FFA15A\",\"#19d3f3\",\"#FF6692\",\"#B6E880\",\"#FF97FF\",\"#FECB52\"],\"font\":{\"color\":\"#2a3f5f\"},\"geo\":{\"bgcolor\":\"white\",\"lakecolor\":\"white\",\"landcolor\":\"#E5ECF6\",\"showlakes\":true,\"showland\":true,\"subunitcolor\":\"white\"},\"hoverlabel\":{\"align\":\"left\"},\"hovermode\":\"closest\",\"mapbox\":{\"style\":\"light\"},\"paper_bgcolor\":\"white\",\"plot_bgcolor\":\"#E5ECF6\",\"polar\":{\"angularaxis\":{\"gridcolor\":\"white\",\"linecolor\":\"white\",\"ticks\":\"\"},\"bgcolor\":\"#E5ECF6\",\"radialaxis\":{\"gridcolor\":\"white\",\"linecolor\":\"white\",\"ticks\":\"\"}},\"scene\":{\"xaxis\":{\"backgroundcolor\":\"#E5ECF6\",\"gridcolor\":\"white\",\"gridwidth\":2,\"linecolor\":\"white\",\"showbackground\":true,\"ticks\":\"\",\"zerolinecolor\":\"white\"},\"yaxis\":{\"backgroundcolor\":\"#E5ECF6\",\"gridcolor\":\"white\",\"gridwidth\":2,\"linecolor\":\"white\",\"showbackground\":true,\"ticks\":\"\",\"zerolinecolor\":\"white\"},\"zaxis\":{\"backgroundcolor\":\"#E5ECF6\",\"gridcolor\":\"white\",\"gridwidth\":2,\"linecolor\":\"white\",\"showbackground\":true,\"ticks\":\"\",\"zerolinecolor\":\"white\"}},\"shapedefaults\":{\"line\":{\"color\":\"#2a3f5f\"}},\"ternary\":{\"aaxis\":{\"gridcolor\":\"white\",\"linecolor\":\"white\",\"ticks\":\"\"},\"baxis\":{\"gridcolor\":\"white\",\"linecolor\":\"white\",\"ticks\":\"\"},\"bgcolor\":\"#E5ECF6\",\"caxis\":{\"gridcolor\":\"white\",\"linecolor\":\"white\",\"ticks\":\"\"}},\"title\":{\"x\":0.05},\"xaxis\":{\"automargin\":true,\"gridcolor\":\"white\",\"linecolor\":\"white\",\"ticks\":\"\",\"title\":{\"standoff\":15},\"zerolinecolor\":\"white\",\"zerolinewidth\":2},\"yaxis\":{\"automargin\":true,\"gridcolor\":\"white\",\"linecolor\":\"white\",\"ticks\":\"\",\"title\":{\"standoff\":15},\"zerolinecolor\":\"white\",\"zerolinewidth\":2}}},\"xaxis\":{\"anchor\":\"y\",\"domain\":[0.0,1.0],\"title\":{\"text\":\"x\"}},\"yaxis\":{\"anchor\":\"x\",\"domain\":[0.0,1.0],\"title\":{\"text\":\"y\"}},\"legend\":{\"tracegroupgap\":0},\"margin\":{\"t\":60},\"barmode\":\"relative\"},                        {\"responsive\": true}                    ).then(function(){\n                            \nvar gd = document.getElementById('f75f70d9-7279-4007-a4f7-a06b367d786d');\nvar x = new MutationObserver(function (mutations, observer) {{\n        var display = window.getComputedStyle(gd).display;\n        if (!display || display === 'none') {{\n            console.log([gd, 'removed!']);\n            Plotly.purge(gd);\n            observer.disconnect();\n        }}\n}});\n\n// Listen for the removal of the full notebook cells\nvar notebookContainer = gd.closest('#notebook-container');\nif (notebookContainer) {{\n    x.observe(notebookContainer, {childList: true});\n}}\n\n// Listen for the clearing of the current output cell\nvar outputEl = gd.closest('.output');\nif (outputEl) {{\n    x.observe(outputEl, {childList: true});\n}}\n\n                        })                };                            </script>        </div>\n</body>\n</html>"
          },
          "metadata": {},
          "output_type": "display_data"
        }
      ],
      "execution_count": null
    },
    {
      "cell_type": "markdown",
      "source": [
        "Smoothies &amp; Shakes has the most average sugar. Lets find what item has the most sugar in this category."
      ],
      "metadata": {
        "cell_id": "6729cb08-6df4-4f1b-8bd3-1d6c0b90aa12",
        "tags": [],
        "is_collapsed": false,
        "deepnote_cell_type": "text-cell-p",
        "deepnote_cell_height": 52,
        "id": "82O5KndumZRa"
      }
    },
    {
      "cell_type": "code",
      "metadata": {
        "cell_id": "b6a24e27-1c4f-4cfa-b8b2-e1ba210d95e4",
        "tags": [],
        "deepnote_to_be_reexecuted": false,
        "source_hash": "ee58b2b9",
        "execution_start": 1647407179868,
        "execution_millis": 6,
        "deepnote_table_state": {
          "pageSize": 10,
          "pageIndex": 0,
          "filters": [],
          "sortBy": []
        },
        "deepnote_table_loading": false,
        "deepnote_cell_type": "code",
        "deepnote_cell_height": 652,
        "id": "O8c_LEBymZRa",
        "outputId": "89ba1bfd-5204-41ac-d288-917f749838f6"
      },
      "source": [
        "smsh = df[df['Category'] == 'Smoothies & Shakes']\n",
        "smsh = smsh[['Item', 'Sugars']]\n",
        "smsh.sort_values(by=['Sugars'], ascending=False)\n"
      ],
      "outputs": [
        {
          "output_type": "execute_result",
          "execution_count": 17,
          "data": {
            "application/vnd.deepnote.dataframe.v3+json": {
              "column_count": 2,
              "row_count": 28,
              "columns": [
                {
                  "name": "Item",
                  "dtype": "object",
                  "stats": {
                    "unique_count": 28,
                    "nan_count": 0,
                    "categories": [
                      {
                        "name": "McFlurry with M&M’s Candies (Medium)",
                        "count": 1
                      },
                      {
                        "name": "Strawberry Shake (Large)",
                        "count": 1
                      },
                      {
                        "name": "26 others",
                        "count": 26
                      }
                    ]
                  }
                },
                {
                  "name": "Sugars",
                  "dtype": "int64",
                  "stats": {
                    "unique_count": 25,
                    "nan_count": 0,
                    "min": "43",
                    "max": "128",
                    "histogram": [
                      {
                        "bin_start": 43,
                        "bin_end": 51.5,
                        "count": 5
                      },
                      {
                        "bin_start": 51.5,
                        "bin_end": 60,
                        "count": 4
                      },
                      {
                        "bin_start": 60,
                        "bin_end": 68.5,
                        "count": 2
                      },
                      {
                        "bin_start": 68.5,
                        "bin_end": 77,
                        "count": 3
                      },
                      {
                        "bin_start": 77,
                        "bin_end": 85.5,
                        "count": 4
                      },
                      {
                        "bin_start": 85.5,
                        "bin_end": 94,
                        "count": 2
                      },
                      {
                        "bin_start": 94,
                        "bin_end": 102.5,
                        "count": 3
                      },
                      {
                        "bin_start": 102.5,
                        "bin_end": 111,
                        "count": 1
                      },
                      {
                        "bin_start": 111,
                        "bin_end": 119.5,
                        "count": 1
                      },
                      {
                        "bin_start": 119.5,
                        "bin_end": 128,
                        "count": 3
                      }
                    ]
                  }
                },
                {
                  "name": "_deepnote_index_column",
                  "dtype": "int64"
                }
              ],
              "rows": [
                {
                  "Item": "McFlurry with M&M’s Candies (Medium)",
                  "Sugars": 128,
                  "_deepnote_index_column": 253
                },
                {
                  "Item": "Strawberry Shake (Large)",
                  "Sugars": 123,
                  "_deepnote_index_column": 246
                },
                {
                  "Item": "Chocolate Shake (Large)",
                  "Sugars": 120,
                  "_deepnote_index_column": 249
                },
                {
                  "Item": "Shamrock Shake (Large)",
                  "Sugars": 115,
                  "_deepnote_index_column": 251
                },
                {
                  "Item": "McFlurry with Reese's Peanut Butter Cups (Medium)",
                  "Sugars": 103,
                  "_deepnote_index_column": 258
                },
                {
                  "Item": "Vanilla Shake (Large)",
                  "Sugars": 101,
                  "_deepnote_index_column": 243
                },
                {
                  "Item": "Strawberry Shake (Medium)",
                  "Sugars": 100,
                  "_deepnote_index_column": 245
                },
                {
                  "Item": "Chocolate Shake (Medium)",
                  "Sugars": 97,
                  "_deepnote_index_column": 248
                },
                {
                  "Item": "Shamrock Shake (Medium)",
                  "Sugars": 93,
                  "_deepnote_index_column": 250
                },
                {
                  "Item": "McFlurry with M&M’s Candies (Small)",
                  "Sugars": 89,
                  "_deepnote_index_column": 252
                }
              ]
            },
            "text/plain": "                                                  Item  Sugars\n253               McFlurry with M&M’s Candies (Medium)     128\n246                           Strawberry Shake (Large)     123\n249                            Chocolate Shake (Large)     120\n251                             Shamrock Shake (Large)     115\n258  McFlurry with Reese's Peanut Butter Cups (Medium)     103\n243                              Vanilla Shake (Large)     101\n245                          Strawberry Shake (Medium)     100\n248                           Chocolate Shake (Medium)      97\n250                            Shamrock Shake (Medium)      93\n252                McFlurry with M&M’s Candies (Small)      89\n256                McFlurry with Oreo Cookies (Medium)      85\n242                             Vanilla Shake (Medium)      81\n244                           Strawberry Shake (Small)      79\n247                            Chocolate Shake (Small)      77\n240                   Mango Pineapple Smoothie (Large)      72\n234             Blueberry Pomegranate Smoothie (Large)      70\n237                 Strawberry Banana Smoothie (Large)      70\n255                 McFlurry with Oreo Cookies (Small)      64\n241                              Vanilla Shake (Small)      63\n254                McFlurry with M&M’s Candies (Snack)      59\n239                  Mango Pineapple Smoothie (Medium)      56\n236                Strawberry Banana Smoothie (Medium)      54\n233            Blueberry Pomegranate Smoothie (Medium)      54\n259   McFlurry with Reese's Peanut Butter Cups (Snack)      51\n238                   Mango Pineapple Smoothie (Small)      46\n235                 Strawberry Banana Smoothie (Small)      44\n232             Blueberry Pomegranate Smoothie (Small)      44\n257                 McFlurry with Oreo Cookies (Snack)      43",
            "text/html": "<div>\n<style scoped>\n    .dataframe tbody tr th:only-of-type {\n        vertical-align: middle;\n    }\n\n    .dataframe tbody tr th {\n        vertical-align: top;\n    }\n\n    .dataframe thead th {\n        text-align: right;\n    }\n</style>\n<table border=\"1\" class=\"dataframe\">\n  <thead>\n    <tr style=\"text-align: right;\">\n      <th></th>\n      <th>Item</th>\n      <th>Sugars</th>\n    </tr>\n  </thead>\n  <tbody>\n    <tr>\n      <th>253</th>\n      <td>McFlurry with M&amp;M’s Candies (Medium)</td>\n      <td>128</td>\n    </tr>\n    <tr>\n      <th>246</th>\n      <td>Strawberry Shake (Large)</td>\n      <td>123</td>\n    </tr>\n    <tr>\n      <th>249</th>\n      <td>Chocolate Shake (Large)</td>\n      <td>120</td>\n    </tr>\n    <tr>\n      <th>251</th>\n      <td>Shamrock Shake (Large)</td>\n      <td>115</td>\n    </tr>\n    <tr>\n      <th>258</th>\n      <td>McFlurry with Reese's Peanut Butter Cups (Medium)</td>\n      <td>103</td>\n    </tr>\n    <tr>\n      <th>243</th>\n      <td>Vanilla Shake (Large)</td>\n      <td>101</td>\n    </tr>\n    <tr>\n      <th>245</th>\n      <td>Strawberry Shake (Medium)</td>\n      <td>100</td>\n    </tr>\n    <tr>\n      <th>248</th>\n      <td>Chocolate Shake (Medium)</td>\n      <td>97</td>\n    </tr>\n    <tr>\n      <th>250</th>\n      <td>Shamrock Shake (Medium)</td>\n      <td>93</td>\n    </tr>\n    <tr>\n      <th>252</th>\n      <td>McFlurry with M&amp;M’s Candies (Small)</td>\n      <td>89</td>\n    </tr>\n    <tr>\n      <th>256</th>\n      <td>McFlurry with Oreo Cookies (Medium)</td>\n      <td>85</td>\n    </tr>\n    <tr>\n      <th>242</th>\n      <td>Vanilla Shake (Medium)</td>\n      <td>81</td>\n    </tr>\n    <tr>\n      <th>244</th>\n      <td>Strawberry Shake (Small)</td>\n      <td>79</td>\n    </tr>\n    <tr>\n      <th>247</th>\n      <td>Chocolate Shake (Small)</td>\n      <td>77</td>\n    </tr>\n    <tr>\n      <th>240</th>\n      <td>Mango Pineapple Smoothie (Large)</td>\n      <td>72</td>\n    </tr>\n    <tr>\n      <th>234</th>\n      <td>Blueberry Pomegranate Smoothie (Large)</td>\n      <td>70</td>\n    </tr>\n    <tr>\n      <th>237</th>\n      <td>Strawberry Banana Smoothie (Large)</td>\n      <td>70</td>\n    </tr>\n    <tr>\n      <th>255</th>\n      <td>McFlurry with Oreo Cookies (Small)</td>\n      <td>64</td>\n    </tr>\n    <tr>\n      <th>241</th>\n      <td>Vanilla Shake (Small)</td>\n      <td>63</td>\n    </tr>\n    <tr>\n      <th>254</th>\n      <td>McFlurry with M&amp;M’s Candies (Snack)</td>\n      <td>59</td>\n    </tr>\n    <tr>\n      <th>239</th>\n      <td>Mango Pineapple Smoothie (Medium)</td>\n      <td>56</td>\n    </tr>\n    <tr>\n      <th>236</th>\n      <td>Strawberry Banana Smoothie (Medium)</td>\n      <td>54</td>\n    </tr>\n    <tr>\n      <th>233</th>\n      <td>Blueberry Pomegranate Smoothie (Medium)</td>\n      <td>54</td>\n    </tr>\n    <tr>\n      <th>259</th>\n      <td>McFlurry with Reese's Peanut Butter Cups (Snack)</td>\n      <td>51</td>\n    </tr>\n    <tr>\n      <th>238</th>\n      <td>Mango Pineapple Smoothie (Small)</td>\n      <td>46</td>\n    </tr>\n    <tr>\n      <th>235</th>\n      <td>Strawberry Banana Smoothie (Small)</td>\n      <td>44</td>\n    </tr>\n    <tr>\n      <th>232</th>\n      <td>Blueberry Pomegranate Smoothie (Small)</td>\n      <td>44</td>\n    </tr>\n    <tr>\n      <th>257</th>\n      <td>McFlurry with Oreo Cookies (Snack)</td>\n      <td>43</td>\n    </tr>\n  </tbody>\n</table>\n</div>"
          },
          "metadata": {}
        }
      ],
      "execution_count": null
    },
    {
      "cell_type": "markdown",
      "source": [
        "The McFlurry with M&amp;M's Candies (Medium) has the most sugar."
      ],
      "metadata": {
        "cell_id": "1419022a-63f3-4e83-95a3-dd8b7b39c054",
        "tags": [],
        "is_collapsed": false,
        "deepnote_cell_type": "text-cell-p",
        "deepnote_cell_height": 52,
        "id": "F98N9HVpmZRa"
      }
    },
    {
      "cell_type": "markdown",
      "source": [
        "Next, we will find which category has the most total fats."
      ],
      "metadata": {
        "cell_id": "a09728c6-ff19-47de-8ab2-e5e404b31ec1",
        "tags": [],
        "is_collapsed": false,
        "deepnote_cell_type": "text-cell-p",
        "deepnote_cell_height": 52,
        "id": "QjnzqhbimZRa"
      }
    },
    {
      "cell_type": "code",
      "source": [
        "avgfat = pd.DataFrame(df.groupby('Category')['Total Fat'].mean())\n",
        "\n",
        "fig = px.bar(df, x=avgfat.index, y=avgfat[\"Total Fat\"])\n",
        "fig.show()"
      ],
      "metadata": {
        "cell_id": "76951e2d-89f0-4b5a-acaf-ac645c168da7",
        "tags": [],
        "deepnote_to_be_reexecuted": false,
        "source_hash": "c9cec7f5",
        "execution_start": 1647407778483,
        "execution_millis": 191,
        "deepnote_cell_type": "code",
        "deepnote_cell_height": 678,
        "deepnote_output_heights": [
          527
        ],
        "id": "hah5lNNJmZRa",
        "outputId": "d125804f-95c4-401b-f103-eb15aa2135ef"
      },
      "outputs": [
        {
          "data": {
            "text/html": "<html>\n<head><meta charset=\"utf-8\" /></head>\n<body>\n    <div>            <script src=\"https://cdnjs.cloudflare.com/ajax/libs/mathjax/2.7.5/MathJax.js?config=TeX-AMS-MML_SVG\"></script><script type=\"text/javascript\">if (window.MathJax) {MathJax.Hub.Config({SVG: {font: \"STIX-Web\"}});}</script>                <script type=\"text/javascript\">window.PlotlyConfig = {MathJaxConfig: 'local'};</script>\n        <script src=\"https://cdn.plot.ly/plotly-2.9.0.min.js\"></script>                <div id=\"4473d914-8971-4a3f-acaa-53d0c717125c\" class=\"plotly-graph-div\" style=\"height:525px; width:100%;\"></div>            <script type=\"text/javascript\">                                    window.PLOTLYENV=window.PLOTLYENV || {};                                    if (document.getElementById(\"4473d914-8971-4a3f-acaa-53d0c717125c\")) {                    Plotly.newPlot(                        \"4473d914-8971-4a3f-acaa-53d0c717125c\",                        [{\"alignmentgroup\":\"True\",\"hovertemplate\":\"x=%{x}<br>y=%{y}<extra></extra>\",\"legendgroup\":\"\",\"marker\":{\"color\":\"#636efa\",\"pattern\":{\"shape\":\"\"}},\"name\":\"\",\"offsetgroup\":\"\",\"orientation\":\"v\",\"showlegend\":false,\"textposition\":\"auto\",\"x\":[\"Beef & Pork\",\"Beverages\",\"Breakfast\",\"Chicken & Fish\",\"Coffee & Tea\",\"Desserts\",\"Salads\",\"Smoothies & Shakes\",\"Snacks & Sides\"],\"xaxis\":\"x\",\"y\":[24.866666666666667,0.09259259259259259,27.69047619047619,26.962962962962962,8.021052631578947,7.357142857142857,11.75,14.125,10.538461538461538],\"yaxis\":\"y\",\"type\":\"bar\"}],                        {\"template\":{\"data\":{\"bar\":[{\"error_x\":{\"color\":\"#2a3f5f\"},\"error_y\":{\"color\":\"#2a3f5f\"},\"marker\":{\"line\":{\"color\":\"#E5ECF6\",\"width\":0.5},\"pattern\":{\"fillmode\":\"overlay\",\"size\":10,\"solidity\":0.2}},\"type\":\"bar\"}],\"barpolar\":[{\"marker\":{\"line\":{\"color\":\"#E5ECF6\",\"width\":0.5},\"pattern\":{\"fillmode\":\"overlay\",\"size\":10,\"solidity\":0.2}},\"type\":\"barpolar\"}],\"carpet\":[{\"aaxis\":{\"endlinecolor\":\"#2a3f5f\",\"gridcolor\":\"white\",\"linecolor\":\"white\",\"minorgridcolor\":\"white\",\"startlinecolor\":\"#2a3f5f\"},\"baxis\":{\"endlinecolor\":\"#2a3f5f\",\"gridcolor\":\"white\",\"linecolor\":\"white\",\"minorgridcolor\":\"white\",\"startlinecolor\":\"#2a3f5f\"},\"type\":\"carpet\"}],\"choropleth\":[{\"colorbar\":{\"outlinewidth\":0,\"ticks\":\"\"},\"type\":\"choropleth\"}],\"contour\":[{\"colorbar\":{\"outlinewidth\":0,\"ticks\":\"\"},\"colorscale\":[[0.0,\"#0d0887\"],[0.1111111111111111,\"#46039f\"],[0.2222222222222222,\"#7201a8\"],[0.3333333333333333,\"#9c179e\"],[0.4444444444444444,\"#bd3786\"],[0.5555555555555556,\"#d8576b\"],[0.6666666666666666,\"#ed7953\"],[0.7777777777777778,\"#fb9f3a\"],[0.8888888888888888,\"#fdca26\"],[1.0,\"#f0f921\"]],\"type\":\"contour\"}],\"contourcarpet\":[{\"colorbar\":{\"outlinewidth\":0,\"ticks\":\"\"},\"type\":\"contourcarpet\"}],\"heatmap\":[{\"colorbar\":{\"outlinewidth\":0,\"ticks\":\"\"},\"colorscale\":[[0.0,\"#0d0887\"],[0.1111111111111111,\"#46039f\"],[0.2222222222222222,\"#7201a8\"],[0.3333333333333333,\"#9c179e\"],[0.4444444444444444,\"#bd3786\"],[0.5555555555555556,\"#d8576b\"],[0.6666666666666666,\"#ed7953\"],[0.7777777777777778,\"#fb9f3a\"],[0.8888888888888888,\"#fdca26\"],[1.0,\"#f0f921\"]],\"type\":\"heatmap\"}],\"heatmapgl\":[{\"colorbar\":{\"outlinewidth\":0,\"ticks\":\"\"},\"colorscale\":[[0.0,\"#0d0887\"],[0.1111111111111111,\"#46039f\"],[0.2222222222222222,\"#7201a8\"],[0.3333333333333333,\"#9c179e\"],[0.4444444444444444,\"#bd3786\"],[0.5555555555555556,\"#d8576b\"],[0.6666666666666666,\"#ed7953\"],[0.7777777777777778,\"#fb9f3a\"],[0.8888888888888888,\"#fdca26\"],[1.0,\"#f0f921\"]],\"type\":\"heatmapgl\"}],\"histogram\":[{\"marker\":{\"pattern\":{\"fillmode\":\"overlay\",\"size\":10,\"solidity\":0.2}},\"type\":\"histogram\"}],\"histogram2d\":[{\"colorbar\":{\"outlinewidth\":0,\"ticks\":\"\"},\"colorscale\":[[0.0,\"#0d0887\"],[0.1111111111111111,\"#46039f\"],[0.2222222222222222,\"#7201a8\"],[0.3333333333333333,\"#9c179e\"],[0.4444444444444444,\"#bd3786\"],[0.5555555555555556,\"#d8576b\"],[0.6666666666666666,\"#ed7953\"],[0.7777777777777778,\"#fb9f3a\"],[0.8888888888888888,\"#fdca26\"],[1.0,\"#f0f921\"]],\"type\":\"histogram2d\"}],\"histogram2dcontour\":[{\"colorbar\":{\"outlinewidth\":0,\"ticks\":\"\"},\"colorscale\":[[0.0,\"#0d0887\"],[0.1111111111111111,\"#46039f\"],[0.2222222222222222,\"#7201a8\"],[0.3333333333333333,\"#9c179e\"],[0.4444444444444444,\"#bd3786\"],[0.5555555555555556,\"#d8576b\"],[0.6666666666666666,\"#ed7953\"],[0.7777777777777778,\"#fb9f3a\"],[0.8888888888888888,\"#fdca26\"],[1.0,\"#f0f921\"]],\"type\":\"histogram2dcontour\"}],\"mesh3d\":[{\"colorbar\":{\"outlinewidth\":0,\"ticks\":\"\"},\"type\":\"mesh3d\"}],\"parcoords\":[{\"line\":{\"colorbar\":{\"outlinewidth\":0,\"ticks\":\"\"}},\"type\":\"parcoords\"}],\"pie\":[{\"automargin\":true,\"type\":\"pie\"}],\"scatter\":[{\"marker\":{\"colorbar\":{\"outlinewidth\":0,\"ticks\":\"\"}},\"type\":\"scatter\"}],\"scatter3d\":[{\"line\":{\"colorbar\":{\"outlinewidth\":0,\"ticks\":\"\"}},\"marker\":{\"colorbar\":{\"outlinewidth\":0,\"ticks\":\"\"}},\"type\":\"scatter3d\"}],\"scattercarpet\":[{\"marker\":{\"colorbar\":{\"outlinewidth\":0,\"ticks\":\"\"}},\"type\":\"scattercarpet\"}],\"scattergeo\":[{\"marker\":{\"colorbar\":{\"outlinewidth\":0,\"ticks\":\"\"}},\"type\":\"scattergeo\"}],\"scattergl\":[{\"marker\":{\"colorbar\":{\"outlinewidth\":0,\"ticks\":\"\"}},\"type\":\"scattergl\"}],\"scattermapbox\":[{\"marker\":{\"colorbar\":{\"outlinewidth\":0,\"ticks\":\"\"}},\"type\":\"scattermapbox\"}],\"scatterpolar\":[{\"marker\":{\"colorbar\":{\"outlinewidth\":0,\"ticks\":\"\"}},\"type\":\"scatterpolar\"}],\"scatterpolargl\":[{\"marker\":{\"colorbar\":{\"outlinewidth\":0,\"ticks\":\"\"}},\"type\":\"scatterpolargl\"}],\"scatterternary\":[{\"marker\":{\"colorbar\":{\"outlinewidth\":0,\"ticks\":\"\"}},\"type\":\"scatterternary\"}],\"surface\":[{\"colorbar\":{\"outlinewidth\":0,\"ticks\":\"\"},\"colorscale\":[[0.0,\"#0d0887\"],[0.1111111111111111,\"#46039f\"],[0.2222222222222222,\"#7201a8\"],[0.3333333333333333,\"#9c179e\"],[0.4444444444444444,\"#bd3786\"],[0.5555555555555556,\"#d8576b\"],[0.6666666666666666,\"#ed7953\"],[0.7777777777777778,\"#fb9f3a\"],[0.8888888888888888,\"#fdca26\"],[1.0,\"#f0f921\"]],\"type\":\"surface\"}],\"table\":[{\"cells\":{\"fill\":{\"color\":\"#EBF0F8\"},\"line\":{\"color\":\"white\"}},\"header\":{\"fill\":{\"color\":\"#C8D4E3\"},\"line\":{\"color\":\"white\"}},\"type\":\"table\"}]},\"layout\":{\"annotationdefaults\":{\"arrowcolor\":\"#2a3f5f\",\"arrowhead\":0,\"arrowwidth\":1},\"autotypenumbers\":\"strict\",\"coloraxis\":{\"colorbar\":{\"outlinewidth\":0,\"ticks\":\"\"}},\"colorscale\":{\"diverging\":[[0,\"#8e0152\"],[0.1,\"#c51b7d\"],[0.2,\"#de77ae\"],[0.3,\"#f1b6da\"],[0.4,\"#fde0ef\"],[0.5,\"#f7f7f7\"],[0.6,\"#e6f5d0\"],[0.7,\"#b8e186\"],[0.8,\"#7fbc41\"],[0.9,\"#4d9221\"],[1,\"#276419\"]],\"sequential\":[[0.0,\"#0d0887\"],[0.1111111111111111,\"#46039f\"],[0.2222222222222222,\"#7201a8\"],[0.3333333333333333,\"#9c179e\"],[0.4444444444444444,\"#bd3786\"],[0.5555555555555556,\"#d8576b\"],[0.6666666666666666,\"#ed7953\"],[0.7777777777777778,\"#fb9f3a\"],[0.8888888888888888,\"#fdca26\"],[1.0,\"#f0f921\"]],\"sequentialminus\":[[0.0,\"#0d0887\"],[0.1111111111111111,\"#46039f\"],[0.2222222222222222,\"#7201a8\"],[0.3333333333333333,\"#9c179e\"],[0.4444444444444444,\"#bd3786\"],[0.5555555555555556,\"#d8576b\"],[0.6666666666666666,\"#ed7953\"],[0.7777777777777778,\"#fb9f3a\"],[0.8888888888888888,\"#fdca26\"],[1.0,\"#f0f921\"]]},\"colorway\":[\"#636efa\",\"#EF553B\",\"#00cc96\",\"#ab63fa\",\"#FFA15A\",\"#19d3f3\",\"#FF6692\",\"#B6E880\",\"#FF97FF\",\"#FECB52\"],\"font\":{\"color\":\"#2a3f5f\"},\"geo\":{\"bgcolor\":\"white\",\"lakecolor\":\"white\",\"landcolor\":\"#E5ECF6\",\"showlakes\":true,\"showland\":true,\"subunitcolor\":\"white\"},\"hoverlabel\":{\"align\":\"left\"},\"hovermode\":\"closest\",\"mapbox\":{\"style\":\"light\"},\"paper_bgcolor\":\"white\",\"plot_bgcolor\":\"#E5ECF6\",\"polar\":{\"angularaxis\":{\"gridcolor\":\"white\",\"linecolor\":\"white\",\"ticks\":\"\"},\"bgcolor\":\"#E5ECF6\",\"radialaxis\":{\"gridcolor\":\"white\",\"linecolor\":\"white\",\"ticks\":\"\"}},\"scene\":{\"xaxis\":{\"backgroundcolor\":\"#E5ECF6\",\"gridcolor\":\"white\",\"gridwidth\":2,\"linecolor\":\"white\",\"showbackground\":true,\"ticks\":\"\",\"zerolinecolor\":\"white\"},\"yaxis\":{\"backgroundcolor\":\"#E5ECF6\",\"gridcolor\":\"white\",\"gridwidth\":2,\"linecolor\":\"white\",\"showbackground\":true,\"ticks\":\"\",\"zerolinecolor\":\"white\"},\"zaxis\":{\"backgroundcolor\":\"#E5ECF6\",\"gridcolor\":\"white\",\"gridwidth\":2,\"linecolor\":\"white\",\"showbackground\":true,\"ticks\":\"\",\"zerolinecolor\":\"white\"}},\"shapedefaults\":{\"line\":{\"color\":\"#2a3f5f\"}},\"ternary\":{\"aaxis\":{\"gridcolor\":\"white\",\"linecolor\":\"white\",\"ticks\":\"\"},\"baxis\":{\"gridcolor\":\"white\",\"linecolor\":\"white\",\"ticks\":\"\"},\"bgcolor\":\"#E5ECF6\",\"caxis\":{\"gridcolor\":\"white\",\"linecolor\":\"white\",\"ticks\":\"\"}},\"title\":{\"x\":0.05},\"xaxis\":{\"automargin\":true,\"gridcolor\":\"white\",\"linecolor\":\"white\",\"ticks\":\"\",\"title\":{\"standoff\":15},\"zerolinecolor\":\"white\",\"zerolinewidth\":2},\"yaxis\":{\"automargin\":true,\"gridcolor\":\"white\",\"linecolor\":\"white\",\"ticks\":\"\",\"title\":{\"standoff\":15},\"zerolinecolor\":\"white\",\"zerolinewidth\":2}}},\"xaxis\":{\"anchor\":\"y\",\"domain\":[0.0,1.0],\"title\":{\"text\":\"x\"}},\"yaxis\":{\"anchor\":\"x\",\"domain\":[0.0,1.0],\"title\":{\"text\":\"y\"}},\"legend\":{\"tracegroupgap\":0},\"margin\":{\"t\":60},\"barmode\":\"relative\"},                        {\"responsive\": true}                    ).then(function(){\n                            \nvar gd = document.getElementById('4473d914-8971-4a3f-acaa-53d0c717125c');\nvar x = new MutationObserver(function (mutations, observer) {{\n        var display = window.getComputedStyle(gd).display;\n        if (!display || display === 'none') {{\n            console.log([gd, 'removed!']);\n            Plotly.purge(gd);\n            observer.disconnect();\n        }}\n}});\n\n// Listen for the removal of the full notebook cells\nvar notebookContainer = gd.closest('#notebook-container');\nif (notebookContainer) {{\n    x.observe(notebookContainer, {childList: true});\n}}\n\n// Listen for the clearing of the current output cell\nvar outputEl = gd.closest('.output');\nif (outputEl) {{\n    x.observe(outputEl, {childList: true});\n}}\n\n                        })                };                            </script>        </div>\n</body>\n</html>"
          },
          "metadata": {},
          "output_type": "display_data"
        }
      ],
      "execution_count": null
    },
    {
      "cell_type": "markdown",
      "source": [
        "The Beef &amp; Pork, Breakfast, and Chicken &amp; Fish categories contain the most average total fat."
      ],
      "metadata": {
        "cell_id": "c3794c28-9017-44b3-a2c9-817bfc6b47e7",
        "tags": [],
        "is_collapsed": false,
        "deepnote_cell_type": "text-cell-p",
        "deepnote_cell_height": 52,
        "id": "QH6T-QuCmZRa"
      }
    },
    {
      "cell_type": "markdown",
      "source": [
        "### Correlation between Nutrients (Vitamins, Iron, Fat, etc.)"
      ],
      "metadata": {
        "cell_id": "5341fbaa-96d0-4b26-b4f1-59a840a4cac9",
        "tags": [],
        "deepnote_cell_type": "markdown",
        "deepnote_cell_height": 62,
        "id": "uuiZQrLemZRa"
      }
    },
    {
      "cell_type": "code",
      "metadata": {
        "cell_id": "1a4028bc-c59e-4c81-8d34-805bb92b782b",
        "tags": [],
        "deepnote_to_be_reexecuted": false,
        "source_hash": "1f8f3adb",
        "execution_start": 1647407179882,
        "execution_millis": 34,
        "deepnote_cell_type": "code",
        "deepnote_cell_height": 565,
        "id": "dhAdQVqemZRa",
        "outputId": "2b48784d-ded8-4136-bd4f-1ac0934cbc07"
      },
      "source": [
        "dailyper = df[['Vitamin A (% Daily Value)','Vitamin C (% Daily Value)','Calcium (% Daily Value)',\n",
        "      'Iron (% Daily Value)','Total Fat (% Daily Value)',\n",
        "      'Cholesterol (% Daily Value)','Carbohydrates (% Daily Value)']]\n",
        "\n",
        "dailyper.corr()\n"
      ],
      "outputs": [
        {
          "output_type": "execute_result",
          "execution_count": 18,
          "data": {
            "application/vnd.deepnote.dataframe.v3+json": {
              "column_count": 7,
              "row_count": 7,
              "columns": [
                {
                  "name": "Vitamin A (% Daily Value)",
                  "dtype": "float64",
                  "stats": {
                    "unique_count": 7,
                    "nan_count": 0,
                    "min": "0.054038191398835374",
                    "max": "1.0",
                    "histogram": [
                      {
                        "bin_start": 0.054038191398835374,
                        "bin_end": 0.14863437225895185,
                        "count": 5
                      },
                      {
                        "bin_start": 0.14863437225895185,
                        "bin_end": 0.2432305531190683,
                        "count": 1
                      },
                      {
                        "bin_start": 0.2432305531190683,
                        "bin_end": 0.3378267339791848,
                        "count": 0
                      },
                      {
                        "bin_start": 0.3378267339791848,
                        "bin_end": 0.43242291483930123,
                        "count": 0
                      },
                      {
                        "bin_start": 0.43242291483930123,
                        "bin_end": 0.5270190956994177,
                        "count": 0
                      },
                      {
                        "bin_start": 0.5270190956994177,
                        "bin_end": 0.6216152765595342,
                        "count": 0
                      },
                      {
                        "bin_start": 0.6216152765595342,
                        "bin_end": 0.7162114574196506,
                        "count": 0
                      },
                      {
                        "bin_start": 0.7162114574196506,
                        "bin_end": 0.8108076382797671,
                        "count": 0
                      },
                      {
                        "bin_start": 0.8108076382797671,
                        "bin_end": 0.9054038191398835,
                        "count": 0
                      },
                      {
                        "bin_start": 0.9054038191398835,
                        "bin_end": 1,
                        "count": 1
                      }
                    ]
                  }
                },
                {
                  "name": "Vitamin C (% Daily Value)",
                  "dtype": "float64",
                  "stats": {
                    "unique_count": 7,
                    "nan_count": 0,
                    "min": "-0.21537980884384825",
                    "max": "1.0",
                    "histogram": [
                      {
                        "bin_start": -0.21537980884384825,
                        "bin_end": -0.09384182795946341,
                        "count": 1
                      },
                      {
                        "bin_start": -0.09384182795946341,
                        "bin_end": 0.02769615292492142,
                        "count": 4
                      },
                      {
                        "bin_start": 0.02769615292492142,
                        "bin_end": 0.14923413380930625,
                        "count": 1
                      },
                      {
                        "bin_start": 0.14923413380930625,
                        "bin_end": 0.2707721146936911,
                        "count": 0
                      },
                      {
                        "bin_start": 0.2707721146936911,
                        "bin_end": 0.39231009557807595,
                        "count": 0
                      },
                      {
                        "bin_start": 0.39231009557807595,
                        "bin_end": 0.5138480764624608,
                        "count": 0
                      },
                      {
                        "bin_start": 0.5138480764624608,
                        "bin_end": 0.6353860573468456,
                        "count": 0
                      },
                      {
                        "bin_start": 0.6353860573468456,
                        "bin_end": 0.7569240382312304,
                        "count": 0
                      },
                      {
                        "bin_start": 0.7569240382312304,
                        "bin_end": 0.8784620191156153,
                        "count": 0
                      },
                      {
                        "bin_start": 0.8784620191156153,
                        "bin_end": 1,
                        "count": 1
                      }
                    ]
                  }
                },
                {
                  "name": "Calcium (% Daily Value)",
                  "dtype": "float64",
                  "stats": {
                    "unique_count": 7,
                    "nan_count": 0,
                    "min": "-0.21537980884384825",
                    "max": "1.0",
                    "histogram": [
                      {
                        "bin_start": -0.21537980884384825,
                        "bin_end": -0.09384182795946341,
                        "count": 1
                      },
                      {
                        "bin_start": -0.09384182795946341,
                        "bin_end": 0.02769615292492142,
                        "count": 0
                      },
                      {
                        "bin_start": 0.02769615292492142,
                        "bin_end": 0.14923413380930625,
                        "count": 2
                      },
                      {
                        "bin_start": 0.14923413380930625,
                        "bin_end": 0.2707721146936911,
                        "count": 2
                      },
                      {
                        "bin_start": 0.2707721146936911,
                        "bin_end": 0.39231009557807595,
                        "count": 0
                      },
                      {
                        "bin_start": 0.39231009557807595,
                        "bin_end": 0.5138480764624608,
                        "count": 0
                      },
                      {
                        "bin_start": 0.5138480764624608,
                        "bin_end": 0.6353860573468456,
                        "count": 1
                      },
                      {
                        "bin_start": 0.6353860573468456,
                        "bin_end": 0.7569240382312304,
                        "count": 0
                      },
                      {
                        "bin_start": 0.7569240382312304,
                        "bin_end": 0.8784620191156153,
                        "count": 0
                      },
                      {
                        "bin_start": 0.8784620191156153,
                        "bin_end": 1,
                        "count": 1
                      }
                    ]
                  }
                },
                {
                  "name": "Iron (% Daily Value)",
                  "dtype": "float64",
                  "stats": {
                    "unique_count": 7,
                    "nan_count": 0,
                    "min": "0.001291740522822597",
                    "max": "1.0",
                    "histogram": [
                      {
                        "bin_start": 0.001291740522822597,
                        "bin_end": 0.10116256647054034,
                        "count": 2
                      },
                      {
                        "bin_start": 0.10116256647054034,
                        "bin_end": 0.2010333924182581,
                        "count": 1
                      },
                      {
                        "bin_start": 0.2010333924182581,
                        "bin_end": 0.30090421836597586,
                        "count": 1
                      },
                      {
                        "bin_start": 0.30090421836597586,
                        "bin_end": 0.4007750443136936,
                        "count": 0
                      },
                      {
                        "bin_start": 0.4007750443136936,
                        "bin_end": 0.5006458702614113,
                        "count": 0
                      },
                      {
                        "bin_start": 0.5006458702614113,
                        "bin_end": 0.6005166962091291,
                        "count": 0
                      },
                      {
                        "bin_start": 0.6005166962091291,
                        "bin_end": 0.7003875221568467,
                        "count": 1
                      },
                      {
                        "bin_start": 0.7003875221568467,
                        "bin_end": 0.8002583481045645,
                        "count": 1
                      },
                      {
                        "bin_start": 0.8002583481045645,
                        "bin_end": 0.9001291740522823,
                        "count": 0
                      },
                      {
                        "bin_start": 0.9001291740522823,
                        "bin_end": 1,
                        "count": 1
                      }
                    ]
                  }
                },
                {
                  "name": "Total Fat (% Daily Value)",
                  "dtype": "float64",
                  "stats": {
                    "unique_count": 7,
                    "nan_count": 0,
                    "min": "-0.08935258065107092",
                    "max": "1.0",
                    "histogram": [
                      {
                        "bin_start": -0.08935258065107092,
                        "bin_end": 0.019582677414036173,
                        "count": 1
                      },
                      {
                        "bin_start": 0.019582677414036173,
                        "bin_end": 0.12851793547914325,
                        "count": 1
                      },
                      {
                        "bin_start": 0.12851793547914325,
                        "bin_end": 0.23745319354425037,
                        "count": 1
                      },
                      {
                        "bin_start": 0.23745319354425037,
                        "bin_end": 0.34638845160935744,
                        "count": 0
                      },
                      {
                        "bin_start": 0.34638845160935744,
                        "bin_end": 0.4553237096744645,
                        "count": 0
                      },
                      {
                        "bin_start": 0.4553237096744645,
                        "bin_end": 0.5642589677395717,
                        "count": 1
                      },
                      {
                        "bin_start": 0.5642589677395717,
                        "bin_end": 0.6731942258046788,
                        "count": 0
                      },
                      {
                        "bin_start": 0.6731942258046788,
                        "bin_end": 0.7821294838697859,
                        "count": 2
                      },
                      {
                        "bin_start": 0.7821294838697859,
                        "bin_end": 0.8910647419348929,
                        "count": 0
                      },
                      {
                        "bin_start": 0.8910647419348929,
                        "bin_end": 1,
                        "count": 1
                      }
                    ]
                  }
                },
                {
                  "name": "Cholesterol (% Daily Value)",
                  "dtype": "float64",
                  "stats": {
                    "unique_count": 7,
                    "nan_count": 0,
                    "min": "-0.08331469757740623",
                    "max": "1.0",
                    "histogram": [
                      {
                        "bin_start": -0.08331469757740623,
                        "bin_end": 0.025016772180334393,
                        "count": 1
                      },
                      {
                        "bin_start": 0.025016772180334393,
                        "bin_end": 0.133348241938075,
                        "count": 2
                      },
                      {
                        "bin_start": 0.133348241938075,
                        "bin_end": 0.24167971169581565,
                        "count": 0
                      },
                      {
                        "bin_start": 0.24167971169581565,
                        "bin_end": 0.35001118145355625,
                        "count": 1
                      },
                      {
                        "bin_start": 0.35001118145355625,
                        "bin_end": 0.45834265121129686,
                        "count": 0
                      },
                      {
                        "bin_start": 0.45834265121129686,
                        "bin_end": 0.5666741209690376,
                        "count": 0
                      },
                      {
                        "bin_start": 0.5666741209690376,
                        "bin_end": 0.675005590726778,
                        "count": 1
                      },
                      {
                        "bin_start": 0.675005590726778,
                        "bin_end": 0.7833370604845187,
                        "count": 1
                      },
                      {
                        "bin_start": 0.7833370604845187,
                        "bin_end": 0.8916685302422593,
                        "count": 0
                      },
                      {
                        "bin_start": 0.8916685302422593,
                        "bin_end": 1,
                        "count": 1
                      }
                    ]
                  }
                },
                {
                  "name": "Carbohydrates (% Daily Value)",
                  "dtype": "float64",
                  "stats": {
                    "unique_count": 7,
                    "nan_count": 0,
                    "min": "-0.03545009198593219",
                    "max": "1.0",
                    "histogram": [
                      {
                        "bin_start": -0.03545009198593219,
                        "bin_end": 0.06809491721266103,
                        "count": 1
                      },
                      {
                        "bin_start": 0.06809491721266103,
                        "bin_end": 0.17163992641125425,
                        "count": 1
                      },
                      {
                        "bin_start": 0.17163992641125425,
                        "bin_end": 0.27518493560984747,
                        "count": 2
                      },
                      {
                        "bin_start": 0.27518493560984747,
                        "bin_end": 0.3787299448084407,
                        "count": 0
                      },
                      {
                        "bin_start": 0.3787299448084407,
                        "bin_end": 0.4822749540070339,
                        "count": 1
                      },
                      {
                        "bin_start": 0.4822749540070339,
                        "bin_end": 0.5858199632056271,
                        "count": 0
                      },
                      {
                        "bin_start": 0.5858199632056271,
                        "bin_end": 0.6893649724042203,
                        "count": 1
                      },
                      {
                        "bin_start": 0.6893649724042203,
                        "bin_end": 0.7929099816028136,
                        "count": 0
                      },
                      {
                        "bin_start": 0.7929099816028136,
                        "bin_end": 0.8964549908014068,
                        "count": 0
                      },
                      {
                        "bin_start": 0.8964549908014068,
                        "bin_end": 1,
                        "count": 1
                      }
                    ]
                  }
                },
                {
                  "name": "_deepnote_index_column",
                  "dtype": "object"
                }
              ],
              "rows": [
                {
                  "Vitamin A (% Daily Value)": 1,
                  "Vitamin C (% Daily Value)": 0.0691711100219371,
                  "Calcium (% Daily Value)": 0.179189943941047,
                  "Iron (% Daily Value)": 0.13787902207785177,
                  "Total Fat (% Daily Value)": 0.054038191398835374,
                  "Cholesterol (% Daily Value)": 0.08005942515674036,
                  "Carbohydrates (% Daily Value)": 0.08337578553990421,
                  "_deepnote_index_column": "Vitamin A (% Daily Value)"
                },
                {
                  "Vitamin A (% Daily Value)": 0.0691711100219371,
                  "Vitamin C (% Daily Value)": 1,
                  "Calcium (% Daily Value)": -0.21537980884384825,
                  "Iron (% Daily Value)": 0.001291740522822597,
                  "Total Fat (% Daily Value)": -0.08935258065107092,
                  "Cholesterol (% Daily Value)": -0.08331469757740623,
                  "Carbohydrates (% Daily Value)": -0.03545009198593219,
                  "_deepnote_index_column": "Vitamin C (% Daily Value)"
                },
                {
                  "Vitamin A (% Daily Value)": 0.179189943941047,
                  "Vitamin C (% Daily Value)": -0.21537980884384825,
                  "Calcium (% Daily Value)": 1,
                  "Iron (% Daily Value)": 0.034148740196619835,
                  "Total Fat (% Daily Value)": 0.16203088457851098,
                  "Cholesterol (% Daily Value)": 0.13238169313197992,
                  "Carbohydrates (% Daily Value)": 0.5902633521779936,
                  "_deepnote_index_column": "Calcium (% Daily Value)"
                },
                {
                  "Vitamin A (% Daily Value)": 0.13787902207785177,
                  "Vitamin C (% Daily Value)": 0.001291740522822597,
                  "Calcium (% Daily Value)": 0.034148740196619835,
                  "Iron (% Daily Value)": 1,
                  "Total Fat (% Daily Value)": 0.7354775459676243,
                  "Cholesterol (% Daily Value)": 0.6531674957634809,
                  "Carbohydrates (% Daily Value)": 0.21064337639575015,
                  "_deepnote_index_column": "Iron (% Daily Value)"
                },
                {
                  "Vitamin A (% Daily Value)": 0.054038191398835374,
                  "Vitamin C (% Daily Value)": -0.08935258065107092,
                  "Calcium (% Daily Value)": 0.16203088457851098,
                  "Iron (% Daily Value)": 0.7354775459676243,
                  "Total Fat (% Daily Value)": 1,
                  "Cholesterol (% Daily Value)": 0.680378092600966,
                  "Carbohydrates (% Daily Value)": 0.4602984112391491,
                  "_deepnote_index_column": "Total Fat (% Daily Value)"
                },
                {
                  "Vitamin A (% Daily Value)": 0.08005942515674036,
                  "Vitamin C (% Daily Value)": -0.08331469757740623,
                  "Calcium (% Daily Value)": 0.13238169313197992,
                  "Iron (% Daily Value)": 0.6531674957634809,
                  "Total Fat (% Daily Value)": 0.680378092600966,
                  "Cholesterol (% Daily Value)": 1,
                  "Carbohydrates (% Daily Value)": 0.27099242030074655,
                  "_deepnote_index_column": "Cholesterol (% Daily Value)"
                },
                {
                  "Vitamin A (% Daily Value)": 0.08337578553990421,
                  "Vitamin C (% Daily Value)": -0.03545009198593219,
                  "Calcium (% Daily Value)": 0.5902633521779936,
                  "Iron (% Daily Value)": 0.21064337639575015,
                  "Total Fat (% Daily Value)": 0.4602984112391491,
                  "Cholesterol (% Daily Value)": 0.27099242030074655,
                  "Carbohydrates (% Daily Value)": 1,
                  "_deepnote_index_column": "Carbohydrates (% Daily Value)"
                }
              ]
            },
            "text/plain": "                               Vitamin A (% Daily Value)  \\\nVitamin A (% Daily Value)                       1.000000   \nVitamin C (% Daily Value)                       0.069171   \nCalcium (% Daily Value)                         0.179190   \nIron (% Daily Value)                            0.137879   \nTotal Fat (% Daily Value)                       0.054038   \nCholesterol (% Daily Value)                     0.080059   \nCarbohydrates (% Daily Value)                   0.083376   \n\n                               Vitamin C (% Daily Value)  \\\nVitamin A (% Daily Value)                       0.069171   \nVitamin C (% Daily Value)                       1.000000   \nCalcium (% Daily Value)                        -0.215380   \nIron (% Daily Value)                            0.001292   \nTotal Fat (% Daily Value)                      -0.089353   \nCholesterol (% Daily Value)                    -0.083315   \nCarbohydrates (% Daily Value)                  -0.035450   \n\n                               Calcium (% Daily Value)  Iron (% Daily Value)  \\\nVitamin A (% Daily Value)                     0.179190              0.137879   \nVitamin C (% Daily Value)                    -0.215380              0.001292   \nCalcium (% Daily Value)                       1.000000              0.034149   \nIron (% Daily Value)                          0.034149              1.000000   \nTotal Fat (% Daily Value)                     0.162031              0.735478   \nCholesterol (% Daily Value)                   0.132382              0.653167   \nCarbohydrates (% Daily Value)                 0.590263              0.210643   \n\n                               Total Fat (% Daily Value)  \\\nVitamin A (% Daily Value)                       0.054038   \nVitamin C (% Daily Value)                      -0.089353   \nCalcium (% Daily Value)                         0.162031   \nIron (% Daily Value)                            0.735478   \nTotal Fat (% Daily Value)                       1.000000   \nCholesterol (% Daily Value)                     0.680378   \nCarbohydrates (% Daily Value)                   0.460298   \n\n                               Cholesterol (% Daily Value)  \\\nVitamin A (% Daily Value)                         0.080059   \nVitamin C (% Daily Value)                        -0.083315   \nCalcium (% Daily Value)                           0.132382   \nIron (% Daily Value)                              0.653167   \nTotal Fat (% Daily Value)                         0.680378   \nCholesterol (% Daily Value)                       1.000000   \nCarbohydrates (% Daily Value)                     0.270992   \n\n                               Carbohydrates (% Daily Value)  \nVitamin A (% Daily Value)                           0.083376  \nVitamin C (% Daily Value)                          -0.035450  \nCalcium (% Daily Value)                             0.590263  \nIron (% Daily Value)                                0.210643  \nTotal Fat (% Daily Value)                           0.460298  \nCholesterol (% Daily Value)                         0.270992  \nCarbohydrates (% Daily Value)                       1.000000  ",
            "text/html": "<div>\n<style scoped>\n    .dataframe tbody tr th:only-of-type {\n        vertical-align: middle;\n    }\n\n    .dataframe tbody tr th {\n        vertical-align: top;\n    }\n\n    .dataframe thead th {\n        text-align: right;\n    }\n</style>\n<table border=\"1\" class=\"dataframe\">\n  <thead>\n    <tr style=\"text-align: right;\">\n      <th></th>\n      <th>Vitamin A (% Daily Value)</th>\n      <th>Vitamin C (% Daily Value)</th>\n      <th>Calcium (% Daily Value)</th>\n      <th>Iron (% Daily Value)</th>\n      <th>Total Fat (% Daily Value)</th>\n      <th>Cholesterol (% Daily Value)</th>\n      <th>Carbohydrates (% Daily Value)</th>\n    </tr>\n  </thead>\n  <tbody>\n    <tr>\n      <th>Vitamin A (% Daily Value)</th>\n      <td>1.000000</td>\n      <td>0.069171</td>\n      <td>0.179190</td>\n      <td>0.137879</td>\n      <td>0.054038</td>\n      <td>0.080059</td>\n      <td>0.083376</td>\n    </tr>\n    <tr>\n      <th>Vitamin C (% Daily Value)</th>\n      <td>0.069171</td>\n      <td>1.000000</td>\n      <td>-0.215380</td>\n      <td>0.001292</td>\n      <td>-0.089353</td>\n      <td>-0.083315</td>\n      <td>-0.035450</td>\n    </tr>\n    <tr>\n      <th>Calcium (% Daily Value)</th>\n      <td>0.179190</td>\n      <td>-0.215380</td>\n      <td>1.000000</td>\n      <td>0.034149</td>\n      <td>0.162031</td>\n      <td>0.132382</td>\n      <td>0.590263</td>\n    </tr>\n    <tr>\n      <th>Iron (% Daily Value)</th>\n      <td>0.137879</td>\n      <td>0.001292</td>\n      <td>0.034149</td>\n      <td>1.000000</td>\n      <td>0.735478</td>\n      <td>0.653167</td>\n      <td>0.210643</td>\n    </tr>\n    <tr>\n      <th>Total Fat (% Daily Value)</th>\n      <td>0.054038</td>\n      <td>-0.089353</td>\n      <td>0.162031</td>\n      <td>0.735478</td>\n      <td>1.000000</td>\n      <td>0.680378</td>\n      <td>0.460298</td>\n    </tr>\n    <tr>\n      <th>Cholesterol (% Daily Value)</th>\n      <td>0.080059</td>\n      <td>-0.083315</td>\n      <td>0.132382</td>\n      <td>0.653167</td>\n      <td>0.680378</td>\n      <td>1.000000</td>\n      <td>0.270992</td>\n    </tr>\n    <tr>\n      <th>Carbohydrates (% Daily Value)</th>\n      <td>0.083376</td>\n      <td>-0.035450</td>\n      <td>0.590263</td>\n      <td>0.210643</td>\n      <td>0.460298</td>\n      <td>0.270992</td>\n      <td>1.000000</td>\n    </tr>\n  </tbody>\n</table>\n</div>"
          },
          "metadata": {}
        }
      ],
      "execution_count": null
    },
    {
      "cell_type": "markdown",
      "source": [
        "From this we can see that Cholesterol and Iron is positively correlated with Total Fat (meaning the more Cholesterol and Iron, the more Total Fat we have). Ideally, we want foods with less Cholesterol and Total Fat, and more Iron. Instead, we may want to choose foods with high Carbohydrates as they are next to be positively correlated with Iron after Total Fat and Cholesterol."
      ],
      "metadata": {
        "cell_id": "bf11df7a-524b-4bce-9822-d1d64b7d33aa",
        "tags": [],
        "is_collapsed": false,
        "deepnote_cell_type": "text-cell-p",
        "deepnote_cell_height": 96,
        "id": "4US2TYRCmZRa"
      }
    },
    {
      "cell_type": "markdown",
      "source": [
        "### Salads\n",
        "\n",
        "Salads are known to very healthy. Lets find which salad contains the most dietary fibers."
      ],
      "metadata": {
        "cell_id": "2f2d05d6-71fe-484c-8016-a4fa5c44a836",
        "tags": [],
        "deepnote_cell_type": "markdown",
        "deepnote_cell_height": 100,
        "id": "5U3cVQ6tmZRa"
      }
    },
    {
      "cell_type": "code",
      "source": [
        "salads = df[df['Category']=='Salads']\n",
        "salads"
      ],
      "metadata": {
        "cell_id": "a8b47817-c5f4-4dc7-952e-81ded2930617",
        "tags": [],
        "deepnote_to_be_reexecuted": false,
        "source_hash": "5caa4564",
        "execution_start": 1647407909975,
        "execution_millis": 135,
        "deepnote_cell_type": "code",
        "deepnote_cell_height": 452,
        "id": "K0HIK3vPmZRa",
        "outputId": "d624674a-5030-43d0-96ea-9a817f6c3dcd"
      },
      "outputs": [
        {
          "output_type": "execute_result",
          "execution_count": 30,
          "data": {
            "application/vnd.deepnote.dataframe.v3+json": {
              "column_count": 25,
              "row_count": 6,
              "columns": [
                {
                  "name": "Category",
                  "dtype": "object",
                  "stats": {
                    "unique_count": 1,
                    "nan_count": 0,
                    "categories": [
                      {
                        "name": "Salads",
                        "count": 6
                      }
                    ]
                  }
                },
                {
                  "name": "Item",
                  "dtype": "object",
                  "stats": {
                    "unique_count": 6,
                    "nan_count": 0,
                    "categories": [
                      {
                        "name": "Premium Bacon Ranch Salad (without Chicken)",
                        "count": 1
                      },
                      {
                        "name": "Premium Bacon Ranch Salad with Crispy Chicken",
                        "count": 1
                      },
                      {
                        "name": "4 others",
                        "count": 4
                      }
                    ]
                  }
                },
                {
                  "name": "Serving Size",
                  "dtype": "object",
                  "stats": {
                    "unique_count": 6,
                    "nan_count": 0,
                    "categories": [
                      {
                        "name": "7.9 oz (223 g)",
                        "count": 1
                      },
                      {
                        "name": "9 oz (255 g)",
                        "count": 1
                      },
                      {
                        "name": "4 others",
                        "count": 4
                      }
                    ]
                  }
                },
                {
                  "name": "Calories",
                  "dtype": "int64",
                  "stats": {
                    "unique_count": 5,
                    "nan_count": 0,
                    "min": "140",
                    "max": "450",
                    "histogram": [
                      {
                        "bin_start": 140,
                        "bin_end": 171,
                        "count": 2
                      },
                      {
                        "bin_start": 171,
                        "bin_end": 202,
                        "count": 0
                      },
                      {
                        "bin_start": 202,
                        "bin_end": 233,
                        "count": 1
                      },
                      {
                        "bin_start": 233,
                        "bin_end": 264,
                        "count": 0
                      },
                      {
                        "bin_start": 264,
                        "bin_end": 295,
                        "count": 1
                      },
                      {
                        "bin_start": 295,
                        "bin_end": 326,
                        "count": 0
                      },
                      {
                        "bin_start": 326,
                        "bin_end": 357,
                        "count": 0
                      },
                      {
                        "bin_start": 357,
                        "bin_end": 388,
                        "count": 1
                      },
                      {
                        "bin_start": 388,
                        "bin_end": 419,
                        "count": 0
                      },
                      {
                        "bin_start": 419,
                        "bin_end": 450,
                        "count": 1
                      }
                    ]
                  }
                },
                {
                  "name": "Calories from Fat",
                  "dtype": "int64",
                  "stats": {
                    "unique_count": 4,
                    "nan_count": 0,
                    "min": "40",
                    "max": "190",
                    "histogram": [
                      {
                        "bin_start": 40,
                        "bin_end": 55,
                        "count": 1
                      },
                      {
                        "bin_start": 55,
                        "bin_end": 70,
                        "count": 0
                      },
                      {
                        "bin_start": 70,
                        "bin_end": 85,
                        "count": 3
                      },
                      {
                        "bin_start": 85,
                        "bin_end": 100,
                        "count": 0
                      },
                      {
                        "bin_start": 100,
                        "bin_end": 115,
                        "count": 0
                      },
                      {
                        "bin_start": 115,
                        "bin_end": 130,
                        "count": 0
                      },
                      {
                        "bin_start": 130,
                        "bin_end": 145,
                        "count": 0
                      },
                      {
                        "bin_start": 145,
                        "bin_end": 160,
                        "count": 0
                      },
                      {
                        "bin_start": 160,
                        "bin_end": 175,
                        "count": 0
                      },
                      {
                        "bin_start": 175,
                        "bin_end": 190,
                        "count": 2
                      }
                    ]
                  }
                },
                {
                  "name": "Total Fat",
                  "dtype": "float64",
                  "stats": {
                    "unique_count": 5,
                    "nan_count": 0,
                    "min": "4.5",
                    "max": "22.0",
                    "histogram": [
                      {
                        "bin_start": 4.5,
                        "bin_end": 6.25,
                        "count": 1
                      },
                      {
                        "bin_start": 6.25,
                        "bin_end": 8,
                        "count": 1
                      },
                      {
                        "bin_start": 8,
                        "bin_end": 9.75,
                        "count": 2
                      },
                      {
                        "bin_start": 9.75,
                        "bin_end": 11.5,
                        "count": 0
                      },
                      {
                        "bin_start": 11.5,
                        "bin_end": 13.25,
                        "count": 0
                      },
                      {
                        "bin_start": 13.25,
                        "bin_end": 15,
                        "count": 0
                      },
                      {
                        "bin_start": 15,
                        "bin_end": 16.75,
                        "count": 0
                      },
                      {
                        "bin_start": 16.75,
                        "bin_end": 18.5,
                        "count": 0
                      },
                      {
                        "bin_start": 18.5,
                        "bin_end": 20.25,
                        "count": 0
                      },
                      {
                        "bin_start": 20.25,
                        "bin_end": 22,
                        "count": 2
                      }
                    ]
                  }
                },
                {
                  "name": "Total Fat (% Daily Value)",
                  "dtype": "int64",
                  "stats": {
                    "unique_count": 4,
                    "nan_count": 0,
                    "min": "7",
                    "max": "33",
                    "histogram": [
                      {
                        "bin_start": 7,
                        "bin_end": 9.6,
                        "count": 1
                      },
                      {
                        "bin_start": 9.6,
                        "bin_end": 12.2,
                        "count": 1
                      },
                      {
                        "bin_start": 12.2,
                        "bin_end": 14.8,
                        "count": 2
                      },
                      {
                        "bin_start": 14.8,
                        "bin_end": 17.4,
                        "count": 0
                      },
                      {
                        "bin_start": 17.4,
                        "bin_end": 20,
                        "count": 0
                      },
                      {
                        "bin_start": 20,
                        "bin_end": 22.6,
                        "count": 0
                      },
                      {
                        "bin_start": 22.6,
                        "bin_end": 25.2,
                        "count": 0
                      },
                      {
                        "bin_start": 25.2,
                        "bin_end": 27.8,
                        "count": 0
                      },
                      {
                        "bin_start": 27.8,
                        "bin_end": 30.400000000000002,
                        "count": 0
                      },
                      {
                        "bin_start": 30.400000000000002,
                        "bin_end": 33,
                        "count": 2
                      }
                    ]
                  }
                },
                {
                  "name": "Saturated Fat",
                  "dtype": "float64",
                  "stats": {
                    "unique_count": 6,
                    "nan_count": 0,
                    "min": "2.0",
                    "max": "6.0",
                    "histogram": [
                      {
                        "bin_start": 2,
                        "bin_end": 2.4,
                        "count": 1
                      },
                      {
                        "bin_start": 2.4,
                        "bin_end": 2.8,
                        "count": 1
                      },
                      {
                        "bin_start": 2.8,
                        "bin_end": 3.2,
                        "count": 0
                      },
                      {
                        "bin_start": 3.2,
                        "bin_end": 3.6,
                        "count": 1
                      },
                      {
                        "bin_start": 3.6,
                        "bin_end": 4,
                        "count": 0
                      },
                      {
                        "bin_start": 4,
                        "bin_end": 4.4,
                        "count": 1
                      },
                      {
                        "bin_start": 4.4,
                        "bin_end": 4.800000000000001,
                        "count": 1
                      },
                      {
                        "bin_start": 4.800000000000001,
                        "bin_end": 5.2,
                        "count": 0
                      },
                      {
                        "bin_start": 5.2,
                        "bin_end": 5.6,
                        "count": 0
                      },
                      {
                        "bin_start": 5.6,
                        "bin_end": 6,
                        "count": 1
                      }
                    ]
                  }
                },
                {
                  "name": "Saturated Fat (% Daily Value)",
                  "dtype": "int64",
                  "stats": {
                    "unique_count": 6,
                    "nan_count": 0,
                    "min": "9",
                    "max": "29",
                    "histogram": [
                      {
                        "bin_start": 9,
                        "bin_end": 11,
                        "count": 1
                      },
                      {
                        "bin_start": 11,
                        "bin_end": 13,
                        "count": 0
                      },
                      {
                        "bin_start": 13,
                        "bin_end": 15,
                        "count": 1
                      },
                      {
                        "bin_start": 15,
                        "bin_end": 17,
                        "count": 0
                      },
                      {
                        "bin_start": 17,
                        "bin_end": 19,
                        "count": 1
                      },
                      {
                        "bin_start": 19,
                        "bin_end": 21,
                        "count": 1
                      },
                      {
                        "bin_start": 21,
                        "bin_end": 23,
                        "count": 1
                      },
                      {
                        "bin_start": 23,
                        "bin_end": 25,
                        "count": 0
                      },
                      {
                        "bin_start": 25,
                        "bin_end": 27,
                        "count": 0
                      },
                      {
                        "bin_start": 27,
                        "bin_end": 29,
                        "count": 1
                      }
                    ]
                  }
                },
                {
                  "name": "Trans Fat",
                  "dtype": "float64",
                  "stats": {
                    "unique_count": 1,
                    "nan_count": 0,
                    "min": "0.0",
                    "max": "0.0",
                    "histogram": [
                      {
                        "bin_start": -0.5,
                        "bin_end": -0.4,
                        "count": 0
                      },
                      {
                        "bin_start": -0.4,
                        "bin_end": -0.3,
                        "count": 0
                      },
                      {
                        "bin_start": -0.3,
                        "bin_end": -0.19999999999999996,
                        "count": 0
                      },
                      {
                        "bin_start": -0.19999999999999996,
                        "bin_end": -0.09999999999999998,
                        "count": 0
                      },
                      {
                        "bin_start": -0.09999999999999998,
                        "bin_end": 0,
                        "count": 0
                      },
                      {
                        "bin_start": 0,
                        "bin_end": 0.10000000000000009,
                        "count": 6
                      },
                      {
                        "bin_start": 0.10000000000000009,
                        "bin_end": 0.20000000000000007,
                        "count": 0
                      },
                      {
                        "bin_start": 0.20000000000000007,
                        "bin_end": 0.30000000000000004,
                        "count": 0
                      },
                      {
                        "bin_start": 0.30000000000000004,
                        "bin_end": 0.4,
                        "count": 0
                      },
                      {
                        "bin_start": 0.4,
                        "bin_end": 0.5,
                        "count": 0
                      }
                    ]
                  }
                },
                {
                  "name": "Cholesterol",
                  "dtype": "int64",
                  "stats": {
                    "unique_count": 5,
                    "nan_count": 0,
                    "min": "10",
                    "max": "85",
                    "histogram": [
                      {
                        "bin_start": 10,
                        "bin_end": 17.5,
                        "count": 1
                      },
                      {
                        "bin_start": 17.5,
                        "bin_end": 25,
                        "count": 0
                      },
                      {
                        "bin_start": 25,
                        "bin_end": 32.5,
                        "count": 1
                      },
                      {
                        "bin_start": 32.5,
                        "bin_end": 40,
                        "count": 0
                      },
                      {
                        "bin_start": 40,
                        "bin_end": 47.5,
                        "count": 0
                      },
                      {
                        "bin_start": 47.5,
                        "bin_end": 55,
                        "count": 1
                      },
                      {
                        "bin_start": 55,
                        "bin_end": 62.5,
                        "count": 0
                      },
                      {
                        "bin_start": 62.5,
                        "bin_end": 70,
                        "count": 0
                      },
                      {
                        "bin_start": 70,
                        "bin_end": 77.5,
                        "count": 2
                      },
                      {
                        "bin_start": 77.5,
                        "bin_end": 85,
                        "count": 1
                      }
                    ]
                  }
                },
                {
                  "name": "Cholesterol (% Daily Value)",
                  "dtype": "int64",
                  "stats": {
                    "unique_count": 5,
                    "nan_count": 0,
                    "min": "3",
                    "max": "29",
                    "histogram": [
                      {
                        "bin_start": 3,
                        "bin_end": 5.6,
                        "count": 1
                      },
                      {
                        "bin_start": 5.6,
                        "bin_end": 8.2,
                        "count": 0
                      },
                      {
                        "bin_start": 8.2,
                        "bin_end": 10.8,
                        "count": 1
                      },
                      {
                        "bin_start": 10.8,
                        "bin_end": 13.4,
                        "count": 0
                      },
                      {
                        "bin_start": 13.4,
                        "bin_end": 16,
                        "count": 0
                      },
                      {
                        "bin_start": 16,
                        "bin_end": 18.6,
                        "count": 1
                      },
                      {
                        "bin_start": 18.6,
                        "bin_end": 21.2,
                        "count": 0
                      },
                      {
                        "bin_start": 21.2,
                        "bin_end": 23.8,
                        "count": 2
                      },
                      {
                        "bin_start": 23.8,
                        "bin_end": 26.400000000000002,
                        "count": 0
                      },
                      {
                        "bin_start": 26.400000000000002,
                        "bin_end": 29,
                        "count": 1
                      }
                    ]
                  }
                },
                {
                  "name": "Sodium",
                  "dtype": "int64",
                  "stats": {
                    "unique_count": 6,
                    "nan_count": 0,
                    "min": "150",
                    "max": "860",
                    "histogram": [
                      {
                        "bin_start": 150,
                        "bin_end": 221,
                        "count": 1
                      },
                      {
                        "bin_start": 221,
                        "bin_end": 292,
                        "count": 0
                      },
                      {
                        "bin_start": 292,
                        "bin_end": 363,
                        "count": 1
                      },
                      {
                        "bin_start": 363,
                        "bin_end": 434,
                        "count": 0
                      },
                      {
                        "bin_start": 434,
                        "bin_end": 505,
                        "count": 0
                      },
                      {
                        "bin_start": 505,
                        "bin_end": 576,
                        "count": 0
                      },
                      {
                        "bin_start": 576,
                        "bin_end": 647,
                        "count": 0
                      },
                      {
                        "bin_start": 647,
                        "bin_end": 718,
                        "count": 2
                      },
                      {
                        "bin_start": 718,
                        "bin_end": 789,
                        "count": 0
                      },
                      {
                        "bin_start": 789,
                        "bin_end": 860,
                        "count": 2
                      }
                    ]
                  }
                },
                {
                  "name": "Sodium (% Daily Value)",
                  "dtype": "int64",
                  "stats": {
                    "unique_count": 6,
                    "nan_count": 0,
                    "min": "6",
                    "max": "36",
                    "histogram": [
                      {
                        "bin_start": 6,
                        "bin_end": 9,
                        "count": 1
                      },
                      {
                        "bin_start": 9,
                        "bin_end": 12,
                        "count": 0
                      },
                      {
                        "bin_start": 12,
                        "bin_end": 15,
                        "count": 1
                      },
                      {
                        "bin_start": 15,
                        "bin_end": 18,
                        "count": 0
                      },
                      {
                        "bin_start": 18,
                        "bin_end": 21,
                        "count": 0
                      },
                      {
                        "bin_start": 21,
                        "bin_end": 24,
                        "count": 0
                      },
                      {
                        "bin_start": 24,
                        "bin_end": 27,
                        "count": 0
                      },
                      {
                        "bin_start": 27,
                        "bin_end": 30,
                        "count": 2
                      },
                      {
                        "bin_start": 30,
                        "bin_end": 33,
                        "count": 0
                      },
                      {
                        "bin_start": 33,
                        "bin_end": 36,
                        "count": 2
                      }
                    ]
                  }
                },
                {
                  "name": "Carbohydrates",
                  "dtype": "int64",
                  "stats": {
                    "unique_count": 6,
                    "nan_count": 0,
                    "min": "8",
                    "max": "42",
                    "histogram": [
                      {
                        "bin_start": 8,
                        "bin_end": 11.4,
                        "count": 2
                      },
                      {
                        "bin_start": 11.4,
                        "bin_end": 14.8,
                        "count": 0
                      },
                      {
                        "bin_start": 14.8,
                        "bin_end": 18.2,
                        "count": 0
                      },
                      {
                        "bin_start": 18.2,
                        "bin_end": 21.6,
                        "count": 1
                      },
                      {
                        "bin_start": 21.6,
                        "bin_end": 25,
                        "count": 1
                      },
                      {
                        "bin_start": 25,
                        "bin_end": 28.4,
                        "count": 1
                      },
                      {
                        "bin_start": 28.4,
                        "bin_end": 31.8,
                        "count": 0
                      },
                      {
                        "bin_start": 31.8,
                        "bin_end": 35.2,
                        "count": 0
                      },
                      {
                        "bin_start": 35.2,
                        "bin_end": 38.599999999999994,
                        "count": 0
                      },
                      {
                        "bin_start": 38.599999999999994,
                        "bin_end": 42,
                        "count": 1
                      }
                    ]
                  }
                },
                {
                  "name": "Carbohydrates (% Daily Value)",
                  "dtype": "int64",
                  "stats": {
                    "unique_count": 4,
                    "nan_count": 0,
                    "min": "3",
                    "max": "14",
                    "histogram": [
                      {
                        "bin_start": 3,
                        "bin_end": 4.1,
                        "count": 2
                      },
                      {
                        "bin_start": 4.1,
                        "bin_end": 5.2,
                        "count": 0
                      },
                      {
                        "bin_start": 5.2,
                        "bin_end": 6.300000000000001,
                        "count": 0
                      },
                      {
                        "bin_start": 6.300000000000001,
                        "bin_end": 7.4,
                        "count": 2
                      },
                      {
                        "bin_start": 7.4,
                        "bin_end": 8.5,
                        "count": 0
                      },
                      {
                        "bin_start": 8.5,
                        "bin_end": 9.600000000000001,
                        "count": 1
                      },
                      {
                        "bin_start": 9.600000000000001,
                        "bin_end": 10.700000000000001,
                        "count": 0
                      },
                      {
                        "bin_start": 10.700000000000001,
                        "bin_end": 11.8,
                        "count": 0
                      },
                      {
                        "bin_start": 11.8,
                        "bin_end": 12.9,
                        "count": 0
                      },
                      {
                        "bin_start": 12.9,
                        "bin_end": 14,
                        "count": 1
                      }
                    ]
                  }
                },
                {
                  "name": "Dietary Fiber",
                  "dtype": "int64",
                  "stats": {
                    "unique_count": 4,
                    "nan_count": 0,
                    "min": "2",
                    "max": "7",
                    "histogram": [
                      {
                        "bin_start": 2,
                        "bin_end": 2.5,
                        "count": 2
                      },
                      {
                        "bin_start": 2.5,
                        "bin_end": 3,
                        "count": 0
                      },
                      {
                        "bin_start": 3,
                        "bin_end": 3.5,
                        "count": 1
                      },
                      {
                        "bin_start": 3.5,
                        "bin_end": 4,
                        "count": 0
                      },
                      {
                        "bin_start": 4,
                        "bin_end": 4.5,
                        "count": 0
                      },
                      {
                        "bin_start": 4.5,
                        "bin_end": 5,
                        "count": 0
                      },
                      {
                        "bin_start": 5,
                        "bin_end": 5.5,
                        "count": 0
                      },
                      {
                        "bin_start": 5.5,
                        "bin_end": 6,
                        "count": 0
                      },
                      {
                        "bin_start": 6,
                        "bin_end": 6.5,
                        "count": 1
                      },
                      {
                        "bin_start": 6.5,
                        "bin_end": 7,
                        "count": 2
                      }
                    ]
                  }
                },
                {
                  "name": "Dietary Fiber (% Daily Value)",
                  "dtype": "int64",
                  "stats": {
                    "unique_count": 4,
                    "nan_count": 0,
                    "min": "10",
                    "max": "28",
                    "histogram": [
                      {
                        "bin_start": 10,
                        "bin_end": 11.8,
                        "count": 2
                      },
                      {
                        "bin_start": 11.8,
                        "bin_end": 13.6,
                        "count": 1
                      },
                      {
                        "bin_start": 13.6,
                        "bin_end": 15.4,
                        "count": 0
                      },
                      {
                        "bin_start": 15.4,
                        "bin_end": 17.2,
                        "count": 0
                      },
                      {
                        "bin_start": 17.2,
                        "bin_end": 19,
                        "count": 0
                      },
                      {
                        "bin_start": 19,
                        "bin_end": 20.8,
                        "count": 0
                      },
                      {
                        "bin_start": 20.8,
                        "bin_end": 22.6,
                        "count": 0
                      },
                      {
                        "bin_start": 22.6,
                        "bin_end": 24.4,
                        "count": 1
                      },
                      {
                        "bin_start": 24.4,
                        "bin_end": 26.2,
                        "count": 0
                      },
                      {
                        "bin_start": 26.2,
                        "bin_end": 28,
                        "count": 2
                      }
                    ]
                  }
                },
                {
                  "name": "Sugars",
                  "dtype": "int64",
                  "stats": {
                    "unique_count": 5,
                    "nan_count": 0,
                    "min": "4",
                    "max": "12",
                    "histogram": [
                      {
                        "bin_start": 4,
                        "bin_end": 4.8,
                        "count": 2
                      },
                      {
                        "bin_start": 4.8,
                        "bin_end": 5.6,
                        "count": 1
                      },
                      {
                        "bin_start": 5.6,
                        "bin_end": 6.4,
                        "count": 1
                      },
                      {
                        "bin_start": 6.4,
                        "bin_end": 7.2,
                        "count": 0
                      },
                      {
                        "bin_start": 7.2,
                        "bin_end": 8,
                        "count": 0
                      },
                      {
                        "bin_start": 8,
                        "bin_end": 8.8,
                        "count": 0
                      },
                      {
                        "bin_start": 8.8,
                        "bin_end": 9.600000000000001,
                        "count": 0
                      },
                      {
                        "bin_start": 9.600000000000001,
                        "bin_end": 10.4,
                        "count": 1
                      },
                      {
                        "bin_start": 10.4,
                        "bin_end": 11.2,
                        "count": 0
                      },
                      {
                        "bin_start": 11.2,
                        "bin_end": 12,
                        "count": 1
                      }
                    ]
                  }
                },
                {
                  "name": "Protein",
                  "dtype": "int64",
                  "stats": {
                    "unique_count": 6,
                    "nan_count": 0,
                    "min": "6",
                    "max": "29",
                    "histogram": [
                      {
                        "bin_start": 6,
                        "bin_end": 8.3,
                        "count": 1
                      },
                      {
                        "bin_start": 8.3,
                        "bin_end": 10.6,
                        "count": 1
                      },
                      {
                        "bin_start": 10.6,
                        "bin_end": 12.899999999999999,
                        "count": 0
                      },
                      {
                        "bin_start": 12.899999999999999,
                        "bin_end": 15.2,
                        "count": 0
                      },
                      {
                        "bin_start": 15.2,
                        "bin_end": 17.5,
                        "count": 0
                      },
                      {
                        "bin_start": 17.5,
                        "bin_end": 19.799999999999997,
                        "count": 0
                      },
                      {
                        "bin_start": 19.799999999999997,
                        "bin_end": 22.099999999999998,
                        "count": 0
                      },
                      {
                        "bin_start": 22.099999999999998,
                        "bin_end": 24.4,
                        "count": 1
                      },
                      {
                        "bin_start": 24.4,
                        "bin_end": 26.7,
                        "count": 1
                      },
                      {
                        "bin_start": 26.7,
                        "bin_end": 29,
                        "count": 2
                      }
                    ]
                  }
                },
                {
                  "name": "Vitamin A (% Daily Value)",
                  "dtype": "int64",
                  "stats": {
                    "unique_count": 4,
                    "nan_count": 0,
                    "min": "100",
                    "max": "170",
                    "histogram": [
                      {
                        "bin_start": 100,
                        "bin_end": 107,
                        "count": 1
                      },
                      {
                        "bin_start": 107,
                        "bin_end": 114,
                        "count": 1
                      },
                      {
                        "bin_start": 114,
                        "bin_end": 121,
                        "count": 0
                      },
                      {
                        "bin_start": 121,
                        "bin_end": 128,
                        "count": 0
                      },
                      {
                        "bin_start": 128,
                        "bin_end": 135,
                        "count": 0
                      },
                      {
                        "bin_start": 135,
                        "bin_end": 142,
                        "count": 0
                      },
                      {
                        "bin_start": 142,
                        "bin_end": 149,
                        "count": 0
                      },
                      {
                        "bin_start": 149,
                        "bin_end": 156,
                        "count": 0
                      },
                      {
                        "bin_start": 156,
                        "bin_end": 163,
                        "count": 1
                      },
                      {
                        "bin_start": 163,
                        "bin_end": 170,
                        "count": 3
                      }
                    ]
                  }
                },
                {
                  "name": "Vitamin C (% Daily Value)",
                  "dtype": "int64",
                  "stats": {
                    "unique_count": 2,
                    "nan_count": 0,
                    "min": "25",
                    "max": "30",
                    "histogram": [
                      {
                        "bin_start": 25,
                        "bin_end": 25.5,
                        "count": 2
                      },
                      {
                        "bin_start": 25.5,
                        "bin_end": 26,
                        "count": 0
                      },
                      {
                        "bin_start": 26,
                        "bin_end": 26.5,
                        "count": 0
                      },
                      {
                        "bin_start": 26.5,
                        "bin_end": 27,
                        "count": 0
                      },
                      {
                        "bin_start": 27,
                        "bin_end": 27.5,
                        "count": 0
                      },
                      {
                        "bin_start": 27.5,
                        "bin_end": 28,
                        "count": 0
                      },
                      {
                        "bin_start": 28,
                        "bin_end": 28.5,
                        "count": 0
                      },
                      {
                        "bin_start": 28.5,
                        "bin_end": 29,
                        "count": 0
                      },
                      {
                        "bin_start": 29,
                        "bin_end": 29.5,
                        "count": 0
                      },
                      {
                        "bin_start": 29.5,
                        "bin_end": 30,
                        "count": 4
                      }
                    ]
                  }
                },
                {
                  "name": "Calcium (% Daily Value)",
                  "dtype": "int64",
                  "stats": {
                    "unique_count": 1,
                    "nan_count": 0,
                    "min": "15",
                    "max": "15",
                    "histogram": [
                      {
                        "bin_start": 14.5,
                        "bin_end": 14.6,
                        "count": 0
                      },
                      {
                        "bin_start": 14.6,
                        "bin_end": 14.7,
                        "count": 0
                      },
                      {
                        "bin_start": 14.7,
                        "bin_end": 14.8,
                        "count": 0
                      },
                      {
                        "bin_start": 14.8,
                        "bin_end": 14.9,
                        "count": 0
                      },
                      {
                        "bin_start": 14.9,
                        "bin_end": 15,
                        "count": 0
                      },
                      {
                        "bin_start": 15,
                        "bin_end": 15.1,
                        "count": 6
                      },
                      {
                        "bin_start": 15.1,
                        "bin_end": 15.2,
                        "count": 0
                      },
                      {
                        "bin_start": 15.2,
                        "bin_end": 15.3,
                        "count": 0
                      },
                      {
                        "bin_start": 15.3,
                        "bin_end": 15.4,
                        "count": 0
                      },
                      {
                        "bin_start": 15.4,
                        "bin_end": 15.5,
                        "count": 0
                      }
                    ]
                  }
                },
                {
                  "name": "Iron (% Daily Value)",
                  "dtype": "int64",
                  "stats": {
                    "unique_count": 4,
                    "nan_count": 0,
                    "min": "6",
                    "max": "15",
                    "histogram": [
                      {
                        "bin_start": 6,
                        "bin_end": 6.9,
                        "count": 1
                      },
                      {
                        "bin_start": 6.9,
                        "bin_end": 7.8,
                        "count": 0
                      },
                      {
                        "bin_start": 7.8,
                        "bin_end": 8.7,
                        "count": 2
                      },
                      {
                        "bin_start": 8.7,
                        "bin_end": 9.6,
                        "count": 0
                      },
                      {
                        "bin_start": 9.6,
                        "bin_end": 10.5,
                        "count": 1
                      },
                      {
                        "bin_start": 10.5,
                        "bin_end": 11.4,
                        "count": 0
                      },
                      {
                        "bin_start": 11.4,
                        "bin_end": 12.3,
                        "count": 0
                      },
                      {
                        "bin_start": 12.3,
                        "bin_end": 13.2,
                        "count": 0
                      },
                      {
                        "bin_start": 13.2,
                        "bin_end": 14.1,
                        "count": 0
                      },
                      {
                        "bin_start": 14.1,
                        "bin_end": 15,
                        "count": 2
                      }
                    ]
                  }
                },
                {
                  "name": "Prediction",
                  "dtype": "object",
                  "stats": {
                    "unique_count": 3,
                    "nan_count": 0,
                    "categories": [
                      {
                        "name": "Coffee & Tea",
                        "count": 2
                      },
                      {
                        "name": "Beef & Pork",
                        "count": 2
                      },
                      {
                        "name": "Snacks & Sides",
                        "count": 2
                      }
                    ]
                  }
                },
                {
                  "name": "_deepnote_index_column",
                  "dtype": "int64"
                }
              ],
              "rows": [
                {
                  "Category": "Salads",
                  "Item": "Premium Bacon Ranch Salad (without Chicken)",
                  "Serving Size": "7.9 oz (223 g)",
                  "Calories": 140,
                  "Calories from Fat": 70,
                  "Total Fat": 7,
                  "Total Fat (% Daily Value)": 11,
                  "Saturated Fat": 3.5,
                  "Saturated Fat (% Daily Value)": 18,
                  "Trans Fat": 0,
                  "Cholesterol": 25,
                  "Cholesterol (% Daily Value)": 9,
                  "Sodium": 300,
                  "Sodium (% Daily Value)": 13,
                  "Carbohydrates": 10,
                  "Carbohydrates (% Daily Value)": 3,
                  "Dietary Fiber": 3,
                  "Dietary Fiber (% Daily Value)": 12,
                  "Sugars": 4,
                  "Protein": 9,
                  "Vitamin A (% Daily Value)": 170,
                  "Vitamin C (% Daily Value)": 30,
                  "Calcium (% Daily Value)": 15,
                  "Iron (% Daily Value)": 6,
                  "Prediction": "Coffee & Tea",
                  "_deepnote_index_column": 84
                },
                {
                  "Category": "Salads",
                  "Item": "Premium Bacon Ranch Salad with Crispy Chicken",
                  "Serving Size": "9 oz (255 g)",
                  "Calories": 380,
                  "Calories from Fat": 190,
                  "Total Fat": 21,
                  "Total Fat (% Daily Value)": 33,
                  "Saturated Fat": 6,
                  "Saturated Fat (% Daily Value)": 29,
                  "Trans Fat": 0,
                  "Cholesterol": 70,
                  "Cholesterol (% Daily Value)": 23,
                  "Sodium": 860,
                  "Sodium (% Daily Value)": 36,
                  "Carbohydrates": 22,
                  "Carbohydrates (% Daily Value)": 7,
                  "Dietary Fiber": 2,
                  "Dietary Fiber (% Daily Value)": 10,
                  "Sugars": 5,
                  "Protein": 25,
                  "Vitamin A (% Daily Value)": 100,
                  "Vitamin C (% Daily Value)": 25,
                  "Calcium (% Daily Value)": 15,
                  "Iron (% Daily Value)": 8,
                  "Prediction": "Beef & Pork",
                  "_deepnote_index_column": 85
                },
                {
                  "Category": "Salads",
                  "Item": "Premium Bacon Ranch Salad with Grilled Chicken",
                  "Serving Size": "8.5 oz (241 g)",
                  "Calories": 220,
                  "Calories from Fat": 80,
                  "Total Fat": 8,
                  "Total Fat (% Daily Value)": 13,
                  "Saturated Fat": 4,
                  "Saturated Fat (% Daily Value)": 20,
                  "Trans Fat": 0,
                  "Cholesterol": 85,
                  "Cholesterol (% Daily Value)": 29,
                  "Sodium": 690,
                  "Sodium (% Daily Value)": 29,
                  "Carbohydrates": 8,
                  "Carbohydrates (% Daily Value)": 3,
                  "Dietary Fiber": 2,
                  "Dietary Fiber (% Daily Value)": 10,
                  "Sugars": 4,
                  "Protein": 29,
                  "Vitamin A (% Daily Value)": 110,
                  "Vitamin C (% Daily Value)": 30,
                  "Calcium (% Daily Value)": 15,
                  "Iron (% Daily Value)": 8,
                  "Prediction": "Snacks & Sides",
                  "_deepnote_index_column": 86
                },
                {
                  "Category": "Salads",
                  "Item": "Premium Southwest Salad (without Chicken)",
                  "Serving Size": "8.1 oz (230 g)",
                  "Calories": 140,
                  "Calories from Fat": 40,
                  "Total Fat": 4.5,
                  "Total Fat (% Daily Value)": 7,
                  "Saturated Fat": 2,
                  "Saturated Fat (% Daily Value)": 9,
                  "Trans Fat": 0,
                  "Cholesterol": 10,
                  "Cholesterol (% Daily Value)": 3,
                  "Sodium": 150,
                  "Sodium (% Daily Value)": 6,
                  "Carbohydrates": 20,
                  "Carbohydrates (% Daily Value)": 7,
                  "Dietary Fiber": 6,
                  "Dietary Fiber (% Daily Value)": 23,
                  "Sugars": 6,
                  "Protein": 6,
                  "Vitamin A (% Daily Value)": 160,
                  "Vitamin C (% Daily Value)": 25,
                  "Calcium (% Daily Value)": 15,
                  "Iron (% Daily Value)": 10,
                  "Prediction": "Coffee & Tea",
                  "_deepnote_index_column": 87
                },
                {
                  "Category": "Salads",
                  "Item": "Premium Southwest Salad with Crispy Chicken",
                  "Serving Size": "12.3 oz (348 g)",
                  "Calories": 450,
                  "Calories from Fat": 190,
                  "Total Fat": 22,
                  "Total Fat (% Daily Value)": 33,
                  "Saturated Fat": 4.5,
                  "Saturated Fat (% Daily Value)": 22,
                  "Trans Fat": 0,
                  "Cholesterol": 50,
                  "Cholesterol (% Daily Value)": 17,
                  "Sodium": 850,
                  "Sodium (% Daily Value)": 35,
                  "Carbohydrates": 42,
                  "Carbohydrates (% Daily Value)": 14,
                  "Dietary Fiber": 7,
                  "Dietary Fiber (% Daily Value)": 28,
                  "Sugars": 12,
                  "Protein": 23,
                  "Vitamin A (% Daily Value)": 170,
                  "Vitamin C (% Daily Value)": 30,
                  "Calcium (% Daily Value)": 15,
                  "Iron (% Daily Value)": 15,
                  "Prediction": "Beef & Pork",
                  "_deepnote_index_column": 88
                },
                {
                  "Category": "Salads",
                  "Item": "Premium Southwest Salad with Grilled Chicken",
                  "Serving Size": "11.8 oz (335 g)",
                  "Calories": 290,
                  "Calories from Fat": 80,
                  "Total Fat": 8,
                  "Total Fat (% Daily Value)": 13,
                  "Saturated Fat": 2.5,
                  "Saturated Fat (% Daily Value)": 13,
                  "Trans Fat": 0,
                  "Cholesterol": 70,
                  "Cholesterol (% Daily Value)": 23,
                  "Sodium": 680,
                  "Sodium (% Daily Value)": 28,
                  "Carbohydrates": 28,
                  "Carbohydrates (% Daily Value)": 9,
                  "Dietary Fiber": 7,
                  "Dietary Fiber (% Daily Value)": 28,
                  "Sugars": 10,
                  "Protein": 27,
                  "Vitamin A (% Daily Value)": 170,
                  "Vitamin C (% Daily Value)": 30,
                  "Calcium (% Daily Value)": 15,
                  "Iron (% Daily Value)": 15,
                  "Prediction": "Snacks & Sides",
                  "_deepnote_index_column": 89
                }
              ]
            },
            "text/plain": "   Category                                            Item     Serving Size  \\\n84   Salads     Premium Bacon Ranch Salad (without Chicken)   7.9 oz (223 g)   \n85   Salads   Premium Bacon Ranch Salad with Crispy Chicken     9 oz (255 g)   \n86   Salads  Premium Bacon Ranch Salad with Grilled Chicken   8.5 oz (241 g)   \n87   Salads       Premium Southwest Salad (without Chicken)   8.1 oz (230 g)   \n88   Salads     Premium Southwest Salad with Crispy Chicken  12.3 oz (348 g)   \n89   Salads    Premium Southwest Salad with Grilled Chicken  11.8 oz (335 g)   \n\n    Calories  Calories from Fat  Total Fat  Total Fat (% Daily Value)  \\\n84       140                 70        7.0                         11   \n85       380                190       21.0                         33   \n86       220                 80        8.0                         13   \n87       140                 40        4.5                          7   \n88       450                190       22.0                         33   \n89       290                 80        8.0                         13   \n\n    Saturated Fat  Saturated Fat (% Daily Value)  Trans Fat  ...  \\\n84            3.5                             18        0.0  ...   \n85            6.0                             29        0.0  ...   \n86            4.0                             20        0.0  ...   \n87            2.0                              9        0.0  ...   \n88            4.5                             22        0.0  ...   \n89            2.5                             13        0.0  ...   \n\n    Carbohydrates (% Daily Value)  Dietary Fiber  \\\n84                              3              3   \n85                              7              2   \n86                              3              2   \n87                              7              6   \n88                             14              7   \n89                              9              7   \n\n    Dietary Fiber (% Daily Value)  Sugars  Protein  Vitamin A (% Daily Value)  \\\n84                             12       4        9                        170   \n85                             10       5       25                        100   \n86                             10       4       29                        110   \n87                             23       6        6                        160   \n88                             28      12       23                        170   \n89                             28      10       27                        170   \n\n    Vitamin C (% Daily Value)  Calcium (% Daily Value)  Iron (% Daily Value)  \\\n84                         30                       15                     6   \n85                         25                       15                     8   \n86                         30                       15                     8   \n87                         25                       15                    10   \n88                         30                       15                    15   \n89                         30                       15                    15   \n\n        Prediction  \n84    Coffee & Tea  \n85     Beef & Pork  \n86  Snacks & Sides  \n87    Coffee & Tea  \n88     Beef & Pork  \n89  Snacks & Sides  \n\n[6 rows x 25 columns]",
            "text/html": "<div>\n<style scoped>\n    .dataframe tbody tr th:only-of-type {\n        vertical-align: middle;\n    }\n\n    .dataframe tbody tr th {\n        vertical-align: top;\n    }\n\n    .dataframe thead th {\n        text-align: right;\n    }\n</style>\n<table border=\"1\" class=\"dataframe\">\n  <thead>\n    <tr style=\"text-align: right;\">\n      <th></th>\n      <th>Category</th>\n      <th>Item</th>\n      <th>Serving Size</th>\n      <th>Calories</th>\n      <th>Calories from Fat</th>\n      <th>Total Fat</th>\n      <th>Total Fat (% Daily Value)</th>\n      <th>Saturated Fat</th>\n      <th>Saturated Fat (% Daily Value)</th>\n      <th>Trans Fat</th>\n      <th>...</th>\n      <th>Carbohydrates (% Daily Value)</th>\n      <th>Dietary Fiber</th>\n      <th>Dietary Fiber (% Daily Value)</th>\n      <th>Sugars</th>\n      <th>Protein</th>\n      <th>Vitamin A (% Daily Value)</th>\n      <th>Vitamin C (% Daily Value)</th>\n      <th>Calcium (% Daily Value)</th>\n      <th>Iron (% Daily Value)</th>\n      <th>Prediction</th>\n    </tr>\n  </thead>\n  <tbody>\n    <tr>\n      <th>84</th>\n      <td>Salads</td>\n      <td>Premium Bacon Ranch Salad (without Chicken)</td>\n      <td>7.9 oz (223 g)</td>\n      <td>140</td>\n      <td>70</td>\n      <td>7.0</td>\n      <td>11</td>\n      <td>3.5</td>\n      <td>18</td>\n      <td>0.0</td>\n      <td>...</td>\n      <td>3</td>\n      <td>3</td>\n      <td>12</td>\n      <td>4</td>\n      <td>9</td>\n      <td>170</td>\n      <td>30</td>\n      <td>15</td>\n      <td>6</td>\n      <td>Coffee &amp; Tea</td>\n    </tr>\n    <tr>\n      <th>85</th>\n      <td>Salads</td>\n      <td>Premium Bacon Ranch Salad with Crispy Chicken</td>\n      <td>9 oz (255 g)</td>\n      <td>380</td>\n      <td>190</td>\n      <td>21.0</td>\n      <td>33</td>\n      <td>6.0</td>\n      <td>29</td>\n      <td>0.0</td>\n      <td>...</td>\n      <td>7</td>\n      <td>2</td>\n      <td>10</td>\n      <td>5</td>\n      <td>25</td>\n      <td>100</td>\n      <td>25</td>\n      <td>15</td>\n      <td>8</td>\n      <td>Beef &amp; Pork</td>\n    </tr>\n    <tr>\n      <th>86</th>\n      <td>Salads</td>\n      <td>Premium Bacon Ranch Salad with Grilled Chicken</td>\n      <td>8.5 oz (241 g)</td>\n      <td>220</td>\n      <td>80</td>\n      <td>8.0</td>\n      <td>13</td>\n      <td>4.0</td>\n      <td>20</td>\n      <td>0.0</td>\n      <td>...</td>\n      <td>3</td>\n      <td>2</td>\n      <td>10</td>\n      <td>4</td>\n      <td>29</td>\n      <td>110</td>\n      <td>30</td>\n      <td>15</td>\n      <td>8</td>\n      <td>Snacks &amp; Sides</td>\n    </tr>\n    <tr>\n      <th>87</th>\n      <td>Salads</td>\n      <td>Premium Southwest Salad (without Chicken)</td>\n      <td>8.1 oz (230 g)</td>\n      <td>140</td>\n      <td>40</td>\n      <td>4.5</td>\n      <td>7</td>\n      <td>2.0</td>\n      <td>9</td>\n      <td>0.0</td>\n      <td>...</td>\n      <td>7</td>\n      <td>6</td>\n      <td>23</td>\n      <td>6</td>\n      <td>6</td>\n      <td>160</td>\n      <td>25</td>\n      <td>15</td>\n      <td>10</td>\n      <td>Coffee &amp; Tea</td>\n    </tr>\n    <tr>\n      <th>88</th>\n      <td>Salads</td>\n      <td>Premium Southwest Salad with Crispy Chicken</td>\n      <td>12.3 oz (348 g)</td>\n      <td>450</td>\n      <td>190</td>\n      <td>22.0</td>\n      <td>33</td>\n      <td>4.5</td>\n      <td>22</td>\n      <td>0.0</td>\n      <td>...</td>\n      <td>14</td>\n      <td>7</td>\n      <td>28</td>\n      <td>12</td>\n      <td>23</td>\n      <td>170</td>\n      <td>30</td>\n      <td>15</td>\n      <td>15</td>\n      <td>Beef &amp; Pork</td>\n    </tr>\n    <tr>\n      <th>89</th>\n      <td>Salads</td>\n      <td>Premium Southwest Salad with Grilled Chicken</td>\n      <td>11.8 oz (335 g)</td>\n      <td>290</td>\n      <td>80</td>\n      <td>8.0</td>\n      <td>13</td>\n      <td>2.5</td>\n      <td>13</td>\n      <td>0.0</td>\n      <td>...</td>\n      <td>9</td>\n      <td>7</td>\n      <td>28</td>\n      <td>10</td>\n      <td>27</td>\n      <td>170</td>\n      <td>30</td>\n      <td>15</td>\n      <td>15</td>\n      <td>Snacks &amp; Sides</td>\n    </tr>\n  </tbody>\n</table>\n<p>6 rows × 25 columns</p>\n</div>"
          },
          "metadata": {}
        }
      ],
      "execution_count": null
    },
    {
      "cell_type": "code",
      "source": [
        "fig = px.pie(salads, values='Dietary Fiber', names='Item',\n",
        "             title='Dietary Fiber in Salads',)\n",
        "fig.show()"
      ],
      "metadata": {
        "cell_id": "598b2d9e-5d5c-456e-835c-d04298ef62e3",
        "tags": [],
        "deepnote_to_be_reexecuted": false,
        "source_hash": "f3f78823",
        "execution_start": 1647407664761,
        "execution_millis": 524,
        "deepnote_cell_type": "code",
        "deepnote_cell_height": 660,
        "deepnote_output_heights": [
          527
        ],
        "id": "303d-Zt2mZRa",
        "outputId": "01e4c547-2802-41b6-e027-2aa17c110a9d"
      },
      "outputs": [
        {
          "data": {
            "text/html": "<html>\n<head><meta charset=\"utf-8\" /></head>\n<body>\n    <div>            <script src=\"https://cdnjs.cloudflare.com/ajax/libs/mathjax/2.7.5/MathJax.js?config=TeX-AMS-MML_SVG\"></script><script type=\"text/javascript\">if (window.MathJax) {MathJax.Hub.Config({SVG: {font: \"STIX-Web\"}});}</script>                <script type=\"text/javascript\">window.PlotlyConfig = {MathJaxConfig: 'local'};</script>\n        <script src=\"https://cdn.plot.ly/plotly-2.9.0.min.js\"></script>                <div id=\"f5922c19-832d-493d-a36c-24906812831a\" class=\"plotly-graph-div\" style=\"height:525px; width:100%;\"></div>            <script type=\"text/javascript\">                                    window.PLOTLYENV=window.PLOTLYENV || {};                                    if (document.getElementById(\"f5922c19-832d-493d-a36c-24906812831a\")) {                    Plotly.newPlot(                        \"f5922c19-832d-493d-a36c-24906812831a\",                        [{\"domain\":{\"x\":[0.0,1.0],\"y\":[0.0,1.0]},\"hovertemplate\":\"Item=%{label}<br>Dietary Fiber=%{value}<extra></extra>\",\"labels\":[\"Premium Bacon Ranch Salad (without Chicken)\",\"Premium Bacon Ranch Salad with Crispy Chicken\",\"Premium Bacon Ranch Salad with Grilled Chicken\",\"Premium Southwest Salad (without Chicken)\",\"Premium Southwest Salad with Crispy Chicken\",\"Premium Southwest Salad with Grilled Chicken\"],\"legendgroup\":\"\",\"name\":\"\",\"showlegend\":true,\"values\":[3,2,2,6,7,7],\"type\":\"pie\"}],                        {\"template\":{\"data\":{\"bar\":[{\"error_x\":{\"color\":\"#2a3f5f\"},\"error_y\":{\"color\":\"#2a3f5f\"},\"marker\":{\"line\":{\"color\":\"#E5ECF6\",\"width\":0.5},\"pattern\":{\"fillmode\":\"overlay\",\"size\":10,\"solidity\":0.2}},\"type\":\"bar\"}],\"barpolar\":[{\"marker\":{\"line\":{\"color\":\"#E5ECF6\",\"width\":0.5},\"pattern\":{\"fillmode\":\"overlay\",\"size\":10,\"solidity\":0.2}},\"type\":\"barpolar\"}],\"carpet\":[{\"aaxis\":{\"endlinecolor\":\"#2a3f5f\",\"gridcolor\":\"white\",\"linecolor\":\"white\",\"minorgridcolor\":\"white\",\"startlinecolor\":\"#2a3f5f\"},\"baxis\":{\"endlinecolor\":\"#2a3f5f\",\"gridcolor\":\"white\",\"linecolor\":\"white\",\"minorgridcolor\":\"white\",\"startlinecolor\":\"#2a3f5f\"},\"type\":\"carpet\"}],\"choropleth\":[{\"colorbar\":{\"outlinewidth\":0,\"ticks\":\"\"},\"type\":\"choropleth\"}],\"contour\":[{\"colorbar\":{\"outlinewidth\":0,\"ticks\":\"\"},\"colorscale\":[[0.0,\"#0d0887\"],[0.1111111111111111,\"#46039f\"],[0.2222222222222222,\"#7201a8\"],[0.3333333333333333,\"#9c179e\"],[0.4444444444444444,\"#bd3786\"],[0.5555555555555556,\"#d8576b\"],[0.6666666666666666,\"#ed7953\"],[0.7777777777777778,\"#fb9f3a\"],[0.8888888888888888,\"#fdca26\"],[1.0,\"#f0f921\"]],\"type\":\"contour\"}],\"contourcarpet\":[{\"colorbar\":{\"outlinewidth\":0,\"ticks\":\"\"},\"type\":\"contourcarpet\"}],\"heatmap\":[{\"colorbar\":{\"outlinewidth\":0,\"ticks\":\"\"},\"colorscale\":[[0.0,\"#0d0887\"],[0.1111111111111111,\"#46039f\"],[0.2222222222222222,\"#7201a8\"],[0.3333333333333333,\"#9c179e\"],[0.4444444444444444,\"#bd3786\"],[0.5555555555555556,\"#d8576b\"],[0.6666666666666666,\"#ed7953\"],[0.7777777777777778,\"#fb9f3a\"],[0.8888888888888888,\"#fdca26\"],[1.0,\"#f0f921\"]],\"type\":\"heatmap\"}],\"heatmapgl\":[{\"colorbar\":{\"outlinewidth\":0,\"ticks\":\"\"},\"colorscale\":[[0.0,\"#0d0887\"],[0.1111111111111111,\"#46039f\"],[0.2222222222222222,\"#7201a8\"],[0.3333333333333333,\"#9c179e\"],[0.4444444444444444,\"#bd3786\"],[0.5555555555555556,\"#d8576b\"],[0.6666666666666666,\"#ed7953\"],[0.7777777777777778,\"#fb9f3a\"],[0.8888888888888888,\"#fdca26\"],[1.0,\"#f0f921\"]],\"type\":\"heatmapgl\"}],\"histogram\":[{\"marker\":{\"pattern\":{\"fillmode\":\"overlay\",\"size\":10,\"solidity\":0.2}},\"type\":\"histogram\"}],\"histogram2d\":[{\"colorbar\":{\"outlinewidth\":0,\"ticks\":\"\"},\"colorscale\":[[0.0,\"#0d0887\"],[0.1111111111111111,\"#46039f\"],[0.2222222222222222,\"#7201a8\"],[0.3333333333333333,\"#9c179e\"],[0.4444444444444444,\"#bd3786\"],[0.5555555555555556,\"#d8576b\"],[0.6666666666666666,\"#ed7953\"],[0.7777777777777778,\"#fb9f3a\"],[0.8888888888888888,\"#fdca26\"],[1.0,\"#f0f921\"]],\"type\":\"histogram2d\"}],\"histogram2dcontour\":[{\"colorbar\":{\"outlinewidth\":0,\"ticks\":\"\"},\"colorscale\":[[0.0,\"#0d0887\"],[0.1111111111111111,\"#46039f\"],[0.2222222222222222,\"#7201a8\"],[0.3333333333333333,\"#9c179e\"],[0.4444444444444444,\"#bd3786\"],[0.5555555555555556,\"#d8576b\"],[0.6666666666666666,\"#ed7953\"],[0.7777777777777778,\"#fb9f3a\"],[0.8888888888888888,\"#fdca26\"],[1.0,\"#f0f921\"]],\"type\":\"histogram2dcontour\"}],\"mesh3d\":[{\"colorbar\":{\"outlinewidth\":0,\"ticks\":\"\"},\"type\":\"mesh3d\"}],\"parcoords\":[{\"line\":{\"colorbar\":{\"outlinewidth\":0,\"ticks\":\"\"}},\"type\":\"parcoords\"}],\"pie\":[{\"automargin\":true,\"type\":\"pie\"}],\"scatter\":[{\"marker\":{\"colorbar\":{\"outlinewidth\":0,\"ticks\":\"\"}},\"type\":\"scatter\"}],\"scatter3d\":[{\"line\":{\"colorbar\":{\"outlinewidth\":0,\"ticks\":\"\"}},\"marker\":{\"colorbar\":{\"outlinewidth\":0,\"ticks\":\"\"}},\"type\":\"scatter3d\"}],\"scattercarpet\":[{\"marker\":{\"colorbar\":{\"outlinewidth\":0,\"ticks\":\"\"}},\"type\":\"scattercarpet\"}],\"scattergeo\":[{\"marker\":{\"colorbar\":{\"outlinewidth\":0,\"ticks\":\"\"}},\"type\":\"scattergeo\"}],\"scattergl\":[{\"marker\":{\"colorbar\":{\"outlinewidth\":0,\"ticks\":\"\"}},\"type\":\"scattergl\"}],\"scattermapbox\":[{\"marker\":{\"colorbar\":{\"outlinewidth\":0,\"ticks\":\"\"}},\"type\":\"scattermapbox\"}],\"scatterpolar\":[{\"marker\":{\"colorbar\":{\"outlinewidth\":0,\"ticks\":\"\"}},\"type\":\"scatterpolar\"}],\"scatterpolargl\":[{\"marker\":{\"colorbar\":{\"outlinewidth\":0,\"ticks\":\"\"}},\"type\":\"scatterpolargl\"}],\"scatterternary\":[{\"marker\":{\"colorbar\":{\"outlinewidth\":0,\"ticks\":\"\"}},\"type\":\"scatterternary\"}],\"surface\":[{\"colorbar\":{\"outlinewidth\":0,\"ticks\":\"\"},\"colorscale\":[[0.0,\"#0d0887\"],[0.1111111111111111,\"#46039f\"],[0.2222222222222222,\"#7201a8\"],[0.3333333333333333,\"#9c179e\"],[0.4444444444444444,\"#bd3786\"],[0.5555555555555556,\"#d8576b\"],[0.6666666666666666,\"#ed7953\"],[0.7777777777777778,\"#fb9f3a\"],[0.8888888888888888,\"#fdca26\"],[1.0,\"#f0f921\"]],\"type\":\"surface\"}],\"table\":[{\"cells\":{\"fill\":{\"color\":\"#EBF0F8\"},\"line\":{\"color\":\"white\"}},\"header\":{\"fill\":{\"color\":\"#C8D4E3\"},\"line\":{\"color\":\"white\"}},\"type\":\"table\"}]},\"layout\":{\"annotationdefaults\":{\"arrowcolor\":\"#2a3f5f\",\"arrowhead\":0,\"arrowwidth\":1},\"autotypenumbers\":\"strict\",\"coloraxis\":{\"colorbar\":{\"outlinewidth\":0,\"ticks\":\"\"}},\"colorscale\":{\"diverging\":[[0,\"#8e0152\"],[0.1,\"#c51b7d\"],[0.2,\"#de77ae\"],[0.3,\"#f1b6da\"],[0.4,\"#fde0ef\"],[0.5,\"#f7f7f7\"],[0.6,\"#e6f5d0\"],[0.7,\"#b8e186\"],[0.8,\"#7fbc41\"],[0.9,\"#4d9221\"],[1,\"#276419\"]],\"sequential\":[[0.0,\"#0d0887\"],[0.1111111111111111,\"#46039f\"],[0.2222222222222222,\"#7201a8\"],[0.3333333333333333,\"#9c179e\"],[0.4444444444444444,\"#bd3786\"],[0.5555555555555556,\"#d8576b\"],[0.6666666666666666,\"#ed7953\"],[0.7777777777777778,\"#fb9f3a\"],[0.8888888888888888,\"#fdca26\"],[1.0,\"#f0f921\"]],\"sequentialminus\":[[0.0,\"#0d0887\"],[0.1111111111111111,\"#46039f\"],[0.2222222222222222,\"#7201a8\"],[0.3333333333333333,\"#9c179e\"],[0.4444444444444444,\"#bd3786\"],[0.5555555555555556,\"#d8576b\"],[0.6666666666666666,\"#ed7953\"],[0.7777777777777778,\"#fb9f3a\"],[0.8888888888888888,\"#fdca26\"],[1.0,\"#f0f921\"]]},\"colorway\":[\"#636efa\",\"#EF553B\",\"#00cc96\",\"#ab63fa\",\"#FFA15A\",\"#19d3f3\",\"#FF6692\",\"#B6E880\",\"#FF97FF\",\"#FECB52\"],\"font\":{\"color\":\"#2a3f5f\"},\"geo\":{\"bgcolor\":\"white\",\"lakecolor\":\"white\",\"landcolor\":\"#E5ECF6\",\"showlakes\":true,\"showland\":true,\"subunitcolor\":\"white\"},\"hoverlabel\":{\"align\":\"left\"},\"hovermode\":\"closest\",\"mapbox\":{\"style\":\"light\"},\"paper_bgcolor\":\"white\",\"plot_bgcolor\":\"#E5ECF6\",\"polar\":{\"angularaxis\":{\"gridcolor\":\"white\",\"linecolor\":\"white\",\"ticks\":\"\"},\"bgcolor\":\"#E5ECF6\",\"radialaxis\":{\"gridcolor\":\"white\",\"linecolor\":\"white\",\"ticks\":\"\"}},\"scene\":{\"xaxis\":{\"backgroundcolor\":\"#E5ECF6\",\"gridcolor\":\"white\",\"gridwidth\":2,\"linecolor\":\"white\",\"showbackground\":true,\"ticks\":\"\",\"zerolinecolor\":\"white\"},\"yaxis\":{\"backgroundcolor\":\"#E5ECF6\",\"gridcolor\":\"white\",\"gridwidth\":2,\"linecolor\":\"white\",\"showbackground\":true,\"ticks\":\"\",\"zerolinecolor\":\"white\"},\"zaxis\":{\"backgroundcolor\":\"#E5ECF6\",\"gridcolor\":\"white\",\"gridwidth\":2,\"linecolor\":\"white\",\"showbackground\":true,\"ticks\":\"\",\"zerolinecolor\":\"white\"}},\"shapedefaults\":{\"line\":{\"color\":\"#2a3f5f\"}},\"ternary\":{\"aaxis\":{\"gridcolor\":\"white\",\"linecolor\":\"white\",\"ticks\":\"\"},\"baxis\":{\"gridcolor\":\"white\",\"linecolor\":\"white\",\"ticks\":\"\"},\"bgcolor\":\"#E5ECF6\",\"caxis\":{\"gridcolor\":\"white\",\"linecolor\":\"white\",\"ticks\":\"\"}},\"title\":{\"x\":0.05},\"xaxis\":{\"automargin\":true,\"gridcolor\":\"white\",\"linecolor\":\"white\",\"ticks\":\"\",\"title\":{\"standoff\":15},\"zerolinecolor\":\"white\",\"zerolinewidth\":2},\"yaxis\":{\"automargin\":true,\"gridcolor\":\"white\",\"linecolor\":\"white\",\"ticks\":\"\",\"title\":{\"standoff\":15},\"zerolinecolor\":\"white\",\"zerolinewidth\":2}}},\"legend\":{\"tracegroupgap\":0},\"title\":{\"text\":\"Dietary Fiber in Salads\"}},                        {\"responsive\": true}                    ).then(function(){\n                            \nvar gd = document.getElementById('f5922c19-832d-493d-a36c-24906812831a');\nvar x = new MutationObserver(function (mutations, observer) {{\n        var display = window.getComputedStyle(gd).display;\n        if (!display || display === 'none') {{\n            console.log([gd, 'removed!']);\n            Plotly.purge(gd);\n            observer.disconnect();\n        }}\n}});\n\n// Listen for the removal of the full notebook cells\nvar notebookContainer = gd.closest('#notebook-container');\nif (notebookContainer) {{\n    x.observe(notebookContainer, {childList: true});\n}}\n\n// Listen for the clearing of the current output cell\nvar outputEl = gd.closest('.output');\nif (outputEl) {{\n    x.observe(outputEl, {childList: true});\n}}\n\n                        })                };                            </script>        </div>\n</body>\n</html>"
          },
          "metadata": {},
          "output_type": "display_data"
        }
      ],
      "execution_count": null
    },
    {
      "cell_type": "markdown",
      "source": [
        "The Southwest Salad overall has the most dietary fibers with the highest being the Premium Southwest Salad with Crispy Chicken."
      ],
      "metadata": {
        "cell_id": "d228f271-359b-4d56-9070-7cba06a8f16d",
        "tags": [],
        "is_collapsed": false,
        "deepnote_cell_type": "text-cell-p",
        "deepnote_cell_height": 74,
        "id": "lKB9IRwQmZRa"
      }
    },
    {
      "cell_type": "markdown",
      "source": [
        "## Summary\n"
      ],
      "metadata": {
        "cell_id": "75922aa8-c6e1-46d5-9c85-550df5b37982",
        "tags": [],
        "deepnote_cell_type": "markdown",
        "deepnote_cell_height": 70,
        "id": "ZyFsB0owmZRa"
      }
    },
    {
      "cell_type": "markdown",
      "source": [
        "There are multiple ways to interpret the results depending what diet someone chooses to use. For a high protein diet, it's best to choose food items within the Chicken &amp; Fish Category. For a low calorie diet, it's best to avoid foods with high sodium since they positively correlate with calories. This includes items within the Breakfast and Chicken &amp; Fish Categories. Overall, Smoothies &amp; Shakes should be avoided as they contain an overwhelming amount of sugar compared to the other categories. It's hard to find foods with high protein and iron with low total fat, cholesterol, and sodium. The Premium Southwest Salad is probably the best item to choose for an overall healthy diet. Salads, overall, didn't contain a lot of sugar and fat and had a good amount of protein, and this salad in particular had a lot of dietary fibers."
      ],
      "metadata": {
        "cell_id": "b3b52b48-5ff1-4be0-8d65-a99a0dfd153f",
        "tags": [],
        "is_collapsed": false,
        "deepnote_cell_type": "text-cell-p",
        "deepnote_cell_height": 184,
        "id": "BvXQ5VVsmZRb"
      }
    },
    {
      "cell_type": "markdown",
      "source": [
        "## References"
      ],
      "metadata": {
        "cell_id": "fc42153e-0b6d-4c37-9e06-ee471cfb0534",
        "tags": [],
        "deepnote_cell_type": "markdown",
        "deepnote_cell_height": 70,
        "id": "bLPbRzijmZRb"
      }
    },
    {
      "cell_type": "markdown",
      "source": [
        "Where the Dataset was found: https://www.kaggle.com/mcdonalds/nutrition-facts\n",
        "\n",
        "Insightful References:\n",
        "\n",
        "https://www.kaggle.com/vaishnavipatil4848/insights-nutritional-facts-in-mcdonald-s-menu\n",
        "\n",
        "https://plotly.com/python/pie-charts/"
      ],
      "metadata": {
        "cell_id": "946b09c2-6030-44fb-be4d-02d574ffda45",
        "tags": [],
        "deepnote_cell_type": "markdown",
        "deepnote_cell_height": 160,
        "id": "woQ4PGrjmZRb"
      }
    },
    {
      "cell_type": "markdown",
      "source": [
        "<a style='text-decoration:none;line-height:16px;display:flex;color:#5B5B62;padding:10px;justify-content:end;' href='https://deepnote.com?utm_source=created-in-deepnote-cell&projectId=bd4244e8-6f61-43b0-80ec-abb92d8a6c91' target=\"_blank\">\n",
        "<img alt='Created in deepnote.com' style='display:inline;max-height:16px;margin:0px;margin-right:7.5px;' src='data:image/svg+xml;base64,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' > </img>\n",
        "Created in <span style='font-weight:600;margin-left:4px;'>Deepnote</span></a>"
      ],
      "metadata": {
        "tags": [],
        "created_in_deepnote_cell": true,
        "deepnote_cell_type": "markdown",
        "id": "vs4kOcmsmZRb"
      }
    }
  ],
  "nbformat": 4,
  "nbformat_minor": 0,
  "metadata": {
    "orig_nbformat": 2,
    "deepnote": {
      "is_reactive": false
    },
    "deepnote_notebook_id": "97afb67d-06ce-4a63-bb3d-208672377dae",
    "deepnote_execution_queue": [],
    "colab": {
      "provenance": [],
      "include_colab_link": true
    }
  }
}